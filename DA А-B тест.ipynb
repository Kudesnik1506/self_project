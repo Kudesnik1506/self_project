{
 "cells": [
  {
   "cell_type": "markdown",
   "metadata": {},
   "source": [
    "# A/B test"
   ]
  },
  {
   "cell_type": "markdown",
   "metadata": {},
   "source": [
    "# Описание проекта\n",
    "\n",
    "Провести A/B тестирование. Есть данные, необходимо с ними поработать."
   ]
  },
  {
   "cell_type": "markdown",
   "metadata": {},
   "source": [
    "# Цель проекта\n",
    "\n",
    "проверить полученные знания на практике и решить аналитический кейс"
   ]
  },
  {
   "cell_type": "markdown",
   "metadata": {},
   "source": [
    "# Описание данных\n",
    "\n",
    "Есть три датасета. \n",
    "1. hypothesis.csv - хранит гипотезы теста, \n",
    "2. orders.csv — информацию о заказах, \n",
    "3. visitors.csv — информацию о посетителях.\n",
    "\n",
    "Структура hypothesis.csv:\n",
    "- Hypothesis — краткое описание гипотезы;\n",
    "- Reach — охват пользователей по 10-балльной шкале;\n",
    "- Impact — влияние на пользователей по 10-балльной шкале;\n",
    "- Confidence — уверенность в гипотезе по 10-балльной шкале;\n",
    "- Efforts — затраты ресурсов на проверку гипотезы по 10-балльной шкале. Чем больше значение Efforts, тем дороже проверка гипотезы.\n",
    "\n",
    "Структура orders.csv:\n",
    "- transactionId — идентификатор заказа;\n",
    "- visitorId — идентификатор пользователя, совершившего заказ;\n",
    "- date — дата, когда был совершён заказ;\n",
    "- revenue — выручка заказа;\n",
    "- group — группа A/B-теста, в которую попал заказ.\n",
    "\n",
    "Структура visitors.csv:\n",
    "- date — дата;\n",
    "- group — группа A/B-теста;\n",
    "- visitors — количество пользователей в указанную дату в указанной группе A/B-теста"
   ]
  },
  {
   "cell_type": "markdown",
   "metadata": {},
   "source": [
    "# План работы\n",
    "\n",
    "1. Посмотреть данные\n",
    "2. Приоритезировать гипотезы\n",
    "3. Анализ А/В теста\n",
    "4. Рекомендации для компании"
   ]
  },
  {
   "cell_type": "markdown",
   "metadata": {
    "id": "r-BO88CnWVwe"
   },
   "source": [
    "# Загрузка данных и подготовка к анализу"
   ]
  },
  {
   "cell_type": "markdown",
   "metadata": {},
   "source": [
    "## Загрузка библиотек"
   ]
  },
  {
   "cell_type": "code",
   "execution_count": 1,
   "metadata": {
    "ExecuteTime": {
     "end_time": "2023-03-01T20:04:08.970418Z",
     "start_time": "2023-03-01T20:04:06.398276Z"
    }
   },
   "outputs": [],
   "source": [
    "import pandas as pd\n",
    "import numpy as np\n",
    "from datetime import datetime, timedelta\n",
    "import matplotlib.pyplot as plt\n",
    "from itertools import cycle\n",
    "import os\n",
    "from IPython.display import display_html\n",
    "\n",
    "import scipy.stats as stats\n",
    "import datetime as dt"
   ]
  },
  {
   "cell_type": "markdown",
   "metadata": {},
   "source": [
    "## Дополнительные настройки"
   ]
  },
  {
   "cell_type": "code",
   "execution_count": 2,
   "metadata": {},
   "outputs": [],
   "source": [
    "pd.set_option('display.max_colwidth', 0)"
   ]
  },
  {
   "cell_type": "markdown",
   "metadata": {},
   "source": [
    "## Формирование функций"
   ]
  },
  {
   "cell_type": "code",
   "execution_count": 3,
   "metadata": {
    "ExecuteTime": {
     "end_time": "2023-03-01T20:04:09.001796Z",
     "start_time": "2023-03-01T20:04:08.970418Z"
    }
   },
   "outputs": [],
   "source": [
    "def missing_values(df):\n",
    "    \"\"\"Вычисление аномалий в датасете, включая минимальные и максимальные значения\"\"\"    \n",
    "    data = pd.DataFrame(columns=['NaN_part', 'empty_counts', 'space_counts', '0_counts', 'unique_counts',\\\n",
    "                                          'min_value', 'max_value', 'dupl_sum', 'dtypes', 'length'], index=df.columns)\n",
    "    for column in df.columns:\n",
    "        data['NaN_part'][column] = df[column].isnull().mean()\n",
    "        data['empty_counts'][column] = df[df[column] == ''][column].count()\n",
    "        data['space_counts'][column] = df[df[column] == ' '][column].count()\n",
    "        data['0_counts'][column] = df[df[column] == 0][column].count()\n",
    "        data['unique_counts'][column] = len(df[column].unique())\n",
    "        data['min_value'][column] = df[column].min()\n",
    "        data['max_value'][column] = df[column].max()\n",
    "        data['dupl_sum'][column] = df[column].duplicated().sum()\n",
    "        data['dtypes'][column] = df[column].dtypes\n",
    "        data['length'][column] = len(df[column])\n",
    "    return data "
   ]
  },
  {
   "cell_type": "code",
   "execution_count": 4,
   "metadata": {
    "ExecuteTime": {
     "end_time": "2023-03-01T20:04:09.032789Z",
     "start_time": "2023-03-01T20:04:09.014788Z"
    }
   },
   "outputs": [],
   "source": [
    "def display_side_by_side(*args, titles=cycle([''])):\n",
    "    html_str = ''\n",
    "    for df, title in zip(args, titles):\n",
    "        html_str += '<td style=\"vertical-align:top\">'\n",
    "        html_str += f'<h3><center>{title}<center></h3>'\n",
    "        html_str += df.to_html()\n",
    "    display_html(html_str, raw=True)"
   ]
  },
  {
   "cell_type": "code",
   "execution_count": 5,
   "metadata": {
    "ExecuteTime": {
     "end_time": "2023-03-01T20:04:09.063786Z",
     "start_time": "2023-03-01T20:04:09.039791Z"
    }
   },
   "outputs": [],
   "source": [
    "def cumulative_calculation(cumulativeData, flag=0):\n",
    "    # датафреймы с кумулятивным количеством заказов и кумулятивной выручкой по дням в группах\n",
    "    cumulativeA = cumulativeData[cumulativeData['group']=='A'][['date','revenue', 'orders', 'visitors']]\n",
    "    cumulativeB = cumulativeData[cumulativeData['group']=='B'][['date','revenue', 'orders', 'visitors']]\n",
    "    \n",
    "    # датафреймы с средним чеком по группам\n",
    "    cumulativeRevenueA_mean_bill = cumulativeA['revenue'] / cumulativeA['orders']\n",
    "    cumulativeRevenueB_mean_bill = cumulativeB['revenue'] / cumulativeB['orders']\n",
    "    \n",
    "    def to_calculate_relative_metrics(df, column):\n",
    "        result = (df[column[0]] / df[column[1]]) / (df[column[2]] / df[column[3]]) - 1\n",
    "        \n",
    "        return result\n",
    "    \n",
    "    # датафрейм относительного различия для среднего чека\n",
    "    mergedCumulativeRevenue = cumulativeA.merge(cumulativeB, on='date', suffixes=['A', 'B'])\n",
    "    сumulativeRevenue = to_calculate_relative_metrics(\n",
    "        mergedCumulativeRevenue, ['revenueB', 'ordersB', 'revenueA', 'ordersA']\n",
    "    )\n",
    "    \n",
    "    # датафрейм кумулятивного среднего количества заказов на посетителя по группам\n",
    "    cumulativeOrdersA_mean_count = cumulativeA['orders'] / cumulativeA['visitors']\n",
    "    cumulativeOrdersB_mean_count = cumulativeB['orders'] / cumulativeB['visitors']\n",
    "    \n",
    "    # датафрейм относительного различия для среднего чека\n",
    "    mergedCumulativeOrders = cumulativeA.merge(cumulativeB, on='date', suffixes=['A', 'B'])\n",
    "    сumulativeOrders = to_calculate_relative_metrics(\n",
    "        mergedCumulativeOrders, ['ordersB', 'visitorsB', 'ordersA', 'visitorsA']\n",
    "    )\n",
    "\n",
    "    plt.figure(figsize=(15, 7))\n",
    "    # Строим график кумулятивной выручки по группам\n",
    "    if flag == 0:\n",
    "        plt.plot(cumulativeA['date'], cumulativeA['revenue'], label='A')\n",
    "        plt.plot(cumulativeB['date'], cumulativeB['revenue'], label='B')\n",
    "        plt.title('График кумулятивной выручки по группам')\n",
    "        plt.ylabel('Кумулятивная выручка')\n",
    "    # Строим график кумулятивного среднего чека по группам\n",
    "    elif flag == 1:\n",
    "        plt.plot(cumulativeA['date'], cumulativeRevenueA_mean_bill, label='A')\n",
    "        plt.plot(cumulativeB['date'], cumulativeRevenueB_mean_bill, label='B')\n",
    "        plt.title('График кумулятивного среднего чека по группам')\n",
    "        plt.ylabel('Кумулятивный средний чек')\n",
    "    elif flag == 2:\n",
    "        # cтроим отношение кумулятивных средних чеков\n",
    "        plt.plot(mergedCumulativeRevenue['date'], сumulativeRevenue)\n",
    "        plt.axhline(y=0, color='black', linestyle='--')\n",
    "        plt.title('График отношения кумулятивных средних чеков группы В к группе А')\n",
    "        plt.ylabel('Отношение кумулятивных средних чеков')\n",
    "    elif flag == 3:\n",
    "        # Строим график кумулятивного среднего количества заказов на посетителя по группам\n",
    "        plt.plot(cumulativeA['date'], cumulativeOrdersA_mean_count, label='A')\n",
    "        plt.plot(cumulativeB['date'], cumulativeOrdersB_mean_count, label='B')\n",
    "        plt.title('График кумулятивного среднего количества заказов на посетителя по группам')\n",
    "        plt.ylabel('Кумулятивное среднее количество заказов на посетителя')\n",
    "    elif flag == 4:\n",
    "        # cтроим отношение средних чеков\n",
    "        plt.plot(mergedCumulativeOrders['date'], сumulativeOrders)\n",
    "        plt.axhline(y=0, color='black', linestyle='--')\n",
    "        plt.title('График отношения кумулятивных среднего количества заказов на посетителя группы В к группе А')\n",
    "        plt.ylabel('Отношение кумулятивных среднего количества заказов')\n",
    "\n",
    "    plt.xlabel('Диапазон тестирования по времени')\n",
    "    plt.xticks(np.arange(min(cumulativeData['date']), max(cumulativeData['date']) + timedelta(days=1), timedelta(days=2)))\n",
    "    plt.legend()\n",
    "    plt.xticks(rotation=20)\n",
    "    plt.grid()\n",
    "    plt.show()"
   ]
  },
  {
   "cell_type": "code",
   "execution_count": 6,
   "metadata": {
    "ExecuteTime": {
     "end_time": "2023-03-01T20:04:09.094782Z",
     "start_time": "2023-03-01T20:04:09.067791Z"
    }
   },
   "outputs": [],
   "source": [
    "def cumulative_data(orders, visitors):\n",
    "    # создаем массив уникальных пар значений дат и групп теста\n",
    "    datesGroups = orders[['date','group']].drop_duplicates()\n",
    "\n",
    "    # получаем агрегированные кумулятивные по дням данные о заказах \n",
    "    ordersAggregated = (\n",
    "        datesGroups\n",
    "        .apply(\n",
    "            lambda x: \n",
    "                orders[np.logical_and(orders['date'] <= x['date'], orders['group'] == x['group'])]\n",
    "                .agg({\n",
    "                    'date': 'max', \n",
    "                    'group': 'max', \n",
    "                    'visitorId': 'nunique', \n",
    "                    'transactionId': 'nunique', \n",
    "                    'revenue': 'sum'\n",
    "                }), \n",
    "                axis=1\n",
    "        )\n",
    "        .sort_values(by=['date','group'])\n",
    "    )\n",
    "\n",
    "    # получаем агрегированные кумулятивные по дням данные о посетителях интернет-магазина \n",
    "    visitorsAggregated = (\n",
    "        datesGroups\n",
    "        .apply(\n",
    "            lambda x: \n",
    "                visitors[np.logical_and(visitors['date'] <= x['date'], visitors['group'] == x['group'])]\n",
    "                .agg({\n",
    "                    'date' : 'max', \n",
    "                    'group' : 'max', \n",
    "                    'visitors' : 'sum'\n",
    "                }), \n",
    "                axis=1\n",
    "        )\n",
    "        .sort_values(by=['date','group'])\n",
    "    )\n",
    "\n",
    "    # объединяем кумулятивные данные в одной таблице и присваиваем ее столбцам понятные названия\n",
    "    cumulativeData = ordersAggregated.merge(visitorsAggregated, on=['date', 'group'])\n",
    "    cumulativeData.columns = ['date', 'group', 'buyers', 'orders', 'revenue', 'visitors']\n",
    "\n",
    "    display(cumulativeData.head(5))\n",
    "    return cumulativeData"
   ]
  },
  {
   "cell_type": "code",
   "execution_count": 7,
   "metadata": {
    "ExecuteTime": {
     "end_time": "2023-03-01T20:04:09.109785Z",
     "start_time": "2023-03-01T20:04:09.099788Z"
    }
   },
   "outputs": [],
   "source": [
    "def orders_by_users(orders):\n",
    "    ordersByUsersA = (\n",
    "        orders[orders['group'] == 'A']\n",
    "        .groupby('visitorId', as_index=False)\n",
    "        .agg({'transactionId': pd.Series.nunique})\n",
    "    )\n",
    "    ordersByUsersA.columns = ['userId', 'orders']\n",
    "\n",
    "    ordersByUsersB = (\n",
    "        orders[orders['group'] == 'B']\n",
    "        .groupby('visitorId', as_index=False)\n",
    "        .agg({'transactionId': pd.Series.nunique})\n",
    "    )\n",
    "    ordersByUsersB.columns = ['userId', 'orders']\n",
    "    return ordersByUsersA, ordersByUsersB"
   ]
  },
  {
   "cell_type": "code",
   "execution_count": 8,
   "metadata": {
    "ExecuteTime": {
     "end_time": "2023-03-01T20:04:09.125783Z",
     "start_time": "2023-03-01T20:04:09.112795Z"
    }
   },
   "outputs": [],
   "source": [
    "def statistical_significance(sampleA, sampleB, alpha=0.05):\n",
    "    \n",
    "    p_value = float(\"{0:.3f}\".format(stats.mannwhitneyu(sampleA, sampleB)[1]))\n",
    "    \n",
    "    if p_value < alpha:\n",
    "        print('Отвергаем нулевую гипотезу: между долями есть значимая разница. p_value={}'.format(p_value))\n",
    "    else:\n",
    "        print('Не получилось отвергнуть нулевую гипотезу, нет оснований считать доли разными. p_value={}'.format(p_value))\n",
    "        \n",
    "    p_value = float(\"{0:.3f}\".format(sampleB.mean() / sampleA.mean() - 1))\n",
    "    \n",
    "    if p_value < alpha:\n",
    "        print('Относительный прирост группы В к группе А < уровня значимости. p_value={}'.format(p_value))\n",
    "    else:\n",
    "        print('Относительный прирост группы В к группе А >= уровня значимости. p_value={}'.format(p_value))\n"
   ]
  },
  {
   "cell_type": "markdown",
   "metadata": {},
   "source": [
    "## Загрузка и обработка данных"
   ]
  },
  {
   "cell_type": "markdown",
   "metadata": {
    "id": "LCZi0P80WVwj"
   },
   "source": [
    "Загрузить данные о визитах, заказах и гипотезах из CSV-файлов в переменные.\n",
    "\n",
    "**Пути к файлам**\n",
    "\n",
    "- визиты: `/datasets/visitors.csv`. [Скачать датасет](https://code.s3.yandex.net/datasets/visitors.csv);\n",
    "- заказы: `/datasets/orders.csv`. [Скачать датасет](https://code.s3.yandex.net/datasets/orders.csv);\n",
    "- гипотезы: `/datasets/hypothesis.csv`. [Скачать датасет](https://code.s3.yandex.net/datasets/hypothesis.csv)."
   ]
  },
  {
   "cell_type": "code",
   "execution_count": 9,
   "metadata": {
    "ExecuteTime": {
     "end_time": "2023-03-01T20:04:09.173787Z",
     "start_time": "2023-03-01T20:04:09.128790Z"
    },
    "scrolled": false
   },
   "outputs": [
    {
     "data": {
      "text/html": [
       "<td style=\"vertical-align:top\"><h3><center>hypothesis<center></h3><table border=\"1\" class=\"dataframe\">\n",
       "  <thead>\n",
       "    <tr style=\"text-align: right;\">\n",
       "      <th></th>\n",
       "      <th>Hypothesis</th>\n",
       "      <th>Reach</th>\n",
       "      <th>Impact</th>\n",
       "      <th>Confidence</th>\n",
       "      <th>Efforts</th>\n",
       "    </tr>\n",
       "  </thead>\n",
       "  <tbody>\n",
       "    <tr>\n",
       "      <th>0</th>\n",
       "      <td>Добавить два новых канала привлечения трафика, что позволит привлекать на 30% больше пользователей</td>\n",
       "      <td>3</td>\n",
       "      <td>10</td>\n",
       "      <td>8</td>\n",
       "      <td>6</td>\n",
       "    </tr>\n",
       "    <tr>\n",
       "      <th>1</th>\n",
       "      <td>Запустить собственную службу доставки, что сократит срок доставки заказов</td>\n",
       "      <td>2</td>\n",
       "      <td>5</td>\n",
       "      <td>4</td>\n",
       "      <td>10</td>\n",
       "    </tr>\n",
       "    <tr>\n",
       "      <th>2</th>\n",
       "      <td>Добавить блоки рекомендаций товаров на сайт интернет магазина, чтобы повысить конверсию и средний чек заказа</td>\n",
       "      <td>8</td>\n",
       "      <td>3</td>\n",
       "      <td>7</td>\n",
       "      <td>3</td>\n",
       "    </tr>\n",
       "    <tr>\n",
       "      <th>3</th>\n",
       "      <td>Изменить структура категорий, что увеличит конверсию, т.к. пользователи быстрее найдут нужный товар</td>\n",
       "      <td>8</td>\n",
       "      <td>3</td>\n",
       "      <td>3</td>\n",
       "      <td>8</td>\n",
       "    </tr>\n",
       "    <tr>\n",
       "      <th>4</th>\n",
       "      <td>Изменить цвет фона главной страницы, чтобы увеличить вовлеченность пользователей</td>\n",
       "      <td>3</td>\n",
       "      <td>1</td>\n",
       "      <td>1</td>\n",
       "      <td>1</td>\n",
       "    </tr>\n",
       "  </tbody>\n",
       "</table><td style=\"vertical-align:top\"><h3><center>orders<center></h3><table border=\"1\" class=\"dataframe\">\n",
       "  <thead>\n",
       "    <tr style=\"text-align: right;\">\n",
       "      <th></th>\n",
       "      <th>transactionId</th>\n",
       "      <th>visitorId</th>\n",
       "      <th>date</th>\n",
       "      <th>revenue</th>\n",
       "      <th>group</th>\n",
       "    </tr>\n",
       "  </thead>\n",
       "  <tbody>\n",
       "    <tr>\n",
       "      <th>0</th>\n",
       "      <td>3667963787</td>\n",
       "      <td>3312258926</td>\n",
       "      <td>2019-08-15</td>\n",
       "      <td>1650</td>\n",
       "      <td>B</td>\n",
       "    </tr>\n",
       "    <tr>\n",
       "      <th>1</th>\n",
       "      <td>2804400009</td>\n",
       "      <td>3642806036</td>\n",
       "      <td>2019-08-15</td>\n",
       "      <td>730</td>\n",
       "      <td>B</td>\n",
       "    </tr>\n",
       "    <tr>\n",
       "      <th>2</th>\n",
       "      <td>2961555356</td>\n",
       "      <td>4069496402</td>\n",
       "      <td>2019-08-15</td>\n",
       "      <td>400</td>\n",
       "      <td>A</td>\n",
       "    </tr>\n",
       "    <tr>\n",
       "      <th>3</th>\n",
       "      <td>3797467345</td>\n",
       "      <td>1196621759</td>\n",
       "      <td>2019-08-15</td>\n",
       "      <td>9759</td>\n",
       "      <td>B</td>\n",
       "    </tr>\n",
       "    <tr>\n",
       "      <th>4</th>\n",
       "      <td>2282983706</td>\n",
       "      <td>2322279887</td>\n",
       "      <td>2019-08-15</td>\n",
       "      <td>2308</td>\n",
       "      <td>B</td>\n",
       "    </tr>\n",
       "  </tbody>\n",
       "</table><td style=\"vertical-align:top\"><h3><center>visitors<center></h3><table border=\"1\" class=\"dataframe\">\n",
       "  <thead>\n",
       "    <tr style=\"text-align: right;\">\n",
       "      <th></th>\n",
       "      <th>date</th>\n",
       "      <th>group</th>\n",
       "      <th>visitors</th>\n",
       "    </tr>\n",
       "  </thead>\n",
       "  <tbody>\n",
       "    <tr>\n",
       "      <th>0</th>\n",
       "      <td>2019-08-01</td>\n",
       "      <td>A</td>\n",
       "      <td>719</td>\n",
       "    </tr>\n",
       "    <tr>\n",
       "      <th>1</th>\n",
       "      <td>2019-08-02</td>\n",
       "      <td>A</td>\n",
       "      <td>619</td>\n",
       "    </tr>\n",
       "    <tr>\n",
       "      <th>2</th>\n",
       "      <td>2019-08-03</td>\n",
       "      <td>A</td>\n",
       "      <td>507</td>\n",
       "    </tr>\n",
       "    <tr>\n",
       "      <th>3</th>\n",
       "      <td>2019-08-04</td>\n",
       "      <td>A</td>\n",
       "      <td>717</td>\n",
       "    </tr>\n",
       "    <tr>\n",
       "      <th>4</th>\n",
       "      <td>2019-08-05</td>\n",
       "      <td>A</td>\n",
       "      <td>756</td>\n",
       "    </tr>\n",
       "  </tbody>\n",
       "</table>"
      ]
     },
     "metadata": {},
     "output_type": "display_data"
    }
   ],
   "source": [
    "data = {} \n",
    "path = '/datasets/' if os.path.isdir('/datasets/') else 'datasets/'\n",
    "columns = ['hypothesis', 'orders', 'visitors']\n",
    "\n",
    "for column in columns:\n",
    "    data[column] = pd.read_csv(path + column + '.csv')\n",
    "    \n",
    "display_side_by_side(\n",
    "    data[columns[0]].head(),\n",
    "    data[columns[1]].head(),\n",
    "    data[columns[2]].head(),\n",
    "\n",
    "    titles=columns  \n",
    ")"
   ]
  },
  {
   "cell_type": "code",
   "execution_count": 10,
   "metadata": {
    "ExecuteTime": {
     "end_time": "2023-03-01T20:04:09.204786Z",
     "start_time": "2023-03-01T20:04:09.177790Z"
    },
    "id": "_vsKinGUWVwk"
   },
   "outputs": [],
   "source": [
    "hypothesis, orders, visitors = (\n",
    "    pd.read_csv(path + 'hypothesis.csv'), \n",
    "    pd.read_csv(path + 'orders.csv'),  \n",
    "    pd.read_csv(path + 'visitors.csv'),  \n",
    ")"
   ]
  },
  {
   "cell_type": "code",
   "execution_count": 11,
   "metadata": {
    "ExecuteTime": {
     "end_time": "2023-03-01T20:04:09.267780Z",
     "start_time": "2023-03-01T20:04:09.208792Z"
    }
   },
   "outputs": [
    {
     "data": {
      "text/html": [
       "<div>\n",
       "<style scoped>\n",
       "    .dataframe tbody tr th:only-of-type {\n",
       "        vertical-align: middle;\n",
       "    }\n",
       "\n",
       "    .dataframe tbody tr th {\n",
       "        vertical-align: top;\n",
       "    }\n",
       "\n",
       "    .dataframe thead th {\n",
       "        text-align: right;\n",
       "    }\n",
       "</style>\n",
       "<table border=\"1\" class=\"dataframe\">\n",
       "  <thead>\n",
       "    <tr style=\"text-align: right;\">\n",
       "      <th></th>\n",
       "      <th>NaN_part</th>\n",
       "      <th>empty_counts</th>\n",
       "      <th>space_counts</th>\n",
       "      <th>0_counts</th>\n",
       "      <th>unique_counts</th>\n",
       "      <th>min_value</th>\n",
       "      <th>max_value</th>\n",
       "      <th>dupl_sum</th>\n",
       "      <th>dtypes</th>\n",
       "      <th>length</th>\n",
       "    </tr>\n",
       "  </thead>\n",
       "  <tbody>\n",
       "    <tr>\n",
       "      <th>date</th>\n",
       "      <td>0.0</td>\n",
       "      <td>0</td>\n",
       "      <td>0</td>\n",
       "      <td>0</td>\n",
       "      <td>31</td>\n",
       "      <td>2019-08-01</td>\n",
       "      <td>2019-08-31</td>\n",
       "      <td>31</td>\n",
       "      <td>object</td>\n",
       "      <td>62</td>\n",
       "    </tr>\n",
       "    <tr>\n",
       "      <th>group</th>\n",
       "      <td>0.0</td>\n",
       "      <td>0</td>\n",
       "      <td>0</td>\n",
       "      <td>0</td>\n",
       "      <td>2</td>\n",
       "      <td>A</td>\n",
       "      <td>B</td>\n",
       "      <td>60</td>\n",
       "      <td>object</td>\n",
       "      <td>62</td>\n",
       "    </tr>\n",
       "    <tr>\n",
       "      <th>visitors</th>\n",
       "      <td>0.0</td>\n",
       "      <td>0</td>\n",
       "      <td>0</td>\n",
       "      <td>0</td>\n",
       "      <td>58</td>\n",
       "      <td>361</td>\n",
       "      <td>770</td>\n",
       "      <td>4</td>\n",
       "      <td>int64</td>\n",
       "      <td>62</td>\n",
       "    </tr>\n",
       "  </tbody>\n",
       "</table>\n",
       "</div>"
      ],
      "text/plain": [
       "         NaN_part empty_counts space_counts 0_counts unique_counts  \\\n",
       "date      0.0      0            0            0        31             \n",
       "group     0.0      0            0            0        2              \n",
       "visitors  0.0      0            0            0        58             \n",
       "\n",
       "           min_value   max_value dupl_sum  dtypes length  \n",
       "date      2019-08-01  2019-08-31  31       object  62     \n",
       "group     A           B           60       object  62     \n",
       "visitors  361         770         4        int64   62     "
      ]
     },
     "execution_count": 11,
     "metadata": {},
     "output_type": "execute_result"
    }
   ],
   "source": [
    "missing_values(visitors)"
   ]
  },
  {
   "cell_type": "code",
   "execution_count": 12,
   "metadata": {
    "ExecuteTime": {
     "end_time": "2023-03-01T20:04:09.282784Z",
     "start_time": "2023-03-01T20:04:09.271787Z"
    }
   },
   "outputs": [],
   "source": [
    "visitors['date'] = pd.to_datetime(visitors['date'])"
   ]
  },
  {
   "cell_type": "code",
   "execution_count": 13,
   "metadata": {
    "ExecuteTime": {
     "end_time": "2023-03-01T20:04:09.342784Z",
     "start_time": "2023-03-01T20:04:09.287790Z"
    }
   },
   "outputs": [
    {
     "data": {
      "text/html": [
       "<div>\n",
       "<style scoped>\n",
       "    .dataframe tbody tr th:only-of-type {\n",
       "        vertical-align: middle;\n",
       "    }\n",
       "\n",
       "    .dataframe tbody tr th {\n",
       "        vertical-align: top;\n",
       "    }\n",
       "\n",
       "    .dataframe thead th {\n",
       "        text-align: right;\n",
       "    }\n",
       "</style>\n",
       "<table border=\"1\" class=\"dataframe\">\n",
       "  <thead>\n",
       "    <tr style=\"text-align: right;\">\n",
       "      <th></th>\n",
       "      <th>NaN_part</th>\n",
       "      <th>empty_counts</th>\n",
       "      <th>space_counts</th>\n",
       "      <th>0_counts</th>\n",
       "      <th>unique_counts</th>\n",
       "      <th>min_value</th>\n",
       "      <th>max_value</th>\n",
       "      <th>dupl_sum</th>\n",
       "      <th>dtypes</th>\n",
       "      <th>length</th>\n",
       "    </tr>\n",
       "  </thead>\n",
       "  <tbody>\n",
       "    <tr>\n",
       "      <th>transactionId</th>\n",
       "      <td>0.0</td>\n",
       "      <td>0</td>\n",
       "      <td>0</td>\n",
       "      <td>0</td>\n",
       "      <td>1197</td>\n",
       "      <td>1062393</td>\n",
       "      <td>4293855558</td>\n",
       "      <td>0</td>\n",
       "      <td>int64</td>\n",
       "      <td>1197</td>\n",
       "    </tr>\n",
       "    <tr>\n",
       "      <th>visitorId</th>\n",
       "      <td>0.0</td>\n",
       "      <td>0</td>\n",
       "      <td>0</td>\n",
       "      <td>0</td>\n",
       "      <td>1031</td>\n",
       "      <td>5114589</td>\n",
       "      <td>4283872382</td>\n",
       "      <td>166</td>\n",
       "      <td>int64</td>\n",
       "      <td>1197</td>\n",
       "    </tr>\n",
       "    <tr>\n",
       "      <th>date</th>\n",
       "      <td>0.0</td>\n",
       "      <td>0</td>\n",
       "      <td>0</td>\n",
       "      <td>0</td>\n",
       "      <td>31</td>\n",
       "      <td>2019-08-01</td>\n",
       "      <td>2019-08-31</td>\n",
       "      <td>1166</td>\n",
       "      <td>object</td>\n",
       "      <td>1197</td>\n",
       "    </tr>\n",
       "    <tr>\n",
       "      <th>revenue</th>\n",
       "      <td>0.0</td>\n",
       "      <td>0</td>\n",
       "      <td>0</td>\n",
       "      <td>0</td>\n",
       "      <td>713</td>\n",
       "      <td>50</td>\n",
       "      <td>1294500</td>\n",
       "      <td>484</td>\n",
       "      <td>int64</td>\n",
       "      <td>1197</td>\n",
       "    </tr>\n",
       "    <tr>\n",
       "      <th>group</th>\n",
       "      <td>0.0</td>\n",
       "      <td>0</td>\n",
       "      <td>0</td>\n",
       "      <td>0</td>\n",
       "      <td>2</td>\n",
       "      <td>A</td>\n",
       "      <td>B</td>\n",
       "      <td>1195</td>\n",
       "      <td>object</td>\n",
       "      <td>1197</td>\n",
       "    </tr>\n",
       "  </tbody>\n",
       "</table>\n",
       "</div>"
      ],
      "text/plain": [
       "              NaN_part empty_counts space_counts 0_counts unique_counts  \\\n",
       "transactionId  0.0      0            0            0        1197           \n",
       "visitorId      0.0      0            0            0        1031           \n",
       "date           0.0      0            0            0        31             \n",
       "revenue        0.0      0            0            0        713            \n",
       "group          0.0      0            0            0        2              \n",
       "\n",
       "                min_value   max_value dupl_sum  dtypes length  \n",
       "transactionId  1062393     4293855558  0        int64   1197   \n",
       "visitorId      5114589     4283872382  166      int64   1197   \n",
       "date           2019-08-01  2019-08-31  1166     object  1197   \n",
       "revenue        50          1294500     484      int64   1197   \n",
       "group          A           B           1195     object  1197   "
      ]
     },
     "execution_count": 13,
     "metadata": {},
     "output_type": "execute_result"
    }
   ],
   "source": [
    "missing_values(orders)"
   ]
  },
  {
   "cell_type": "code",
   "execution_count": 14,
   "metadata": {
    "ExecuteTime": {
     "end_time": "2023-03-01T20:04:09.373788Z",
     "start_time": "2023-03-01T20:04:09.357788Z"
    }
   },
   "outputs": [],
   "source": [
    "orders['date'] = pd.to_datetime(orders['date'])"
   ]
  },
  {
   "cell_type": "code",
   "execution_count": 15,
   "metadata": {
    "ExecuteTime": {
     "end_time": "2023-03-01T20:04:09.434789Z",
     "start_time": "2023-03-01T20:04:09.376788Z"
    }
   },
   "outputs": [
    {
     "data": {
      "text/html": [
       "<div>\n",
       "<style scoped>\n",
       "    .dataframe tbody tr th:only-of-type {\n",
       "        vertical-align: middle;\n",
       "    }\n",
       "\n",
       "    .dataframe tbody tr th {\n",
       "        vertical-align: top;\n",
       "    }\n",
       "\n",
       "    .dataframe thead th {\n",
       "        text-align: right;\n",
       "    }\n",
       "</style>\n",
       "<table border=\"1\" class=\"dataframe\">\n",
       "  <thead>\n",
       "    <tr style=\"text-align: right;\">\n",
       "      <th></th>\n",
       "      <th>NaN_part</th>\n",
       "      <th>empty_counts</th>\n",
       "      <th>space_counts</th>\n",
       "      <th>0_counts</th>\n",
       "      <th>unique_counts</th>\n",
       "      <th>min_value</th>\n",
       "      <th>max_value</th>\n",
       "      <th>dupl_sum</th>\n",
       "      <th>dtypes</th>\n",
       "      <th>length</th>\n",
       "    </tr>\n",
       "  </thead>\n",
       "  <tbody>\n",
       "    <tr>\n",
       "      <th>Hypothesis</th>\n",
       "      <td>0.0</td>\n",
       "      <td>0</td>\n",
       "      <td>0</td>\n",
       "      <td>0</td>\n",
       "      <td>9</td>\n",
       "      <td>Добавить блоки рекомендаций товаров на сайт интернет магазина, чтобы повысить конверсию и средний чек заказа</td>\n",
       "      <td>Показать на главной странице баннеры с актуальными акциями и распродажами, чтобы увеличить конверсию</td>\n",
       "      <td>0</td>\n",
       "      <td>object</td>\n",
       "      <td>9</td>\n",
       "    </tr>\n",
       "    <tr>\n",
       "      <th>Reach</th>\n",
       "      <td>0.0</td>\n",
       "      <td>0</td>\n",
       "      <td>0</td>\n",
       "      <td>0</td>\n",
       "      <td>6</td>\n",
       "      <td>1</td>\n",
       "      <td>10</td>\n",
       "      <td>3</td>\n",
       "      <td>int64</td>\n",
       "      <td>9</td>\n",
       "    </tr>\n",
       "    <tr>\n",
       "      <th>Impact</th>\n",
       "      <td>0.0</td>\n",
       "      <td>0</td>\n",
       "      <td>0</td>\n",
       "      <td>0</td>\n",
       "      <td>7</td>\n",
       "      <td>1</td>\n",
       "      <td>10</td>\n",
       "      <td>2</td>\n",
       "      <td>int64</td>\n",
       "      <td>9</td>\n",
       "    </tr>\n",
       "    <tr>\n",
       "      <th>Confidence</th>\n",
       "      <td>0.0</td>\n",
       "      <td>0</td>\n",
       "      <td>0</td>\n",
       "      <td>0</td>\n",
       "      <td>7</td>\n",
       "      <td>1</td>\n",
       "      <td>9</td>\n",
       "      <td>2</td>\n",
       "      <td>int64</td>\n",
       "      <td>9</td>\n",
       "    </tr>\n",
       "    <tr>\n",
       "      <th>Efforts</th>\n",
       "      <td>0.0</td>\n",
       "      <td>0</td>\n",
       "      <td>0</td>\n",
       "      <td>0</td>\n",
       "      <td>6</td>\n",
       "      <td>1</td>\n",
       "      <td>10</td>\n",
       "      <td>3</td>\n",
       "      <td>int64</td>\n",
       "      <td>9</td>\n",
       "    </tr>\n",
       "  </tbody>\n",
       "</table>\n",
       "</div>"
      ],
      "text/plain": [
       "           NaN_part empty_counts space_counts 0_counts unique_counts  \\\n",
       "Hypothesis  0.0      0            0            0        9              \n",
       "Reach       0.0      0            0            0        6              \n",
       "Impact      0.0      0            0            0        7              \n",
       "Confidence  0.0      0            0            0        7              \n",
       "Efforts     0.0      0            0            0        6              \n",
       "\n",
       "                                                                                                               min_value  \\\n",
       "Hypothesis  Добавить блоки рекомендаций товаров на сайт интернет магазина, чтобы повысить конверсию и средний чек заказа   \n",
       "Reach       1                                                                                                              \n",
       "Impact      1                                                                                                              \n",
       "Confidence  1                                                                                                              \n",
       "Efforts     1                                                                                                              \n",
       "\n",
       "                                                                                                       max_value  \\\n",
       "Hypothesis  Показать на главной странице баннеры с актуальными акциями и распродажами, чтобы увеличить конверсию   \n",
       "Reach       10                                                                                                     \n",
       "Impact      10                                                                                                     \n",
       "Confidence  9                                                                                                      \n",
       "Efforts     10                                                                                                     \n",
       "\n",
       "           dupl_sum  dtypes length  \n",
       "Hypothesis  0        object  9      \n",
       "Reach       3        int64   9      \n",
       "Impact      2        int64   9      \n",
       "Confidence  2        int64   9      \n",
       "Efforts     3        int64   9      "
      ]
     },
     "execution_count": 15,
     "metadata": {},
     "output_type": "execute_result"
    }
   ],
   "source": [
    "missing_values(hypothesis)"
   ]
  },
  {
   "cell_type": "code",
   "execution_count": 16,
   "metadata": {
    "ExecuteTime": {
     "end_time": "2023-03-01T20:04:09.466785Z",
     "start_time": "2023-03-01T20:04:09.437790Z"
    }
   },
   "outputs": [
    {
     "name": "stdout",
     "output_type": "stream",
     "text": [
      "Empty DataFrame\n",
      "Columns: [date, group, visitors]\n",
      "Index: []\n",
      "Empty DataFrame\n",
      "Columns: [transactionId, visitorId, date, revenue, group]\n",
      "Index: []\n",
      "Empty DataFrame\n",
      "Columns: [Hypothesis, Reach, Impact, Confidence, Efforts]\n",
      "Index: []\n"
     ]
    }
   ],
   "source": [
    "duplicateRows = visitors[visitors.duplicated()]\n",
    "print(duplicateRows)\n",
    "\n",
    "duplicateRows = orders[orders.duplicated()]\n",
    "print(duplicateRows)\n",
    "\n",
    "duplicateRows = hypothesis[hypothesis.duplicated()]\n",
    "print(duplicateRows)"
   ]
  },
  {
   "cell_type": "markdown",
   "metadata": {},
   "source": [
    "В моем распоряжении три датасета:\n",
    "- визиты\n",
    "- заказы\n",
    "- гипотезы\n",
    "\n",
    "В целом с данными в таблицах все хорошо, только перевел даты из формата строки в формат даты. Дубликатов, пропусков, пустых ячеек нет."
   ]
  },
  {
   "cell_type": "markdown",
   "metadata": {},
   "source": [
    "При проведении А/В теста полезно изучить состав групп. "
   ]
  },
  {
   "cell_type": "code",
   "execution_count": 17,
   "metadata": {},
   "outputs": [
    {
     "name": "stdout",
     "output_type": "stream",
     "text": [
      "Всего 37652 посещений было за август 2019 года. Из них 1031 уникальный посетитель сделал заказ.\n"
     ]
    }
   ],
   "source": [
    "print(\n",
    "    f\"Всего {sum(visitors['visitors'])} посещений было за август 2019 года. \" \n",
    "    f\"Из них {len(orders['visitorId'].unique())} уникальный посетитель сделал заказ.\"\n",
    ")"
   ]
  },
  {
   "cell_type": "code",
   "execution_count": 18,
   "metadata": {},
   "outputs": [
    {
     "name": "stdout",
     "output_type": "stream",
     "text": [
      "{3957174400, 3984495233, 2780786433, 1294878855, 1648269707, 1614305549, 4120364173, 232979603, 199603092, 4266935830, 2712142231, 2587333274, 2716752286, 3891541246, 1668030113, 2654030115, 3234906277, 1230306981, 1404934699, 3803269165, 2949041841, 237748145, 457167155, 2927087541, 1738359350, 3062433592, 3656415546, 818047933, 393266494, 963407295, 471551937, 2579882178, 3202540741, 2686716486, 1333886533, 2044997962, 3941795274, 1801183820, 2378935119, 4256040402, 4069496402, 3766097110, 8300375, 351125977, 1602967004, 276558944, 2038680547, 3951559397, 3963646447, 4186807279, 3717692402, 1959144690, 2458001652, 2600415354, 2954449915, 1316129916, 477780734, 3972127743}\n"
     ]
    }
   ],
   "source": [
    "visitorsA = set(orders[(orders['group'] == 'A')]['visitorId'])\n",
    "visitorsB = set(orders[(orders['group'] == 'B')]['visitorId'])\n",
    "visitors_intersect = visitorsA.intersection(visitorsB)\n",
    "print(visitors_intersect)"
   ]
  },
  {
   "cell_type": "code",
   "execution_count": 19,
   "metadata": {},
   "outputs": [
    {
     "name": "stdout",
     "output_type": "stream",
     "text": [
      "Процент пересекающихся пользователей составляет 5.63 %\n"
     ]
    }
   ],
   "source": [
    "print(f\"Процент пересекающихся пользователей составляет {round(len(visitors_intersect)/len(orders['visitorId'].unique()) * 100, 2)} %\")"
   ]
  },
  {
   "cell_type": "markdown",
   "metadata": {},
   "source": [
    "Оказывается, что в данных есть дублирование пользовательских id в тестируемых группах. В идеале необходимо обратиться к тому, кто отвечает за эти данные. Достаточно странным является тот факт, что некоторые пользователи оказались в обоих группах. Можно предположить, что A/A тестирование было проведено некорректно.\n",
    "\n",
    "Что делать с пересекающимися пользовательскими id? Можно удалить, потому что сложно доверять этим данным. Но сделать это можно, если их количество не превышает 5-10%, иначе большой вопрос возникает можем ли мы в принципе проводить тестирование по большому количеству кривых данных? В нашем случае мы укладываемся в диапазон.\n",
    "\n",
    "А есть ли пересекающиеся заказы?"
   ]
  },
  {
   "cell_type": "code",
   "execution_count": 20,
   "metadata": {},
   "outputs": [
    {
     "name": "stdout",
     "output_type": "stream",
     "text": [
      "set()\n"
     ]
    }
   ],
   "source": [
    "visitorsA = set(orders[(orders['group'] == 'A') & (orders['visitorId'].isin(visitors_intersect))]['transactionId'])\n",
    "visitorsB = set(orders[(orders['group'] == 'B') & (orders['visitorId'].isin(visitors_intersect))]['transactionId'])\n",
    "visitors_intersect = visitorsA.intersection(visitorsB)\n",
    "print(visitors_intersect)"
   ]
  },
  {
   "cell_type": "markdown",
   "metadata": {},
   "source": [
    "Пересекающихся заказов нет. Я так подумал, что возможно А/А тестирование могло быть все-таки корректно, надо лезть в детали."
   ]
  },
  {
   "cell_type": "markdown",
   "metadata": {
    "id": "V-KBT-KMWVwl"
   },
   "source": [
    "# Приоритезация гипотез\n",
    "\n",
    "- Примените фреймворк ICE для приоритизации гипотез. Отсортируйте их по убыванию приоритета.\n",
    "- Примените фреймворк RICE для приоритизации гипотез. Отсортируйте их по убыванию приоритета.\n",
    "- Укажите, как изменилась приоритизация гипотез при применении RICE вместо ICE. Объясните, почему так произошло."
   ]
  },
  {
   "cell_type": "markdown",
   "metadata": {},
   "source": [
    "## ICE"
   ]
  },
  {
   "cell_type": "markdown",
   "metadata": {},
   "source": [
    "![Текст с описанием картинки](https://pictures.s3.yandex.net/resources/ice_score_2-27da3b9e-15cd-4f96-91a4-fefffd1d986e_1569198107.jpg)"
   ]
  },
  {
   "cell_type": "code",
   "execution_count": 21,
   "metadata": {
    "ExecuteTime": {
     "end_time": "2023-03-01T20:04:09.498794Z",
     "start_time": "2023-03-01T20:04:09.469788Z"
    }
   },
   "outputs": [
    {
     "data": {
      "text/html": [
       "<div>\n",
       "<style scoped>\n",
       "    .dataframe tbody tr th:only-of-type {\n",
       "        vertical-align: middle;\n",
       "    }\n",
       "\n",
       "    .dataframe tbody tr th {\n",
       "        vertical-align: top;\n",
       "    }\n",
       "\n",
       "    .dataframe thead th {\n",
       "        text-align: right;\n",
       "    }\n",
       "</style>\n",
       "<table border=\"1\" class=\"dataframe\">\n",
       "  <thead>\n",
       "    <tr style=\"text-align: right;\">\n",
       "      <th></th>\n",
       "      <th>Hypothesis</th>\n",
       "      <th>Reach</th>\n",
       "      <th>Impact</th>\n",
       "      <th>Confidence</th>\n",
       "      <th>Efforts</th>\n",
       "      <th>ICE</th>\n",
       "    </tr>\n",
       "  </thead>\n",
       "  <tbody>\n",
       "    <tr>\n",
       "      <th>8</th>\n",
       "      <td>Запустить акцию, дающую скидку на товар в день рождения</td>\n",
       "      <td>1</td>\n",
       "      <td>9</td>\n",
       "      <td>9</td>\n",
       "      <td>5</td>\n",
       "      <td>16.2</td>\n",
       "    </tr>\n",
       "    <tr>\n",
       "      <th>0</th>\n",
       "      <td>Добавить два новых канала привлечения трафика, что позволит привлекать на 30% больше пользователей</td>\n",
       "      <td>3</td>\n",
       "      <td>10</td>\n",
       "      <td>8</td>\n",
       "      <td>6</td>\n",
       "      <td>13.3</td>\n",
       "    </tr>\n",
       "    <tr>\n",
       "      <th>7</th>\n",
       "      <td>Добавить форму подписки на все основные страницы, чтобы собрать базу клиентов для email-рассылок</td>\n",
       "      <td>10</td>\n",
       "      <td>7</td>\n",
       "      <td>8</td>\n",
       "      <td>5</td>\n",
       "      <td>11.2</td>\n",
       "    </tr>\n",
       "    <tr>\n",
       "      <th>6</th>\n",
       "      <td>Показать на главной странице баннеры с актуальными акциями и распродажами, чтобы увеличить конверсию</td>\n",
       "      <td>5</td>\n",
       "      <td>3</td>\n",
       "      <td>8</td>\n",
       "      <td>3</td>\n",
       "      <td>8.0</td>\n",
       "    </tr>\n",
       "    <tr>\n",
       "      <th>2</th>\n",
       "      <td>Добавить блоки рекомендаций товаров на сайт интернет магазина, чтобы повысить конверсию и средний чек заказа</td>\n",
       "      <td>8</td>\n",
       "      <td>3</td>\n",
       "      <td>7</td>\n",
       "      <td>3</td>\n",
       "      <td>7.0</td>\n",
       "    </tr>\n",
       "    <tr>\n",
       "      <th>1</th>\n",
       "      <td>Запустить собственную службу доставки, что сократит срок доставки заказов</td>\n",
       "      <td>2</td>\n",
       "      <td>5</td>\n",
       "      <td>4</td>\n",
       "      <td>10</td>\n",
       "      <td>2.0</td>\n",
       "    </tr>\n",
       "    <tr>\n",
       "      <th>5</th>\n",
       "      <td>Добавить страницу отзывов клиентов о магазине, что позволит увеличить количество заказов</td>\n",
       "      <td>3</td>\n",
       "      <td>2</td>\n",
       "      <td>2</td>\n",
       "      <td>3</td>\n",
       "      <td>1.3</td>\n",
       "    </tr>\n",
       "    <tr>\n",
       "      <th>3</th>\n",
       "      <td>Изменить структура категорий, что увеличит конверсию, т.к. пользователи быстрее найдут нужный товар</td>\n",
       "      <td>8</td>\n",
       "      <td>3</td>\n",
       "      <td>3</td>\n",
       "      <td>8</td>\n",
       "      <td>1.1</td>\n",
       "    </tr>\n",
       "    <tr>\n",
       "      <th>4</th>\n",
       "      <td>Изменить цвет фона главной страницы, чтобы увеличить вовлеченность пользователей</td>\n",
       "      <td>3</td>\n",
       "      <td>1</td>\n",
       "      <td>1</td>\n",
       "      <td>1</td>\n",
       "      <td>1.0</td>\n",
       "    </tr>\n",
       "  </tbody>\n",
       "</table>\n",
       "</div>"
      ],
      "text/plain": [
       "                                                                                                     Hypothesis  \\\n",
       "8  Запустить акцию, дающую скидку на товар в день рождения                                                        \n",
       "0  Добавить два новых канала привлечения трафика, что позволит привлекать на 30% больше пользователей             \n",
       "7  Добавить форму подписки на все основные страницы, чтобы собрать базу клиентов для email-рассылок               \n",
       "6  Показать на главной странице баннеры с актуальными акциями и распродажами, чтобы увеличить конверсию           \n",
       "2  Добавить блоки рекомендаций товаров на сайт интернет магазина, чтобы повысить конверсию и средний чек заказа   \n",
       "1  Запустить собственную службу доставки, что сократит срок доставки заказов                                      \n",
       "5  Добавить страницу отзывов клиентов о магазине, что позволит увеличить количество заказов                       \n",
       "3  Изменить структура категорий, что увеличит конверсию, т.к. пользователи быстрее найдут нужный товар            \n",
       "4  Изменить цвет фона главной страницы, чтобы увеличить вовлеченность пользователей                               \n",
       "\n",
       "   Reach  Impact  Confidence  Efforts   ICE  \n",
       "8  1      9       9           5        16.2  \n",
       "0  3      10      8           6        13.3  \n",
       "7  10     7       8           5        11.2  \n",
       "6  5      3       8           3        8.0   \n",
       "2  8      3       7           3        7.0   \n",
       "1  2      5       4           10       2.0   \n",
       "5  3      2       2           3        1.3   \n",
       "3  8      3       3           8        1.1   \n",
       "4  3      1       1           1        1.0   "
      ]
     },
     "metadata": {},
     "output_type": "display_data"
    }
   ],
   "source": [
    "hypothesis['ICE'] = round(hypothesis['Impact'] * hypothesis['Confidence'] / hypothesis['Efforts'], 1)\n",
    "display(hypothesis.sort_values(by='ICE', ascending=False))"
   ]
  },
  {
   "cell_type": "markdown",
   "metadata": {},
   "source": [
    "В компании принята шкала линейной оценки гипотезы по параметру Reach от 0 до 10, где 0 — «охват гипотезы ни на кого не повлияет», а 10 — «гипотеза охватит хотя бы половину пользователей».\n",
    "\n",
    "Параметр Impact показывает, насколько сильно изменение повлияет на охваченных пользователей. Impact измеряют по-разному:\n",
    "- По доле от общей площади экрана, которую составят меняющиеся элементы, в %;\n",
    "- По степени изменения пользовательского опыта;\n",
    "- По предварительной оценке важности для пользователей;\n",
    "- По количеству новых пользователей, которых изменение поможет привлечь.\n",
    "В зависимости от продукта и стратегии вашего бизнеса можно принять для оценки Impact  и собственные, уникальные критерии.\n",
    "\n",
    "Параметр Confidence показывает, насколько вы уверены в оценках других параметров. \n",
    "Уверенность, например, будет высокой, если:\n",
    "- вы можете точно посчитать, сколько пользователей подвержено изменению;\n",
    "- у вас есть доказательства, что данное изменение повлияет с тем Impact, который вы оценили (например, за счёт предыдущего опыта или кейсов конкурентов);\n",
    "- у вас есть точная оценка трудозатрат, и рисков их увеличения нет, либо они низкие.\n",
    "\n",
    "Параметр Efforts показывает, насколько сложно проверить гипотезу. В большинстве компаний на рынке разработка очень дорогая и выступает основным ресурсом. Если проверка гипотезы не требует разработки, её Efforts значительно снижается. Если разработка необходима, разумно подключить программистов к оценке объёма работы. Подойдёт любая практика, устоявшаяся внутри компании."
   ]
  },
  {
   "cell_type": "markdown",
   "metadata": {},
   "source": [
    "## RICE"
   ]
  },
  {
   "cell_type": "markdown",
   "metadata": {},
   "source": [
    "![Текст с описанием картинки](https://pictures.s3.yandex.net/resources/rice_score_1634305501.png)"
   ]
  },
  {
   "cell_type": "code",
   "execution_count": 22,
   "metadata": {
    "ExecuteTime": {
     "end_time": "2023-03-01T20:04:09.530785Z",
     "start_time": "2023-03-01T20:04:09.501788Z"
    }
   },
   "outputs": [
    {
     "data": {
      "text/html": [
       "<div>\n",
       "<style scoped>\n",
       "    .dataframe tbody tr th:only-of-type {\n",
       "        vertical-align: middle;\n",
       "    }\n",
       "\n",
       "    .dataframe tbody tr th {\n",
       "        vertical-align: top;\n",
       "    }\n",
       "\n",
       "    .dataframe thead th {\n",
       "        text-align: right;\n",
       "    }\n",
       "</style>\n",
       "<table border=\"1\" class=\"dataframe\">\n",
       "  <thead>\n",
       "    <tr style=\"text-align: right;\">\n",
       "      <th></th>\n",
       "      <th>Hypothesis</th>\n",
       "      <th>Reach</th>\n",
       "      <th>Impact</th>\n",
       "      <th>Confidence</th>\n",
       "      <th>Efforts</th>\n",
       "      <th>ICE</th>\n",
       "      <th>RICE</th>\n",
       "    </tr>\n",
       "  </thead>\n",
       "  <tbody>\n",
       "    <tr>\n",
       "      <th>7</th>\n",
       "      <td>Добавить форму подписки на все основные страницы, чтобы собрать базу клиентов для email-рассылок</td>\n",
       "      <td>10</td>\n",
       "      <td>7</td>\n",
       "      <td>8</td>\n",
       "      <td>5</td>\n",
       "      <td>11.2</td>\n",
       "      <td>112.0</td>\n",
       "    </tr>\n",
       "    <tr>\n",
       "      <th>2</th>\n",
       "      <td>Добавить блоки рекомендаций товаров на сайт интернет магазина, чтобы повысить конверсию и средний чек заказа</td>\n",
       "      <td>8</td>\n",
       "      <td>3</td>\n",
       "      <td>7</td>\n",
       "      <td>3</td>\n",
       "      <td>7.0</td>\n",
       "      <td>56.0</td>\n",
       "    </tr>\n",
       "    <tr>\n",
       "      <th>0</th>\n",
       "      <td>Добавить два новых канала привлечения трафика, что позволит привлекать на 30% больше пользователей</td>\n",
       "      <td>3</td>\n",
       "      <td>10</td>\n",
       "      <td>8</td>\n",
       "      <td>6</td>\n",
       "      <td>13.3</td>\n",
       "      <td>40.0</td>\n",
       "    </tr>\n",
       "    <tr>\n",
       "      <th>6</th>\n",
       "      <td>Показать на главной странице баннеры с актуальными акциями и распродажами, чтобы увеличить конверсию</td>\n",
       "      <td>5</td>\n",
       "      <td>3</td>\n",
       "      <td>8</td>\n",
       "      <td>3</td>\n",
       "      <td>8.0</td>\n",
       "      <td>40.0</td>\n",
       "    </tr>\n",
       "    <tr>\n",
       "      <th>8</th>\n",
       "      <td>Запустить акцию, дающую скидку на товар в день рождения</td>\n",
       "      <td>1</td>\n",
       "      <td>9</td>\n",
       "      <td>9</td>\n",
       "      <td>5</td>\n",
       "      <td>16.2</td>\n",
       "      <td>16.2</td>\n",
       "    </tr>\n",
       "    <tr>\n",
       "      <th>3</th>\n",
       "      <td>Изменить структура категорий, что увеличит конверсию, т.к. пользователи быстрее найдут нужный товар</td>\n",
       "      <td>8</td>\n",
       "      <td>3</td>\n",
       "      <td>3</td>\n",
       "      <td>8</td>\n",
       "      <td>1.1</td>\n",
       "      <td>9.0</td>\n",
       "    </tr>\n",
       "    <tr>\n",
       "      <th>1</th>\n",
       "      <td>Запустить собственную службу доставки, что сократит срок доставки заказов</td>\n",
       "      <td>2</td>\n",
       "      <td>5</td>\n",
       "      <td>4</td>\n",
       "      <td>10</td>\n",
       "      <td>2.0</td>\n",
       "      <td>4.0</td>\n",
       "    </tr>\n",
       "    <tr>\n",
       "      <th>5</th>\n",
       "      <td>Добавить страницу отзывов клиентов о магазине, что позволит увеличить количество заказов</td>\n",
       "      <td>3</td>\n",
       "      <td>2</td>\n",
       "      <td>2</td>\n",
       "      <td>3</td>\n",
       "      <td>1.3</td>\n",
       "      <td>4.0</td>\n",
       "    </tr>\n",
       "    <tr>\n",
       "      <th>4</th>\n",
       "      <td>Изменить цвет фона главной страницы, чтобы увеличить вовлеченность пользователей</td>\n",
       "      <td>3</td>\n",
       "      <td>1</td>\n",
       "      <td>1</td>\n",
       "      <td>1</td>\n",
       "      <td>1.0</td>\n",
       "      <td>3.0</td>\n",
       "    </tr>\n",
       "  </tbody>\n",
       "</table>\n",
       "</div>"
      ],
      "text/plain": [
       "                                                                                                     Hypothesis  \\\n",
       "7  Добавить форму подписки на все основные страницы, чтобы собрать базу клиентов для email-рассылок               \n",
       "2  Добавить блоки рекомендаций товаров на сайт интернет магазина, чтобы повысить конверсию и средний чек заказа   \n",
       "0  Добавить два новых канала привлечения трафика, что позволит привлекать на 30% больше пользователей             \n",
       "6  Показать на главной странице баннеры с актуальными акциями и распродажами, чтобы увеличить конверсию           \n",
       "8  Запустить акцию, дающую скидку на товар в день рождения                                                        \n",
       "3  Изменить структура категорий, что увеличит конверсию, т.к. пользователи быстрее найдут нужный товар            \n",
       "1  Запустить собственную службу доставки, что сократит срок доставки заказов                                      \n",
       "5  Добавить страницу отзывов клиентов о магазине, что позволит увеличить количество заказов                       \n",
       "4  Изменить цвет фона главной страницы, чтобы увеличить вовлеченность пользователей                               \n",
       "\n",
       "   Reach  Impact  Confidence  Efforts   ICE   RICE  \n",
       "7  10     7       8           5        11.2  112.0  \n",
       "2  8      3       7           3        7.0   56.0   \n",
       "0  3      10      8           6        13.3  40.0   \n",
       "6  5      3       8           3        8.0   40.0   \n",
       "8  1      9       9           5        16.2  16.2   \n",
       "3  8      3       3           8        1.1   9.0    \n",
       "1  2      5       4           10       2.0   4.0    \n",
       "5  3      2       2           3        1.3   4.0    \n",
       "4  3      1       1           1        1.0   3.0    "
      ]
     },
     "metadata": {},
     "output_type": "display_data"
    }
   ],
   "source": [
    "hypothesis['RICE'] = hypothesis['Reach'] * hypothesis['Impact'] * hypothesis['Confidence'] / hypothesis['Efforts']\n",
    "display(hypothesis.sort_values(by='RICE', ascending=False))"
   ]
  },
  {
   "cell_type": "markdown",
   "metadata": {},
   "source": [
    "## Вывод"
   ]
  },
  {
   "cell_type": "markdown",
   "metadata": {},
   "source": [
    "При применении параметра ICE or RICE результат меняется линейно на величину параметра Reach. Приоритезация изменилась: там где больше параметр Reach, там выше приоритет гипотезы.\n",
    "\n",
    "По модели ICE приоритетными оказались гипотезы №8, 0, 7. По модели RICE гипотезы №7, 2, 0. Как видно, гипотезы №7 и №0 стоит рассмотреть в первую очередь. Гипотеза №8 по модели RICE упала с 1 на 5 место."
   ]
  },
  {
   "cell_type": "markdown",
   "metadata": {},
   "source": [
    "# Анализ A/B-теста\n",
    "\n",
    "- Постройте график кумулятивной выручки по группам. Сделайте выводы и предположения.\n",
    "- Постройте график кумулятивного среднего чека по группам. Сделайте выводы и предположения.\n",
    "- Постройте график относительного изменения кумулятивного среднего чека группы B к группе A. Сделайте выводы и предположения.\n",
    "- Постройте график кумулятивного среднего количества заказов на посетителя по группам. Сделайте выводы и предположения.\n",
    "- Постройте график относительного изменения кумулятивного среднего количества заказов на посетителя группы B к группе A. Сделайте выводы и предположения.\n",
    "- Постройте точечный график количества заказов по пользователям. Сделайте выводы и предположения.\n",
    "- Посчитайте 95-й и 99-й перцентили количества заказов на пользователя. Выберите границу для определения аномальных пользователей.\n",
    "- Постройте точечный график стоимостей заказов. Сделайте выводы и предположения.\n",
    "- Посчитайте 95-й и 99-й перцентили стоимости заказов. Выберите границу для определения аномальных заказов.\n",
    "- Посчитайте статистическую значимость различий в среднем количестве заказов на посетителя между группами по «сырым» данным. Сделайте выводы и предположения.\n",
    "- Посчитайте статистическую значимость различий в среднем чеке заказа между группами по «сырым» данным. Сделайте выводы и предположения.\n",
    "- Посчитайте статистическую значимость различий в среднем количестве заказов на посетителя между группами по «очищенным» данным. Сделайте выводы и предположения.\n",
    "- Посчитайте статистическую значимость различий в среднем чеке заказа между группами по «очищенным» данным. Сделайте выводы и предположения.\n",
    "- Примите решение по результатам теста и объясните его. Варианты решений:\n",
    "    1. Остановить тест, зафиксировать победу одной из групп.\n",
    "    2. Остановить тест, зафиксировать отсутствие различий между группами.\n",
    "    3. Продолжить тест."
   ]
  },
  {
   "cell_type": "markdown",
   "metadata": {},
   "source": [
    "## Постройте график кумулятивной выручки по группам. Сделайте выводы и предположения."
   ]
  },
  {
   "cell_type": "code",
   "execution_count": 23,
   "metadata": {
    "ExecuteTime": {
     "end_time": "2023-03-01T20:04:09.562781Z",
     "start_time": "2023-03-01T20:04:09.536790Z"
    }
   },
   "outputs": [
    {
     "data": {
      "text/html": [
       "<td style=\"vertical-align:top\"><h3><center>orders<center></h3><table border=\"1\" class=\"dataframe\">\n",
       "  <thead>\n",
       "    <tr style=\"text-align: right;\">\n",
       "      <th></th>\n",
       "      <th>transactionId</th>\n",
       "      <th>visitorId</th>\n",
       "      <th>date</th>\n",
       "      <th>revenue</th>\n",
       "      <th>group</th>\n",
       "    </tr>\n",
       "  </thead>\n",
       "  <tbody>\n",
       "    <tr>\n",
       "      <th>0</th>\n",
       "      <td>3667963787</td>\n",
       "      <td>3312258926</td>\n",
       "      <td>2019-08-15</td>\n",
       "      <td>1650</td>\n",
       "      <td>B</td>\n",
       "    </tr>\n",
       "    <tr>\n",
       "      <th>1</th>\n",
       "      <td>2804400009</td>\n",
       "      <td>3642806036</td>\n",
       "      <td>2019-08-15</td>\n",
       "      <td>730</td>\n",
       "      <td>B</td>\n",
       "    </tr>\n",
       "    <tr>\n",
       "      <th>2</th>\n",
       "      <td>2961555356</td>\n",
       "      <td>4069496402</td>\n",
       "      <td>2019-08-15</td>\n",
       "      <td>400</td>\n",
       "      <td>A</td>\n",
       "    </tr>\n",
       "    <tr>\n",
       "      <th>3</th>\n",
       "      <td>3797467345</td>\n",
       "      <td>1196621759</td>\n",
       "      <td>2019-08-15</td>\n",
       "      <td>9759</td>\n",
       "      <td>B</td>\n",
       "    </tr>\n",
       "    <tr>\n",
       "      <th>4</th>\n",
       "      <td>2282983706</td>\n",
       "      <td>2322279887</td>\n",
       "      <td>2019-08-15</td>\n",
       "      <td>2308</td>\n",
       "      <td>B</td>\n",
       "    </tr>\n",
       "  </tbody>\n",
       "</table><td style=\"vertical-align:top\"><h3><center>visitors<center></h3><table border=\"1\" class=\"dataframe\">\n",
       "  <thead>\n",
       "    <tr style=\"text-align: right;\">\n",
       "      <th></th>\n",
       "      <th>date</th>\n",
       "      <th>group</th>\n",
       "      <th>visitors</th>\n",
       "    </tr>\n",
       "  </thead>\n",
       "  <tbody>\n",
       "    <tr>\n",
       "      <th>0</th>\n",
       "      <td>2019-08-01</td>\n",
       "      <td>A</td>\n",
       "      <td>719</td>\n",
       "    </tr>\n",
       "    <tr>\n",
       "      <th>1</th>\n",
       "      <td>2019-08-02</td>\n",
       "      <td>A</td>\n",
       "      <td>619</td>\n",
       "    </tr>\n",
       "    <tr>\n",
       "      <th>2</th>\n",
       "      <td>2019-08-03</td>\n",
       "      <td>A</td>\n",
       "      <td>507</td>\n",
       "    </tr>\n",
       "    <tr>\n",
       "      <th>3</th>\n",
       "      <td>2019-08-04</td>\n",
       "      <td>A</td>\n",
       "      <td>717</td>\n",
       "    </tr>\n",
       "    <tr>\n",
       "      <th>4</th>\n",
       "      <td>2019-08-05</td>\n",
       "      <td>A</td>\n",
       "      <td>756</td>\n",
       "    </tr>\n",
       "  </tbody>\n",
       "</table>"
      ]
     },
     "metadata": {},
     "output_type": "display_data"
    }
   ],
   "source": [
    "columns = ['orders', 'visitors']\n",
    "\n",
    "display_side_by_side(\n",
    "    orders.head(),\n",
    "    visitors.head(),\n",
    "    titles=columns  \n",
    ")"
   ]
  },
  {
   "cell_type": "code",
   "execution_count": 24,
   "metadata": {
    "ExecuteTime": {
     "end_time": "2023-03-01T20:04:10.134209Z",
     "start_time": "2023-03-01T20:04:09.565790Z"
    }
   },
   "outputs": [
    {
     "data": {
      "text/html": [
       "<div>\n",
       "<style scoped>\n",
       "    .dataframe tbody tr th:only-of-type {\n",
       "        vertical-align: middle;\n",
       "    }\n",
       "\n",
       "    .dataframe tbody tr th {\n",
       "        vertical-align: top;\n",
       "    }\n",
       "\n",
       "    .dataframe thead th {\n",
       "        text-align: right;\n",
       "    }\n",
       "</style>\n",
       "<table border=\"1\" class=\"dataframe\">\n",
       "  <thead>\n",
       "    <tr style=\"text-align: right;\">\n",
       "      <th></th>\n",
       "      <th>date</th>\n",
       "      <th>group</th>\n",
       "      <th>buyers</th>\n",
       "      <th>orders</th>\n",
       "      <th>revenue</th>\n",
       "      <th>visitors</th>\n",
       "    </tr>\n",
       "  </thead>\n",
       "  <tbody>\n",
       "    <tr>\n",
       "      <th>0</th>\n",
       "      <td>2019-08-01</td>\n",
       "      <td>A</td>\n",
       "      <td>20</td>\n",
       "      <td>24</td>\n",
       "      <td>148579</td>\n",
       "      <td>719</td>\n",
       "    </tr>\n",
       "    <tr>\n",
       "      <th>1</th>\n",
       "      <td>2019-08-01</td>\n",
       "      <td>B</td>\n",
       "      <td>20</td>\n",
       "      <td>21</td>\n",
       "      <td>101217</td>\n",
       "      <td>713</td>\n",
       "    </tr>\n",
       "    <tr>\n",
       "      <th>2</th>\n",
       "      <td>2019-08-02</td>\n",
       "      <td>A</td>\n",
       "      <td>38</td>\n",
       "      <td>44</td>\n",
       "      <td>242401</td>\n",
       "      <td>1338</td>\n",
       "    </tr>\n",
       "    <tr>\n",
       "      <th>3</th>\n",
       "      <td>2019-08-02</td>\n",
       "      <td>B</td>\n",
       "      <td>43</td>\n",
       "      <td>45</td>\n",
       "      <td>266748</td>\n",
       "      <td>1294</td>\n",
       "    </tr>\n",
       "    <tr>\n",
       "      <th>4</th>\n",
       "      <td>2019-08-03</td>\n",
       "      <td>A</td>\n",
       "      <td>62</td>\n",
       "      <td>68</td>\n",
       "      <td>354874</td>\n",
       "      <td>1845</td>\n",
       "    </tr>\n",
       "  </tbody>\n",
       "</table>\n",
       "</div>"
      ],
      "text/plain": [
       "        date group  buyers  orders  revenue  visitors\n",
       "0 2019-08-01  A     20      24      148579   719     \n",
       "1 2019-08-01  B     20      21      101217   713     \n",
       "2 2019-08-02  A     38      44      242401   1338    \n",
       "3 2019-08-02  B     43      45      266748   1294    \n",
       "4 2019-08-03  A     62      68      354874   1845    "
      ]
     },
     "metadata": {},
     "output_type": "display_data"
    }
   ],
   "source": [
    "cumulativeData = cumulative_data(orders, visitors)"
   ]
  },
  {
   "cell_type": "code",
   "execution_count": 25,
   "metadata": {
    "ExecuteTime": {
     "end_time": "2023-03-01T20:04:10.466359Z",
     "start_time": "2023-03-01T20:04:10.137118Z"
    }
   },
   "outputs": [
    {
     "data": {
      "image/png": "[encoded data removed]",
      "text/plain": [
       "<Figure size 1080x504 with 1 Axes>"
      ]
     },
     "metadata": {
      "needs_background": "light"
     },
     "output_type": "display_data"
    }
   ],
   "source": [
    "cumulative_calculation(cumulativeData, flag=0)"
   ]
  },
  {
   "cell_type": "markdown",
   "metadata": {},
   "source": [
    "Прибыль растет в течение всего рассматриваемого периода. В группе В прибыль растет быстрее группы А на протяжении всего периода.\n",
    "\n",
    "В некоторых точках видны всплески. Ярко заметно по группе В. Видимо выросло количество заказов или произошел аномальный всплеск. В дальнейшем нужно будет детальнее остановиться на этом моменте."
   ]
  },
  {
   "cell_type": "markdown",
   "metadata": {},
   "source": [
    "## Постройте график кумулятивного среднего чека по группам. Сделайте выводы и предположения."
   ]
  },
  {
   "cell_type": "code",
   "execution_count": 26,
   "metadata": {
    "ExecuteTime": {
     "end_time": "2023-03-01T20:04:10.817904Z",
     "start_time": "2023-03-01T20:04:10.473362Z"
    }
   },
   "outputs": [
    {
     "data": {
      "image/png": "[encoded data removed]",
      "text/plain": [
       "<Figure size 1080x504 with 1 Axes>"
      ]
     },
     "metadata": {
      "needs_background": "light"
     },
     "output_type": "display_data"
    }
   ],
   "source": [
    "cumulative_calculation(cumulativeData, flag=1) "
   ]
  },
  {
   "cell_type": "markdown",
   "metadata": {},
   "source": [
    "Кумулятивный средний чек вырос неравномерно. \n",
    "\n",
    "Для группы А заметно падение с последующим ростом и выходом на плато. Половину периода накопление среднего чека не росло.\n",
    "\n",
    "Для группы В другая ситуация. Первая половина периода прошла неравномерным ростом, а во второй половине произошел резкий всплеск. Это может говорить только о попадании крупного заказа. Затем средний чек падает, то есть большие поставки есть, но они стали уменьшаться.\n",
    "\n",
    "Накопление среднего чека в обоих группах неравномерное. Необходимо больше данных для того, чтобы график среднего чека установился на определенном уровне."
   ]
  },
  {
   "cell_type": "markdown",
   "metadata": {},
   "source": [
    "## Постройте график относительного изменения кумулятивного среднего чека группы B к группе A. Сделайте выводы и предположения."
   ]
  },
  {
   "cell_type": "code",
   "execution_count": 27,
   "metadata": {
    "ExecuteTime": {
     "end_time": "2023-03-01T20:04:11.166805Z",
     "start_time": "2023-03-01T20:04:10.822903Z"
    }
   },
   "outputs": [
    {
     "name": "stderr",
     "output_type": "stream",
     "text": [
      "No handles with labels found to put in legend.\n"
     ]
    },
    {
     "data": {
      "image/png": "[encoded data removed]",
      "text/plain": [
       "<Figure size 1080x504 with 1 Axes>"
      ]
     },
     "metadata": {
      "needs_background": "light"
     },
     "output_type": "display_data"
    }
   ],
   "source": [
    "cumulative_calculation(cumulativeData, flag=2)"
   ]
  },
  {
   "cell_type": "markdown",
   "metadata": {},
   "source": [
    "Относительное изменение кумулятивного среднего чека группы В к группе А резко скачет. Существуют большие различия по заказам между группами - есть аномалии и крупные заказы. С ними надо будет работать."
   ]
  },
  {
   "cell_type": "markdown",
   "metadata": {},
   "source": [
    "## Постройте график кумулятивного среднего количества заказов на посетителя по группам. Сделайте выводы и предположения."
   ]
  },
  {
   "cell_type": "code",
   "execution_count": 28,
   "metadata": {
    "ExecuteTime": {
     "end_time": "2023-03-01T20:04:11.494808Z",
     "start_time": "2023-03-01T20:04:11.169811Z"
    }
   },
   "outputs": [
    {
     "data": {
      "image/png": "[encoded data removed]",
      "text/plain": [
       "<Figure size 1080x504 with 1 Axes>"
      ]
     },
     "metadata": {
      "needs_background": "light"
     },
     "output_type": "display_data"
    }
   ],
   "source": [
    "cumulative_calculation(cumulativeData, flag=3)"
   ]
  },
  {
   "cell_type": "markdown",
   "metadata": {},
   "source": [
    "График кумулятивного среднего количества заказов на посетителя по группа отличается. Для группы А он резко падает и устаканивается на плато. \n",
    "\n",
    "У группы В немного другая ситуация. Видны резкие колебания в первую неделю, но затем произошла стабилизация с небольшим наклоном в сторону уменьшения среднего количества заказов на посетителя. При этом в группе В стабильно выше эта метрика относительно группы А.\n",
    "\n",
    "Смущают резкие всплески в первую неделю. Должно быть что-то было не так с тестированием. Возможно было вмешательство каких-то внешних факторов, которые повлияли на наше исследование. \n",
    "\n",
    "Предполагаю, что были проблемы с А/А-тестированием, возможно выборки были неправильно подобраны."
   ]
  },
  {
   "cell_type": "markdown",
   "metadata": {},
   "source": [
    "## Постройте график относительного изменения кумулятивного среднего количества заказов на посетителя группы B к группе A. Сделайте выводы и предположения."
   ]
  },
  {
   "cell_type": "code",
   "execution_count": 29,
   "metadata": {
    "ExecuteTime": {
     "end_time": "2023-03-01T20:04:11.837802Z",
     "start_time": "2023-03-01T20:04:11.498812Z"
    }
   },
   "outputs": [
    {
     "name": "stderr",
     "output_type": "stream",
     "text": [
      "No handles with labels found to put in legend.\n"
     ]
    },
    {
     "data": {
      "image/png": "[encoded data removed]",
      "text/plain": [
       "<Figure size 1080x504 with 1 Axes>"
      ]
     },
     "metadata": {
      "needs_background": "light"
     },
     "output_type": "display_data"
    }
   ],
   "source": [
    "cumulative_calculation(cumulativeData, flag=4)"
   ]
  },
  {
   "cell_type": "markdown",
   "metadata": {},
   "source": [
    "Относительное изменение кумулятивного среднего количества заказов на посетителя группы В к группе А неравномерно растет, заметен высокий рост в первую неделю. График в целом повторяет предыдущий визуал (похож).\n",
    "\n",
    "Метрика лучше в группе В практически на всем рассматриваемом периоде, кроме первых 6 дней. К концу периода заметно снижение роста и выход на плато."
   ]
  },
  {
   "cell_type": "markdown",
   "metadata": {},
   "source": [
    "## Постройте точечный график количества заказов по пользователям. Сделайте выводы и предположения."
   ]
  },
  {
   "cell_type": "code",
   "execution_count": 30,
   "metadata": {
    "ExecuteTime": {
     "end_time": "2023-03-01T20:04:11.869353Z",
     "start_time": "2023-03-01T20:04:11.840810Z"
    }
   },
   "outputs": [
    {
     "data": {
      "text/html": [
       "<td style=\"vertical-align:top\"><h3><center>orders<center></h3><table border=\"1\" class=\"dataframe\">\n",
       "  <thead>\n",
       "    <tr style=\"text-align: right;\">\n",
       "      <th></th>\n",
       "      <th>transactionId</th>\n",
       "      <th>visitorId</th>\n",
       "      <th>date</th>\n",
       "      <th>revenue</th>\n",
       "      <th>group</th>\n",
       "    </tr>\n",
       "  </thead>\n",
       "  <tbody>\n",
       "    <tr>\n",
       "      <th>0</th>\n",
       "      <td>3667963787</td>\n",
       "      <td>3312258926</td>\n",
       "      <td>2019-08-15</td>\n",
       "      <td>1650</td>\n",
       "      <td>B</td>\n",
       "    </tr>\n",
       "    <tr>\n",
       "      <th>1</th>\n",
       "      <td>2804400009</td>\n",
       "      <td>3642806036</td>\n",
       "      <td>2019-08-15</td>\n",
       "      <td>730</td>\n",
       "      <td>B</td>\n",
       "    </tr>\n",
       "    <tr>\n",
       "      <th>2</th>\n",
       "      <td>2961555356</td>\n",
       "      <td>4069496402</td>\n",
       "      <td>2019-08-15</td>\n",
       "      <td>400</td>\n",
       "      <td>A</td>\n",
       "    </tr>\n",
       "    <tr>\n",
       "      <th>3</th>\n",
       "      <td>3797467345</td>\n",
       "      <td>1196621759</td>\n",
       "      <td>2019-08-15</td>\n",
       "      <td>9759</td>\n",
       "      <td>B</td>\n",
       "    </tr>\n",
       "    <tr>\n",
       "      <th>4</th>\n",
       "      <td>2282983706</td>\n",
       "      <td>2322279887</td>\n",
       "      <td>2019-08-15</td>\n",
       "      <td>2308</td>\n",
       "      <td>B</td>\n",
       "    </tr>\n",
       "  </tbody>\n",
       "</table><td style=\"vertical-align:top\"><h3><center>visitors<center></h3><table border=\"1\" class=\"dataframe\">\n",
       "  <thead>\n",
       "    <tr style=\"text-align: right;\">\n",
       "      <th></th>\n",
       "      <th>date</th>\n",
       "      <th>group</th>\n",
       "      <th>visitors</th>\n",
       "    </tr>\n",
       "  </thead>\n",
       "  <tbody>\n",
       "    <tr>\n",
       "      <th>0</th>\n",
       "      <td>2019-08-01</td>\n",
       "      <td>A</td>\n",
       "      <td>719</td>\n",
       "    </tr>\n",
       "    <tr>\n",
       "      <th>1</th>\n",
       "      <td>2019-08-02</td>\n",
       "      <td>A</td>\n",
       "      <td>619</td>\n",
       "    </tr>\n",
       "    <tr>\n",
       "      <th>2</th>\n",
       "      <td>2019-08-03</td>\n",
       "      <td>A</td>\n",
       "      <td>507</td>\n",
       "    </tr>\n",
       "    <tr>\n",
       "      <th>3</th>\n",
       "      <td>2019-08-04</td>\n",
       "      <td>A</td>\n",
       "      <td>717</td>\n",
       "    </tr>\n",
       "    <tr>\n",
       "      <th>4</th>\n",
       "      <td>2019-08-05</td>\n",
       "      <td>A</td>\n",
       "      <td>756</td>\n",
       "    </tr>\n",
       "  </tbody>\n",
       "</table>"
      ]
     },
     "metadata": {},
     "output_type": "display_data"
    }
   ],
   "source": [
    "columns = ['orders', 'visitors']\n",
    "\n",
    "display_side_by_side(\n",
    "    orders.head(),\n",
    "    visitors.head(),\n",
    "    titles=columns  \n",
    ")"
   ]
  },
  {
   "cell_type": "code",
   "execution_count": 31,
   "metadata": {
    "ExecuteTime": {
     "end_time": "2023-03-01T20:04:11.901354Z",
     "start_time": "2023-03-01T20:04:11.873363Z"
    }
   },
   "outputs": [],
   "source": [
    "orders_agg = (\n",
    "    orders\n",
    "    .groupby(by=['visitorId'])\n",
    "    .agg({'transactionId': 'count'})\n",
    "    .rename(columns={'transactionId': 'orders_cnt'})\n",
    "    .reset_index()\n",
    ")"
   ]
  },
  {
   "cell_type": "code",
   "execution_count": 32,
   "metadata": {
    "ExecuteTime": {
     "end_time": "2023-03-01T20:04:12.092610Z",
     "start_time": "2023-03-01T20:04:11.905359Z"
    }
   },
   "outputs": [
    {
     "data": {
      "image/png": "[encoded data removed]",
      "text/plain": [
       "<Figure size 1080x504 with 1 Axes>"
      ]
     },
     "metadata": {
      "needs_background": "light"
     },
     "output_type": "display_data"
    }
   ],
   "source": [
    "plt.figure(figsize=(15, 7))\n",
    "\n",
    "x_values = pd.Series(range(0, len(orders_agg['orders_cnt'])))\n",
    "plt.scatter(x_values, orders_agg['orders_cnt'])\n",
    "\n",
    "plt.title('\\n График количества заказов по пользователям \\n', fontsize=20)\n",
    "plt.ylabel('Количество заказов', fontsize=15)\n",
    "plt.xlabel('Индекс пользователя', fontsize=15)\n",
    "\n",
    "plt.xticks(np.arange(min(x_values), max(x_values), 100))\n",
    "plt.xticks(fontsize=15)\n",
    "plt.yticks(np.arange(min(orders_agg['orders_cnt']) - 1, max(orders_agg['orders_cnt']) + 2, 1))\n",
    "plt.yticks(fontsize=15)\n",
    "plt.grid()\n",
    "plt.show()"
   ]
  },
  {
   "cell_type": "markdown",
   "metadata": {},
   "source": [
    "Как и предполагалось в количестве заказов есть аномальные значения. Кто-то делал 8, 9 и даже 11 заказов. Граница отсечения по количеству заказов на графике должна располагаться где-то примерно между 3 и 4."
   ]
  },
  {
   "cell_type": "markdown",
   "metadata": {},
   "source": [
    "## Посчитайте 95-й и 99-й перцентили количества заказов на пользователя. Выберите границу для определения аномальных пользователей."
   ]
  },
  {
   "cell_type": "code",
   "execution_count": 33,
   "metadata": {
    "ExecuteTime": {
     "end_time": "2023-03-01T20:04:12.107611Z",
     "start_time": "2023-03-01T20:04:12.096614Z"
    }
   },
   "outputs": [
    {
     "name": "stdout",
     "output_type": "stream",
     "text": [
      "[2. 3. 4.]\n"
     ]
    }
   ],
   "source": [
    "print(np.percentile(orders_agg['orders_cnt'], [95, 97.5, 99])) "
   ]
  },
  {
   "cell_type": "markdown",
   "metadata": {},
   "source": [
    "Возьму за опорную границу 97.5%. Расчет персентиля показывает, что можно отсекать значения количества заказов, превышающих 3."
   ]
  },
  {
   "cell_type": "markdown",
   "metadata": {},
   "source": [
    "## Постройте точечный график стоимостей заказов. Сделайте выводы и предположения."
   ]
  },
  {
   "cell_type": "code",
   "execution_count": 34,
   "metadata": {
    "ExecuteTime": {
     "end_time": "2023-03-01T20:04:12.308607Z",
     "start_time": "2023-03-01T20:04:12.110609Z"
    }
   },
   "outputs": [
    {
     "data": {
      "image/png": "[encoded data removed]",
      "text/plain": [
       "<Figure size 1440x360 with 2 Axes>"
      ]
     },
     "metadata": {
      "needs_background": "light"
     },
     "output_type": "display_data"
    }
   ],
   "source": [
    "fig = plt.figure(figsize=(20, 5))\n",
    "\n",
    "ax1 = plt.subplot(1, 2, 1)\n",
    "\n",
    "x_values = pd.Series(range(0, len(orders['revenue'])))\n",
    "ax1.scatter(x_values, orders['revenue'])\n",
    "\n",
    "plt.title('\\n График стоимости заказов по выручке \\n c аномалиями \\n', fontsize=20)\n",
    "plt.ylabel('Стоимость заказов', fontsize=15)\n",
    "plt.xlabel('Индекс выручки', fontsize=15)\n",
    "\n",
    "plt.xticks(np.arange(min(x_values), max(x_values), 200))\n",
    "plt.xticks(fontsize=15)\n",
    "plt.yticks(fontsize=15)\n",
    "plt.grid()\n",
    "\n",
    "ax2 = plt.subplot(1, 2, 2, sharex=ax1)\n",
    "\n",
    "y_values = orders[orders['revenue'] < 200000]['revenue']\n",
    "x_values = pd.Series(range(0, len(y_values)))\n",
    "\n",
    "ax2.scatter(x_values, y_values)\n",
    "\n",
    "plt.title('\\n График стоимости заказов по выручке \\n без аномалий \\n', fontsize=20)\n",
    "plt.ylabel('Стоимость заказов', fontsize=15)\n",
    "plt.xlabel('Индекс выручки', fontsize=15)\n",
    "\n",
    "plt.xticks(fontsize=15)\n",
    "plt.yticks(fontsize=15)\n",
    "plt.grid()\n",
    "plt.show()"
   ]
  },
  {
   "cell_type": "markdown",
   "metadata": {},
   "source": [
    "В расчете выручки так же есть экстремально аномальное значение. Оно видимо и создавало скачок метрик в группе В. Граница отсечения должна быть меньше 200 000."
   ]
  },
  {
   "cell_type": "markdown",
   "metadata": {},
   "source": [
    "## Посчитайте 95-й и 99-й перцентили стоимости заказов. Выберите границу для определения аномальных заказов."
   ]
  },
  {
   "cell_type": "code",
   "execution_count": 35,
   "metadata": {
    "ExecuteTime": {
     "end_time": "2023-03-01T20:04:12.324620Z",
     "start_time": "2023-03-01T20:04:12.312608Z"
    }
   },
   "outputs": [
    {
     "name": "stdout",
     "output_type": "stream",
     "text": [
      "[28000.  39530.  58233.2]\n"
     ]
    }
   ],
   "source": [
    "print(np.percentile(orders['revenue'], [95, 97.5, 99])) "
   ]
  },
  {
   "cell_type": "markdown",
   "metadata": {},
   "source": [
    "Возьму за опорную границу 97.5%. Расчет персентиля показывает, что можно отсекать значения количества заказов, превышающих 40000."
   ]
  },
  {
   "cell_type": "markdown",
   "metadata": {},
   "source": [
    "## Посчитайте статистическую значимость различий в среднем количестве заказов на посетителя между группами по «сырым» данным. Сделайте выводы и предположения."
   ]
  },
  {
   "cell_type": "markdown",
   "metadata": {},
   "source": [
    "Приму за нулевую гипотезу что различие в среднем количестве заказов на посетителя между группами по \"сырым\" данным статистически не значимы. Тогда альтернативная гипотеза заключается в том, что различие значимо.\n",
    "\n",
    "Уровень значимости альфа приму α=0.05"
   ]
  },
  {
   "cell_type": "code",
   "execution_count": 36,
   "metadata": {
    "ExecuteTime": {
     "end_time": "2023-03-01T20:04:12.512603Z",
     "start_time": "2023-03-01T20:04:12.327617Z"
    }
   },
   "outputs": [],
   "source": [
    "ordersByUsersA, ordersByUsersB = orders_by_users(orders)"
   ]
  },
  {
   "cell_type": "code",
   "execution_count": 42,
   "metadata": {
    "ExecuteTime": {
     "end_time": "2023-03-01T20:04:13.287852Z",
     "start_time": "2023-03-01T20:04:12.515609Z"
    }
   },
   "outputs": [
    {
     "name": "stdout",
     "output_type": "stream",
     "text": [
      "Отвергаем нулевую гипотезу: между долями есть значимая разница. p_value=0.017\n",
      "Относительный прирост группы В к группе А >= уровня значимости. p_value=0.138\n"
     ]
    }
   ],
   "source": [
    "sampleA = pd.concat(\n",
    "    [\n",
    "        ordersByUsersA['orders'],\n",
    "        pd.Series(\n",
    "            0,\n",
    "            index = np.arange(\n",
    "                cumulativeData[cumulativeData['group'] == 'A']['visitors'].max() - len(ordersByUsersA['orders'])\n",
    "            ),\n",
    "            name='orders',\n",
    "        ),\n",
    "    ],\n",
    "    axis=0,\n",
    ")\n",
    "\n",
    "sampleB = pd.concat(\n",
    "    [\n",
    "        ordersByUsersB['orders'],\n",
    "        pd.Series(\n",
    "            0,\n",
    "            index = np.arange(\n",
    "                cumulativeData[cumulativeData['group'] == 'B']['visitors'].max() - len(ordersByUsersB['orders'])\n",
    "            ),\n",
    "            name='orders',\n",
    "        ),\n",
    "    ],\n",
    "    axis=0,\n",
    ")\n",
    "\n",
    "statistical_significance(sampleA, sampleB)"
   ]
  },
  {
   "cell_type": "markdown",
   "metadata": {},
   "source": [
    "p_value=1.7%, это меньше заданного уровня значимости. Нулевую гипотезу отвергаем. Разница между выборками имеет значимый характер. Следовательно можно утверждать, что разница в среднем количестве заказов на посетителя между группами есть. Тот результат, который имеет на графике не может быть получен случайно.\n",
    "\n",
    "Относительный прирост группы В по среднему количеству заказов на посетителя составил 13.8%."
   ]
  },
  {
   "cell_type": "markdown",
   "metadata": {},
   "source": [
    "## Посчитайте статистическую значимость различий в среднем чеке заказа между группами по «сырым» данным. Сделайте выводы и предположения."
   ]
  },
  {
   "cell_type": "markdown",
   "metadata": {},
   "source": [
    "Приму за нулевую гипотезу что разница в среднем чеке заказа между группами по \"сырым\" данным статистически не значима. Тогда альтернативная гипотеза заключается в том, что разница значима.\n",
    "\n",
    "Уровень значимости альфа α=0.05"
   ]
  },
  {
   "cell_type": "code",
   "execution_count": 38,
   "metadata": {
    "ExecuteTime": {
     "end_time": "2023-03-01T20:04:13.318398Z",
     "start_time": "2023-03-01T20:04:13.290857Z"
    }
   },
   "outputs": [
    {
     "name": "stdout",
     "output_type": "stream",
     "text": [
      "Не получилось отвергнуть нулевую гипотезу, нет оснований считать доли разными. p_value=0.729\n",
      "Относительный прирост группы В к группе А >= уровня значимости. p_value=0.259\n"
     ]
    }
   ],
   "source": [
    "sampleA = orders[orders['group']=='A']['revenue']\n",
    "sampleB = orders[orders['group']=='B']['revenue']\n",
    "\n",
    "statistical_significance(sampleA, sampleB)"
   ]
  },
  {
   "cell_type": "markdown",
   "metadata": {},
   "source": [
    "Не получилось отвергнуть нулевую гипотезу. Разница между выборками имеет случайный характер. \n",
    "\n",
    "Относительный прирост группы В по среднему чеку заказа составил 26%."
   ]
  },
  {
   "cell_type": "markdown",
   "metadata": {},
   "source": [
    "## Посчитайте статистическую значимость различий в среднем количестве заказов на посетителя между группами по «очищенным» данным. Сделайте выводы и предположения."
   ]
  },
  {
   "cell_type": "markdown",
   "metadata": {},
   "source": [
    "Примем за аномальных пользователей тех, кто совершил от 3 заказов или совершил заказ дороже 40 000 рублей. Так мы уберём 2.5% пользователей с наибольшим числом заказов и 2.5% пользователей с дорогими заказами.\n",
    "\n",
    "Сделаем срезы пользователей с числом заказов больше 3 — usersWithManyOrders и пользователей, совершивших заказы дороже 40 000 — usersWithExpensiveOrders. Объединим их в таблице abnormalUsers."
   ]
  },
  {
   "cell_type": "code",
   "execution_count": 39,
   "metadata": {
    "ExecuteTime": {
     "end_time": "2023-03-01T20:04:13.349402Z",
     "start_time": "2023-03-01T20:04:13.323402Z"
    }
   },
   "outputs": [
    {
     "name": "stdout",
     "output_type": "stream",
     "text": [
      "1099    148427295\n",
      "18      199603092\n",
      "23      237748145\n",
      "684     358944393\n",
      "648     382846391\n",
      "dtype: int64\n",
      "34\n"
     ]
    }
   ],
   "source": [
    "usersWithManyOrders = pd.concat(\n",
    "    [\n",
    "        ordersByUsersA[ordersByUsersA['orders'] > 3]['userId'],\n",
    "        ordersByUsersB[ordersByUsersB['orders'] > 3]['userId'],\n",
    "    ],\n",
    "    axis=0,\n",
    ")\n",
    "\n",
    "usersWithExpensiveOrders = orders[orders['revenue'] > 40000]['visitorId']\n",
    "\n",
    "abnormalUsers = (\n",
    "    pd.concat([usersWithManyOrders, usersWithExpensiveOrders], axis=0)\n",
    "    .drop_duplicates()\n",
    "    .sort_values()\n",
    ")\n",
    "print(abnormalUsers.head(5))\n",
    "print(abnormalUsers.shape[0])"
   ]
  },
  {
   "cell_type": "markdown",
   "metadata": {},
   "source": [
    "Всего 34 аномальных userId в нашем датасете."
   ]
  },
  {
   "cell_type": "markdown",
   "metadata": {},
   "source": [
    "Приму за нулевую гипотезу что разница в среднем количестве заказов на посетителя между группами по \"сырым\" данным статистически не значима. Тогда альтернативная гипотеза заключается в том, что разница значима.\n",
    "\n",
    "Уровень значимости альфа α=0.05"
   ]
  },
  {
   "cell_type": "code",
   "execution_count": 43,
   "metadata": {
    "ExecuteTime": {
     "end_time": "2023-03-01T20:04:14.180865Z",
     "start_time": "2023-03-01T20:04:13.352408Z"
    }
   },
   "outputs": [
    {
     "name": "stdout",
     "output_type": "stream",
     "text": [
      "Отвергаем нулевую гипотезу: между долями есть значимая разница. p_value=0.009\n",
      "Относительный прирост группы В к группе А >= уровня значимости. p_value=0.164\n"
     ]
    }
   ],
   "source": [
    "sampleAFiltered = pd.concat(\n",
    "    [\n",
    "        ordersByUsersA[\n",
    "            np.logical_not(ordersByUsersA['userId'].isin(abnormalUsers))\n",
    "        ]['orders'],\n",
    "        pd.Series(\n",
    "            0,\n",
    "            index=np.arange(\n",
    "                cumulativeData[cumulativeData['group'] == 'A']['visitors'].max() - len(ordersByUsersA['orders'])\n",
    "            ),\n",
    "            name='orders',\n",
    "        ),\n",
    "    ],\n",
    "    axis=0,\n",
    ")\n",
    "\n",
    "sampleBFiltered = pd.concat(\n",
    "    [\n",
    "        ordersByUsersB[\n",
    "            np.logical_not(ordersByUsersB['userId'].isin(abnormalUsers))\n",
    "        ]['orders'],\n",
    "        pd.Series(\n",
    "            0,\n",
    "            index=np.arange(\n",
    "                cumulativeData[cumulativeData['group'] == 'B']['visitors'].max() - len(ordersByUsersB['orders'])\n",
    "            ),\n",
    "            name='orders',\n",
    "        ),\n",
    "    ],\n",
    "    axis=0,\n",
    ")\n",
    "\n",
    "statistical_significance(sampleAFiltered, sampleBFiltered)"
   ]
  },
  {
   "cell_type": "markdown",
   "metadata": {},
   "source": [
    "Аномалии особо не повлияли на статистическую значимость. По очищенным данным p_value уменьшился с 1.7%% до 0.9%.\n",
    "\n",
    "Относительный прирост группы В к группе А увеличился с 13.8% до 16.4%"
   ]
  },
  {
   "cell_type": "markdown",
   "metadata": {},
   "source": [
    "## Посчитайте статистическую значимость различий в среднем чеке заказа между группами по «очищенным» данным. Сделайте выводы и предположения."
   ]
  },
  {
   "cell_type": "markdown",
   "metadata": {},
   "source": [
    "Узнаем, как их действия повлияли на результаты теста. Посчитаем статистическую значимость различий в среднем чеке заказа между группами теста по \"очищенным\" данным. Сначала подготовим выборки по группам теста:"
   ]
  },
  {
   "cell_type": "code",
   "execution_count": 41,
   "metadata": {
    "ExecuteTime": {
     "end_time": "2023-03-01T20:04:14.211858Z",
     "start_time": "2023-03-01T20:04:14.185867Z"
    }
   },
   "outputs": [
    {
     "name": "stdout",
     "output_type": "stream",
     "text": [
      "Не получилось отвергнуть нулевую гипотезу, нет оснований считать доли разными. p_value=0.711\n",
      "Относительный прирост группы В к группе А >= уровня значимости. p_value=0.06\n"
     ]
    }
   ],
   "source": [
    "sampleAFiltered = orders[\n",
    "    np.logical_not(orders['visitorId'].isin(abnormalUsers)) & (orders['group'] == 'A')\n",
    "]['revenue']\n",
    "\n",
    "sampleBFiltered = orders[\n",
    "    np.logical_not(orders['visitorId'].isin(abnormalUsers)) & (orders['group'] == 'B')\n",
    "]['revenue']\n",
    "\n",
    "statistical_significance(sampleAFiltered, sampleBFiltered)"
   ]
  },
  {
   "cell_type": "markdown",
   "metadata": {},
   "source": [
    "Статистической разницы между \"очищенными\" и \"сырыми\" данными нет. p_value уменьшился с 72.9% до 71.1%\n",
    "\n",
    "Относительный прирост группы В к группе А уменьшился с 26% до 6%"
   ]
  },
  {
   "cell_type": "markdown",
   "metadata": {},
   "source": [
    "## Примите решение по результатам теста и объясните его. "
   ]
  },
  {
   "cell_type": "markdown",
   "metadata": {},
   "source": [
    "По графикам кумулятивного расчета:\n",
    "- Прибыль неравномерно растет в течение всего рассматриваемого периода\n",
    "- Кумулятивный средний чек вырос неравномерно\n",
    "- График кумулятивного среднего количества заказов на посетителя по группам показателен. По группе А падает с выходом на плато, но на всем периоде больше стабильно растущей метрики по группе В. Это толстый намек на ошибку при А/А тестировании\n",
    "\n",
    "Оценил наличие аномалий в данных.\n",
    "\n",
    "Посчитал статистическую значимость различий в среднем чеке заказа между группами по «очищенным» и \"сырым\" данным:\n",
    "- Статистической разницы между \"очищенными\" и \"сырыми\" данными нет. p_value уменьшился с 72.9% до 71.1%\n",
    "- Относительный прирост группы В к группе А уменьшился с 26% до 6%\n",
    "\n",
    "Посчитал статистическую значимость различий в среднем количестве заказов на посетителя между группами по «очищенным» и \"сырым\" данным:\n",
    "- Аномалии особо не повлияли на статистическую значимость. По очищенным данным p_value уменьшился с 1.7% до 0.9%\n",
    "- Относительный прирост группы В к группе А увеличился с 13.8% до 16.4%"
   ]
  },
  {
   "cell_type": "markdown",
   "metadata": {},
   "source": [
    "Имеющиеся факты:\n",
    "- Есть статистически значимое различие по среднему количеству заказов между группами и по «сырым», и по данным после фильтрации аномалий;\n",
    "- Нет статистически значимого различия по среднему чеку между группами ни по «сырым», ни по данным после фильтрации аномалий;\n",
    "- График различия среднего количества заказов между группами сообщает, что результаты группы B лучше группы A, но есть небольшая тенденция к ухудшению. \n",
    "- График различия среднего чека говорит о том, что результаты группы B имеет резкие колебания в течение всего периода\n",
    "\n",
    "По результатам исследования, можно утверждать, что различия среднего количества заказов между группами имеют статистическую значимость. То есть разница получена не случайным образом, а она действительно есть. Таким образом, количество заказов увеличилось, а средний чек остался прежним. Выручка увеличивается. \n",
    "\n",
    "Исходя из обнаруженных фактов, тест следует остановить и признать успешным. "
   ]
  }
 ],
 "metadata": {
  "ExecuteTimeLog": [
   {
    "duration": 604,
    "start_time": "2023-02-01T20:39:28.993Z"
   },
   {
    "duration": 6,
    "start_time": "2023-02-01T20:39:29.599Z"
   },
   {
    "duration": 11,
    "start_time": "2023-02-01T20:39:29.606Z"
   },
   {
    "duration": 948,
    "start_time": "2023-02-01T20:39:29.619Z"
   },
   {
    "duration": 609,
    "start_time": "2023-02-01T20:39:30.569Z"
   },
   {
    "duration": 832,
    "start_time": "2023-02-01T20:39:31.180Z"
   },
   {
    "duration": 139,
    "start_time": "2023-02-01T20:39:32.014Z"
   },
   {
    "duration": 42,
    "start_time": "2023-02-01T20:39:32.155Z"
   },
   {
    "duration": 13,
    "start_time": "2023-02-01T20:39:32.199Z"
   },
   {
    "duration": 42,
    "start_time": "2023-02-01T20:39:32.215Z"
   },
   {
    "duration": 5,
    "start_time": "2023-02-01T20:39:32.258Z"
   },
   {
    "duration": 31,
    "start_time": "2023-02-01T20:39:32.264Z"
   },
   {
    "duration": 9,
    "start_time": "2023-02-01T20:39:32.296Z"
   },
   {
    "duration": 17,
    "start_time": "2023-02-01T20:39:32.306Z"
   },
   {
    "duration": 152,
    "start_time": "2023-02-01T20:39:32.324Z"
   },
   {
    "duration": 7,
    "start_time": "2023-02-01T20:39:32.478Z"
   },
   {
    "duration": 20,
    "start_time": "2023-02-01T20:39:32.487Z"
   },
   {
    "duration": 12,
    "start_time": "2023-02-01T20:39:32.509Z"
   },
   {
    "duration": 17,
    "start_time": "2023-02-01T20:39:32.523Z"
   },
   {
    "duration": 7,
    "start_time": "2023-02-01T20:39:32.541Z"
   },
   {
    "duration": 7,
    "start_time": "2023-02-01T20:39:32.550Z"
   },
   {
    "duration": 8,
    "start_time": "2023-02-01T20:39:32.559Z"
   },
   {
    "duration": 13,
    "start_time": "2023-02-01T20:39:32.568Z"
   },
   {
    "duration": 435,
    "start_time": "2023-02-01T20:39:32.583Z"
   },
   {
    "duration": 5,
    "start_time": "2023-02-01T20:39:33.020Z"
   },
   {
    "duration": 34,
    "start_time": "2023-02-01T20:39:33.027Z"
   },
   {
    "duration": 18,
    "start_time": "2023-02-01T20:39:33.063Z"
   },
   {
    "duration": 22,
    "start_time": "2023-02-01T20:39:33.084Z"
   },
   {
    "duration": 4,
    "start_time": "2023-02-01T20:39:33.107Z"
   },
   {
    "duration": 13,
    "start_time": "2023-02-01T20:39:33.112Z"
   },
   {
    "duration": 13,
    "start_time": "2023-02-01T20:39:33.153Z"
   },
   {
    "duration": 303,
    "start_time": "2023-02-01T20:39:33.167Z"
   },
   {
    "duration": 21,
    "start_time": "2023-02-01T20:39:33.472Z"
   },
   {
    "duration": 4,
    "start_time": "2023-02-01T20:39:33.495Z"
   },
   {
    "duration": 1545,
    "start_time": "2023-02-01T20:39:33.501Z"
   },
   {
    "duration": 2522,
    "start_time": "2023-02-01T20:39:35.048Z"
   },
   {
    "duration": 1450,
    "start_time": "2023-02-01T20:39:37.572Z"
   },
   {
    "duration": 1344,
    "start_time": "2023-02-01T20:39:39.024Z"
   },
   {
    "duration": 1640,
    "start_time": "2023-02-01T20:39:40.370Z"
   },
   {
    "duration": 1785,
    "start_time": "2023-02-01T20:39:42.012Z"
   },
   {
    "duration": 1738,
    "start_time": "2023-02-01T20:39:43.799Z"
   },
   {
    "duration": 2285,
    "start_time": "2023-02-01T20:39:45.538Z"
   },
   {
    "duration": 47,
    "start_time": "2023-02-01T20:39:47.825Z"
   },
   {
    "duration": 1424,
    "start_time": "2023-02-01T20:46:55.051Z"
   },
   {
    "duration": 1365,
    "start_time": "2023-02-01T20:47:07.653Z"
   },
   {
    "duration": 1430,
    "start_time": "2023-02-01T20:47:59.789Z"
   },
   {
    "duration": 1437,
    "start_time": "2023-02-01T20:48:06.091Z"
   },
   {
    "duration": 6,
    "start_time": "2023-02-01T20:50:25.321Z"
   },
   {
    "duration": 1429,
    "start_time": "2023-02-01T20:50:46.938Z"
   },
   {
    "duration": 1500,
    "start_time": "2023-02-01T20:51:00.150Z"
   },
   {
    "duration": 1336,
    "start_time": "2023-02-01T20:51:11.691Z"
   },
   {
    "duration": 10,
    "start_time": "2023-02-01T20:53:25.452Z"
   },
   {
    "duration": 1381,
    "start_time": "2023-02-01T20:53:35.486Z"
   },
   {
    "duration": 1432,
    "start_time": "2023-02-01T21:02:24.769Z"
   },
   {
    "duration": 1376,
    "start_time": "2023-02-01T21:02:30.047Z"
   },
   {
    "duration": 1398,
    "start_time": "2023-02-01T21:02:36.316Z"
   },
   {
    "duration": 704,
    "start_time": "2023-02-02T08:03:30.158Z"
   },
   {
    "duration": 6,
    "start_time": "2023-02-02T08:03:30.863Z"
   },
   {
    "duration": 46,
    "start_time": "2023-02-02T08:03:30.871Z"
   },
   {
    "duration": 812,
    "start_time": "2023-02-02T08:03:30.919Z"
   },
   {
    "duration": 617,
    "start_time": "2023-02-02T08:03:31.732Z"
   },
   {
    "duration": 784,
    "start_time": "2023-02-02T08:03:32.351Z"
   },
   {
    "duration": 139,
    "start_time": "2023-02-02T08:03:33.136Z"
   },
   {
    "duration": 55,
    "start_time": "2023-02-02T08:03:33.276Z"
   },
   {
    "duration": 10,
    "start_time": "2023-02-02T08:03:33.332Z"
   },
   {
    "duration": 54,
    "start_time": "2023-02-02T08:03:33.344Z"
   },
   {
    "duration": 22,
    "start_time": "2023-02-02T08:03:33.400Z"
   },
   {
    "duration": 60,
    "start_time": "2023-02-02T08:03:33.423Z"
   },
   {
    "duration": 42,
    "start_time": "2023-02-02T08:03:33.485Z"
   },
   {
    "duration": 34,
    "start_time": "2023-02-02T08:03:33.529Z"
   },
   {
    "duration": 183,
    "start_time": "2023-02-02T08:03:33.564Z"
   },
   {
    "duration": 7,
    "start_time": "2023-02-02T08:03:33.749Z"
   },
   {
    "duration": 54,
    "start_time": "2023-02-02T08:03:33.758Z"
   },
   {
    "duration": 40,
    "start_time": "2023-02-02T08:03:33.813Z"
   },
   {
    "duration": 54,
    "start_time": "2023-02-02T08:03:33.855Z"
   },
   {
    "duration": 53,
    "start_time": "2023-02-02T08:03:33.911Z"
   },
   {
    "duration": 65,
    "start_time": "2023-02-02T08:03:33.966Z"
   },
   {
    "duration": 37,
    "start_time": "2023-02-02T08:03:34.033Z"
   },
   {
    "duration": 42,
    "start_time": "2023-02-02T08:03:34.071Z"
   },
   {
    "duration": 51,
    "start_time": "2023-02-02T08:03:34.115Z"
   },
   {
    "duration": 54,
    "start_time": "2023-02-02T08:03:34.168Z"
   },
   {
    "duration": 528,
    "start_time": "2023-02-02T08:03:34.223Z"
   },
   {
    "duration": 0,
    "start_time": "2023-02-02T08:03:34.755Z"
   },
   {
    "duration": 0,
    "start_time": "2023-02-02T08:03:34.756Z"
   },
   {
    "duration": 0,
    "start_time": "2023-02-02T08:03:34.758Z"
   },
   {
    "duration": 0,
    "start_time": "2023-02-02T08:03:34.760Z"
   },
   {
    "duration": 0,
    "start_time": "2023-02-02T08:03:34.761Z"
   },
   {
    "duration": 1,
    "start_time": "2023-02-02T08:03:34.762Z"
   },
   {
    "duration": 0,
    "start_time": "2023-02-02T08:03:34.764Z"
   },
   {
    "duration": 0,
    "start_time": "2023-02-02T08:03:34.766Z"
   },
   {
    "duration": 0,
    "start_time": "2023-02-02T08:03:34.767Z"
   },
   {
    "duration": 0,
    "start_time": "2023-02-02T08:03:34.769Z"
   },
   {
    "duration": 0,
    "start_time": "2023-02-02T08:03:34.771Z"
   },
   {
    "duration": 0,
    "start_time": "2023-02-02T08:03:34.772Z"
   },
   {
    "duration": 0,
    "start_time": "2023-02-02T08:03:34.773Z"
   },
   {
    "duration": 0,
    "start_time": "2023-02-02T08:03:34.775Z"
   },
   {
    "duration": 0,
    "start_time": "2023-02-02T08:03:34.777Z"
   },
   {
    "duration": 0,
    "start_time": "2023-02-02T08:03:34.778Z"
   },
   {
    "duration": 0,
    "start_time": "2023-02-02T08:03:34.779Z"
   },
   {
    "duration": 0,
    "start_time": "2023-02-02T08:03:34.780Z"
   },
   {
    "duration": 0,
    "start_time": "2023-02-02T08:03:34.782Z"
   },
   {
    "duration": 704,
    "start_time": "2023-02-02T08:05:04.024Z"
   },
   {
    "duration": 6,
    "start_time": "2023-02-02T08:05:04.730Z"
   },
   {
    "duration": 20,
    "start_time": "2023-02-02T08:05:04.738Z"
   },
   {
    "duration": 664,
    "start_time": "2023-02-02T08:05:04.761Z"
   },
   {
    "duration": 612,
    "start_time": "2023-02-02T08:05:05.427Z"
   },
   {
    "duration": 805,
    "start_time": "2023-02-02T08:05:06.041Z"
   },
   {
    "duration": 140,
    "start_time": "2023-02-02T08:05:06.848Z"
   },
   {
    "duration": 57,
    "start_time": "2023-02-02T08:05:06.990Z"
   },
   {
    "duration": 13,
    "start_time": "2023-02-02T08:05:07.049Z"
   },
   {
    "duration": 34,
    "start_time": "2023-02-02T08:05:07.065Z"
   },
   {
    "duration": 7,
    "start_time": "2023-02-02T08:05:07.101Z"
   },
   {
    "duration": 38,
    "start_time": "2023-02-02T08:05:07.110Z"
   },
   {
    "duration": 9,
    "start_time": "2023-02-02T08:05:07.150Z"
   },
   {
    "duration": 19,
    "start_time": "2023-02-02T08:05:07.161Z"
   },
   {
    "duration": 149,
    "start_time": "2023-02-02T08:05:07.182Z"
   },
   {
    "duration": 7,
    "start_time": "2023-02-02T08:05:07.333Z"
   },
   {
    "duration": 9,
    "start_time": "2023-02-02T08:05:07.342Z"
   },
   {
    "duration": 9,
    "start_time": "2023-02-02T08:05:07.353Z"
   },
   {
    "duration": 12,
    "start_time": "2023-02-02T08:05:07.364Z"
   },
   {
    "duration": 12,
    "start_time": "2023-02-02T08:05:07.377Z"
   },
   {
    "duration": 8,
    "start_time": "2023-02-02T08:05:07.391Z"
   },
   {
    "duration": 26,
    "start_time": "2023-02-02T08:05:07.401Z"
   },
   {
    "duration": 16,
    "start_time": "2023-02-02T08:05:07.429Z"
   },
   {
    "duration": 40,
    "start_time": "2023-02-02T08:05:07.447Z"
   },
   {
    "duration": 470,
    "start_time": "2023-02-02T08:05:07.489Z"
   },
   {
    "duration": 6,
    "start_time": "2023-02-02T08:05:07.961Z"
   },
   {
    "duration": 41,
    "start_time": "2023-02-02T08:05:07.968Z"
   },
   {
    "duration": 19,
    "start_time": "2023-02-02T08:05:08.012Z"
   },
   {
    "duration": 24,
    "start_time": "2023-02-02T08:05:08.033Z"
   },
   {
    "duration": 5,
    "start_time": "2023-02-02T08:05:08.059Z"
   },
   {
    "duration": 17,
    "start_time": "2023-02-02T08:05:08.066Z"
   },
   {
    "duration": 15,
    "start_time": "2023-02-02T08:05:08.085Z"
   },
   {
    "duration": 338,
    "start_time": "2023-02-02T08:05:08.102Z"
   },
   {
    "duration": 22,
    "start_time": "2023-02-02T08:05:08.442Z"
   },
   {
    "duration": 4,
    "start_time": "2023-02-02T08:05:08.466Z"
   },
   {
    "duration": 1575,
    "start_time": "2023-02-02T08:05:08.472Z"
   },
   {
    "duration": 2630,
    "start_time": "2023-02-02T08:05:10.049Z"
   },
   {
    "duration": 1468,
    "start_time": "2023-02-02T08:05:12.681Z"
   },
   {
    "duration": 1414,
    "start_time": "2023-02-02T08:05:14.152Z"
   },
   {
    "duration": 1780,
    "start_time": "2023-02-02T08:05:15.567Z"
   },
   {
    "duration": 397,
    "start_time": "2023-02-02T08:05:17.349Z"
   },
   {
    "duration": 0,
    "start_time": "2023-02-02T08:05:17.747Z"
   },
   {
    "duration": 0,
    "start_time": "2023-02-02T08:05:17.749Z"
   },
   {
    "duration": 0,
    "start_time": "2023-02-02T08:05:17.750Z"
   },
   {
    "duration": 1533,
    "start_time": "2023-02-02T08:08:32.674Z"
   },
   {
    "duration": 1337,
    "start_time": "2023-02-02T08:09:23.183Z"
   },
   {
    "duration": 27,
    "start_time": "2023-02-02T08:09:27.478Z"
   },
   {
    "duration": 13,
    "start_time": "2023-02-02T08:09:38.874Z"
   },
   {
    "duration": 648,
    "start_time": "2023-02-02T08:11:29.451Z"
   },
   {
    "duration": 7,
    "start_time": "2023-02-02T08:11:30.101Z"
   },
   {
    "duration": 43,
    "start_time": "2023-02-02T08:11:30.109Z"
   },
   {
    "duration": 736,
    "start_time": "2023-02-02T08:11:30.154Z"
   },
   {
    "duration": 605,
    "start_time": "2023-02-02T08:11:30.892Z"
   },
   {
    "duration": 779,
    "start_time": "2023-02-02T08:11:31.499Z"
   },
   {
    "duration": 132,
    "start_time": "2023-02-02T08:11:32.279Z"
   },
   {
    "duration": 56,
    "start_time": "2023-02-02T08:11:32.413Z"
   },
   {
    "duration": 15,
    "start_time": "2023-02-02T08:11:32.470Z"
   },
   {
    "duration": 72,
    "start_time": "2023-02-02T08:11:32.487Z"
   },
   {
    "duration": 44,
    "start_time": "2023-02-02T08:11:32.561Z"
   },
   {
    "duration": 60,
    "start_time": "2023-02-02T08:11:32.607Z"
   },
   {
    "duration": 8,
    "start_time": "2023-02-02T08:11:32.669Z"
   },
   {
    "duration": 34,
    "start_time": "2023-02-02T08:11:32.679Z"
   },
   {
    "duration": 179,
    "start_time": "2023-02-02T08:11:32.714Z"
   },
   {
    "duration": 7,
    "start_time": "2023-02-02T08:11:32.895Z"
   },
   {
    "duration": 40,
    "start_time": "2023-02-02T08:11:32.903Z"
   },
   {
    "duration": 26,
    "start_time": "2023-02-02T08:11:32.944Z"
   },
   {
    "duration": 73,
    "start_time": "2023-02-02T08:11:32.972Z"
   },
   {
    "duration": 33,
    "start_time": "2023-02-02T08:11:33.047Z"
   },
   {
    "duration": 73,
    "start_time": "2023-02-02T08:11:33.081Z"
   },
   {
    "duration": 54,
    "start_time": "2023-02-02T08:11:33.155Z"
   },
   {
    "duration": 37,
    "start_time": "2023-02-02T08:11:33.211Z"
   },
   {
    "duration": 47,
    "start_time": "2023-02-02T08:11:33.250Z"
   },
   {
    "duration": 509,
    "start_time": "2023-02-02T08:11:33.299Z"
   },
   {
    "duration": 6,
    "start_time": "2023-02-02T08:11:33.810Z"
   },
   {
    "duration": 53,
    "start_time": "2023-02-02T08:11:33.818Z"
   },
   {
    "duration": 32,
    "start_time": "2023-02-02T08:11:33.876Z"
   },
   {
    "duration": 39,
    "start_time": "2023-02-02T08:11:33.910Z"
   },
   {
    "duration": 40,
    "start_time": "2023-02-02T08:11:33.951Z"
   },
   {
    "duration": 36,
    "start_time": "2023-02-02T08:11:33.993Z"
   },
   {
    "duration": 35,
    "start_time": "2023-02-02T08:11:34.031Z"
   },
   {
    "duration": 326,
    "start_time": "2023-02-02T08:11:34.068Z"
   },
   {
    "duration": 20,
    "start_time": "2023-02-02T08:11:34.395Z"
   },
   {
    "duration": 11,
    "start_time": "2023-02-02T08:11:34.417Z"
   },
   {
    "duration": 1624,
    "start_time": "2023-02-02T08:11:34.430Z"
   },
   {
    "duration": 2718,
    "start_time": "2023-02-02T08:11:36.056Z"
   },
   {
    "duration": 1539,
    "start_time": "2023-02-02T08:11:38.775Z"
   },
   {
    "duration": 1504,
    "start_time": "2023-02-02T08:11:40.316Z"
   },
   {
    "duration": 1851,
    "start_time": "2023-02-02T08:11:41.822Z"
   },
   {
    "duration": 400,
    "start_time": "2023-02-02T08:11:43.675Z"
   },
   {
    "duration": 0,
    "start_time": "2023-02-02T08:11:44.077Z"
   },
   {
    "duration": 0,
    "start_time": "2023-02-02T08:11:44.079Z"
   },
   {
    "duration": 0,
    "start_time": "2023-02-02T08:11:44.080Z"
   },
   {
    "duration": 687,
    "start_time": "2023-02-02T08:16:45.897Z"
   },
   {
    "duration": 5,
    "start_time": "2023-02-02T08:16:46.587Z"
   },
   {
    "duration": 7,
    "start_time": "2023-02-02T08:16:46.594Z"
   },
   {
    "duration": 687,
    "start_time": "2023-02-02T08:16:46.603Z"
   },
   {
    "duration": 626,
    "start_time": "2023-02-02T08:16:47.292Z"
   },
   {
    "duration": 838,
    "start_time": "2023-02-02T08:16:47.919Z"
   },
   {
    "duration": 148,
    "start_time": "2023-02-02T08:16:48.758Z"
   },
   {
    "duration": 60,
    "start_time": "2023-02-02T08:16:48.908Z"
   },
   {
    "duration": 9,
    "start_time": "2023-02-02T08:16:48.970Z"
   },
   {
    "duration": 41,
    "start_time": "2023-02-02T08:16:48.981Z"
   },
   {
    "duration": 32,
    "start_time": "2023-02-02T08:16:49.023Z"
   },
   {
    "duration": 33,
    "start_time": "2023-02-02T08:16:49.057Z"
   },
   {
    "duration": 9,
    "start_time": "2023-02-02T08:16:49.092Z"
   },
   {
    "duration": 15,
    "start_time": "2023-02-02T08:16:49.102Z"
   },
   {
    "duration": 180,
    "start_time": "2023-02-02T08:16:49.119Z"
   },
   {
    "duration": 8,
    "start_time": "2023-02-02T08:16:49.301Z"
   },
   {
    "duration": 11,
    "start_time": "2023-02-02T08:16:49.311Z"
   },
   {
    "duration": 46,
    "start_time": "2023-02-02T08:16:49.324Z"
   },
   {
    "duration": 23,
    "start_time": "2023-02-02T08:16:49.372Z"
   },
   {
    "duration": 25,
    "start_time": "2023-02-02T08:16:49.397Z"
   },
   {
    "duration": 25,
    "start_time": "2023-02-02T08:16:49.424Z"
   },
   {
    "duration": 25,
    "start_time": "2023-02-02T08:16:49.450Z"
   },
   {
    "duration": 13,
    "start_time": "2023-02-02T08:16:49.477Z"
   },
   {
    "duration": 484,
    "start_time": "2023-02-02T08:16:49.492Z"
   },
   {
    "duration": 5,
    "start_time": "2023-02-02T08:16:49.978Z"
   },
   {
    "duration": 22,
    "start_time": "2023-02-02T08:16:49.985Z"
   },
   {
    "duration": 30,
    "start_time": "2023-02-02T08:16:50.008Z"
   },
   {
    "duration": 41,
    "start_time": "2023-02-02T08:16:50.043Z"
   },
   {
    "duration": 4,
    "start_time": "2023-02-02T08:16:50.086Z"
   },
   {
    "duration": 12,
    "start_time": "2023-02-02T08:16:50.091Z"
   },
   {
    "duration": 12,
    "start_time": "2023-02-02T08:16:50.105Z"
   },
   {
    "duration": 409,
    "start_time": "2023-02-02T08:16:50.118Z"
   },
   {
    "duration": 32,
    "start_time": "2023-02-02T08:16:50.529Z"
   },
   {
    "duration": 18,
    "start_time": "2023-02-02T08:16:50.567Z"
   },
   {
    "duration": 1694,
    "start_time": "2023-02-02T08:16:50.589Z"
   },
   {
    "duration": 2861,
    "start_time": "2023-02-02T08:16:52.284Z"
   },
   {
    "duration": 1572,
    "start_time": "2023-02-02T08:16:55.147Z"
   },
   {
    "duration": 1497,
    "start_time": "2023-02-02T08:16:56.720Z"
   },
   {
    "duration": 1883,
    "start_time": "2023-02-02T08:16:58.218Z"
   },
   {
    "duration": 2121,
    "start_time": "2023-02-02T08:17:00.103Z"
   },
   {
    "duration": 1912,
    "start_time": "2023-02-02T08:17:02.225Z"
   },
   {
    "duration": 2621,
    "start_time": "2023-02-02T08:17:04.139Z"
   },
   {
    "duration": 36,
    "start_time": "2023-02-02T08:17:06.761Z"
   },
   {
    "duration": 13,
    "start_time": "2023-02-02T08:18:24.149Z"
   },
   {
    "duration": 37,
    "start_time": "2023-02-02T08:19:12.260Z"
   },
   {
    "duration": 12,
    "start_time": "2023-02-02T08:19:34.005Z"
   },
   {
    "duration": 11,
    "start_time": "2023-02-02T08:19:45.310Z"
   },
   {
    "duration": 16,
    "start_time": "2023-02-02T08:20:57.135Z"
   },
   {
    "duration": 659,
    "start_time": "2023-02-02T08:21:16.520Z"
   },
   {
    "duration": 6,
    "start_time": "2023-02-02T08:21:17.181Z"
   },
   {
    "duration": 11,
    "start_time": "2023-02-02T08:21:17.189Z"
   },
   {
    "duration": 620,
    "start_time": "2023-02-02T08:21:17.201Z"
   },
   {
    "duration": 580,
    "start_time": "2023-02-02T08:21:17.824Z"
   },
   {
    "duration": 745,
    "start_time": "2023-02-02T08:21:18.406Z"
   },
   {
    "duration": 132,
    "start_time": "2023-02-02T08:21:19.152Z"
   },
   {
    "duration": 52,
    "start_time": "2023-02-02T08:21:19.285Z"
   },
   {
    "duration": 10,
    "start_time": "2023-02-02T08:21:19.338Z"
   },
   {
    "duration": 28,
    "start_time": "2023-02-02T08:21:19.349Z"
   },
   {
    "duration": 4,
    "start_time": "2023-02-02T08:21:19.379Z"
   },
   {
    "duration": 14,
    "start_time": "2023-02-02T08:21:19.385Z"
   },
   {
    "duration": 1332,
    "start_time": "2023-02-02T08:21:19.401Z"
   },
   {
    "duration": 0,
    "start_time": "2023-02-02T08:21:20.736Z"
   },
   {
    "duration": 0,
    "start_time": "2023-02-02T08:21:20.737Z"
   },
   {
    "duration": 0,
    "start_time": "2023-02-02T08:21:20.738Z"
   },
   {
    "duration": 0,
    "start_time": "2023-02-02T08:21:20.739Z"
   },
   {
    "duration": 0,
    "start_time": "2023-02-02T08:21:20.740Z"
   },
   {
    "duration": 0,
    "start_time": "2023-02-02T08:21:20.741Z"
   },
   {
    "duration": 0,
    "start_time": "2023-02-02T08:21:20.742Z"
   },
   {
    "duration": 0,
    "start_time": "2023-02-02T08:21:20.744Z"
   },
   {
    "duration": 0,
    "start_time": "2023-02-02T08:21:20.744Z"
   },
   {
    "duration": 0,
    "start_time": "2023-02-02T08:21:20.746Z"
   },
   {
    "duration": 0,
    "start_time": "2023-02-02T08:21:20.747Z"
   },
   {
    "duration": 0,
    "start_time": "2023-02-02T08:21:20.748Z"
   },
   {
    "duration": 0,
    "start_time": "2023-02-02T08:21:20.749Z"
   },
   {
    "duration": 0,
    "start_time": "2023-02-02T08:21:20.751Z"
   },
   {
    "duration": 0,
    "start_time": "2023-02-02T08:21:20.752Z"
   },
   {
    "duration": 0,
    "start_time": "2023-02-02T08:21:20.753Z"
   },
   {
    "duration": 0,
    "start_time": "2023-02-02T08:21:20.754Z"
   },
   {
    "duration": 0,
    "start_time": "2023-02-02T08:21:20.756Z"
   },
   {
    "duration": 0,
    "start_time": "2023-02-02T08:21:20.757Z"
   },
   {
    "duration": 0,
    "start_time": "2023-02-02T08:21:20.758Z"
   },
   {
    "duration": 0,
    "start_time": "2023-02-02T08:21:20.760Z"
   },
   {
    "duration": 0,
    "start_time": "2023-02-02T08:21:20.762Z"
   },
   {
    "duration": 0,
    "start_time": "2023-02-02T08:21:20.763Z"
   },
   {
    "duration": 0,
    "start_time": "2023-02-02T08:21:20.764Z"
   },
   {
    "duration": 0,
    "start_time": "2023-02-02T08:21:20.765Z"
   },
   {
    "duration": 0,
    "start_time": "2023-02-02T08:21:20.766Z"
   },
   {
    "duration": 0,
    "start_time": "2023-02-02T08:21:20.767Z"
   },
   {
    "duration": 0,
    "start_time": "2023-02-02T08:21:20.769Z"
   },
   {
    "duration": 0,
    "start_time": "2023-02-02T08:21:20.769Z"
   },
   {
    "duration": 1,
    "start_time": "2023-02-02T08:21:20.770Z"
   },
   {
    "duration": 0,
    "start_time": "2023-02-02T08:21:20.772Z"
   },
   {
    "duration": 0,
    "start_time": "2023-02-02T08:21:20.773Z"
   },
   {
    "duration": 623,
    "start_time": "2023-02-02T08:22:47.079Z"
   },
   {
    "duration": 9,
    "start_time": "2023-02-02T08:22:47.705Z"
   },
   {
    "duration": 36,
    "start_time": "2023-02-02T08:22:47.718Z"
   },
   {
    "duration": 668,
    "start_time": "2023-02-02T08:22:47.757Z"
   },
   {
    "duration": 650,
    "start_time": "2023-02-02T08:22:48.430Z"
   },
   {
    "duration": 813,
    "start_time": "2023-02-02T08:22:49.082Z"
   },
   {
    "duration": 164,
    "start_time": "2023-02-02T08:22:49.897Z"
   },
   {
    "duration": 44,
    "start_time": "2023-02-02T08:22:50.062Z"
   },
   {
    "duration": 23,
    "start_time": "2023-02-02T08:22:50.108Z"
   },
   {
    "duration": 41,
    "start_time": "2023-02-02T08:22:50.134Z"
   },
   {
    "duration": 4,
    "start_time": "2023-02-02T08:22:50.177Z"
   },
   {
    "duration": 17,
    "start_time": "2023-02-02T08:22:50.183Z"
   },
   {
    "duration": 77,
    "start_time": "2023-02-02T08:22:50.202Z"
   },
   {
    "duration": 14,
    "start_time": "2023-02-02T08:22:50.283Z"
   },
   {
    "duration": 33,
    "start_time": "2023-02-02T08:22:50.301Z"
   },
   {
    "duration": 233,
    "start_time": "2023-02-02T08:22:50.338Z"
   },
   {
    "duration": 8,
    "start_time": "2023-02-02T08:22:50.573Z"
   },
   {
    "duration": 9,
    "start_time": "2023-02-02T08:22:50.583Z"
   },
   {
    "duration": 13,
    "start_time": "2023-02-02T08:22:50.593Z"
   },
   {
    "duration": 25,
    "start_time": "2023-02-02T08:22:50.608Z"
   },
   {
    "duration": 44,
    "start_time": "2023-02-02T08:22:50.635Z"
   },
   {
    "duration": 40,
    "start_time": "2023-02-02T08:22:50.681Z"
   },
   {
    "duration": 34,
    "start_time": "2023-02-02T08:22:50.723Z"
   },
   {
    "duration": 16,
    "start_time": "2023-02-02T08:22:50.759Z"
   },
   {
    "duration": 500,
    "start_time": "2023-02-02T08:22:50.777Z"
   },
   {
    "duration": 5,
    "start_time": "2023-02-02T08:22:51.279Z"
   },
   {
    "duration": 57,
    "start_time": "2023-02-02T08:22:51.285Z"
   },
   {
    "duration": 45,
    "start_time": "2023-02-02T08:22:51.347Z"
   },
   {
    "duration": 39,
    "start_time": "2023-02-02T08:22:51.395Z"
   },
   {
    "duration": 14,
    "start_time": "2023-02-02T08:22:51.437Z"
   },
   {
    "duration": 27,
    "start_time": "2023-02-02T08:22:51.454Z"
   },
   {
    "duration": 55,
    "start_time": "2023-02-02T08:22:51.483Z"
   },
   {
    "duration": 18,
    "start_time": "2023-02-02T08:22:51.547Z"
   },
   {
    "duration": 544,
    "start_time": "2023-02-02T08:22:51.566Z"
   },
   {
    "duration": 27,
    "start_time": "2023-02-02T08:22:52.112Z"
   },
   {
    "duration": 15,
    "start_time": "2023-02-02T08:22:52.140Z"
   },
   {
    "duration": 1591,
    "start_time": "2023-02-02T08:22:52.157Z"
   },
   {
    "duration": 2759,
    "start_time": "2023-02-02T08:22:53.749Z"
   },
   {
    "duration": 1656,
    "start_time": "2023-02-02T08:22:56.512Z"
   },
   {
    "duration": 1451,
    "start_time": "2023-02-02T08:22:58.170Z"
   },
   {
    "duration": 1998,
    "start_time": "2023-02-02T08:22:59.627Z"
   },
   {
    "duration": 2028,
    "start_time": "2023-02-02T08:23:01.627Z"
   },
   {
    "duration": 1843,
    "start_time": "2023-02-02T08:23:03.657Z"
   },
   {
    "duration": 2553,
    "start_time": "2023-02-02T08:23:05.502Z"
   },
   {
    "duration": 38,
    "start_time": "2023-02-02T08:23:08.057Z"
   },
   {
    "duration": 7,
    "start_time": "2023-02-02T08:24:44.803Z"
   },
   {
    "duration": 320,
    "start_time": "2023-02-02T08:24:46.949Z"
   },
   {
    "duration": 1545,
    "start_time": "2023-02-02T08:24:57.359Z"
   },
   {
    "duration": 11,
    "start_time": "2023-02-02T08:25:54.891Z"
   },
   {
    "duration": 664,
    "start_time": "2023-02-02T08:26:28.750Z"
   },
   {
    "duration": 5,
    "start_time": "2023-02-02T08:26:29.416Z"
   },
   {
    "duration": 33,
    "start_time": "2023-02-02T08:26:29.423Z"
   },
   {
    "duration": 691,
    "start_time": "2023-02-02T08:26:29.459Z"
   },
   {
    "duration": 701,
    "start_time": "2023-02-02T08:26:30.152Z"
   },
   {
    "duration": 883,
    "start_time": "2023-02-02T08:26:30.862Z"
   },
   {
    "duration": 153,
    "start_time": "2023-02-02T08:26:31.746Z"
   },
   {
    "duration": 57,
    "start_time": "2023-02-02T08:26:31.901Z"
   },
   {
    "duration": 10,
    "start_time": "2023-02-02T08:26:31.959Z"
   },
   {
    "duration": 43,
    "start_time": "2023-02-02T08:26:31.971Z"
   },
   {
    "duration": 41,
    "start_time": "2023-02-02T08:26:32.016Z"
   },
   {
    "duration": 19,
    "start_time": "2023-02-02T08:26:32.059Z"
   },
   {
    "duration": 44,
    "start_time": "2023-02-02T08:26:32.080Z"
   },
   {
    "duration": 18,
    "start_time": "2023-02-02T08:26:32.125Z"
   },
   {
    "duration": 29,
    "start_time": "2023-02-02T08:26:32.144Z"
   },
   {
    "duration": 156,
    "start_time": "2023-02-02T08:26:32.175Z"
   },
   {
    "duration": 13,
    "start_time": "2023-02-02T08:26:32.332Z"
   },
   {
    "duration": 54,
    "start_time": "2023-02-02T08:26:32.347Z"
   },
   {
    "duration": 46,
    "start_time": "2023-02-02T08:26:32.403Z"
   },
   {
    "duration": 10,
    "start_time": "2023-02-02T08:26:32.451Z"
   },
   {
    "duration": 8,
    "start_time": "2023-02-02T08:26:32.463Z"
   },
   {
    "duration": 8,
    "start_time": "2023-02-02T08:26:32.473Z"
   },
   {
    "duration": 17,
    "start_time": "2023-02-02T08:26:32.482Z"
   },
   {
    "duration": 16,
    "start_time": "2023-02-02T08:26:32.501Z"
   },
   {
    "duration": 535,
    "start_time": "2023-02-02T08:26:32.519Z"
   },
   {
    "duration": 5,
    "start_time": "2023-02-02T08:26:33.056Z"
   },
   {
    "duration": 22,
    "start_time": "2023-02-02T08:26:33.063Z"
   },
   {
    "duration": 46,
    "start_time": "2023-02-02T08:26:33.088Z"
   },
   {
    "duration": 26,
    "start_time": "2023-02-02T08:26:33.136Z"
   },
   {
    "duration": 4,
    "start_time": "2023-02-02T08:26:33.163Z"
   },
   {
    "duration": 18,
    "start_time": "2023-02-02T08:26:33.169Z"
   },
   {
    "duration": 17,
    "start_time": "2023-02-02T08:26:33.189Z"
   },
   {
    "duration": 352,
    "start_time": "2023-02-02T08:26:33.228Z"
   },
   {
    "duration": 20,
    "start_time": "2023-02-02T08:26:33.582Z"
   },
   {
    "duration": 2,
    "start_time": "2023-02-02T08:26:33.604Z"
   },
   {
    "duration": 1697,
    "start_time": "2023-02-02T08:26:33.608Z"
   },
   {
    "duration": 2774,
    "start_time": "2023-02-02T08:26:35.307Z"
   },
   {
    "duration": 1629,
    "start_time": "2023-02-02T08:26:38.083Z"
   },
   {
    "duration": 1581,
    "start_time": "2023-02-02T08:26:39.714Z"
   },
   {
    "duration": 1786,
    "start_time": "2023-02-02T08:26:41.297Z"
   },
   {
    "duration": 1993,
    "start_time": "2023-02-02T08:26:43.086Z"
   },
   {
    "duration": 1852,
    "start_time": "2023-02-02T08:26:45.080Z"
   },
   {
    "duration": 2679,
    "start_time": "2023-02-02T08:26:46.934Z"
   },
   {
    "duration": 45,
    "start_time": "2023-02-02T08:26:49.615Z"
   },
   {
    "duration": 1725,
    "start_time": "2023-02-02T09:44:00.673Z"
   },
   {
    "duration": 3,
    "start_time": "2023-02-02T09:47:16.218Z"
   },
   {
    "duration": 664,
    "start_time": "2023-02-02T09:47:37.744Z"
   },
   {
    "duration": 1023,
    "start_time": "2023-02-02T09:47:40.899Z"
   },
   {
    "duration": 3,
    "start_time": "2023-02-02T09:47:47.181Z"
   },
   {
    "duration": 1226,
    "start_time": "2023-02-02T09:47:47.187Z"
   },
   {
    "duration": 76,
    "start_time": "2023-02-02T09:47:48.415Z"
   },
   {
    "duration": 0,
    "start_time": "2023-02-02T09:47:48.494Z"
   },
   {
    "duration": 0,
    "start_time": "2023-02-02T09:47:48.496Z"
   },
   {
    "duration": 0,
    "start_time": "2023-02-02T09:47:48.497Z"
   },
   {
    "duration": 0,
    "start_time": "2023-02-02T09:47:48.500Z"
   },
   {
    "duration": 0,
    "start_time": "2023-02-02T09:47:48.501Z"
   },
   {
    "duration": 0,
    "start_time": "2023-02-02T09:47:48.502Z"
   },
   {
    "duration": 0,
    "start_time": "2023-02-02T09:47:48.503Z"
   },
   {
    "duration": 0,
    "start_time": "2023-02-02T09:47:48.505Z"
   },
   {
    "duration": 0,
    "start_time": "2023-02-02T09:47:48.506Z"
   },
   {
    "duration": 0,
    "start_time": "2023-02-02T09:47:48.529Z"
   },
   {
    "duration": 0,
    "start_time": "2023-02-02T09:47:48.533Z"
   },
   {
    "duration": 0,
    "start_time": "2023-02-02T09:47:48.534Z"
   },
   {
    "duration": 0,
    "start_time": "2023-02-02T09:47:48.535Z"
   },
   {
    "duration": 0,
    "start_time": "2023-02-02T09:47:48.535Z"
   },
   {
    "duration": 0,
    "start_time": "2023-02-02T09:47:48.536Z"
   },
   {
    "duration": 0,
    "start_time": "2023-02-02T09:47:48.537Z"
   },
   {
    "duration": 0,
    "start_time": "2023-02-02T09:47:48.539Z"
   },
   {
    "duration": 0,
    "start_time": "2023-02-02T09:47:48.540Z"
   },
   {
    "duration": 0,
    "start_time": "2023-02-02T09:47:48.541Z"
   },
   {
    "duration": 0,
    "start_time": "2023-02-02T09:47:48.542Z"
   },
   {
    "duration": 0,
    "start_time": "2023-02-02T09:47:48.546Z"
   },
   {
    "duration": 0,
    "start_time": "2023-02-02T09:47:48.547Z"
   },
   {
    "duration": 0,
    "start_time": "2023-02-02T09:47:48.548Z"
   },
   {
    "duration": 0,
    "start_time": "2023-02-02T09:47:48.549Z"
   },
   {
    "duration": 0,
    "start_time": "2023-02-02T09:47:48.550Z"
   },
   {
    "duration": 0,
    "start_time": "2023-02-02T09:47:48.551Z"
   },
   {
    "duration": 0,
    "start_time": "2023-02-02T09:47:48.552Z"
   },
   {
    "duration": 0,
    "start_time": "2023-02-02T09:47:48.554Z"
   },
   {
    "duration": 0,
    "start_time": "2023-02-02T09:47:48.555Z"
   },
   {
    "duration": 0,
    "start_time": "2023-02-02T09:47:48.556Z"
   },
   {
    "duration": 0,
    "start_time": "2023-02-02T09:47:48.557Z"
   },
   {
    "duration": 0,
    "start_time": "2023-02-02T09:47:48.558Z"
   },
   {
    "duration": 0,
    "start_time": "2023-02-02T09:47:48.560Z"
   },
   {
    "duration": 0,
    "start_time": "2023-02-02T09:47:48.561Z"
   },
   {
    "duration": 0,
    "start_time": "2023-02-02T09:47:48.562Z"
   },
   {
    "duration": 0,
    "start_time": "2023-02-02T09:47:48.564Z"
   },
   {
    "duration": 0,
    "start_time": "2023-02-02T09:47:48.566Z"
   },
   {
    "duration": 0,
    "start_time": "2023-02-02T09:47:48.567Z"
   },
   {
    "duration": 184,
    "start_time": "2023-02-02T09:48:09.840Z"
   },
   {
    "duration": 22,
    "start_time": "2023-02-02T09:48:11.527Z"
   },
   {
    "duration": 5,
    "start_time": "2023-02-02T09:48:12.968Z"
   },
   {
    "duration": 25,
    "start_time": "2023-02-02T09:48:15.003Z"
   },
   {
    "duration": 17,
    "start_time": "2023-02-02T09:48:25.257Z"
   },
   {
    "duration": 12,
    "start_time": "2023-02-02T09:48:25.276Z"
   },
   {
    "duration": 18,
    "start_time": "2023-02-02T09:48:25.290Z"
   },
   {
    "duration": 170,
    "start_time": "2023-02-02T09:48:25.310Z"
   },
   {
    "duration": 7,
    "start_time": "2023-02-02T09:48:25.482Z"
   },
   {
    "duration": 21,
    "start_time": "2023-02-02T09:48:25.491Z"
   },
   {
    "duration": 38,
    "start_time": "2023-02-02T09:48:25.513Z"
   },
   {
    "duration": 31,
    "start_time": "2023-02-02T09:48:25.554Z"
   },
   {
    "duration": 28,
    "start_time": "2023-02-02T09:48:25.587Z"
   },
   {
    "duration": 13,
    "start_time": "2023-02-02T09:48:25.617Z"
   },
   {
    "duration": 25,
    "start_time": "2023-02-02T09:48:25.632Z"
   },
   {
    "duration": 23,
    "start_time": "2023-02-02T09:48:25.659Z"
   },
   {
    "duration": 477,
    "start_time": "2023-02-02T09:48:25.684Z"
   },
   {
    "duration": 7,
    "start_time": "2023-02-02T09:48:26.163Z"
   },
   {
    "duration": 31,
    "start_time": "2023-02-02T09:48:26.172Z"
   },
   {
    "duration": 39,
    "start_time": "2023-02-02T09:48:26.205Z"
   },
   {
    "duration": 23,
    "start_time": "2023-02-02T09:48:26.247Z"
   },
   {
    "duration": 13,
    "start_time": "2023-02-02T09:48:26.271Z"
   },
   {
    "duration": 18,
    "start_time": "2023-02-02T09:48:26.286Z"
   },
   {
    "duration": 36,
    "start_time": "2023-02-02T09:48:26.305Z"
   },
   {
    "duration": 361,
    "start_time": "2023-02-02T09:48:26.342Z"
   },
   {
    "duration": 41,
    "start_time": "2023-02-02T09:48:26.705Z"
   },
   {
    "duration": 9,
    "start_time": "2023-02-02T09:48:26.748Z"
   },
   {
    "duration": 1725,
    "start_time": "2023-02-02T09:48:26.759Z"
   },
   {
    "duration": 2760,
    "start_time": "2023-02-02T09:48:28.486Z"
   },
   {
    "duration": 1551,
    "start_time": "2023-02-02T09:48:31.248Z"
   },
   {
    "duration": 1485,
    "start_time": "2023-02-02T09:48:32.800Z"
   },
   {
    "duration": 1881,
    "start_time": "2023-02-02T09:48:34.287Z"
   },
   {
    "duration": 2031,
    "start_time": "2023-02-02T09:48:36.170Z"
   },
   {
    "duration": 1807,
    "start_time": "2023-02-02T09:48:38.203Z"
   },
   {
    "duration": 2584,
    "start_time": "2023-02-02T09:48:40.012Z"
   },
   {
    "duration": 54,
    "start_time": "2023-02-02T09:48:42.597Z"
   },
   {
    "duration": 640,
    "start_time": "2023-02-02T09:54:20.992Z"
   },
   {
    "duration": 1238,
    "start_time": "2023-02-02T09:54:22.590Z"
   },
   {
    "duration": 8,
    "start_time": "2023-02-02T09:54:25.623Z"
   },
   {
    "duration": 6,
    "start_time": "2023-02-02T09:54:28.916Z"
   },
   {
    "duration": 8,
    "start_time": "2023-02-02T09:54:39.781Z"
   },
   {
    "duration": 17,
    "start_time": "2023-02-02T09:54:40.825Z"
   },
   {
    "duration": 3,
    "start_time": "2023-02-02T09:54:42.042Z"
   },
   {
    "duration": 9,
    "start_time": "2023-02-02T09:54:45.019Z"
   },
   {
    "duration": 6,
    "start_time": "2023-02-02T09:54:47.248Z"
   },
   {
    "duration": 16,
    "start_time": "2023-02-02T09:54:48.718Z"
   },
   {
    "duration": 183,
    "start_time": "2023-02-02T09:55:07.039Z"
   },
   {
    "duration": 13,
    "start_time": "2023-02-02T09:55:09.187Z"
   },
   {
    "duration": 10,
    "start_time": "2023-02-02T09:55:10.823Z"
   },
   {
    "duration": 43,
    "start_time": "2023-02-02T09:55:12.508Z"
   },
   {
    "duration": 14,
    "start_time": "2023-02-02T09:55:14.901Z"
   },
   {
    "duration": 10,
    "start_time": "2023-02-02T09:55:17.044Z"
   },
   {
    "duration": 493,
    "start_time": "2023-02-02T09:55:29.251Z"
   },
   {
    "duration": 13,
    "start_time": "2023-02-02T09:56:23.178Z"
   },
   {
    "duration": 6,
    "start_time": "2023-02-02T09:57:15.944Z"
   },
   {
    "duration": 13,
    "start_time": "2023-02-02T09:57:17.518Z"
   },
   {
    "duration": 407,
    "start_time": "2023-02-02T09:57:22.241Z"
   },
   {
    "duration": 8,
    "start_time": "2023-02-02T09:58:58.541Z"
   },
   {
    "duration": 12,
    "start_time": "2023-02-02T09:58:59.870Z"
   },
   {
    "duration": 456,
    "start_time": "2023-02-02T09:59:02.544Z"
   },
   {
    "duration": 1245,
    "start_time": "2023-02-02T09:59:08.257Z"
   },
   {
    "duration": 22,
    "start_time": "2023-02-02T09:59:28.672Z"
   },
   {
    "duration": 15,
    "start_time": "2023-02-02T09:59:39.938Z"
   },
   {
    "duration": 4,
    "start_time": "2023-02-02T10:00:02.619Z"
   },
   {
    "duration": 18,
    "start_time": "2023-02-02T10:00:03.947Z"
   },
   {
    "duration": 360,
    "start_time": "2023-02-02T10:00:06.700Z"
   },
   {
    "duration": 3,
    "start_time": "2023-02-02T10:00:13.303Z"
   },
   {
    "duration": 1611,
    "start_time": "2023-02-02T10:00:14.861Z"
   },
   {
    "duration": 610,
    "start_time": "2023-02-02T10:03:42.440Z"
   },
   {
    "duration": 7,
    "start_time": "2023-02-02T10:03:44.920Z"
   },
   {
    "duration": 4,
    "start_time": "2023-02-02T10:03:47.429Z"
   },
   {
    "duration": 657,
    "start_time": "2023-02-02T10:03:50.506Z"
   },
   {
    "duration": 629,
    "start_time": "2023-02-02T10:03:54.647Z"
   },
   {
    "duration": 809,
    "start_time": "2023-02-02T10:04:06.559Z"
   },
   {
    "duration": 765,
    "start_time": "2023-02-02T10:04:11.882Z"
   },
   {
    "duration": 139,
    "start_time": "2023-02-02T10:04:12.649Z"
   },
   {
    "duration": 50,
    "start_time": "2023-02-02T10:04:12.790Z"
   },
   {
    "duration": 10,
    "start_time": "2023-02-02T10:04:12.842Z"
   },
   {
    "duration": 54,
    "start_time": "2023-02-02T10:04:12.853Z"
   },
   {
    "duration": 19,
    "start_time": "2023-02-02T10:04:12.909Z"
   },
   {
    "duration": 38,
    "start_time": "2023-02-02T10:04:12.929Z"
   },
   {
    "duration": 53,
    "start_time": "2023-02-02T10:04:12.968Z"
   },
   {
    "duration": 18,
    "start_time": "2023-02-02T10:04:13.023Z"
   },
   {
    "duration": 28,
    "start_time": "2023-02-02T10:04:13.044Z"
   },
   {
    "duration": 156,
    "start_time": "2023-02-02T10:04:13.074Z"
   },
   {
    "duration": 9,
    "start_time": "2023-02-02T10:04:13.232Z"
   },
   {
    "duration": 42,
    "start_time": "2023-02-02T10:04:13.243Z"
   },
   {
    "duration": 48,
    "start_time": "2023-02-02T10:04:13.287Z"
   },
   {
    "duration": 46,
    "start_time": "2023-02-02T10:04:13.337Z"
   },
   {
    "duration": 57,
    "start_time": "2023-02-02T10:04:13.385Z"
   },
   {
    "duration": 42,
    "start_time": "2023-02-02T10:04:13.444Z"
   },
   {
    "duration": 65,
    "start_time": "2023-02-02T10:04:13.488Z"
   },
   {
    "duration": 55,
    "start_time": "2023-02-02T10:04:13.555Z"
   },
   {
    "duration": 52,
    "start_time": "2023-02-02T10:04:13.612Z"
   },
   {
    "duration": 36,
    "start_time": "2023-02-02T10:04:13.666Z"
   },
   {
    "duration": 474,
    "start_time": "2023-02-02T10:04:13.703Z"
   },
   {
    "duration": 0,
    "start_time": "2023-02-02T10:04:14.179Z"
   },
   {
    "duration": 0,
    "start_time": "2023-02-02T10:04:14.180Z"
   },
   {
    "duration": 0,
    "start_time": "2023-02-02T10:04:14.182Z"
   },
   {
    "duration": 0,
    "start_time": "2023-02-02T10:04:14.183Z"
   },
   {
    "duration": 0,
    "start_time": "2023-02-02T10:04:14.184Z"
   },
   {
    "duration": 0,
    "start_time": "2023-02-02T10:04:14.185Z"
   },
   {
    "duration": 0,
    "start_time": "2023-02-02T10:04:14.186Z"
   },
   {
    "duration": 0,
    "start_time": "2023-02-02T10:04:14.186Z"
   },
   {
    "duration": 0,
    "start_time": "2023-02-02T10:04:14.187Z"
   },
   {
    "duration": 0,
    "start_time": "2023-02-02T10:04:14.188Z"
   },
   {
    "duration": 0,
    "start_time": "2023-02-02T10:04:14.189Z"
   },
   {
    "duration": 0,
    "start_time": "2023-02-02T10:04:14.190Z"
   },
   {
    "duration": 0,
    "start_time": "2023-02-02T10:04:14.191Z"
   },
   {
    "duration": 0,
    "start_time": "2023-02-02T10:04:14.192Z"
   },
   {
    "duration": 0,
    "start_time": "2023-02-02T10:04:14.193Z"
   },
   {
    "duration": 0,
    "start_time": "2023-02-02T10:04:14.194Z"
   },
   {
    "duration": 0,
    "start_time": "2023-02-02T10:04:14.195Z"
   },
   {
    "duration": 0,
    "start_time": "2023-02-02T10:04:14.196Z"
   },
   {
    "duration": 0,
    "start_time": "2023-02-02T10:04:14.197Z"
   },
   {
    "duration": 0,
    "start_time": "2023-02-02T10:04:14.198Z"
   },
   {
    "duration": 4,
    "start_time": "2023-02-02T10:04:54.134Z"
   },
   {
    "duration": 460,
    "start_time": "2023-02-02T10:04:55.982Z"
   },
   {
    "duration": 6,
    "start_time": "2023-02-02T10:05:05.270Z"
   },
   {
    "duration": 6,
    "start_time": "2023-02-02T10:05:16.154Z"
   },
   {
    "duration": 45,
    "start_time": "2023-02-02T10:05:16.162Z"
   },
   {
    "duration": 38,
    "start_time": "2023-02-02T10:05:16.208Z"
   },
   {
    "duration": 35,
    "start_time": "2023-02-02T10:05:16.248Z"
   },
   {
    "duration": 6,
    "start_time": "2023-02-02T10:05:16.286Z"
   },
   {
    "duration": 32,
    "start_time": "2023-02-02T10:05:16.293Z"
   },
   {
    "duration": 24,
    "start_time": "2023-02-02T10:05:16.327Z"
   },
   {
    "duration": 36,
    "start_time": "2023-02-02T10:05:16.353Z"
   },
   {
    "duration": 352,
    "start_time": "2023-02-02T10:05:16.392Z"
   },
   {
    "duration": 20,
    "start_time": "2023-02-02T10:05:16.746Z"
   },
   {
    "duration": 18,
    "start_time": "2023-02-02T10:05:16.767Z"
   },
   {
    "duration": 1658,
    "start_time": "2023-02-02T10:05:16.787Z"
   },
   {
    "duration": 2646,
    "start_time": "2023-02-02T10:05:18.447Z"
   },
   {
    "duration": 1441,
    "start_time": "2023-02-02T10:05:21.095Z"
   },
   {
    "duration": 1416,
    "start_time": "2023-02-02T10:05:22.538Z"
   },
   {
    "duration": 1760,
    "start_time": "2023-02-02T10:05:23.956Z"
   },
   {
    "duration": 1897,
    "start_time": "2023-02-02T10:05:25.717Z"
   },
   {
    "duration": 1715,
    "start_time": "2023-02-02T10:05:27.616Z"
   },
   {
    "duration": 2412,
    "start_time": "2023-02-02T10:05:29.333Z"
   },
   {
    "duration": 38,
    "start_time": "2023-02-02T10:05:31.747Z"
   },
   {
    "duration": 647,
    "start_time": "2023-02-02T10:11:21.808Z"
   },
   {
    "duration": 6,
    "start_time": "2023-02-02T10:11:24.325Z"
   },
   {
    "duration": 4,
    "start_time": "2023-02-02T10:11:25.664Z"
   },
   {
    "duration": 645,
    "start_time": "2023-02-02T10:11:27.431Z"
   },
   {
    "duration": 669,
    "start_time": "2023-02-02T10:11:30.717Z"
   },
   {
    "duration": 7,
    "start_time": "2023-02-02T10:11:33.119Z"
   },
   {
    "duration": 169,
    "start_time": "2023-02-02T10:11:40.567Z"
   },
   {
    "duration": 13,
    "start_time": "2023-02-02T10:11:42.193Z"
   },
   {
    "duration": 4,
    "start_time": "2023-02-02T10:11:43.878Z"
   },
   {
    "duration": 29,
    "start_time": "2023-02-02T10:11:46.166Z"
   },
   {
    "duration": 9,
    "start_time": "2023-02-02T10:11:48.567Z"
   },
   {
    "duration": 10,
    "start_time": "2023-02-02T10:11:52.220Z"
   },
   {
    "duration": 7,
    "start_time": "2023-02-02T10:11:58.775Z"
   },
   {
    "duration": 7,
    "start_time": "2023-02-02T10:12:02.786Z"
   },
   {
    "duration": 55,
    "start_time": "2023-02-02T10:12:02.795Z"
   },
   {
    "duration": 52,
    "start_time": "2023-02-02T10:12:02.852Z"
   },
   {
    "duration": 60,
    "start_time": "2023-02-02T10:12:02.906Z"
   },
   {
    "duration": 60,
    "start_time": "2023-02-02T10:12:02.969Z"
   },
   {
    "duration": 44,
    "start_time": "2023-02-02T10:12:03.030Z"
   },
   {
    "duration": 41,
    "start_time": "2023-02-02T10:12:03.076Z"
   },
   {
    "duration": 52,
    "start_time": "2023-02-02T10:12:03.118Z"
   },
   {
    "duration": 48,
    "start_time": "2023-02-02T10:12:03.172Z"
   },
   {
    "duration": 42,
    "start_time": "2023-02-02T10:12:03.221Z"
   },
   {
    "duration": 95,
    "start_time": "2023-02-02T10:12:03.266Z"
   },
   {
    "duration": 0,
    "start_time": "2023-02-02T10:12:03.363Z"
   },
   {
    "duration": 0,
    "start_time": "2023-02-02T10:12:03.364Z"
   },
   {
    "duration": 0,
    "start_time": "2023-02-02T10:12:03.365Z"
   },
   {
    "duration": 0,
    "start_time": "2023-02-02T10:12:03.366Z"
   },
   {
    "duration": 0,
    "start_time": "2023-02-02T10:12:03.367Z"
   },
   {
    "duration": 0,
    "start_time": "2023-02-02T10:12:03.368Z"
   },
   {
    "duration": 0,
    "start_time": "2023-02-02T10:12:03.369Z"
   },
   {
    "duration": 0,
    "start_time": "2023-02-02T10:12:03.370Z"
   },
   {
    "duration": 0,
    "start_time": "2023-02-02T10:12:03.371Z"
   },
   {
    "duration": 0,
    "start_time": "2023-02-02T10:12:03.372Z"
   },
   {
    "duration": 0,
    "start_time": "2023-02-02T10:12:03.373Z"
   },
   {
    "duration": 0,
    "start_time": "2023-02-02T10:12:03.374Z"
   },
   {
    "duration": 0,
    "start_time": "2023-02-02T10:12:03.375Z"
   },
   {
    "duration": 0,
    "start_time": "2023-02-02T10:12:03.376Z"
   },
   {
    "duration": 0,
    "start_time": "2023-02-02T10:12:03.377Z"
   },
   {
    "duration": 0,
    "start_time": "2023-02-02T10:12:03.378Z"
   },
   {
    "duration": 0,
    "start_time": "2023-02-02T10:12:03.379Z"
   },
   {
    "duration": 0,
    "start_time": "2023-02-02T10:12:03.380Z"
   },
   {
    "duration": 0,
    "start_time": "2023-02-02T10:12:03.381Z"
   },
   {
    "duration": 0,
    "start_time": "2023-02-02T10:12:03.382Z"
   },
   {
    "duration": 6,
    "start_time": "2023-02-02T10:12:35.841Z"
   },
   {
    "duration": 11,
    "start_time": "2023-02-02T10:12:37.123Z"
   },
   {
    "duration": 6,
    "start_time": "2023-02-02T10:14:03.478Z"
   },
   {
    "duration": 8,
    "start_time": "2023-02-02T10:14:27.110Z"
   },
   {
    "duration": 6,
    "start_time": "2023-02-02T10:14:30.220Z"
   },
   {
    "duration": 7,
    "start_time": "2023-02-02T10:14:33.310Z"
   },
   {
    "duration": 4,
    "start_time": "2023-02-02T10:14:37.045Z"
   },
   {
    "duration": 7,
    "start_time": "2023-02-02T10:14:38.784Z"
   },
   {
    "duration": 6,
    "start_time": "2023-02-02T10:16:15.366Z"
   },
   {
    "duration": 442,
    "start_time": "2023-02-02T10:16:26.424Z"
   },
   {
    "duration": 5,
    "start_time": "2023-02-02T10:16:32.875Z"
   },
   {
    "duration": 457,
    "start_time": "2023-02-02T10:16:34.251Z"
   },
   {
    "duration": 1187,
    "start_time": "2023-02-02T10:16:52.438Z"
   },
   {
    "duration": 7,
    "start_time": "2023-02-02T10:17:17.619Z"
   },
   {
    "duration": 31,
    "start_time": "2023-02-02T10:17:21.110Z"
   },
   {
    "duration": 4,
    "start_time": "2023-02-02T10:17:26.825Z"
   },
   {
    "duration": 15,
    "start_time": "2023-02-02T10:17:29.039Z"
   },
   {
    "duration": 12,
    "start_time": "2023-02-02T10:17:36.294Z"
   },
   {
    "duration": 4,
    "start_time": "2023-02-02T10:17:49.837Z"
   },
   {
    "duration": 14,
    "start_time": "2023-02-02T10:17:51.233Z"
   },
   {
    "duration": 318,
    "start_time": "2023-02-02T10:17:57.267Z"
   },
   {
    "duration": 3,
    "start_time": "2023-02-02T10:18:03.242Z"
   },
   {
    "duration": 1436,
    "start_time": "2023-02-02T10:18:06.891Z"
   },
   {
    "duration": 1308,
    "start_time": "2023-02-02T10:19:13.426Z"
   },
   {
    "duration": 8,
    "start_time": "2023-02-02T10:25:38.940Z"
   },
   {
    "duration": 1374,
    "start_time": "2023-02-02T10:26:09.873Z"
   },
   {
    "duration": 403,
    "start_time": "2023-02-02T10:26:17.319Z"
   },
   {
    "duration": 7,
    "start_time": "2023-02-02T10:26:23.804Z"
   },
   {
    "duration": 486,
    "start_time": "2023-02-02T10:26:25.409Z"
   },
   {
    "duration": 1249,
    "start_time": "2023-02-02T10:26:30.236Z"
   },
   {
    "duration": 1247,
    "start_time": "2023-02-02T10:26:54.834Z"
   },
   {
    "duration": 11,
    "start_time": "2023-02-02T10:27:57.102Z"
   },
   {
    "duration": 1321,
    "start_time": "2023-02-02T10:28:02.621Z"
   },
   {
    "duration": 733,
    "start_time": "2023-02-02T10:36:40.110Z"
   },
   {
    "duration": 6,
    "start_time": "2023-02-02T10:36:40.845Z"
   },
   {
    "duration": 11,
    "start_time": "2023-02-02T10:36:40.853Z"
   },
   {
    "duration": 670,
    "start_time": "2023-02-02T10:36:40.866Z"
   },
   {
    "duration": 628,
    "start_time": "2023-02-02T10:36:41.538Z"
   },
   {
    "duration": 786,
    "start_time": "2023-02-02T10:36:42.168Z"
   },
   {
    "duration": 146,
    "start_time": "2023-02-02T10:36:42.955Z"
   },
   {
    "duration": 53,
    "start_time": "2023-02-02T10:36:43.103Z"
   },
   {
    "duration": 10,
    "start_time": "2023-02-02T10:36:43.157Z"
   },
   {
    "duration": 39,
    "start_time": "2023-02-02T10:36:43.170Z"
   },
   {
    "duration": 30,
    "start_time": "2023-02-02T10:36:43.211Z"
   },
   {
    "duration": 25,
    "start_time": "2023-02-02T10:36:43.243Z"
   },
   {
    "duration": 32,
    "start_time": "2023-02-02T10:36:43.270Z"
   },
   {
    "duration": 56,
    "start_time": "2023-02-02T10:36:43.304Z"
   },
   {
    "duration": 10,
    "start_time": "2023-02-02T10:36:43.361Z"
   },
   {
    "duration": 38,
    "start_time": "2023-02-02T10:36:43.373Z"
   },
   {
    "duration": 152,
    "start_time": "2023-02-02T10:36:48.641Z"
   },
   {
    "duration": 7,
    "start_time": "2023-02-02T10:36:59.123Z"
   },
   {
    "duration": 7,
    "start_time": "2023-02-02T10:37:01.195Z"
   },
   {
    "duration": 8,
    "start_time": "2023-02-02T10:37:02.497Z"
   },
   {
    "duration": 9,
    "start_time": "2023-02-02T10:37:04.729Z"
   },
   {
    "duration": 3,
    "start_time": "2023-02-02T10:37:05.787Z"
   },
   {
    "duration": 9,
    "start_time": "2023-02-02T10:37:07.341Z"
   },
   {
    "duration": 7,
    "start_time": "2023-02-02T10:37:09.204Z"
   },
   {
    "duration": 10,
    "start_time": "2023-02-02T10:37:13.241Z"
   },
   {
    "duration": 470,
    "start_time": "2023-02-02T10:37:17.447Z"
   },
   {
    "duration": 81,
    "start_time": "2023-02-02T10:37:21.660Z"
   },
   {
    "duration": 21,
    "start_time": "2023-02-02T10:37:43.172Z"
   },
   {
    "duration": 5,
    "start_time": "2023-02-02T10:37:55.729Z"
   },
   {
    "duration": 15,
    "start_time": "2023-02-02T10:37:57.369Z"
   },
   {
    "duration": 299,
    "start_time": "2023-02-02T10:37:59.342Z"
   },
   {
    "duration": 20,
    "start_time": "2023-02-02T10:38:05.436Z"
   },
   {
    "duration": 3,
    "start_time": "2023-02-02T10:38:08.876Z"
   },
   {
    "duration": 1512,
    "start_time": "2023-02-02T10:38:10.248Z"
   },
   {
    "duration": 730,
    "start_time": "2023-02-02T10:41:29.793Z"
   },
   {
    "duration": 7,
    "start_time": "2023-02-02T10:41:30.526Z"
   },
   {
    "duration": 77,
    "start_time": "2023-02-02T10:41:30.535Z"
   },
   {
    "duration": 699,
    "start_time": "2023-02-02T10:41:30.615Z"
   },
   {
    "duration": 629,
    "start_time": "2023-02-02T10:41:31.315Z"
   },
   {
    "duration": 777,
    "start_time": "2023-02-02T10:41:31.946Z"
   },
   {
    "duration": 141,
    "start_time": "2023-02-02T10:41:32.724Z"
   },
   {
    "duration": 43,
    "start_time": "2023-02-02T10:41:32.866Z"
   },
   {
    "duration": 19,
    "start_time": "2023-02-02T10:41:32.911Z"
   },
   {
    "duration": 26,
    "start_time": "2023-02-02T10:41:32.933Z"
   },
   {
    "duration": 5,
    "start_time": "2023-02-02T10:41:32.960Z"
   },
   {
    "duration": 16,
    "start_time": "2023-02-02T10:41:32.966Z"
   },
   {
    "duration": 53,
    "start_time": "2023-02-02T10:41:32.983Z"
   },
   {
    "duration": 8,
    "start_time": "2023-02-02T10:41:33.038Z"
   },
   {
    "duration": 13,
    "start_time": "2023-02-02T10:41:33.047Z"
   },
   {
    "duration": 160,
    "start_time": "2023-02-02T10:41:33.062Z"
   },
   {
    "duration": 9,
    "start_time": "2023-02-02T10:41:33.223Z"
   },
   {
    "duration": 10,
    "start_time": "2023-02-02T10:41:33.234Z"
   },
   {
    "duration": 11,
    "start_time": "2023-02-02T10:41:33.246Z"
   },
   {
    "duration": 14,
    "start_time": "2023-02-02T10:41:33.259Z"
   },
   {
    "duration": 9,
    "start_time": "2023-02-02T10:41:33.275Z"
   },
   {
    "duration": 10,
    "start_time": "2023-02-02T10:41:33.286Z"
   },
   {
    "duration": 10,
    "start_time": "2023-02-02T10:41:33.298Z"
   },
   {
    "duration": 28,
    "start_time": "2023-02-02T10:41:33.309Z"
   },
   {
    "duration": 474,
    "start_time": "2023-02-02T10:41:33.338Z"
   },
   {
    "duration": 6,
    "start_time": "2023-02-02T10:41:33.813Z"
   },
   {
    "duration": 21,
    "start_time": "2023-02-02T10:41:33.827Z"
   },
   {
    "duration": 19,
    "start_time": "2023-02-02T10:41:33.852Z"
   },
   {
    "duration": 25,
    "start_time": "2023-02-02T10:41:33.873Z"
   },
   {
    "duration": 29,
    "start_time": "2023-02-02T10:41:33.900Z"
   },
   {
    "duration": 15,
    "start_time": "2023-02-02T10:41:33.931Z"
   },
   {
    "duration": 13,
    "start_time": "2023-02-02T10:41:33.948Z"
   },
   {
    "duration": 339,
    "start_time": "2023-02-02T10:41:33.963Z"
   },
   {
    "duration": 36,
    "start_time": "2023-02-02T10:41:34.304Z"
   },
   {
    "duration": 3,
    "start_time": "2023-02-02T10:41:34.342Z"
   },
   {
    "duration": 1570,
    "start_time": "2023-02-02T10:41:34.347Z"
   },
   {
    "duration": 2626,
    "start_time": "2023-02-02T10:41:35.927Z"
   },
   {
    "duration": 1475,
    "start_time": "2023-02-02T10:41:38.555Z"
   },
   {
    "duration": 1441,
    "start_time": "2023-02-02T10:41:40.033Z"
   },
   {
    "duration": 1741,
    "start_time": "2023-02-02T10:41:41.476Z"
   },
   {
    "duration": 1894,
    "start_time": "2023-02-02T10:41:43.219Z"
   },
   {
    "duration": 1748,
    "start_time": "2023-02-02T10:41:45.116Z"
   },
   {
    "duration": 2272,
    "start_time": "2023-02-02T10:41:46.866Z"
   },
   {
    "duration": 38,
    "start_time": "2023-02-02T10:41:49.140Z"
   },
   {
    "duration": 845,
    "start_time": "2023-02-02T19:42:45.938Z"
   },
   {
    "duration": 5,
    "start_time": "2023-02-02T19:42:46.785Z"
   },
   {
    "duration": 6,
    "start_time": "2023-02-02T19:42:46.792Z"
   },
   {
    "duration": 926,
    "start_time": "2023-02-02T19:42:46.800Z"
   },
   {
    "duration": 571,
    "start_time": "2023-02-02T19:42:47.727Z"
   },
   {
    "duration": 734,
    "start_time": "2023-02-02T19:42:48.300Z"
   },
   {
    "duration": 132,
    "start_time": "2023-02-02T19:42:49.035Z"
   },
   {
    "duration": 46,
    "start_time": "2023-02-02T19:42:49.169Z"
   },
   {
    "duration": 11,
    "start_time": "2023-02-02T19:42:49.227Z"
   },
   {
    "duration": 27,
    "start_time": "2023-02-02T19:42:49.240Z"
   },
   {
    "duration": 4,
    "start_time": "2023-02-02T19:42:49.269Z"
   },
   {
    "duration": 16,
    "start_time": "2023-02-02T19:42:49.275Z"
   },
   {
    "duration": 48,
    "start_time": "2023-02-02T19:42:49.293Z"
   },
   {
    "duration": 10,
    "start_time": "2023-02-02T19:42:49.343Z"
   },
   {
    "duration": 11,
    "start_time": "2023-02-02T19:42:49.354Z"
   },
   {
    "duration": 148,
    "start_time": "2023-02-02T19:42:49.367Z"
   },
   {
    "duration": 7,
    "start_time": "2023-02-02T19:42:53.075Z"
   },
   {
    "duration": 7,
    "start_time": "2023-02-02T19:42:57.805Z"
   },
   {
    "duration": 8,
    "start_time": "2023-02-02T19:43:02.669Z"
   },
   {
    "duration": 9,
    "start_time": "2023-02-02T19:43:02.679Z"
   },
   {
    "duration": 9,
    "start_time": "2023-02-02T19:43:02.690Z"
   },
   {
    "duration": 9,
    "start_time": "2023-02-02T19:43:02.701Z"
   },
   {
    "duration": 8,
    "start_time": "2023-02-02T19:43:02.712Z"
   },
   {
    "duration": 16,
    "start_time": "2023-02-02T19:43:02.721Z"
   },
   {
    "duration": 10,
    "start_time": "2023-02-02T19:43:02.761Z"
   },
   {
    "duration": 462,
    "start_time": "2023-02-02T19:43:02.773Z"
   },
   {
    "duration": 0,
    "start_time": "2023-02-02T19:43:03.237Z"
   },
   {
    "duration": 0,
    "start_time": "2023-02-02T19:43:03.238Z"
   },
   {
    "duration": 0,
    "start_time": "2023-02-02T19:43:03.240Z"
   },
   {
    "duration": 0,
    "start_time": "2023-02-02T19:43:03.240Z"
   },
   {
    "duration": 0,
    "start_time": "2023-02-02T19:43:03.242Z"
   },
   {
    "duration": 0,
    "start_time": "2023-02-02T19:43:03.243Z"
   },
   {
    "duration": 0,
    "start_time": "2023-02-02T19:43:03.244Z"
   },
   {
    "duration": 0,
    "start_time": "2023-02-02T19:43:03.245Z"
   },
   {
    "duration": 0,
    "start_time": "2023-02-02T19:43:03.246Z"
   },
   {
    "duration": 0,
    "start_time": "2023-02-02T19:43:03.247Z"
   },
   {
    "duration": 0,
    "start_time": "2023-02-02T19:43:03.248Z"
   },
   {
    "duration": 0,
    "start_time": "2023-02-02T19:43:03.249Z"
   },
   {
    "duration": 0,
    "start_time": "2023-02-02T19:43:03.250Z"
   },
   {
    "duration": 0,
    "start_time": "2023-02-02T19:43:03.251Z"
   },
   {
    "duration": 0,
    "start_time": "2023-02-02T19:43:03.252Z"
   },
   {
    "duration": 0,
    "start_time": "2023-02-02T19:43:03.253Z"
   },
   {
    "duration": 0,
    "start_time": "2023-02-02T19:43:03.254Z"
   },
   {
    "duration": 0,
    "start_time": "2023-02-02T19:43:03.255Z"
   },
   {
    "duration": 0,
    "start_time": "2023-02-02T19:43:03.256Z"
   },
   {
    "duration": 12,
    "start_time": "2023-02-02T19:43:56.301Z"
   },
   {
    "duration": 454,
    "start_time": "2023-02-02T19:43:58.508Z"
   },
   {
    "duration": 1163,
    "start_time": "2023-02-02T19:44:06.274Z"
   },
   {
    "duration": 19,
    "start_time": "2023-02-02T19:44:14.024Z"
   },
   {
    "duration": 20,
    "start_time": "2023-02-02T19:44:17.673Z"
   },
   {
    "duration": 19,
    "start_time": "2023-02-02T19:44:17.695Z"
   },
   {
    "duration": 22,
    "start_time": "2023-02-02T19:44:17.716Z"
   },
   {
    "duration": 4,
    "start_time": "2023-02-02T19:44:17.740Z"
   },
   {
    "duration": 13,
    "start_time": "2023-02-02T19:44:17.746Z"
   },
   {
    "duration": 12,
    "start_time": "2023-02-02T19:44:17.761Z"
   },
   {
    "duration": 0,
    "start_time": "2023-02-02T19:44:17.775Z"
   },
   {
    "duration": 0,
    "start_time": "2023-02-02T19:44:17.776Z"
   },
   {
    "duration": 0,
    "start_time": "2023-02-02T19:44:17.777Z"
   },
   {
    "duration": 1,
    "start_time": "2023-02-02T19:44:17.778Z"
   },
   {
    "duration": 0,
    "start_time": "2023-02-02T19:44:17.780Z"
   },
   {
    "duration": 0,
    "start_time": "2023-02-02T19:44:17.780Z"
   },
   {
    "duration": 0,
    "start_time": "2023-02-02T19:44:17.782Z"
   },
   {
    "duration": 0,
    "start_time": "2023-02-02T19:44:17.783Z"
   },
   {
    "duration": 0,
    "start_time": "2023-02-02T19:44:17.784Z"
   },
   {
    "duration": 0,
    "start_time": "2023-02-02T19:44:17.785Z"
   },
   {
    "duration": 0,
    "start_time": "2023-02-02T19:44:17.786Z"
   },
   {
    "duration": 0,
    "start_time": "2023-02-02T19:44:17.787Z"
   },
   {
    "duration": 6,
    "start_time": "2023-02-02T19:44:45.076Z"
   },
   {
    "duration": 16,
    "start_time": "2023-02-02T19:44:46.327Z"
   },
   {
    "duration": 336,
    "start_time": "2023-02-02T19:44:49.210Z"
   },
   {
    "duration": 321,
    "start_time": "2023-02-02T19:44:52.226Z"
   },
   {
    "duration": 23,
    "start_time": "2023-02-02T19:44:52.549Z"
   },
   {
    "duration": 3,
    "start_time": "2023-02-02T19:44:52.574Z"
   },
   {
    "duration": 1250,
    "start_time": "2023-02-02T19:44:52.578Z"
   },
   {
    "duration": 0,
    "start_time": "2023-02-02T19:44:53.830Z"
   },
   {
    "duration": 0,
    "start_time": "2023-02-02T19:44:53.831Z"
   },
   {
    "duration": 0,
    "start_time": "2023-02-02T19:44:53.833Z"
   },
   {
    "duration": 0,
    "start_time": "2023-02-02T19:44:53.834Z"
   },
   {
    "duration": 0,
    "start_time": "2023-02-02T19:44:53.836Z"
   },
   {
    "duration": 0,
    "start_time": "2023-02-02T19:44:53.837Z"
   },
   {
    "duration": 0,
    "start_time": "2023-02-02T19:44:53.838Z"
   },
   {
    "duration": 0,
    "start_time": "2023-02-02T19:44:53.839Z"
   },
   {
    "duration": 64,
    "start_time": "2023-02-02T19:48:04.129Z"
   },
   {
    "duration": 1298,
    "start_time": "2023-02-02T19:48:05.885Z"
   },
   {
    "duration": 639,
    "start_time": "2023-02-02T19:49:20.930Z"
   },
   {
    "duration": 6,
    "start_time": "2023-02-02T19:49:21.571Z"
   },
   {
    "duration": 10,
    "start_time": "2023-02-02T19:49:21.578Z"
   },
   {
    "duration": 590,
    "start_time": "2023-02-02T19:49:21.589Z"
   },
   {
    "duration": 563,
    "start_time": "2023-02-02T19:49:22.181Z"
   },
   {
    "duration": 783,
    "start_time": "2023-02-02T19:49:22.746Z"
   },
   {
    "duration": 131,
    "start_time": "2023-02-02T19:49:23.531Z"
   },
   {
    "duration": 43,
    "start_time": "2023-02-02T19:49:23.664Z"
   },
   {
    "duration": 20,
    "start_time": "2023-02-02T19:49:23.709Z"
   },
   {
    "duration": 25,
    "start_time": "2023-02-02T19:49:23.731Z"
   },
   {
    "duration": 5,
    "start_time": "2023-02-02T19:49:23.757Z"
   },
   {
    "duration": 31,
    "start_time": "2023-02-02T19:49:23.763Z"
   },
   {
    "duration": 41,
    "start_time": "2023-02-02T19:49:23.796Z"
   },
   {
    "duration": 10,
    "start_time": "2023-02-02T19:49:23.838Z"
   },
   {
    "duration": 18,
    "start_time": "2023-02-02T19:49:23.850Z"
   },
   {
    "duration": 163,
    "start_time": "2023-02-02T19:49:23.870Z"
   },
   {
    "duration": 7,
    "start_time": "2023-02-02T19:49:24.035Z"
   },
   {
    "duration": 23,
    "start_time": "2023-02-02T19:49:24.044Z"
   },
   {
    "duration": 13,
    "start_time": "2023-02-02T19:49:24.069Z"
   },
   {
    "duration": 23,
    "start_time": "2023-02-02T19:49:24.083Z"
   },
   {
    "duration": 7,
    "start_time": "2023-02-02T19:49:24.107Z"
   },
   {
    "duration": 11,
    "start_time": "2023-02-02T19:49:24.116Z"
   },
   {
    "duration": 25,
    "start_time": "2023-02-02T19:49:24.129Z"
   },
   {
    "duration": 20,
    "start_time": "2023-02-02T19:49:24.155Z"
   },
   {
    "duration": 467,
    "start_time": "2023-02-02T19:49:24.176Z"
   },
   {
    "duration": 5,
    "start_time": "2023-02-02T19:49:24.645Z"
   },
   {
    "duration": 34,
    "start_time": "2023-02-02T19:49:24.652Z"
   },
   {
    "duration": 23,
    "start_time": "2023-02-02T19:49:24.690Z"
   },
   {
    "duration": 30,
    "start_time": "2023-02-02T19:49:24.728Z"
   },
   {
    "duration": 4,
    "start_time": "2023-02-02T19:49:24.760Z"
   },
   {
    "duration": 20,
    "start_time": "2023-02-02T19:49:24.766Z"
   },
   {
    "duration": 26,
    "start_time": "2023-02-02T19:49:24.788Z"
   },
   {
    "duration": 340,
    "start_time": "2023-02-02T19:49:24.816Z"
   },
   {
    "duration": 18,
    "start_time": "2023-02-02T19:49:25.158Z"
   },
   {
    "duration": 3,
    "start_time": "2023-02-02T19:49:25.177Z"
   },
   {
    "duration": 1645,
    "start_time": "2023-02-02T19:49:25.182Z"
   },
   {
    "duration": 2659,
    "start_time": "2023-02-02T19:49:26.829Z"
   },
   {
    "duration": 1530,
    "start_time": "2023-02-02T19:49:29.490Z"
   },
   {
    "duration": 1382,
    "start_time": "2023-02-02T19:49:31.022Z"
   },
   {
    "duration": 1707,
    "start_time": "2023-02-02T19:49:32.405Z"
   },
   {
    "duration": 1920,
    "start_time": "2023-02-02T19:49:34.114Z"
   },
   {
    "duration": 1702,
    "start_time": "2023-02-02T19:49:36.035Z"
   },
   {
    "duration": 2388,
    "start_time": "2023-02-02T19:49:37.739Z"
   },
   {
    "duration": 35,
    "start_time": "2023-02-02T19:49:40.129Z"
   },
   {
    "duration": 78,
    "start_time": "2023-02-03T14:03:05.490Z"
   },
   {
    "duration": 786,
    "start_time": "2023-02-03T14:03:33.427Z"
   },
   {
    "duration": 5,
    "start_time": "2023-02-03T14:03:34.215Z"
   },
   {
    "duration": 15,
    "start_time": "2023-02-03T14:03:34.221Z"
   },
   {
    "duration": 2398,
    "start_time": "2023-02-03T14:03:34.244Z"
   },
   {
    "duration": 536,
    "start_time": "2023-02-03T14:03:36.645Z"
   },
   {
    "duration": 813,
    "start_time": "2023-02-03T14:03:37.182Z"
   },
   {
    "duration": 168,
    "start_time": "2023-02-03T14:03:37.997Z"
   },
   {
    "duration": 39,
    "start_time": "2023-02-03T14:03:38.168Z"
   },
   {
    "duration": 19,
    "start_time": "2023-02-03T14:03:38.209Z"
   },
   {
    "duration": 39,
    "start_time": "2023-02-03T14:03:38.230Z"
   },
   {
    "duration": 4,
    "start_time": "2023-02-03T14:03:38.270Z"
   },
   {
    "duration": 14,
    "start_time": "2023-02-03T14:03:38.275Z"
   },
   {
    "duration": 27,
    "start_time": "2023-02-03T14:03:38.291Z"
   },
   {
    "duration": 18,
    "start_time": "2023-02-03T14:03:38.321Z"
   },
   {
    "duration": 32,
    "start_time": "2023-02-03T14:03:38.341Z"
   },
   {
    "duration": 128,
    "start_time": "2023-02-03T14:03:38.375Z"
   },
   {
    "duration": 7,
    "start_time": "2023-02-03T14:03:38.504Z"
   },
   {
    "duration": 23,
    "start_time": "2023-02-03T14:03:38.513Z"
   },
   {
    "duration": 32,
    "start_time": "2023-02-03T14:03:38.538Z"
   },
   {
    "duration": 10,
    "start_time": "2023-02-03T14:03:38.572Z"
   },
   {
    "duration": 8,
    "start_time": "2023-02-03T14:03:38.584Z"
   },
   {
    "duration": 11,
    "start_time": "2023-02-03T14:03:38.594Z"
   },
   {
    "duration": 12,
    "start_time": "2023-02-03T14:03:38.607Z"
   },
   {
    "duration": 50,
    "start_time": "2023-02-03T14:03:38.621Z"
   },
   {
    "duration": 438,
    "start_time": "2023-02-03T14:03:38.673Z"
   },
   {
    "duration": 18,
    "start_time": "2023-02-03T14:03:39.113Z"
   },
   {
    "duration": 25,
    "start_time": "2023-02-03T14:03:39.133Z"
   },
   {
    "duration": 21,
    "start_time": "2023-02-03T14:03:39.160Z"
   },
   {
    "duration": 20,
    "start_time": "2023-02-03T14:03:39.183Z"
   },
   {
    "duration": 30,
    "start_time": "2023-02-03T14:03:39.204Z"
   },
   {
    "duration": 15,
    "start_time": "2023-02-03T14:03:39.245Z"
   },
   {
    "duration": 14,
    "start_time": "2023-02-03T14:03:39.262Z"
   },
   {
    "duration": 539,
    "start_time": "2023-02-03T14:03:39.277Z"
   },
   {
    "duration": 615,
    "start_time": "2023-02-03T14:04:36.566Z"
   },
   {
    "duration": 664,
    "start_time": "2023-02-03T14:07:09.500Z"
   },
   {
    "duration": 654,
    "start_time": "2023-02-03T14:07:20.974Z"
   },
   {
    "duration": 20,
    "start_time": "2023-02-03T14:14:14.216Z"
   },
   {
    "duration": 3,
    "start_time": "2023-02-03T14:15:00.153Z"
   },
   {
    "duration": 1530,
    "start_time": "2023-02-03T14:15:01.467Z"
   },
   {
    "duration": 13,
    "start_time": "2023-02-03T14:16:01.885Z"
   },
   {
    "duration": 425,
    "start_time": "2023-02-03T14:18:21.873Z"
   },
   {
    "duration": 647,
    "start_time": "2023-02-03T14:20:15.077Z"
   },
   {
    "duration": 7,
    "start_time": "2023-02-03T14:20:15.725Z"
   },
   {
    "duration": 25,
    "start_time": "2023-02-03T14:20:15.734Z"
   },
   {
    "duration": 622,
    "start_time": "2023-02-03T14:20:15.761Z"
   },
   {
    "duration": 614,
    "start_time": "2023-02-03T14:20:16.385Z"
   },
   {
    "duration": 787,
    "start_time": "2023-02-03T14:20:17.000Z"
   },
   {
    "duration": 146,
    "start_time": "2023-02-03T14:20:17.789Z"
   },
   {
    "duration": 49,
    "start_time": "2023-02-03T14:20:17.937Z"
   },
   {
    "duration": 10,
    "start_time": "2023-02-03T14:20:17.987Z"
   },
   {
    "duration": 40,
    "start_time": "2023-02-03T14:20:17.999Z"
   },
   {
    "duration": 17,
    "start_time": "2023-02-03T14:20:18.043Z"
   },
   {
    "duration": 13,
    "start_time": "2023-02-03T14:20:18.061Z"
   },
   {
    "duration": 27,
    "start_time": "2023-02-03T14:20:18.075Z"
   },
   {
    "duration": 69,
    "start_time": "2023-02-03T14:20:18.104Z"
   },
   {
    "duration": 8,
    "start_time": "2023-02-03T14:20:18.175Z"
   },
   {
    "duration": 129,
    "start_time": "2023-02-03T14:20:18.184Z"
   },
   {
    "duration": 6,
    "start_time": "2023-02-03T14:20:18.315Z"
   },
   {
    "duration": 34,
    "start_time": "2023-02-03T14:20:18.323Z"
   },
   {
    "duration": 13,
    "start_time": "2023-02-03T14:20:18.358Z"
   },
   {
    "duration": 11,
    "start_time": "2023-02-03T14:20:18.372Z"
   },
   {
    "duration": 10,
    "start_time": "2023-02-03T14:20:18.384Z"
   },
   {
    "duration": 8,
    "start_time": "2023-02-03T14:20:18.395Z"
   },
   {
    "duration": 10,
    "start_time": "2023-02-03T14:20:18.404Z"
   },
   {
    "duration": 11,
    "start_time": "2023-02-03T14:20:18.415Z"
   },
   {
    "duration": 475,
    "start_time": "2023-02-03T14:20:18.427Z"
   },
   {
    "duration": 5,
    "start_time": "2023-02-03T14:20:18.903Z"
   },
   {
    "duration": 42,
    "start_time": "2023-02-03T14:20:18.909Z"
   },
   {
    "duration": 16,
    "start_time": "2023-02-03T14:20:18.955Z"
   },
   {
    "duration": 17,
    "start_time": "2023-02-03T14:20:18.973Z"
   },
   {
    "duration": 4,
    "start_time": "2023-02-03T14:20:18.992Z"
   },
   {
    "duration": 14,
    "start_time": "2023-02-03T14:20:18.998Z"
   },
   {
    "duration": 28,
    "start_time": "2023-02-03T14:20:19.014Z"
   },
   {
    "duration": 787,
    "start_time": "2023-02-03T14:20:19.044Z"
   },
   {
    "duration": 23,
    "start_time": "2023-02-03T14:20:19.834Z"
   },
   {
    "duration": 3,
    "start_time": "2023-02-03T14:20:19.859Z"
   },
   {
    "duration": 17,
    "start_time": "2023-02-03T14:20:19.863Z"
   },
   {
    "duration": 1412,
    "start_time": "2023-02-03T14:20:19.882Z"
   },
   {
    "duration": 10,
    "start_time": "2023-02-03T14:39:49.932Z"
   },
   {
    "duration": 645,
    "start_time": "2023-02-03T14:40:13.414Z"
   },
   {
    "duration": 7,
    "start_time": "2023-02-03T14:40:14.060Z"
   },
   {
    "duration": 8,
    "start_time": "2023-02-03T14:40:14.068Z"
   },
   {
    "duration": 580,
    "start_time": "2023-02-03T14:40:14.078Z"
   },
   {
    "duration": 541,
    "start_time": "2023-02-03T14:40:14.660Z"
   },
   {
    "duration": 716,
    "start_time": "2023-02-03T14:40:15.203Z"
   },
   {
    "duration": 122,
    "start_time": "2023-02-03T14:40:15.928Z"
   },
   {
    "duration": 40,
    "start_time": "2023-02-03T14:40:16.052Z"
   },
   {
    "duration": 10,
    "start_time": "2023-02-03T14:40:16.094Z"
   },
   {
    "duration": 43,
    "start_time": "2023-02-03T14:40:16.106Z"
   },
   {
    "duration": 3,
    "start_time": "2023-02-03T14:40:16.151Z"
   },
   {
    "duration": 12,
    "start_time": "2023-02-03T14:40:16.155Z"
   },
   {
    "duration": 25,
    "start_time": "2023-02-03T14:40:16.168Z"
   },
   {
    "duration": 8,
    "start_time": "2023-02-03T14:40:16.195Z"
   },
   {
    "duration": 29,
    "start_time": "2023-02-03T14:40:16.204Z"
   },
   {
    "duration": 135,
    "start_time": "2023-02-03T14:40:16.235Z"
   },
   {
    "duration": 8,
    "start_time": "2023-02-03T14:40:16.371Z"
   },
   {
    "duration": 9,
    "start_time": "2023-02-03T14:40:16.380Z"
   },
   {
    "duration": 9,
    "start_time": "2023-02-03T14:40:16.391Z"
   },
   {
    "duration": 9,
    "start_time": "2023-02-03T14:40:16.401Z"
   },
   {
    "duration": 18,
    "start_time": "2023-02-03T14:40:16.411Z"
   },
   {
    "duration": 8,
    "start_time": "2023-02-03T14:40:16.431Z"
   },
   {
    "duration": 8,
    "start_time": "2023-02-03T14:40:16.440Z"
   },
   {
    "duration": 10,
    "start_time": "2023-02-03T14:40:16.449Z"
   },
   {
    "duration": 475,
    "start_time": "2023-02-03T14:40:16.461Z"
   },
   {
    "duration": 5,
    "start_time": "2023-02-03T14:40:16.937Z"
   },
   {
    "duration": 20,
    "start_time": "2023-02-03T14:40:16.944Z"
   },
   {
    "duration": 16,
    "start_time": "2023-02-03T14:40:16.965Z"
   },
   {
    "duration": 19,
    "start_time": "2023-02-03T14:40:16.982Z"
   },
   {
    "duration": 29,
    "start_time": "2023-02-03T14:40:17.002Z"
   },
   {
    "duration": 16,
    "start_time": "2023-02-03T14:40:17.033Z"
   },
   {
    "duration": 20,
    "start_time": "2023-02-03T14:40:17.050Z"
   },
   {
    "duration": 848,
    "start_time": "2023-02-03T14:40:17.072Z"
   },
   {
    "duration": 14,
    "start_time": "2023-02-03T14:40:17.922Z"
   },
   {
    "duration": 3,
    "start_time": "2023-02-03T14:40:17.937Z"
   },
   {
    "duration": 1396,
    "start_time": "2023-02-03T14:40:17.941Z"
   },
   {
    "duration": 9,
    "start_time": "2023-02-03T14:44:45.862Z"
   },
   {
    "duration": 600,
    "start_time": "2023-02-03T14:45:06.798Z"
   },
   {
    "duration": 7,
    "start_time": "2023-02-03T14:45:07.401Z"
   },
   {
    "duration": 18,
    "start_time": "2023-02-03T14:45:07.409Z"
   },
   {
    "duration": 633,
    "start_time": "2023-02-03T14:45:07.429Z"
   },
   {
    "duration": 528,
    "start_time": "2023-02-03T14:45:08.064Z"
   },
   {
    "duration": 709,
    "start_time": "2023-02-03T14:45:08.593Z"
   },
   {
    "duration": 134,
    "start_time": "2023-02-03T14:45:09.303Z"
   },
   {
    "duration": 42,
    "start_time": "2023-02-03T14:45:09.438Z"
   },
   {
    "duration": 9,
    "start_time": "2023-02-03T14:45:09.481Z"
   },
   {
    "duration": 51,
    "start_time": "2023-02-03T14:45:09.492Z"
   },
   {
    "duration": 4,
    "start_time": "2023-02-03T14:45:09.545Z"
   },
   {
    "duration": 16,
    "start_time": "2023-02-03T14:45:09.551Z"
   },
   {
    "duration": 25,
    "start_time": "2023-02-03T14:45:09.568Z"
   },
   {
    "duration": 8,
    "start_time": "2023-02-03T14:45:09.594Z"
   },
   {
    "duration": 7,
    "start_time": "2023-02-03T14:45:09.603Z"
   },
   {
    "duration": 125,
    "start_time": "2023-02-03T14:45:09.629Z"
   },
   {
    "duration": 7,
    "start_time": "2023-02-03T14:45:09.756Z"
   },
   {
    "duration": 9,
    "start_time": "2023-02-03T14:45:09.764Z"
   },
   {
    "duration": 8,
    "start_time": "2023-02-03T14:45:09.774Z"
   },
   {
    "duration": 8,
    "start_time": "2023-02-03T14:45:09.784Z"
   },
   {
    "duration": 6,
    "start_time": "2023-02-03T14:45:09.793Z"
   },
   {
    "duration": 29,
    "start_time": "2023-02-03T14:45:09.801Z"
   },
   {
    "duration": 8,
    "start_time": "2023-02-03T14:45:09.835Z"
   },
   {
    "duration": 12,
    "start_time": "2023-02-03T14:45:09.844Z"
   },
   {
    "duration": 418,
    "start_time": "2023-02-03T14:45:09.858Z"
   },
   {
    "duration": 5,
    "start_time": "2023-02-03T14:45:10.277Z"
   },
   {
    "duration": 17,
    "start_time": "2023-02-03T14:45:10.283Z"
   },
   {
    "duration": 31,
    "start_time": "2023-02-03T14:45:10.302Z"
   },
   {
    "duration": 21,
    "start_time": "2023-02-03T14:45:10.334Z"
   },
   {
    "duration": 6,
    "start_time": "2023-02-03T14:45:10.356Z"
   },
   {
    "duration": 15,
    "start_time": "2023-02-03T14:45:10.363Z"
   },
   {
    "duration": 15,
    "start_time": "2023-02-03T14:45:10.379Z"
   },
   {
    "duration": 753,
    "start_time": "2023-02-03T14:45:10.396Z"
   },
   {
    "duration": 15,
    "start_time": "2023-02-03T14:45:11.150Z"
   },
   {
    "duration": 3,
    "start_time": "2023-02-03T14:45:11.167Z"
   },
   {
    "duration": 1380,
    "start_time": "2023-02-03T14:45:11.172Z"
   },
   {
    "duration": 23,
    "start_time": "2023-02-03T14:52:00.055Z"
   },
   {
    "duration": 20,
    "start_time": "2023-02-03T14:53:12.068Z"
   },
   {
    "duration": 117,
    "start_time": "2023-02-03T15:10:13.259Z"
   },
   {
    "duration": 113,
    "start_time": "2023-02-03T15:10:52.293Z"
   },
   {
    "duration": 542,
    "start_time": "2023-02-03T15:15:06.489Z"
   },
   {
    "duration": 5,
    "start_time": "2023-02-03T15:15:07.033Z"
   },
   {
    "duration": 7,
    "start_time": "2023-02-03T15:15:07.040Z"
   },
   {
    "duration": 573,
    "start_time": "2023-02-03T15:15:07.049Z"
   },
   {
    "duration": 541,
    "start_time": "2023-02-03T15:15:07.623Z"
   },
   {
    "duration": 689,
    "start_time": "2023-02-03T15:15:08.166Z"
   },
   {
    "duration": 120,
    "start_time": "2023-02-03T15:15:08.857Z"
   },
   {
    "duration": 40,
    "start_time": "2023-02-03T15:15:08.979Z"
   },
   {
    "duration": 13,
    "start_time": "2023-02-03T15:15:09.021Z"
   },
   {
    "duration": 22,
    "start_time": "2023-02-03T15:15:09.037Z"
   },
   {
    "duration": 4,
    "start_time": "2023-02-03T15:15:09.061Z"
   },
   {
    "duration": 10,
    "start_time": "2023-02-03T15:15:09.067Z"
   },
   {
    "duration": 51,
    "start_time": "2023-02-03T15:15:09.079Z"
   },
   {
    "duration": 9,
    "start_time": "2023-02-03T15:15:09.131Z"
   },
   {
    "duration": 9,
    "start_time": "2023-02-03T15:15:09.141Z"
   },
   {
    "duration": 135,
    "start_time": "2023-02-03T15:15:09.152Z"
   },
   {
    "duration": 7,
    "start_time": "2023-02-03T15:15:09.290Z"
   },
   {
    "duration": 13,
    "start_time": "2023-02-03T15:15:09.298Z"
   },
   {
    "duration": 15,
    "start_time": "2023-02-03T15:15:09.313Z"
   },
   {
    "duration": 14,
    "start_time": "2023-02-03T15:15:09.330Z"
   },
   {
    "duration": 7,
    "start_time": "2023-02-03T15:15:09.345Z"
   },
   {
    "duration": 7,
    "start_time": "2023-02-03T15:15:09.354Z"
   },
   {
    "duration": 7,
    "start_time": "2023-02-03T15:15:09.362Z"
   },
   {
    "duration": 9,
    "start_time": "2023-02-03T15:15:09.370Z"
   },
   {
    "duration": 428,
    "start_time": "2023-02-03T15:15:09.380Z"
   },
   {
    "duration": 4,
    "start_time": "2023-02-03T15:15:09.810Z"
   },
   {
    "duration": 22,
    "start_time": "2023-02-03T15:15:09.816Z"
   },
   {
    "duration": 13,
    "start_time": "2023-02-03T15:15:09.841Z"
   },
   {
    "duration": 17,
    "start_time": "2023-02-03T15:15:09.856Z"
   },
   {
    "duration": 3,
    "start_time": "2023-02-03T15:15:09.875Z"
   },
   {
    "duration": 13,
    "start_time": "2023-02-03T15:15:09.879Z"
   },
   {
    "duration": 42,
    "start_time": "2023-02-03T15:15:09.893Z"
   },
   {
    "duration": 735,
    "start_time": "2023-02-03T15:15:09.937Z"
   },
   {
    "duration": 15,
    "start_time": "2023-02-03T15:15:10.674Z"
   },
   {
    "duration": 3,
    "start_time": "2023-02-03T15:15:10.690Z"
   },
   {
    "duration": 1248,
    "start_time": "2023-02-03T15:15:10.694Z"
   },
   {
    "duration": 2146,
    "start_time": "2023-02-03T15:15:11.943Z"
   },
   {
    "duration": 1242,
    "start_time": "2023-02-03T15:15:14.090Z"
   },
   {
    "duration": 1184,
    "start_time": "2023-02-03T15:15:15.334Z"
   },
   {
    "duration": 1512,
    "start_time": "2023-02-03T15:15:16.519Z"
   },
   {
    "duration": 1589,
    "start_time": "2023-02-03T15:15:18.033Z"
   },
   {
    "duration": 1521,
    "start_time": "2023-02-03T15:15:19.623Z"
   },
   {
    "duration": 1955,
    "start_time": "2023-02-03T15:15:21.146Z"
   },
   {
    "duration": 36,
    "start_time": "2023-02-03T15:15:23.103Z"
   },
   {
    "duration": 632,
    "start_time": "2023-02-03T20:51:54.131Z"
   },
   {
    "duration": 6,
    "start_time": "2023-02-03T20:51:54.765Z"
   },
   {
    "duration": 5,
    "start_time": "2023-02-03T20:51:54.772Z"
   },
   {
    "duration": 624,
    "start_time": "2023-02-03T20:51:54.778Z"
   },
   {
    "duration": 537,
    "start_time": "2023-02-03T20:51:55.403Z"
   },
   {
    "duration": 769,
    "start_time": "2023-02-03T20:51:55.942Z"
   },
   {
    "duration": 154,
    "start_time": "2023-02-03T20:51:56.712Z"
   },
   {
    "duration": 64,
    "start_time": "2023-02-03T20:51:56.868Z"
   },
   {
    "duration": 12,
    "start_time": "2023-02-03T20:51:56.935Z"
   },
   {
    "duration": 37,
    "start_time": "2023-02-03T20:51:56.951Z"
   },
   {
    "duration": 20,
    "start_time": "2023-02-03T20:51:56.990Z"
   },
   {
    "duration": 17,
    "start_time": "2023-02-03T20:51:57.013Z"
   },
   {
    "duration": 37,
    "start_time": "2023-02-03T20:51:57.032Z"
   },
   {
    "duration": 12,
    "start_time": "2023-02-03T20:51:57.071Z"
   },
   {
    "duration": 29,
    "start_time": "2023-02-03T20:51:57.085Z"
   },
   {
    "duration": 138,
    "start_time": "2023-02-03T20:51:57.116Z"
   },
   {
    "duration": 7,
    "start_time": "2023-02-03T20:51:57.255Z"
   },
   {
    "duration": 8,
    "start_time": "2023-02-03T20:51:57.264Z"
   },
   {
    "duration": 9,
    "start_time": "2023-02-03T20:51:57.273Z"
   },
   {
    "duration": 35,
    "start_time": "2023-02-03T20:51:57.284Z"
   },
   {
    "duration": 13,
    "start_time": "2023-02-03T20:51:57.320Z"
   },
   {
    "duration": 11,
    "start_time": "2023-02-03T20:51:57.335Z"
   },
   {
    "duration": 8,
    "start_time": "2023-02-03T20:51:57.347Z"
   },
   {
    "duration": 13,
    "start_time": "2023-02-03T20:51:57.357Z"
   },
   {
    "duration": 469,
    "start_time": "2023-02-03T20:51:57.371Z"
   },
   {
    "duration": 5,
    "start_time": "2023-02-03T20:51:57.842Z"
   },
   {
    "duration": 18,
    "start_time": "2023-02-03T20:51:57.849Z"
   },
   {
    "duration": 15,
    "start_time": "2023-02-03T20:51:57.870Z"
   },
   {
    "duration": 41,
    "start_time": "2023-02-03T20:51:57.887Z"
   },
   {
    "duration": 5,
    "start_time": "2023-02-03T20:51:57.930Z"
   },
   {
    "duration": 16,
    "start_time": "2023-02-03T20:51:57.936Z"
   },
   {
    "duration": 13,
    "start_time": "2023-02-03T20:51:57.953Z"
   },
   {
    "duration": 757,
    "start_time": "2023-02-03T20:51:57.967Z"
   },
   {
    "duration": 17,
    "start_time": "2023-02-03T20:51:58.726Z"
   },
   {
    "duration": 2,
    "start_time": "2023-02-03T20:51:58.745Z"
   },
   {
    "duration": 1327,
    "start_time": "2023-02-03T20:51:58.749Z"
   },
   {
    "duration": 2369,
    "start_time": "2023-02-03T20:52:00.078Z"
   },
   {
    "duration": 1322,
    "start_time": "2023-02-03T20:52:02.449Z"
   },
   {
    "duration": 1227,
    "start_time": "2023-02-03T20:52:03.773Z"
   },
   {
    "duration": 1597,
    "start_time": "2023-02-03T20:52:05.002Z"
   },
   {
    "duration": 1703,
    "start_time": "2023-02-03T20:52:06.601Z"
   },
   {
    "duration": 1615,
    "start_time": "2023-02-03T20:52:08.306Z"
   },
   {
    "duration": 2098,
    "start_time": "2023-02-03T20:52:09.923Z"
   },
   {
    "duration": 44,
    "start_time": "2023-02-03T20:52:12.023Z"
   },
   {
    "duration": 73,
    "start_time": "2023-02-04T08:37:21.496Z"
   },
   {
    "duration": 802,
    "start_time": "2023-02-04T08:37:41.358Z"
   },
   {
    "duration": 5,
    "start_time": "2023-02-04T08:37:42.163Z"
   },
   {
    "duration": 6,
    "start_time": "2023-02-04T08:37:42.171Z"
   },
   {
    "duration": 2196,
    "start_time": "2023-02-04T08:37:42.179Z"
   },
   {
    "duration": 649,
    "start_time": "2023-02-04T08:37:44.377Z"
   },
   {
    "duration": 848,
    "start_time": "2023-02-04T08:37:45.027Z"
   },
   {
    "duration": 163,
    "start_time": "2023-02-04T08:37:45.877Z"
   },
   {
    "duration": 57,
    "start_time": "2023-02-04T08:37:46.043Z"
   },
   {
    "duration": 16,
    "start_time": "2023-02-04T08:37:46.102Z"
   },
   {
    "duration": 43,
    "start_time": "2023-02-04T08:37:46.120Z"
   },
   {
    "duration": 23,
    "start_time": "2023-02-04T08:37:46.165Z"
   },
   {
    "duration": 25,
    "start_time": "2023-02-04T08:37:46.190Z"
   },
   {
    "duration": 45,
    "start_time": "2023-02-04T08:37:46.217Z"
   },
   {
    "duration": 20,
    "start_time": "2023-02-04T08:37:46.265Z"
   },
   {
    "duration": 9,
    "start_time": "2023-02-04T08:37:46.287Z"
   },
   {
    "duration": 153,
    "start_time": "2023-02-04T08:37:46.297Z"
   },
   {
    "duration": 21,
    "start_time": "2023-02-04T08:37:46.452Z"
   },
   {
    "duration": 83,
    "start_time": "2023-02-04T08:39:02.519Z"
   },
   {
    "duration": 58,
    "start_time": "2023-02-04T08:39:41.825Z"
   },
   {
    "duration": 8,
    "start_time": "2023-02-04T08:40:06.560Z"
   },
   {
    "duration": 8,
    "start_time": "2023-02-04T08:40:19.172Z"
   },
   {
    "duration": 3,
    "start_time": "2023-02-04T08:40:35.837Z"
   },
   {
    "duration": 87,
    "start_time": "2023-02-04T08:40:46.844Z"
   },
   {
    "duration": 3,
    "start_time": "2023-02-04T08:41:07.699Z"
   },
   {
    "duration": 602,
    "start_time": "2023-02-04T08:41:55.876Z"
   },
   {
    "duration": 6,
    "start_time": "2023-02-04T08:41:56.479Z"
   },
   {
    "duration": 8,
    "start_time": "2023-02-04T08:41:56.486Z"
   },
   {
    "duration": 643,
    "start_time": "2023-02-04T08:41:56.496Z"
   },
   {
    "duration": 615,
    "start_time": "2023-02-04T08:41:57.140Z"
   },
   {
    "duration": 759,
    "start_time": "2023-02-04T08:41:57.757Z"
   },
   {
    "duration": 129,
    "start_time": "2023-02-04T08:41:58.517Z"
   },
   {
    "duration": 42,
    "start_time": "2023-02-04T08:41:58.648Z"
   },
   {
    "duration": 9,
    "start_time": "2023-02-04T08:41:58.691Z"
   },
   {
    "duration": 43,
    "start_time": "2023-02-04T08:41:58.702Z"
   },
   {
    "duration": 4,
    "start_time": "2023-02-04T08:41:58.746Z"
   },
   {
    "duration": 12,
    "start_time": "2023-02-04T08:41:58.751Z"
   },
   {
    "duration": 25,
    "start_time": "2023-02-04T08:41:58.764Z"
   },
   {
    "duration": 8,
    "start_time": "2023-02-04T08:41:58.791Z"
   },
   {
    "duration": 9,
    "start_time": "2023-02-04T08:41:58.801Z"
   },
   {
    "duration": 148,
    "start_time": "2023-02-04T08:41:58.812Z"
   },
   {
    "duration": 48,
    "start_time": "2023-02-04T08:41:58.961Z"
   },
   {
    "duration": 3,
    "start_time": "2023-02-04T08:41:59.011Z"
   },
   {
    "duration": 28,
    "start_time": "2023-02-04T08:41:59.016Z"
   },
   {
    "duration": 10,
    "start_time": "2023-02-04T08:41:59.046Z"
   },
   {
    "duration": 11,
    "start_time": "2023-02-04T08:41:59.057Z"
   },
   {
    "duration": 9,
    "start_time": "2023-02-04T08:41:59.070Z"
   },
   {
    "duration": 8,
    "start_time": "2023-02-04T08:41:59.080Z"
   },
   {
    "duration": 22,
    "start_time": "2023-02-04T08:41:59.090Z"
   },
   {
    "duration": 13,
    "start_time": "2023-02-04T08:41:59.113Z"
   },
   {
    "duration": 9,
    "start_time": "2023-02-04T08:41:59.127Z"
   },
   {
    "duration": 423,
    "start_time": "2023-02-04T08:41:59.137Z"
   },
   {
    "duration": 5,
    "start_time": "2023-02-04T08:41:59.563Z"
   },
   {
    "duration": 18,
    "start_time": "2023-02-04T08:41:59.569Z"
   },
   {
    "duration": 14,
    "start_time": "2023-02-04T08:41:59.588Z"
   },
   {
    "duration": 43,
    "start_time": "2023-02-04T08:41:59.604Z"
   },
   {
    "duration": 4,
    "start_time": "2023-02-04T08:41:59.649Z"
   },
   {
    "duration": 12,
    "start_time": "2023-02-04T08:41:59.654Z"
   },
   {
    "duration": 13,
    "start_time": "2023-02-04T08:41:59.667Z"
   },
   {
    "duration": 756,
    "start_time": "2023-02-04T08:41:59.681Z"
   },
   {
    "duration": 18,
    "start_time": "2023-02-04T08:42:00.439Z"
   },
   {
    "duration": 60,
    "start_time": "2023-02-04T08:42:00.458Z"
   },
   {
    "duration": 1458,
    "start_time": "2023-02-04T08:42:00.520Z"
   },
   {
    "duration": 2228,
    "start_time": "2023-02-04T08:42:01.979Z"
   },
   {
    "duration": 1333,
    "start_time": "2023-02-04T08:42:04.209Z"
   },
   {
    "duration": 1205,
    "start_time": "2023-02-04T08:42:05.544Z"
   },
   {
    "duration": 1464,
    "start_time": "2023-02-04T08:42:06.751Z"
   },
   {
    "duration": 1527,
    "start_time": "2023-02-04T08:42:08.217Z"
   },
   {
    "duration": 1595,
    "start_time": "2023-02-04T08:42:09.746Z"
   },
   {
    "duration": 2074,
    "start_time": "2023-02-04T08:42:11.343Z"
   },
   {
    "duration": 44,
    "start_time": "2023-02-04T08:42:13.419Z"
   },
   {
    "duration": 1251,
    "start_time": "2023-03-01T23:31:03.576Z"
   },
   {
    "duration": 7,
    "start_time": "2023-03-01T23:31:04.829Z"
   },
   {
    "duration": 5,
    "start_time": "2023-03-01T23:31:04.837Z"
   },
   {
    "duration": 8,
    "start_time": "2023-03-01T23:31:04.845Z"
   },
   {
    "duration": 5,
    "start_time": "2023-03-01T23:31:04.855Z"
   },
   {
    "duration": 5,
    "start_time": "2023-03-01T23:31:04.862Z"
   },
   {
    "duration": 19,
    "start_time": "2023-03-01T23:31:04.868Z"
   },
   {
    "duration": 202,
    "start_time": "2023-03-01T23:31:04.888Z"
   },
   {
    "duration": 9,
    "start_time": "2023-03-01T23:31:05.091Z"
   },
   {
    "duration": 32,
    "start_time": "2023-03-01T23:31:05.103Z"
   },
   {
    "duration": 4,
    "start_time": "2023-03-01T23:31:05.136Z"
   },
   {
    "duration": 29,
    "start_time": "2023-03-01T23:31:05.141Z"
   },
   {
    "duration": 15,
    "start_time": "2023-03-01T23:31:05.172Z"
   },
   {
    "duration": 24,
    "start_time": "2023-03-01T23:31:05.189Z"
   },
   {
    "duration": 9,
    "start_time": "2023-03-01T23:31:05.215Z"
   },
   {
    "duration": 9,
    "start_time": "2023-03-01T23:31:05.226Z"
   },
   {
    "duration": 10,
    "start_time": "2023-03-01T23:31:05.237Z"
   },
   {
    "duration": 39,
    "start_time": "2023-03-01T23:31:05.249Z"
   },
   {
    "duration": 276,
    "start_time": "2023-03-01T23:31:05.290Z"
   },
   {
    "duration": 262,
    "start_time": "2023-03-01T23:31:05.567Z"
   },
   {
    "duration": 178,
    "start_time": "2023-03-01T23:31:05.830Z"
   },
   {
    "duration": 304,
    "start_time": "2023-03-01T23:31:06.010Z"
   },
   {
    "duration": 191,
    "start_time": "2023-03-01T23:31:06.316Z"
   },
   {
    "duration": 303,
    "start_time": "2023-03-01T23:31:06.509Z"
   },
   {
    "duration": 7,
    "start_time": "2023-03-01T23:31:06.813Z"
   },
   {
    "duration": 15,
    "start_time": "2023-03-01T23:31:06.822Z"
   },
   {
    "duration": 118,
    "start_time": "2023-03-01T23:31:06.838Z"
   },
   {
    "duration": 3,
    "start_time": "2023-03-01T23:31:06.959Z"
   },
   {
    "duration": 128,
    "start_time": "2023-03-01T23:31:06.964Z"
   },
   {
    "duration": 5,
    "start_time": "2023-03-01T23:31:07.093Z"
   },
   {
    "duration": 154,
    "start_time": "2023-03-01T23:31:07.099Z"
   },
   {
    "duration": 697,
    "start_time": "2023-03-01T23:31:07.254Z"
   },
   {
    "duration": 9,
    "start_time": "2023-03-01T23:31:07.953Z"
   },
   {
    "duration": 23,
    "start_time": "2023-03-01T23:31:07.963Z"
   },
   {
    "duration": 721,
    "start_time": "2023-03-01T23:31:07.987Z"
   },
   {
    "duration": 9,
    "start_time": "2023-03-01T23:31:08.710Z"
   },
   {
    "duration": 43,
    "start_time": "2023-03-02T12:56:12.919Z"
   },
   {
    "duration": 1234,
    "start_time": "2023-03-02T12:56:17.831Z"
   },
   {
    "duration": 8,
    "start_time": "2023-03-02T12:56:19.068Z"
   },
   {
    "duration": 9,
    "start_time": "2023-03-02T12:56:19.078Z"
   },
   {
    "duration": 18,
    "start_time": "2023-03-02T12:56:19.089Z"
   },
   {
    "duration": 12,
    "start_time": "2023-03-02T12:56:19.110Z"
   },
   {
    "duration": 15,
    "start_time": "2023-03-02T12:56:19.124Z"
   },
   {
    "duration": 7,
    "start_time": "2023-03-02T12:56:19.141Z"
   },
   {
    "duration": 190,
    "start_time": "2023-03-02T12:56:19.150Z"
   },
   {
    "duration": 9,
    "start_time": "2023-03-02T12:56:19.341Z"
   },
   {
    "duration": 25,
    "start_time": "2023-03-02T12:56:19.352Z"
   },
   {
    "duration": 4,
    "start_time": "2023-03-02T12:56:19.378Z"
   },
   {
    "duration": 34,
    "start_time": "2023-03-02T12:56:19.383Z"
   },
   {
    "duration": 5,
    "start_time": "2023-03-02T12:56:19.418Z"
   },
   {
    "duration": 31,
    "start_time": "2023-03-02T12:56:19.425Z"
   },
   {
    "duration": 15,
    "start_time": "2023-03-02T12:56:19.457Z"
   },
   {
    "duration": 16,
    "start_time": "2023-03-02T12:56:19.474Z"
   },
   {
    "duration": 28,
    "start_time": "2023-03-02T12:56:19.492Z"
   },
   {
    "duration": 12,
    "start_time": "2023-03-02T12:56:19.522Z"
   },
   {
    "duration": 279,
    "start_time": "2023-03-02T12:56:19.535Z"
   },
   {
    "duration": 256,
    "start_time": "2023-03-02T12:56:19.816Z"
   },
   {
    "duration": 187,
    "start_time": "2023-03-02T12:56:20.074Z"
   },
   {
    "duration": 362,
    "start_time": "2023-03-02T12:56:20.263Z"
   },
   {
    "duration": 193,
    "start_time": "2023-03-02T12:56:20.627Z"
   },
   {
    "duration": 93,
    "start_time": "2023-03-02T12:56:20.821Z"
   },
   {
    "duration": 0,
    "start_time": "2023-03-02T12:56:20.916Z"
   },
   {
    "duration": 0,
    "start_time": "2023-03-02T12:56:20.917Z"
   },
   {
    "duration": 0,
    "start_time": "2023-03-02T12:56:20.919Z"
   },
   {
    "duration": 0,
    "start_time": "2023-03-02T12:56:20.920Z"
   },
   {
    "duration": 0,
    "start_time": "2023-03-02T12:56:20.920Z"
   },
   {
    "duration": 0,
    "start_time": "2023-03-02T12:56:20.922Z"
   },
   {
    "duration": 0,
    "start_time": "2023-03-02T12:56:20.923Z"
   },
   {
    "duration": 0,
    "start_time": "2023-03-02T12:56:20.924Z"
   },
   {
    "duration": 0,
    "start_time": "2023-03-02T12:56:20.925Z"
   },
   {
    "duration": 0,
    "start_time": "2023-03-02T12:56:20.926Z"
   },
   {
    "duration": 0,
    "start_time": "2023-03-02T12:56:20.927Z"
   },
   {
    "duration": 0,
    "start_time": "2023-03-02T12:56:20.928Z"
   },
   {
    "duration": 0,
    "start_time": "2023-03-02T12:56:20.929Z"
   },
   {
    "duration": 289,
    "start_time": "2023-03-02T13:03:37.315Z"
   },
   {
    "duration": 14,
    "start_time": "2023-03-02T13:03:37.605Z"
   },
   {
    "duration": 8,
    "start_time": "2023-03-02T13:03:37.620Z"
   },
   {
    "duration": 121,
    "start_time": "2023-03-02T13:03:37.630Z"
   },
   {
    "duration": 3,
    "start_time": "2023-03-02T13:03:37.753Z"
   },
   {
    "duration": 134,
    "start_time": "2023-03-02T13:03:37.757Z"
   },
   {
    "duration": 3,
    "start_time": "2023-03-02T13:03:37.893Z"
   },
   {
    "duration": 150,
    "start_time": "2023-03-02T13:03:37.898Z"
   },
   {
    "duration": 656,
    "start_time": "2023-03-02T13:03:38.050Z"
   },
   {
    "duration": 11,
    "start_time": "2023-03-02T13:03:38.708Z"
   },
   {
    "duration": 9,
    "start_time": "2023-03-02T13:03:38.721Z"
   },
   {
    "duration": 713,
    "start_time": "2023-03-02T13:03:38.731Z"
   },
   {
    "duration": 10,
    "start_time": "2023-03-02T13:03:39.446Z"
   },
   {
    "duration": 124,
    "start_time": "2023-03-02T13:08:40.535Z"
   },
   {
    "duration": 207,
    "start_time": "2023-03-02T13:12:24.064Z"
   },
   {
    "duration": 22,
    "start_time": "2023-03-02T13:12:34.060Z"
   },
   {
    "duration": 5,
    "start_time": "2023-03-02T13:13:04.905Z"
   },
   {
    "duration": 49,
    "start_time": "2023-03-03T19:09:12.921Z"
   },
   {
    "duration": 1235,
    "start_time": "2023-03-03T19:09:33.463Z"
   },
   {
    "duration": 7,
    "start_time": "2023-03-03T19:09:34.700Z"
   },
   {
    "duration": 7,
    "start_time": "2023-03-03T19:09:34.708Z"
   },
   {
    "duration": 8,
    "start_time": "2023-03-03T19:09:34.716Z"
   },
   {
    "duration": 6,
    "start_time": "2023-03-03T19:09:34.727Z"
   },
   {
    "duration": 6,
    "start_time": "2023-03-03T19:09:34.734Z"
   },
   {
    "duration": 4,
    "start_time": "2023-03-03T19:09:34.755Z"
   },
   {
    "duration": 189,
    "start_time": "2023-03-03T19:09:34.761Z"
   },
   {
    "duration": 8,
    "start_time": "2023-03-03T19:09:34.951Z"
   },
   {
    "duration": 24,
    "start_time": "2023-03-03T19:09:34.960Z"
   },
   {
    "duration": 4,
    "start_time": "2023-03-03T19:09:34.985Z"
   },
   {
    "duration": 29,
    "start_time": "2023-03-03T19:09:34.991Z"
   },
   {
    "duration": 5,
    "start_time": "2023-03-03T19:09:35.021Z"
   },
   {
    "duration": 54,
    "start_time": "2023-03-03T19:09:35.028Z"
   },
   {
    "duration": 11,
    "start_time": "2023-03-03T19:09:35.084Z"
   },
   {
    "duration": 10,
    "start_time": "2023-03-03T19:09:35.096Z"
   },
   {
    "duration": 4,
    "start_time": "2023-03-03T19:11:02.968Z"
   },
   {
    "duration": 98,
    "start_time": "2023-03-03T19:11:10.911Z"
   },
   {
    "duration": 4,
    "start_time": "2023-03-03T19:11:17.333Z"
   },
   {
    "duration": 9,
    "start_time": "2023-03-03T19:11:43.557Z"
   },
   {
    "duration": 6,
    "start_time": "2023-03-03T19:11:56.757Z"
   },
   {
    "duration": 50,
    "start_time": "2023-03-03T19:13:45.075Z"
   },
   {
    "duration": 4,
    "start_time": "2023-03-03T19:14:01.867Z"
   },
   {
    "duration": 648,
    "start_time": "2023-03-03T19:18:52.054Z"
   },
   {
    "duration": 12,
    "start_time": "2023-03-03T19:19:23.468Z"
   },
   {
    "duration": 6,
    "start_time": "2023-03-03T19:19:54.392Z"
   },
   {
    "duration": 6,
    "start_time": "2023-03-03T19:20:48.773Z"
   },
   {
    "duration": 3,
    "start_time": "2023-03-03T19:22:40.364Z"
   },
   {
    "duration": 9,
    "start_time": "2023-03-03T19:26:46.070Z"
   },
   {
    "duration": 5,
    "start_time": "2023-03-03T19:27:26.574Z"
   },
   {
    "duration": 4,
    "start_time": "2023-03-03T19:28:03.969Z"
   },
   {
    "duration": 3,
    "start_time": "2023-03-03T19:28:17.242Z"
   },
   {
    "duration": 11,
    "start_time": "2023-03-03T19:38:48.484Z"
   },
   {
    "duration": 2,
    "start_time": "2023-03-03T19:39:10.834Z"
   },
   {
    "duration": 10,
    "start_time": "2023-03-03T19:39:34.041Z"
   },
   {
    "duration": 10,
    "start_time": "2023-03-03T19:40:10.795Z"
   },
   {
    "duration": 12,
    "start_time": "2023-03-03T19:40:57.695Z"
   },
   {
    "duration": 7,
    "start_time": "2023-03-03T19:41:44.463Z"
   },
   {
    "duration": 266,
    "start_time": "2023-03-03T19:41:45.476Z"
   },
   {
    "duration": 249,
    "start_time": "2023-03-03T19:41:48.066Z"
   },
   {
    "duration": 272,
    "start_time": "2023-03-03T19:43:14.339Z"
   },
   {
    "duration": 172,
    "start_time": "2023-03-03T19:43:28.166Z"
   },
   {
    "duration": 9,
    "start_time": "2023-03-03T19:44:23.256Z"
   },
   {
    "duration": 194,
    "start_time": "2023-03-03T19:44:30.923Z"
   },
   {
    "duration": 10,
    "start_time": "2023-03-03T19:45:19.667Z"
   },
   {
    "duration": 245,
    "start_time": "2023-03-03T19:45:30.565Z"
   },
   {
    "duration": 11,
    "start_time": "2023-03-03T19:53:46.546Z"
   },
   {
    "duration": 246,
    "start_time": "2023-03-03T19:54:05.524Z"
   },
   {
    "duration": 66,
    "start_time": "2023-03-03T19:54:24.070Z"
   },
   {
    "duration": 221,
    "start_time": "2023-03-03T19:54:29.207Z"
   },
   {
    "duration": 239,
    "start_time": "2023-03-03T19:54:46.343Z"
   },
   {
    "duration": 376,
    "start_time": "2023-03-03T19:55:21.162Z"
   },
   {
    "duration": 238,
    "start_time": "2023-03-03T19:55:42.302Z"
   },
   {
    "duration": 11,
    "start_time": "2023-03-03T19:58:26.136Z"
   },
   {
    "duration": 277,
    "start_time": "2023-03-03T19:58:33.944Z"
   },
   {
    "duration": 343,
    "start_time": "2023-03-03T20:03:49.766Z"
   },
   {
    "duration": 16,
    "start_time": "2023-03-03T20:10:00.390Z"
   },
   {
    "duration": 359,
    "start_time": "2023-03-03T20:10:12.429Z"
   },
   {
    "duration": 10,
    "start_time": "2023-03-03T20:10:36.305Z"
   },
   {
    "duration": 261,
    "start_time": "2023-03-03T20:10:43.368Z"
   },
   {
    "duration": 263,
    "start_time": "2023-03-03T20:11:04.006Z"
   },
   {
    "duration": 421,
    "start_time": "2023-03-03T20:11:07.607Z"
   },
   {
    "duration": 8,
    "start_time": "2023-03-03T20:12:46.006Z"
   },
   {
    "duration": 8,
    "start_time": "2023-03-03T20:12:46.885Z"
   },
   {
    "duration": 176,
    "start_time": "2023-03-03T20:12:48.334Z"
   },
   {
    "duration": 147,
    "start_time": "2023-03-03T20:13:43.075Z"
   },
   {
    "duration": 126,
    "start_time": "2023-03-03T20:16:58.304Z"
   },
   {
    "duration": 116,
    "start_time": "2023-03-03T20:17:07.425Z"
   },
   {
    "duration": 107,
    "start_time": "2023-03-03T20:17:22.620Z"
   },
   {
    "duration": 250,
    "start_time": "2023-03-03T20:17:29.416Z"
   },
   {
    "duration": 149,
    "start_time": "2023-03-03T20:17:49.987Z"
   },
   {
    "duration": 179,
    "start_time": "2023-03-03T20:19:16.575Z"
   },
   {
    "duration": 156,
    "start_time": "2023-03-03T20:19:22.923Z"
   },
   {
    "duration": 148,
    "start_time": "2023-03-03T20:19:38.169Z"
   },
   {
    "duration": 153,
    "start_time": "2023-03-03T20:19:52.378Z"
   },
   {
    "duration": 172,
    "start_time": "2023-03-03T20:20:07.579Z"
   },
   {
    "duration": 149,
    "start_time": "2023-03-03T20:20:15.916Z"
   },
   {
    "duration": 216,
    "start_time": "2023-03-03T20:20:24.567Z"
   },
   {
    "duration": 159,
    "start_time": "2023-03-03T20:20:29.858Z"
   },
   {
    "duration": 153,
    "start_time": "2023-03-03T20:20:35.777Z"
   },
   {
    "duration": 157,
    "start_time": "2023-03-03T20:20:45.817Z"
   },
   {
    "duration": 182,
    "start_time": "2023-03-03T20:20:55.936Z"
   },
   {
    "duration": 160,
    "start_time": "2023-03-03T20:21:20.599Z"
   },
   {
    "duration": 362,
    "start_time": "2023-03-03T20:22:33.476Z"
   },
   {
    "duration": 185,
    "start_time": "2023-03-03T20:23:32.600Z"
   },
   {
    "duration": 191,
    "start_time": "2023-03-03T20:23:47.374Z"
   },
   {
    "duration": 188,
    "start_time": "2023-03-03T20:24:04.579Z"
   },
   {
    "duration": 205,
    "start_time": "2023-03-03T20:25:21.107Z"
   },
   {
    "duration": 216,
    "start_time": "2023-03-03T20:25:34.560Z"
   },
   {
    "duration": 190,
    "start_time": "2023-03-03T20:27:13.352Z"
   },
   {
    "duration": 45,
    "start_time": "2023-03-03T20:28:17.457Z"
   },
   {
    "duration": 205,
    "start_time": "2023-03-03T20:28:27.194Z"
   },
   {
    "duration": 0,
    "start_time": "2023-03-03T20:30:37.175Z"
   },
   {
    "duration": 4,
    "start_time": "2023-03-03T20:30:47.478Z"
   },
   {
    "duration": 33455,
    "start_time": "2023-03-03T20:31:05.750Z"
   },
   {
    "duration": 186,
    "start_time": "2023-03-03T20:31:41.025Z"
   },
   {
    "duration": 201,
    "start_time": "2023-03-03T20:32:16.054Z"
   },
   {
    "duration": 101,
    "start_time": "2023-03-03T20:45:03.393Z"
   },
   {
    "duration": 21,
    "start_time": "2023-03-03T20:48:15.690Z"
   },
   {
    "duration": 16,
    "start_time": "2023-03-03T20:48:49.186Z"
   },
   {
    "duration": 18,
    "start_time": "2023-03-03T20:51:26.668Z"
   },
   {
    "duration": 22,
    "start_time": "2023-03-03T20:51:48.027Z"
   },
   {
    "duration": 22,
    "start_time": "2023-03-03T20:52:14.421Z"
   },
   {
    "duration": 15,
    "start_time": "2023-03-03T20:52:18.710Z"
   },
   {
    "duration": 15,
    "start_time": "2023-03-03T20:52:27.019Z"
   },
   {
    "duration": 15,
    "start_time": "2023-03-03T20:52:33.402Z"
   },
   {
    "duration": 16,
    "start_time": "2023-03-03T20:53:03.829Z"
   },
   {
    "duration": 15,
    "start_time": "2023-03-03T20:55:05.909Z"
   },
   {
    "duration": 12,
    "start_time": "2023-03-03T20:55:24.197Z"
   },
   {
    "duration": 15,
    "start_time": "2023-03-03T20:56:18.411Z"
   },
   {
    "duration": 104,
    "start_time": "2023-03-03T20:56:48.338Z"
   },
   {
    "duration": 119,
    "start_time": "2023-03-03T20:57:11.483Z"
   },
   {
    "duration": 136,
    "start_time": "2023-03-03T20:57:48.437Z"
   },
   {
    "duration": 156,
    "start_time": "2023-03-03T20:57:54.540Z"
   },
   {
    "duration": 160,
    "start_time": "2023-03-03T20:58:08.870Z"
   },
   {
    "duration": 167,
    "start_time": "2023-03-03T20:58:20.385Z"
   },
   {
    "duration": 175,
    "start_time": "2023-03-03T20:58:30.139Z"
   },
   {
    "duration": 174,
    "start_time": "2023-03-03T20:59:39.714Z"
   },
   {
    "duration": 198,
    "start_time": "2023-03-03T21:00:03.556Z"
   },
   {
    "duration": 183,
    "start_time": "2023-03-03T21:00:13.174Z"
   },
   {
    "duration": 187,
    "start_time": "2023-03-03T21:00:27.767Z"
   },
   {
    "duration": 309,
    "start_time": "2023-03-03T21:03:46.599Z"
   },
   {
    "duration": 321,
    "start_time": "2023-03-03T21:05:59.970Z"
   },
   {
    "duration": 348,
    "start_time": "2023-03-03T21:06:22.324Z"
   },
   {
    "duration": 326,
    "start_time": "2023-03-03T21:06:40.539Z"
   },
   {
    "duration": 315,
    "start_time": "2023-03-03T21:07:14.581Z"
   },
   {
    "duration": 299,
    "start_time": "2023-03-03T21:07:27.559Z"
   },
   {
    "duration": 326,
    "start_time": "2023-03-03T21:07:36.385Z"
   },
   {
    "duration": 322,
    "start_time": "2023-03-03T21:07:45.619Z"
   },
   {
    "duration": 309,
    "start_time": "2023-03-03T21:08:15.870Z"
   },
   {
    "duration": 25,
    "start_time": "2023-03-03T21:10:10.860Z"
   },
   {
    "duration": 324,
    "start_time": "2023-03-03T21:10:43.658Z"
   },
   {
    "duration": 324,
    "start_time": "2023-03-03T21:11:02.615Z"
   },
   {
    "duration": 290,
    "start_time": "2023-03-03T21:11:13.975Z"
   },
   {
    "duration": 150,
    "start_time": "2023-03-03T21:32:20.800Z"
   },
   {
    "duration": 11,
    "start_time": "2023-03-03T21:37:16.410Z"
   },
   {
    "duration": 8,
    "start_time": "2023-03-03T21:42:56.155Z"
   },
   {
    "duration": 11,
    "start_time": "2023-03-03T21:47:15.697Z"
   },
   {
    "duration": 10,
    "start_time": "2023-03-03T21:47:27.345Z"
   },
   {
    "duration": 12,
    "start_time": "2023-03-03T21:47:32.349Z"
   },
   {
    "duration": 10,
    "start_time": "2023-03-03T21:51:18.164Z"
   },
   {
    "duration": 1113,
    "start_time": "2023-03-03T22:02:25.245Z"
   },
   {
    "duration": 2,
    "start_time": "2023-03-03T22:02:26.360Z"
   },
   {
    "duration": 7,
    "start_time": "2023-03-03T22:02:26.364Z"
   },
   {
    "duration": 9,
    "start_time": "2023-03-03T22:02:26.372Z"
   },
   {
    "duration": 16,
    "start_time": "2023-03-03T22:02:26.383Z"
   },
   {
    "duration": 7,
    "start_time": "2023-03-03T22:02:26.401Z"
   },
   {
    "duration": 5,
    "start_time": "2023-03-03T22:02:26.410Z"
   },
   {
    "duration": 5,
    "start_time": "2023-03-03T22:02:26.416Z"
   },
   {
    "duration": 87,
    "start_time": "2023-03-03T22:02:26.423Z"
   },
   {
    "duration": 11,
    "start_time": "2023-03-03T22:02:26.512Z"
   },
   {
    "duration": 27,
    "start_time": "2023-03-03T22:02:26.525Z"
   },
   {
    "duration": 4,
    "start_time": "2023-03-03T22:02:26.554Z"
   },
   {
    "duration": 29,
    "start_time": "2023-03-03T22:02:26.559Z"
   },
   {
    "duration": 4,
    "start_time": "2023-03-03T22:02:26.591Z"
   },
   {
    "duration": 26,
    "start_time": "2023-03-03T22:02:26.597Z"
   },
   {
    "duration": 37,
    "start_time": "2023-03-03T22:02:26.624Z"
   },
   {
    "duration": 3,
    "start_time": "2023-03-03T22:02:26.663Z"
   },
   {
    "duration": 8,
    "start_time": "2023-03-03T22:02:26.668Z"
   },
   {
    "duration": 20,
    "start_time": "2023-03-03T22:02:26.678Z"
   },
   {
    "duration": 14,
    "start_time": "2023-03-03T22:02:26.700Z"
   },
   {
    "duration": 12,
    "start_time": "2023-03-03T22:02:26.716Z"
   },
   {
    "duration": 330,
    "start_time": "2023-03-03T22:02:26.729Z"
   },
   {
    "duration": 335,
    "start_time": "2023-03-03T22:02:27.061Z"
   },
   {
    "duration": 258,
    "start_time": "2023-03-03T22:02:27.397Z"
   },
   {
    "duration": 362,
    "start_time": "2023-03-03T22:02:27.657Z"
   },
   {
    "duration": 313,
    "start_time": "2023-03-03T22:02:28.021Z"
   },
   {
    "duration": 374,
    "start_time": "2023-03-03T22:02:28.335Z"
   },
   {
    "duration": 8,
    "start_time": "2023-03-03T22:02:28.711Z"
   },
   {
    "duration": 6,
    "start_time": "2023-03-03T22:02:28.721Z"
   },
   {
    "duration": 235,
    "start_time": "2023-03-03T22:02:28.729Z"
   },
   {
    "duration": 4,
    "start_time": "2023-03-03T22:02:28.965Z"
   },
   {
    "duration": 287,
    "start_time": "2023-03-03T22:02:28.971Z"
   },
   {
    "duration": 4,
    "start_time": "2023-03-03T22:02:29.259Z"
   },
   {
    "duration": 149,
    "start_time": "2023-03-03T22:02:29.265Z"
   },
   {
    "duration": 10,
    "start_time": "2023-03-03T22:02:29.416Z"
   },
   {
    "duration": 8,
    "start_time": "2023-03-03T22:02:29.427Z"
   },
   {
    "duration": 23,
    "start_time": "2023-03-03T22:02:29.437Z"
   },
   {
    "duration": 9,
    "start_time": "2023-03-03T22:02:29.462Z"
   },
   {
    "duration": 11,
    "start_time": "2023-03-03T22:02:29.473Z"
   },
   {
    "duration": 1313,
    "start_time": "2023-03-04T22:16:23.789Z"
   },
   {
    "duration": 3,
    "start_time": "2023-03-04T22:16:25.104Z"
   },
   {
    "duration": 26,
    "start_time": "2023-03-04T22:16:25.108Z"
   },
   {
    "duration": 4,
    "start_time": "2023-03-04T22:16:25.139Z"
   },
   {
    "duration": 15,
    "start_time": "2023-03-04T22:16:25.145Z"
   },
   {
    "duration": 12,
    "start_time": "2023-03-04T22:16:25.162Z"
   },
   {
    "duration": 18,
    "start_time": "2023-03-04T22:16:25.176Z"
   },
   {
    "duration": 12,
    "start_time": "2023-03-04T22:16:25.195Z"
   },
   {
    "duration": 297,
    "start_time": "2023-03-04T22:16:25.208Z"
   },
   {
    "duration": 15,
    "start_time": "2023-03-04T22:16:25.509Z"
   },
   {
    "duration": 40,
    "start_time": "2023-03-04T22:16:25.526Z"
   },
   {
    "duration": 4,
    "start_time": "2023-03-04T22:16:25.568Z"
   },
   {
    "duration": 33,
    "start_time": "2023-03-04T22:16:25.574Z"
   },
   {
    "duration": 16,
    "start_time": "2023-03-04T22:16:25.609Z"
   },
   {
    "duration": 39,
    "start_time": "2023-03-04T22:16:25.627Z"
   },
   {
    "duration": 14,
    "start_time": "2023-03-04T22:16:25.668Z"
   },
   {
    "duration": 5,
    "start_time": "2023-03-04T22:16:25.683Z"
   },
   {
    "duration": 27,
    "start_time": "2023-03-04T22:16:25.690Z"
   },
   {
    "duration": 30,
    "start_time": "2023-03-04T22:16:25.719Z"
   },
   {
    "duration": 16,
    "start_time": "2023-03-04T22:16:25.751Z"
   },
   {
    "duration": 8,
    "start_time": "2023-03-04T22:16:25.769Z"
   },
   {
    "duration": 373,
    "start_time": "2023-03-04T22:16:25.779Z"
   },
   {
    "duration": 401,
    "start_time": "2023-03-04T22:16:26.153Z"
   },
   {
    "duration": 368,
    "start_time": "2023-03-04T22:16:26.555Z"
   },
   {
    "duration": 406,
    "start_time": "2023-03-04T22:16:26.924Z"
   },
   {
    "duration": 325,
    "start_time": "2023-03-04T22:16:27.332Z"
   },
   {
    "duration": 359,
    "start_time": "2023-03-04T22:16:27.658Z"
   },
   {
    "duration": 14,
    "start_time": "2023-03-04T22:16:28.020Z"
   },
   {
    "duration": 17,
    "start_time": "2023-03-04T22:16:28.036Z"
   },
   {
    "duration": 234,
    "start_time": "2023-03-04T22:16:28.055Z"
   },
   {
    "duration": 4,
    "start_time": "2023-03-04T22:16:28.291Z"
   },
   {
    "duration": 341,
    "start_time": "2023-03-04T22:16:28.297Z"
   },
   {
    "duration": 6,
    "start_time": "2023-03-04T22:16:28.640Z"
   },
   {
    "duration": 159,
    "start_time": "2023-03-04T22:16:28.648Z"
   },
   {
    "duration": 22,
    "start_time": "2023-03-04T22:16:28.808Z"
   },
   {
    "duration": 19,
    "start_time": "2023-03-04T22:16:28.831Z"
   },
   {
    "duration": 10,
    "start_time": "2023-03-04T22:16:28.851Z"
   },
   {
    "duration": 14,
    "start_time": "2023-03-04T22:16:28.863Z"
   },
   {
    "duration": 13,
    "start_time": "2023-03-04T22:16:28.879Z"
   },
   {
    "duration": 259,
    "start_time": "2023-03-04T22:17:38.182Z"
   },
   {
    "duration": 6,
    "start_time": "2023-03-04T22:17:58.675Z"
   },
   {
    "duration": 8,
    "start_time": "2023-03-04T22:18:19.131Z"
   },
   {
    "duration": 5,
    "start_time": "2023-03-04T22:18:32.134Z"
   },
   {
    "duration": 6,
    "start_time": "2023-03-04T22:18:43.284Z"
   },
   {
    "duration": 104,
    "start_time": "2023-03-04T22:20:34.150Z"
   },
   {
    "duration": 5,
    "start_time": "2023-03-04T22:20:39.828Z"
   },
   {
    "duration": 57,
    "start_time": "2023-03-05T06:13:57.632Z"
   },
   {
    "duration": 1354,
    "start_time": "2023-03-05T06:14:14.412Z"
   },
   {
    "duration": 3,
    "start_time": "2023-03-05T06:14:15.768Z"
   },
   {
    "duration": 29,
    "start_time": "2023-03-05T06:14:15.773Z"
   },
   {
    "duration": 34,
    "start_time": "2023-03-05T06:14:15.804Z"
   },
   {
    "duration": 19,
    "start_time": "2023-03-05T06:14:15.841Z"
   },
   {
    "duration": 10,
    "start_time": "2023-03-05T06:14:15.861Z"
   },
   {
    "duration": 7,
    "start_time": "2023-03-05T06:14:15.873Z"
   },
   {
    "duration": 7,
    "start_time": "2023-03-05T06:14:15.881Z"
   },
   {
    "duration": 195,
    "start_time": "2023-03-05T06:14:15.890Z"
   },
   {
    "duration": 11,
    "start_time": "2023-03-05T06:14:16.087Z"
   },
   {
    "duration": 28,
    "start_time": "2023-03-05T06:14:16.100Z"
   },
   {
    "duration": 4,
    "start_time": "2023-03-05T06:14:16.130Z"
   },
   {
    "duration": 39,
    "start_time": "2023-03-05T06:14:16.136Z"
   },
   {
    "duration": 5,
    "start_time": "2023-03-05T06:14:16.178Z"
   },
   {
    "duration": 38,
    "start_time": "2023-03-05T06:14:16.184Z"
   },
   {
    "duration": 23,
    "start_time": "2023-03-05T06:14:16.223Z"
   },
   {
    "duration": 6,
    "start_time": "2023-03-05T06:14:23.621Z"
   },
   {
    "duration": 7,
    "start_time": "2023-03-05T06:14:24.016Z"
   },
   {
    "duration": 81,
    "start_time": "2023-03-05T06:20:06.877Z"
   },
   {
    "duration": 117,
    "start_time": "2023-03-05T06:20:28.948Z"
   },
   {
    "duration": 5,
    "start_time": "2023-03-05T06:21:14.790Z"
   },
   {
    "duration": 5,
    "start_time": "2023-03-05T06:21:44.294Z"
   },
   {
    "duration": 7,
    "start_time": "2023-03-05T06:24:37.029Z"
   },
   {
    "duration": 85,
    "start_time": "2023-03-05T06:26:26.498Z"
   },
   {
    "duration": 87,
    "start_time": "2023-03-05T06:26:42.127Z"
   },
   {
    "duration": 4,
    "start_time": "2023-03-05T06:26:58.518Z"
   },
   {
    "duration": 1156,
    "start_time": "2023-03-05T06:27:51.973Z"
   },
   {
    "duration": 3,
    "start_time": "2023-03-05T06:27:53.131Z"
   },
   {
    "duration": 14,
    "start_time": "2023-03-05T06:27:53.135Z"
   },
   {
    "duration": 7,
    "start_time": "2023-03-05T06:27:53.151Z"
   },
   {
    "duration": 16,
    "start_time": "2023-03-05T06:27:53.160Z"
   },
   {
    "duration": 13,
    "start_time": "2023-03-05T06:27:53.178Z"
   },
   {
    "duration": 10,
    "start_time": "2023-03-05T06:27:53.193Z"
   },
   {
    "duration": 8,
    "start_time": "2023-03-05T06:27:53.204Z"
   },
   {
    "duration": 83,
    "start_time": "2023-03-05T06:27:53.214Z"
   },
   {
    "duration": 9,
    "start_time": "2023-03-05T06:27:53.300Z"
   },
   {
    "duration": 29,
    "start_time": "2023-03-05T06:27:53.311Z"
   },
   {
    "duration": 5,
    "start_time": "2023-03-05T06:27:53.341Z"
   },
   {
    "duration": 34,
    "start_time": "2023-03-05T06:27:53.347Z"
   },
   {
    "duration": 5,
    "start_time": "2023-03-05T06:27:53.383Z"
   },
   {
    "duration": 32,
    "start_time": "2023-03-05T06:27:53.389Z"
   },
   {
    "duration": 33,
    "start_time": "2023-03-05T06:27:53.422Z"
   },
   {
    "duration": 4,
    "start_time": "2023-03-05T06:27:53.456Z"
   },
   {
    "duration": 8,
    "start_time": "2023-03-05T06:27:53.461Z"
   },
   {
    "duration": 6,
    "start_time": "2023-03-05T06:27:53.471Z"
   },
   {
    "duration": 9,
    "start_time": "2023-03-05T06:27:53.479Z"
   },
   {
    "duration": 14,
    "start_time": "2023-03-05T06:27:53.490Z"
   },
   {
    "duration": 47,
    "start_time": "2023-03-05T06:27:53.506Z"
   },
   {
    "duration": 8,
    "start_time": "2023-03-05T06:27:53.555Z"
   },
   {
    "duration": 313,
    "start_time": "2023-03-05T06:27:53.564Z"
   },
   {
    "duration": 369,
    "start_time": "2023-03-05T06:27:53.879Z"
   },
   {
    "duration": 279,
    "start_time": "2023-03-05T06:27:54.249Z"
   },
   {
    "duration": 387,
    "start_time": "2023-03-05T06:27:54.530Z"
   },
   {
    "duration": 335,
    "start_time": "2023-03-05T06:27:54.921Z"
   },
   {
    "duration": 397,
    "start_time": "2023-03-05T06:27:55.258Z"
   },
   {
    "duration": 7,
    "start_time": "2023-03-05T06:27:55.657Z"
   },
   {
    "duration": 8,
    "start_time": "2023-03-05T06:27:55.666Z"
   },
   {
    "duration": 252,
    "start_time": "2023-03-05T06:27:55.676Z"
   },
   {
    "duration": 4,
    "start_time": "2023-03-05T06:27:55.929Z"
   },
   {
    "duration": 310,
    "start_time": "2023-03-05T06:27:55.944Z"
   },
   {
    "duration": 4,
    "start_time": "2023-03-05T06:27:56.256Z"
   },
   {
    "duration": 142,
    "start_time": "2023-03-05T06:27:56.262Z"
   },
   {
    "duration": 10,
    "start_time": "2023-03-05T06:27:56.406Z"
   },
   {
    "duration": 14,
    "start_time": "2023-03-05T06:27:56.418Z"
   },
   {
    "duration": 20,
    "start_time": "2023-03-05T06:27:56.433Z"
   },
   {
    "duration": 14,
    "start_time": "2023-03-05T06:27:56.454Z"
   },
   {
    "duration": 9,
    "start_time": "2023-03-05T06:27:56.470Z"
   },
   {
    "duration": 28,
    "start_time": "2023-03-05T06:32:24.419Z"
   },
   {
    "duration": 29,
    "start_time": "2023-03-05T06:38:38.464Z"
   }
  ],
  "colab": {
   "provenance": []
  },
  "kernelspec": {
   "display_name": "Python 3 (ipykernel)",
   "language": "python",
   "name": "python3"
  },
  "language_info": {
   "codemirror_mode": {
    "name": "ipython",
    "version": 3
   },
   "file_extension": ".py",
   "mimetype": "text/x-python",
   "name": "python",
   "nbconvert_exporter": "python",
   "pygments_lexer": "ipython3",
   "version": "3.9.13"
  },
  "toc": {
   "base_numbering": 1,
   "nav_menu": {
    "height": "147px",
    "width": "160px"
   },
   "number_sections": true,
   "sideBar": true,
   "skip_h1_title": false,
   "title_cell": "Table of Contents",
   "title_sidebar": "Contents",
   "toc_cell": false,
   "toc_position": {
    "height": "calc(100% - 180px)",
    "left": "10px",
    "top": "150px",
    "width": "305.889px"
   },
   "toc_section_display": true,
   "toc_window_display": false
  }
 },
 "nbformat": 4,
 "nbformat_minor": 1
}
