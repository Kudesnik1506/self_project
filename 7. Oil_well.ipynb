{
 "cells": [
  {
   "cell_type": "markdown",
   "metadata": {},
   "source": [
    "# Регионы добычи нефти"
   ]
  },
  {
   "cell_type": "markdown",
   "metadata": {},
   "source": [
    "### Описание\n",
    "Необходимо решить где бурить новую скважину нефти. \n",
    "\n",
    "Необходимо построить модель для определения региона, где добыча принесет наибольшую прибыль."
   ]
  },
  {
   "cell_type": "markdown",
   "metadata": {},
   "source": [
    "### Заказчик:\n",
    "- \"ГлавРосГосНефть\""
   ]
  },
  {
   "cell_type": "markdown",
   "metadata": {},
   "source": [
    "### Исходные данные:\n",
    "- данные о пробах нефти в 3 регионах"
   ]
  },
  {
   "cell_type": "markdown",
   "metadata": {},
   "source": [
    "### Задача:\n",
    "- построить модель для определения региона, где добыча принесет наибольшую прибыль."
   ]
  },
  {
   "cell_type": "markdown",
   "metadata": {},
   "source": [
    "### План работы:\n",
    "- Загрузить и подготовить (предобработать) данные. \n",
    "- Обучить и проверить модель для каждого региона.\n",
    "- Подготовка к расчету прибыли.\n",
    "- Расчет прибыли. \n",
    "- Посчитать риски. \n",
    "- Описать выводы."
   ]
  },
  {
   "cell_type": "markdown",
   "metadata": {},
   "source": [
    "### Содержание\n",
    "\n",
    "## <a href='#section01'>1. Изучение общей информации</a>\n",
    "* <a href='#section1'>1. Загрузка библиотек и функций, чтение информации</a>\n",
    "* <a href='#section2'>2. Просмотр данных</a>\n",
    "* <a href='#section3'>3. Выявление аномалий</a>\n",
    "* <a href='#section4'>4. Вывод</a>\n",
    "\n",
    "## <a href='#section02'>2. Исследовательская часть</a>\n",
    "* <a href='#section21'>1. Предобработка</a>\n",
    "* <a href='#section22'>2. Подготовка данных</a>\n",
    "* <a href='#section23'>3. Обучение модели</a>\n",
    "* <a href='#section24'>4. Подготовка к расчету прибыли</a>\n",
    "* <a href='#section25'>5. Расчет прибыли</a>\n",
    "* <a href='#section26'>6. Расчет рисков</a>\n",
    "\n",
    "## <a href='#section03'>3. Итоговый вывод</a>"
   ]
  },
  {
   "cell_type": "markdown",
   "metadata": {},
   "source": [
    "### Описание данных:\n",
    "#### Признаки\n",
    "- id — уникальный идентификатор скважины\n",
    "- f0, f1, f2 — три признака точек (неважно, что они означают, но сами признаки значимы)\n",
    "#### Целевой признак\n",
    "- product — объём запасов в скважине (тыс. баррелей)"
   ]
  },
  {
   "cell_type": "markdown",
   "metadata": {},
   "source": [
    "<hr style=\"border: 1px solid #000;\">"
   ]
  },
  {
   "cell_type": "markdown",
   "metadata": {},
   "source": [
    "## <a id=section01>1. Изучение общей информации</a>"
   ]
  },
  {
   "cell_type": "markdown",
   "metadata": {},
   "source": [
    "### <a id=section1>1. Загрузка библиотек и функций, чтение информации</a>"
   ]
  },
  {
   "cell_type": "code",
   "execution_count": 1,
   "metadata": {},
   "outputs": [
    {
     "name": "stdout",
     "output_type": "stream",
     "text": [
      "pandas version: 1.1.3\n",
      "numpy version: 1.19.2\n",
      "matplotlib version: 3.3.3\n",
      "seaborn version: 0.11.0\n",
      "scipy version: 1.5.2\n"
     ]
    }
   ],
   "source": [
    "import pandas\n",
    "import numpy \n",
    "import matplotlib \n",
    "import seaborn \n",
    "import scipy \n",
    "\n",
    "print('pandas version: {}'.format(pandas.__version__))\n",
    "print('numpy version: {}'.format(numpy.__version__))\n",
    "print('matplotlib version: {}'.format(matplotlib.__version__))\n",
    "print('seaborn version: {}'.format(seaborn.__version__))\n",
    "print('scipy version: {}'.format(scipy.__version__))\n",
    "\n",
    "import pandas as pd\n",
    "from pandas.plotting import scatter_matrix\n",
    "import numpy as np\n",
    "import matplotlib.pyplot as plt\n",
    "import matplotlib as mpl\n",
    "import seaborn as sns\n",
    "from scipy import stats as st\n",
    "\n",
    "from sklearn.model_selection import train_test_split, cross_val_score, cross_val_predict, cross_validate\n",
    "from sklearn.linear_model import LinearRegression\n",
    "from sklearn.dummy import DummyClassifier\n",
    "    \n",
    "from sklearn.preprocessing import StandardScaler\n",
    "from sklearn.metrics import accuracy_score, confusion_matrix, recall_score, precision_score, f1_score\n",
    "from sklearn.metrics import mean_squared_error, r2_score, mean_absolute_error\n",
    "from sklearn.metrics import SCORERS as sc\n",
    "from sklearn.utils import shuffle\n",
    "\n",
    "pd.set_option('display.max_columns', 30)\n",
    "pd.set_option('display.max_rows', 50)\n",
    "pd.options.mode.chained_assignment = None\n",
    "#pd.set_option(‘plotting.backend’, ‘plotly’)\n",
    "\n",
    "import warnings\n",
    "warnings.filterwarnings(\"ignore\")\n",
    "\n",
    "state = np.random.RandomState(12345)    #random_state"
   ]
  },
  {
   "cell_type": "code",
   "execution_count": 2,
   "metadata": {},
   "outputs": [],
   "source": [
    "plt.style.use('grayscale')\n",
    "mpl.rcParams['axes.titlesize'] = 15\n",
    "mpl.rcParams['axes.titleweight'] = 2\n",
    "#plt.style.available"
   ]
  },
  {
   "cell_type": "code",
   "execution_count": 62,
   "metadata": {},
   "outputs": [],
   "source": [
    "N_RESEARCHES = 500      #количество исследуемых точек\n",
    "TOP_RESEARCHES = 200    #количество отобранных точек для проведения работ\n",
    "BUDGET = 10000          #млн рублей бюджет или 10 млрд рублей на разработку 200 скважин\n",
    "COST_PER_BARREL = 450   #рублей за 1 баррель\n",
    "COST_PER_PRODUCT = 0.45 #миллионов рублей с 1 единицы product (с тысячи баррелей)\n",
    "ALPHA = 0.05            #граница определения вероятности убытков\n",
    "CV_COUNT = 1000         #количество валидаций\n",
    "BOOTSTRAP_SIZE=1000     #размерность bootstrap"
   ]
  },
  {
   "cell_type": "markdown",
   "metadata": {},
   "source": [
    "Загрузил библиотеки и необходимые настройки"
   ]
  },
  {
   "cell_type": "code",
   "execution_count": 4,
   "metadata": {},
   "outputs": [],
   "source": [
    "try:    \n",
    "    data1 = pd.read_csv('datasets/geo_data_0.csv')\n",
    "    data2 = pd.read_csv('datasets/geo_data_1.csv')\n",
    "    data3 = pd.read_csv('datasets/geo_data_2.csv')\n",
    "except:\n",
    "    data1 = pd.read_csv('/datasets/geo_data_0.csv')\n",
    "    data2 = pd.read_csv('/datasets/geo_data_1.csv')\n",
    "    data3 = pd.read_csv('/datasets/geo_data_2.csv')"
   ]
  },
  {
   "cell_type": "code",
   "execution_count": 5,
   "metadata": {},
   "outputs": [],
   "source": [
    "def missing_value(df):\n",
    "    missing_value = pd.DataFrame(columns=['NaN_part', 'empty_counts', 'space_counts', '0_counts', '-1_counts', 'unique_counts',\\\n",
    "                                          'min_value', 'max_value', 'dupl_sum', 'dtypes', 'length'], index=df.columns)\n",
    "    for i in df.columns: \n",
    "        missing_value['NaN_part'][i] = df[i].isnull().mean()\n",
    "        missing_value['empty_counts'][i] = df[df[i] == ''][i].count()\n",
    "        missing_value['space_counts'][i] = df[df[i] == ' '][i].count()\n",
    "        missing_value['0_counts'][i] = df[(df[i] == 0)][i].count()\n",
    "        missing_value['-1_counts'][i] = df[df[i] == -1][i].count()\n",
    "        missing_value['unique_counts'][i] = len(df[i].unique())\n",
    "        missing_value['min_value'][i] = df[i].min()\n",
    "        missing_value['max_value'][i] = df[i].max()\n",
    "        missing_value['dupl_sum'][i] = df[i].duplicated().sum()\n",
    "        missing_value['dtypes'][i] = df[i].dtypes\n",
    "        missing_value['length'][i] = len(df[i])\n",
    "    print(df.name)\n",
    "    display(missing_value)"
   ]
  },
  {
   "cell_type": "markdown",
   "metadata": {},
   "source": [
    "Функция поиска аномалий в данных"
   ]
  },
  {
   "cell_type": "code",
   "execution_count": 6,
   "metadata": {},
   "outputs": [],
   "source": [
    "def introduction_data(list_df, trigger):\n",
    "    for df in list_df:\n",
    "        try:\n",
    "            if trigger == 0:\n",
    "                print('-----------------------------------------------------------')\n",
    "                print('Данные о таблице {}:'.format(df.name))\n",
    "                print('-----------------------------------------------------------')\n",
    "                print(df.info())\n",
    "            if trigger == 1:\n",
    "                print('Данные о таблице: {}'.format(df.name))\n",
    "                display(df.head())\n",
    "            if trigger == 2:\n",
    "                print('Данные о таблице: {}'.format(df.name))\n",
    "                display(df.describe())\n",
    "        except:\n",
    "            print('ERROR! Выберите один из 3 вариантов:')\n",
    "            print('вывести info() - выбери 0')\n",
    "            print('вывести первые 5 строк - выбери 1')\n",
    "            print('вывести describe() - выбери 2')"
   ]
  },
  {
   "cell_type": "markdown",
   "metadata": {},
   "source": [
    "Функция просмотра данных"
   ]
  },
  {
   "cell_type": "code",
   "execution_count": 7,
   "metadata": {},
   "outputs": [],
   "source": [
    "def plot_inspection(data):\n",
    "    fig, axes = plt.subplots(nrows=2, ncols=4, figsize = (15,8))\n",
    "    fig.suptitle(f'Распределение запасов нефти в {data.name.title()}', fontsize=16)\n",
    "    plt.subplots_adjust(wspace=0.3, hspace=0.25)\n",
    "\n",
    "    sns.histplot(data, x='f0', bins=500, color='y', kde=True, alpha=0.9, ax=axes[0,0])\n",
    "    sns.boxplot(data=data, y=\"f0\", ax=axes[0, 1])\n",
    "    sns.histplot(data, x='f1', bins=500, color='y', kde=True, alpha=0.9, ax=axes[0,2])\n",
    "    sns.boxplot(data=data, y=\"f1\", ax=axes[0, 3])\n",
    "    sns.histplot(data, x='f2', bins=500, color='y', kde=True, alpha=0.9, ax=axes[1,0])\n",
    "    sns.boxplot(data=data, y=\"f2\", ax=axes[1, 1])\n",
    "    sns.histplot(data, x='product', bins=500, color='y', kde=True, alpha=0.9, ax=axes[1,2])\n",
    "    sns.boxplot(data=data, y=\"product\", ax=axes[1, 3])\n",
    "\n",
    "    axes[0,0].set_title(f'Признак {data.columns[1]}', fontsize=12)\n",
    "    axes[0,2].set_title(f'Признак {data.columns[2]}', fontsize=12)\n",
    "    axes[1,0].set_title(f'Признак {data.columns[3]}', fontsize=12)\n",
    "    axes[1,2].set_title(f'Признак {data.columns[4]}', fontsize=12)\n",
    "\n",
    "    axes[0,1].set_title(f'Признак {data.columns[1]}', fontsize=12)\n",
    "    axes[0,3].set_title(f'Признак {data.columns[2]}', fontsize=12)\n",
    "    axes[1,1].set_title(f'Признак {data.columns[3]}', fontsize=12)\n",
    "    axes[1,3].set_title(f'Признак {data.columns[4]}', fontsize=12)\n",
    "    plt.show()"
   ]
  },
  {
   "cell_type": "markdown",
   "metadata": {},
   "source": [
    "Функция визуального просмотра данных"
   ]
  },
  {
   "cell_type": "code",
   "execution_count": 8,
   "metadata": {},
   "outputs": [],
   "source": [
    "def corr_inspection(list_data): \n",
    "    total_axes = len(list_data)        #общее количество графиков (в данном случае берем равным количеству колонок в датафрейме)\n",
    "    fig = plt.figure(figsize = (15,5))\n",
    "    fig.suptitle(f'Корреляция признаков в регионах', fontsize=16)\n",
    "    plt.subplots_adjust(wspace=0.3, hspace=0.2)\n",
    "    subplt = 1                         # номер начального axes\n",
    "\n",
    "    for data in range(len(list_data)):\n",
    "        ax = fig.add_subplot(1, total_axes, subplt, facecolor='red')      # добавляем axes для каждого графика\n",
    "        \n",
    "        sns.heatmap(\n",
    "        list_data[data].corr(), ax=ax, cmap='crest_r',\n",
    "        vmin=-1, vmax=1, center=0,\n",
    "        annot=True, fmt='.4f', linewidths=.5, #cbar=False\n",
    "        )\n",
    "        \n",
    "        subplt+=1\n",
    "        ax.set_title(list_data[data].name.title(), fontsize=18)\n",
    "    plt.show()"
   ]
  },
  {
   "cell_type": "markdown",
   "metadata": {},
   "source": [
    "Функция просмотра корреляции данных"
   ]
  },
  {
   "cell_type": "code",
   "execution_count": 9,
   "metadata": {},
   "outputs": [],
   "source": [
    "#функция расчета прибыли 200 самых прибыльных скважин в млн. рублей\n",
    "def revenue_top(target, pred_reg):\n",
    "    predicted_top = pd.Series(pred_reg).sort_values(ascending=False)\n",
    "    revenue_top = target.loc[predicted_top.index][:TOP_RESEARCHES].sum() * COST_PER_PRODUCT - BUDGET\n",
    "    return revenue_top"
   ]
  },
  {
   "cell_type": "markdown",
   "metadata": {},
   "source": [
    "Функция расчета прибыли 200 самых прибыльных скважин в млн. рублей"
   ]
  },
  {
   "cell_type": "code",
   "execution_count": 53,
   "metadata": {},
   "outputs": [],
   "source": [
    "def revenue_distrib(target, pred_reg, count, n):\n",
    "    values = []\n",
    "    for i in range(count):\n",
    "        target_subsample = target.sample(n=n, replace=True, random_state=state)\n",
    "        pred_subsample = pred_reg.loc[target_subsample.index]               \n",
    "        revenue = revenue_top(target_subsample, pred_subsample)\n",
    "        values.append(revenue)\n",
    "    return(pd.Series(values))"
   ]
  },
  {
   "cell_type": "markdown",
   "metadata": {},
   "source": [
    "Функция расчета распределения прибыли"
   ]
  },
  {
   "cell_type": "code",
   "execution_count": 11,
   "metadata": {},
   "outputs": [],
   "source": [
    "def scatter_inspection(list_data): \n",
    "    for data in range(len(list_data)):\n",
    "        print(list_data[data].name.title())\n",
    "        scatter_matrix(list_data[data], alpha=0.2, diagonal='kde')\n",
    "    \n",
    "    plt.show()"
   ]
  },
  {
   "cell_type": "markdown",
   "metadata": {},
   "source": [
    "Функция расчета scatter_matrix"
   ]
  },
  {
   "cell_type": "markdown",
   "metadata": {},
   "source": [
    "### <a id=section2>2. Просмотр данных</a>"
   ]
  },
  {
   "cell_type": "code",
   "execution_count": 51,
   "metadata": {},
   "outputs": [],
   "source": [
    "data1.name = 'регион 1'\n",
    "data2.name = 'регион 2'\n",
    "data3.name = 'регион 3'\n",
    "list_df = [data1, data2, data3]"
   ]
  },
  {
   "cell_type": "code",
   "execution_count": 13,
   "metadata": {},
   "outputs": [
    {
     "name": "stdout",
     "output_type": "stream",
     "text": [
      "-----------------------------------------------------------\n",
      "Данные о таблице регион 1:\n",
      "-----------------------------------------------------------\n",
      "<class 'pandas.core.frame.DataFrame'>\n",
      "RangeIndex: 100000 entries, 0 to 99999\n",
      "Data columns (total 5 columns):\n",
      " #   Column   Non-Null Count   Dtype  \n",
      "---  ------   --------------   -----  \n",
      " 0   id       100000 non-null  object \n",
      " 1   f0       100000 non-null  float64\n",
      " 2   f1       100000 non-null  float64\n",
      " 3   f2       100000 non-null  float64\n",
      " 4   product  100000 non-null  float64\n",
      "dtypes: float64(4), object(1)\n",
      "memory usage: 3.8+ MB\n",
      "None\n",
      "-----------------------------------------------------------\n",
      "Данные о таблице регион 2:\n",
      "-----------------------------------------------------------\n",
      "<class 'pandas.core.frame.DataFrame'>\n",
      "RangeIndex: 100000 entries, 0 to 99999\n",
      "Data columns (total 5 columns):\n",
      " #   Column   Non-Null Count   Dtype  \n",
      "---  ------   --------------   -----  \n",
      " 0   id       100000 non-null  object \n",
      " 1   f0       100000 non-null  float64\n",
      " 2   f1       100000 non-null  float64\n",
      " 3   f2       100000 non-null  float64\n",
      " 4   product  100000 non-null  float64\n",
      "dtypes: float64(4), object(1)\n",
      "memory usage: 3.8+ MB\n",
      "None\n",
      "-----------------------------------------------------------\n",
      "Данные о таблице регион 3:\n",
      "-----------------------------------------------------------\n",
      "<class 'pandas.core.frame.DataFrame'>\n",
      "RangeIndex: 100000 entries, 0 to 99999\n",
      "Data columns (total 5 columns):\n",
      " #   Column   Non-Null Count   Dtype  \n",
      "---  ------   --------------   -----  \n",
      " 0   id       100000 non-null  object \n",
      " 1   f0       100000 non-null  float64\n",
      " 2   f1       100000 non-null  float64\n",
      " 3   f2       100000 non-null  float64\n",
      " 4   product  100000 non-null  float64\n",
      "dtypes: float64(4), object(1)\n",
      "memory usage: 3.8+ MB\n",
      "None\n"
     ]
    }
   ],
   "source": [
    "introduction_data(list_df, 0)"
   ]
  },
  {
   "cell_type": "code",
   "execution_count": 14,
   "metadata": {},
   "outputs": [
    {
     "name": "stdout",
     "output_type": "stream",
     "text": [
      "Данные о таблице: регион 1\n"
     ]
    },
    {
     "data": {
      "text/html": [
       "<div>\n",
       "<style scoped>\n",
       "    .dataframe tbody tr th:only-of-type {\n",
       "        vertical-align: middle;\n",
       "    }\n",
       "\n",
       "    .dataframe tbody tr th {\n",
       "        vertical-align: top;\n",
       "    }\n",
       "\n",
       "    .dataframe thead th {\n",
       "        text-align: right;\n",
       "    }\n",
       "</style>\n",
       "<table border=\"1\" class=\"dataframe\">\n",
       "  <thead>\n",
       "    <tr style=\"text-align: right;\">\n",
       "      <th></th>\n",
       "      <th>id</th>\n",
       "      <th>f0</th>\n",
       "      <th>f1</th>\n",
       "      <th>f2</th>\n",
       "      <th>product</th>\n",
       "    </tr>\n",
       "  </thead>\n",
       "  <tbody>\n",
       "    <tr>\n",
       "      <th>0</th>\n",
       "      <td>txEyH</td>\n",
       "      <td>0.705745</td>\n",
       "      <td>-0.497823</td>\n",
       "      <td>1.221170</td>\n",
       "      <td>105.280062</td>\n",
       "    </tr>\n",
       "    <tr>\n",
       "      <th>1</th>\n",
       "      <td>2acmU</td>\n",
       "      <td>1.334711</td>\n",
       "      <td>-0.340164</td>\n",
       "      <td>4.365080</td>\n",
       "      <td>73.037750</td>\n",
       "    </tr>\n",
       "    <tr>\n",
       "      <th>2</th>\n",
       "      <td>409Wp</td>\n",
       "      <td>1.022732</td>\n",
       "      <td>0.151990</td>\n",
       "      <td>1.419926</td>\n",
       "      <td>85.265647</td>\n",
       "    </tr>\n",
       "    <tr>\n",
       "      <th>3</th>\n",
       "      <td>iJLyR</td>\n",
       "      <td>-0.032172</td>\n",
       "      <td>0.139033</td>\n",
       "      <td>2.978566</td>\n",
       "      <td>168.620776</td>\n",
       "    </tr>\n",
       "    <tr>\n",
       "      <th>4</th>\n",
       "      <td>Xdl7t</td>\n",
       "      <td>1.988431</td>\n",
       "      <td>0.155413</td>\n",
       "      <td>4.751769</td>\n",
       "      <td>154.036647</td>\n",
       "    </tr>\n",
       "  </tbody>\n",
       "</table>\n",
       "</div>"
      ],
      "text/plain": [
       "      id        f0        f1        f2     product\n",
       "0  txEyH  0.705745 -0.497823  1.221170  105.280062\n",
       "1  2acmU  1.334711 -0.340164  4.365080   73.037750\n",
       "2  409Wp  1.022732  0.151990  1.419926   85.265647\n",
       "3  iJLyR -0.032172  0.139033  2.978566  168.620776\n",
       "4  Xdl7t  1.988431  0.155413  4.751769  154.036647"
      ]
     },
     "metadata": {},
     "output_type": "display_data"
    },
    {
     "name": "stdout",
     "output_type": "stream",
     "text": [
      "Данные о таблице: регион 2\n"
     ]
    },
    {
     "data": {
      "text/html": [
       "<div>\n",
       "<style scoped>\n",
       "    .dataframe tbody tr th:only-of-type {\n",
       "        vertical-align: middle;\n",
       "    }\n",
       "\n",
       "    .dataframe tbody tr th {\n",
       "        vertical-align: top;\n",
       "    }\n",
       "\n",
       "    .dataframe thead th {\n",
       "        text-align: right;\n",
       "    }\n",
       "</style>\n",
       "<table border=\"1\" class=\"dataframe\">\n",
       "  <thead>\n",
       "    <tr style=\"text-align: right;\">\n",
       "      <th></th>\n",
       "      <th>id</th>\n",
       "      <th>f0</th>\n",
       "      <th>f1</th>\n",
       "      <th>f2</th>\n",
       "      <th>product</th>\n",
       "    </tr>\n",
       "  </thead>\n",
       "  <tbody>\n",
       "    <tr>\n",
       "      <th>0</th>\n",
       "      <td>kBEdx</td>\n",
       "      <td>-15.001348</td>\n",
       "      <td>-8.276000</td>\n",
       "      <td>-0.005876</td>\n",
       "      <td>3.179103</td>\n",
       "    </tr>\n",
       "    <tr>\n",
       "      <th>1</th>\n",
       "      <td>62mP7</td>\n",
       "      <td>14.272088</td>\n",
       "      <td>-3.475083</td>\n",
       "      <td>0.999183</td>\n",
       "      <td>26.953261</td>\n",
       "    </tr>\n",
       "    <tr>\n",
       "      <th>2</th>\n",
       "      <td>vyE1P</td>\n",
       "      <td>6.263187</td>\n",
       "      <td>-5.948386</td>\n",
       "      <td>5.001160</td>\n",
       "      <td>134.766305</td>\n",
       "    </tr>\n",
       "    <tr>\n",
       "      <th>3</th>\n",
       "      <td>KcrkZ</td>\n",
       "      <td>-13.081196</td>\n",
       "      <td>-11.506057</td>\n",
       "      <td>4.999415</td>\n",
       "      <td>137.945408</td>\n",
       "    </tr>\n",
       "    <tr>\n",
       "      <th>4</th>\n",
       "      <td>AHL4O</td>\n",
       "      <td>12.702195</td>\n",
       "      <td>-8.147433</td>\n",
       "      <td>5.004363</td>\n",
       "      <td>134.766305</td>\n",
       "    </tr>\n",
       "  </tbody>\n",
       "</table>\n",
       "</div>"
      ],
      "text/plain": [
       "      id         f0         f1        f2     product\n",
       "0  kBEdx -15.001348  -8.276000 -0.005876    3.179103\n",
       "1  62mP7  14.272088  -3.475083  0.999183   26.953261\n",
       "2  vyE1P   6.263187  -5.948386  5.001160  134.766305\n",
       "3  KcrkZ -13.081196 -11.506057  4.999415  137.945408\n",
       "4  AHL4O  12.702195  -8.147433  5.004363  134.766305"
      ]
     },
     "metadata": {},
     "output_type": "display_data"
    },
    {
     "name": "stdout",
     "output_type": "stream",
     "text": [
      "Данные о таблице: регион 3\n"
     ]
    },
    {
     "data": {
      "text/html": [
       "<div>\n",
       "<style scoped>\n",
       "    .dataframe tbody tr th:only-of-type {\n",
       "        vertical-align: middle;\n",
       "    }\n",
       "\n",
       "    .dataframe tbody tr th {\n",
       "        vertical-align: top;\n",
       "    }\n",
       "\n",
       "    .dataframe thead th {\n",
       "        text-align: right;\n",
       "    }\n",
       "</style>\n",
       "<table border=\"1\" class=\"dataframe\">\n",
       "  <thead>\n",
       "    <tr style=\"text-align: right;\">\n",
       "      <th></th>\n",
       "      <th>id</th>\n",
       "      <th>f0</th>\n",
       "      <th>f1</th>\n",
       "      <th>f2</th>\n",
       "      <th>product</th>\n",
       "    </tr>\n",
       "  </thead>\n",
       "  <tbody>\n",
       "    <tr>\n",
       "      <th>0</th>\n",
       "      <td>fwXo0</td>\n",
       "      <td>-1.146987</td>\n",
       "      <td>0.963328</td>\n",
       "      <td>-0.828965</td>\n",
       "      <td>27.758673</td>\n",
       "    </tr>\n",
       "    <tr>\n",
       "      <th>1</th>\n",
       "      <td>WJtFt</td>\n",
       "      <td>0.262778</td>\n",
       "      <td>0.269839</td>\n",
       "      <td>-2.530187</td>\n",
       "      <td>56.069697</td>\n",
       "    </tr>\n",
       "    <tr>\n",
       "      <th>2</th>\n",
       "      <td>ovLUW</td>\n",
       "      <td>0.194587</td>\n",
       "      <td>0.289035</td>\n",
       "      <td>-5.586433</td>\n",
       "      <td>62.871910</td>\n",
       "    </tr>\n",
       "    <tr>\n",
       "      <th>3</th>\n",
       "      <td>q6cA6</td>\n",
       "      <td>2.236060</td>\n",
       "      <td>-0.553760</td>\n",
       "      <td>0.930038</td>\n",
       "      <td>114.572842</td>\n",
       "    </tr>\n",
       "    <tr>\n",
       "      <th>4</th>\n",
       "      <td>WPMUX</td>\n",
       "      <td>-0.515993</td>\n",
       "      <td>1.716266</td>\n",
       "      <td>5.899011</td>\n",
       "      <td>149.600746</td>\n",
       "    </tr>\n",
       "  </tbody>\n",
       "</table>\n",
       "</div>"
      ],
      "text/plain": [
       "      id        f0        f1        f2     product\n",
       "0  fwXo0 -1.146987  0.963328 -0.828965   27.758673\n",
       "1  WJtFt  0.262778  0.269839 -2.530187   56.069697\n",
       "2  ovLUW  0.194587  0.289035 -5.586433   62.871910\n",
       "3  q6cA6  2.236060 -0.553760  0.930038  114.572842\n",
       "4  WPMUX -0.515993  1.716266  5.899011  149.600746"
      ]
     },
     "metadata": {},
     "output_type": "display_data"
    }
   ],
   "source": [
    "introduction_data(list_df, 1)"
   ]
  },
  {
   "cell_type": "code",
   "execution_count": 15,
   "metadata": {},
   "outputs": [
    {
     "name": "stdout",
     "output_type": "stream",
     "text": [
      "Данные о таблице: регион 1\n"
     ]
    },
    {
     "data": {
      "text/html": [
       "<div>\n",
       "<style scoped>\n",
       "    .dataframe tbody tr th:only-of-type {\n",
       "        vertical-align: middle;\n",
       "    }\n",
       "\n",
       "    .dataframe tbody tr th {\n",
       "        vertical-align: top;\n",
       "    }\n",
       "\n",
       "    .dataframe thead th {\n",
       "        text-align: right;\n",
       "    }\n",
       "</style>\n",
       "<table border=\"1\" class=\"dataframe\">\n",
       "  <thead>\n",
       "    <tr style=\"text-align: right;\">\n",
       "      <th></th>\n",
       "      <th>f0</th>\n",
       "      <th>f1</th>\n",
       "      <th>f2</th>\n",
       "      <th>product</th>\n",
       "    </tr>\n",
       "  </thead>\n",
       "  <tbody>\n",
       "    <tr>\n",
       "      <th>count</th>\n",
       "      <td>100000.000000</td>\n",
       "      <td>100000.000000</td>\n",
       "      <td>100000.000000</td>\n",
       "      <td>100000.000000</td>\n",
       "    </tr>\n",
       "    <tr>\n",
       "      <th>mean</th>\n",
       "      <td>0.500419</td>\n",
       "      <td>0.250143</td>\n",
       "      <td>2.502647</td>\n",
       "      <td>92.500000</td>\n",
       "    </tr>\n",
       "    <tr>\n",
       "      <th>std</th>\n",
       "      <td>0.871832</td>\n",
       "      <td>0.504433</td>\n",
       "      <td>3.248248</td>\n",
       "      <td>44.288691</td>\n",
       "    </tr>\n",
       "    <tr>\n",
       "      <th>min</th>\n",
       "      <td>-1.408605</td>\n",
       "      <td>-0.848218</td>\n",
       "      <td>-12.088328</td>\n",
       "      <td>0.000000</td>\n",
       "    </tr>\n",
       "    <tr>\n",
       "      <th>25%</th>\n",
       "      <td>-0.072580</td>\n",
       "      <td>-0.200881</td>\n",
       "      <td>0.287748</td>\n",
       "      <td>56.497507</td>\n",
       "    </tr>\n",
       "    <tr>\n",
       "      <th>50%</th>\n",
       "      <td>0.502360</td>\n",
       "      <td>0.250252</td>\n",
       "      <td>2.515969</td>\n",
       "      <td>91.849972</td>\n",
       "    </tr>\n",
       "    <tr>\n",
       "      <th>75%</th>\n",
       "      <td>1.073581</td>\n",
       "      <td>0.700646</td>\n",
       "      <td>4.715088</td>\n",
       "      <td>128.564089</td>\n",
       "    </tr>\n",
       "    <tr>\n",
       "      <th>max</th>\n",
       "      <td>2.362331</td>\n",
       "      <td>1.343769</td>\n",
       "      <td>16.003790</td>\n",
       "      <td>185.364347</td>\n",
       "    </tr>\n",
       "  </tbody>\n",
       "</table>\n",
       "</div>"
      ],
      "text/plain": [
       "                  f0             f1             f2        product\n",
       "count  100000.000000  100000.000000  100000.000000  100000.000000\n",
       "mean        0.500419       0.250143       2.502647      92.500000\n",
       "std         0.871832       0.504433       3.248248      44.288691\n",
       "min        -1.408605      -0.848218     -12.088328       0.000000\n",
       "25%        -0.072580      -0.200881       0.287748      56.497507\n",
       "50%         0.502360       0.250252       2.515969      91.849972\n",
       "75%         1.073581       0.700646       4.715088     128.564089\n",
       "max         2.362331       1.343769      16.003790     185.364347"
      ]
     },
     "metadata": {},
     "output_type": "display_data"
    },
    {
     "name": "stdout",
     "output_type": "stream",
     "text": [
      "Данные о таблице: регион 2\n"
     ]
    },
    {
     "data": {
      "text/html": [
       "<div>\n",
       "<style scoped>\n",
       "    .dataframe tbody tr th:only-of-type {\n",
       "        vertical-align: middle;\n",
       "    }\n",
       "\n",
       "    .dataframe tbody tr th {\n",
       "        vertical-align: top;\n",
       "    }\n",
       "\n",
       "    .dataframe thead th {\n",
       "        text-align: right;\n",
       "    }\n",
       "</style>\n",
       "<table border=\"1\" class=\"dataframe\">\n",
       "  <thead>\n",
       "    <tr style=\"text-align: right;\">\n",
       "      <th></th>\n",
       "      <th>f0</th>\n",
       "      <th>f1</th>\n",
       "      <th>f2</th>\n",
       "      <th>product</th>\n",
       "    </tr>\n",
       "  </thead>\n",
       "  <tbody>\n",
       "    <tr>\n",
       "      <th>count</th>\n",
       "      <td>100000.000000</td>\n",
       "      <td>100000.000000</td>\n",
       "      <td>100000.000000</td>\n",
       "      <td>100000.000000</td>\n",
       "    </tr>\n",
       "    <tr>\n",
       "      <th>mean</th>\n",
       "      <td>1.141296</td>\n",
       "      <td>-4.796579</td>\n",
       "      <td>2.494541</td>\n",
       "      <td>68.825000</td>\n",
       "    </tr>\n",
       "    <tr>\n",
       "      <th>std</th>\n",
       "      <td>8.965932</td>\n",
       "      <td>5.119872</td>\n",
       "      <td>1.703572</td>\n",
       "      <td>45.944423</td>\n",
       "    </tr>\n",
       "    <tr>\n",
       "      <th>min</th>\n",
       "      <td>-31.609576</td>\n",
       "      <td>-26.358598</td>\n",
       "      <td>-0.018144</td>\n",
       "      <td>0.000000</td>\n",
       "    </tr>\n",
       "    <tr>\n",
       "      <th>25%</th>\n",
       "      <td>-6.298551</td>\n",
       "      <td>-8.267985</td>\n",
       "      <td>1.000021</td>\n",
       "      <td>26.953261</td>\n",
       "    </tr>\n",
       "    <tr>\n",
       "      <th>50%</th>\n",
       "      <td>1.153055</td>\n",
       "      <td>-4.813172</td>\n",
       "      <td>2.011479</td>\n",
       "      <td>57.085625</td>\n",
       "    </tr>\n",
       "    <tr>\n",
       "      <th>75%</th>\n",
       "      <td>8.621015</td>\n",
       "      <td>-1.332816</td>\n",
       "      <td>3.999904</td>\n",
       "      <td>107.813044</td>\n",
       "    </tr>\n",
       "    <tr>\n",
       "      <th>max</th>\n",
       "      <td>29.421755</td>\n",
       "      <td>18.734063</td>\n",
       "      <td>5.019721</td>\n",
       "      <td>137.945408</td>\n",
       "    </tr>\n",
       "  </tbody>\n",
       "</table>\n",
       "</div>"
      ],
      "text/plain": [
       "                  f0             f1             f2        product\n",
       "count  100000.000000  100000.000000  100000.000000  100000.000000\n",
       "mean        1.141296      -4.796579       2.494541      68.825000\n",
       "std         8.965932       5.119872       1.703572      45.944423\n",
       "min       -31.609576     -26.358598      -0.018144       0.000000\n",
       "25%        -6.298551      -8.267985       1.000021      26.953261\n",
       "50%         1.153055      -4.813172       2.011479      57.085625\n",
       "75%         8.621015      -1.332816       3.999904     107.813044\n",
       "max        29.421755      18.734063       5.019721     137.945408"
      ]
     },
     "metadata": {},
     "output_type": "display_data"
    },
    {
     "name": "stdout",
     "output_type": "stream",
     "text": [
      "Данные о таблице: регион 3\n"
     ]
    },
    {
     "data": {
      "text/html": [
       "<div>\n",
       "<style scoped>\n",
       "    .dataframe tbody tr th:only-of-type {\n",
       "        vertical-align: middle;\n",
       "    }\n",
       "\n",
       "    .dataframe tbody tr th {\n",
       "        vertical-align: top;\n",
       "    }\n",
       "\n",
       "    .dataframe thead th {\n",
       "        text-align: right;\n",
       "    }\n",
       "</style>\n",
       "<table border=\"1\" class=\"dataframe\">\n",
       "  <thead>\n",
       "    <tr style=\"text-align: right;\">\n",
       "      <th></th>\n",
       "      <th>f0</th>\n",
       "      <th>f1</th>\n",
       "      <th>f2</th>\n",
       "      <th>product</th>\n",
       "    </tr>\n",
       "  </thead>\n",
       "  <tbody>\n",
       "    <tr>\n",
       "      <th>count</th>\n",
       "      <td>100000.000000</td>\n",
       "      <td>100000.000000</td>\n",
       "      <td>100000.000000</td>\n",
       "      <td>100000.000000</td>\n",
       "    </tr>\n",
       "    <tr>\n",
       "      <th>mean</th>\n",
       "      <td>0.002023</td>\n",
       "      <td>-0.002081</td>\n",
       "      <td>2.495128</td>\n",
       "      <td>95.000000</td>\n",
       "    </tr>\n",
       "    <tr>\n",
       "      <th>std</th>\n",
       "      <td>1.732045</td>\n",
       "      <td>1.730417</td>\n",
       "      <td>3.473445</td>\n",
       "      <td>44.749921</td>\n",
       "    </tr>\n",
       "    <tr>\n",
       "      <th>min</th>\n",
       "      <td>-8.760004</td>\n",
       "      <td>-7.084020</td>\n",
       "      <td>-11.970335</td>\n",
       "      <td>0.000000</td>\n",
       "    </tr>\n",
       "    <tr>\n",
       "      <th>25%</th>\n",
       "      <td>-1.162288</td>\n",
       "      <td>-1.174820</td>\n",
       "      <td>0.130359</td>\n",
       "      <td>59.450441</td>\n",
       "    </tr>\n",
       "    <tr>\n",
       "      <th>50%</th>\n",
       "      <td>0.009424</td>\n",
       "      <td>-0.009482</td>\n",
       "      <td>2.484236</td>\n",
       "      <td>94.925613</td>\n",
       "    </tr>\n",
       "    <tr>\n",
       "      <th>75%</th>\n",
       "      <td>1.158535</td>\n",
       "      <td>1.163678</td>\n",
       "      <td>4.858794</td>\n",
       "      <td>130.595027</td>\n",
       "    </tr>\n",
       "    <tr>\n",
       "      <th>max</th>\n",
       "      <td>7.238262</td>\n",
       "      <td>7.844801</td>\n",
       "      <td>16.739402</td>\n",
       "      <td>190.029838</td>\n",
       "    </tr>\n",
       "  </tbody>\n",
       "</table>\n",
       "</div>"
      ],
      "text/plain": [
       "                  f0             f1             f2        product\n",
       "count  100000.000000  100000.000000  100000.000000  100000.000000\n",
       "mean        0.002023      -0.002081       2.495128      95.000000\n",
       "std         1.732045       1.730417       3.473445      44.749921\n",
       "min        -8.760004      -7.084020     -11.970335       0.000000\n",
       "25%        -1.162288      -1.174820       0.130359      59.450441\n",
       "50%         0.009424      -0.009482       2.484236      94.925613\n",
       "75%         1.158535       1.163678       4.858794     130.595027\n",
       "max         7.238262       7.844801      16.739402     190.029838"
      ]
     },
     "metadata": {},
     "output_type": "display_data"
    }
   ],
   "source": [
    "introduction_data(list_df, 2)"
   ]
  },
  {
   "cell_type": "markdown",
   "metadata": {},
   "source": [
    "### <a id=section3>3. Выявление аномалий</a>"
   ]
  },
  {
   "cell_type": "markdown",
   "metadata": {},
   "source": [
    "Посмотрю наличие аномалий в данных"
   ]
  },
  {
   "cell_type": "code",
   "execution_count": 16,
   "metadata": {},
   "outputs": [
    {
     "name": "stdout",
     "output_type": "stream",
     "text": [
      "регион 1\n"
     ]
    },
    {
     "data": {
      "text/html": [
       "<div>\n",
       "<style scoped>\n",
       "    .dataframe tbody tr th:only-of-type {\n",
       "        vertical-align: middle;\n",
       "    }\n",
       "\n",
       "    .dataframe tbody tr th {\n",
       "        vertical-align: top;\n",
       "    }\n",
       "\n",
       "    .dataframe thead th {\n",
       "        text-align: right;\n",
       "    }\n",
       "</style>\n",
       "<table border=\"1\" class=\"dataframe\">\n",
       "  <thead>\n",
       "    <tr style=\"text-align: right;\">\n",
       "      <th></th>\n",
       "      <th>NaN_part</th>\n",
       "      <th>empty_counts</th>\n",
       "      <th>space_counts</th>\n",
       "      <th>0_counts</th>\n",
       "      <th>-1_counts</th>\n",
       "      <th>unique_counts</th>\n",
       "      <th>min_value</th>\n",
       "      <th>max_value</th>\n",
       "      <th>dupl_sum</th>\n",
       "      <th>dtypes</th>\n",
       "      <th>length</th>\n",
       "    </tr>\n",
       "  </thead>\n",
       "  <tbody>\n",
       "    <tr>\n",
       "      <th>id</th>\n",
       "      <td>0</td>\n",
       "      <td>0</td>\n",
       "      <td>0</td>\n",
       "      <td>0</td>\n",
       "      <td>0</td>\n",
       "      <td>99990</td>\n",
       "      <td>006OJ</td>\n",
       "      <td>zzzLH</td>\n",
       "      <td>10</td>\n",
       "      <td>object</td>\n",
       "      <td>100000</td>\n",
       "    </tr>\n",
       "    <tr>\n",
       "      <th>f0</th>\n",
       "      <td>0</td>\n",
       "      <td>0</td>\n",
       "      <td>0</td>\n",
       "      <td>0</td>\n",
       "      <td>0</td>\n",
       "      <td>100000</td>\n",
       "      <td>-1.40861</td>\n",
       "      <td>2.36233</td>\n",
       "      <td>0</td>\n",
       "      <td>float64</td>\n",
       "      <td>100000</td>\n",
       "    </tr>\n",
       "    <tr>\n",
       "      <th>f1</th>\n",
       "      <td>0</td>\n",
       "      <td>0</td>\n",
       "      <td>0</td>\n",
       "      <td>0</td>\n",
       "      <td>0</td>\n",
       "      <td>100000</td>\n",
       "      <td>-0.848218</td>\n",
       "      <td>1.34377</td>\n",
       "      <td>0</td>\n",
       "      <td>float64</td>\n",
       "      <td>100000</td>\n",
       "    </tr>\n",
       "    <tr>\n",
       "      <th>f2</th>\n",
       "      <td>0</td>\n",
       "      <td>0</td>\n",
       "      <td>0</td>\n",
       "      <td>0</td>\n",
       "      <td>0</td>\n",
       "      <td>100000</td>\n",
       "      <td>-12.0883</td>\n",
       "      <td>16.0038</td>\n",
       "      <td>0</td>\n",
       "      <td>float64</td>\n",
       "      <td>100000</td>\n",
       "    </tr>\n",
       "    <tr>\n",
       "      <th>product</th>\n",
       "      <td>0</td>\n",
       "      <td>0</td>\n",
       "      <td>0</td>\n",
       "      <td>1</td>\n",
       "      <td>0</td>\n",
       "      <td>100000</td>\n",
       "      <td>0</td>\n",
       "      <td>185.364</td>\n",
       "      <td>0</td>\n",
       "      <td>float64</td>\n",
       "      <td>100000</td>\n",
       "    </tr>\n",
       "  </tbody>\n",
       "</table>\n",
       "</div>"
      ],
      "text/plain": [
       "        NaN_part empty_counts space_counts 0_counts -1_counts unique_counts  \\\n",
       "id             0            0            0        0         0         99990   \n",
       "f0             0            0            0        0         0        100000   \n",
       "f1             0            0            0        0         0        100000   \n",
       "f2             0            0            0        0         0        100000   \n",
       "product        0            0            0        1         0        100000   \n",
       "\n",
       "        min_value max_value dupl_sum   dtypes  length  \n",
       "id          006OJ     zzzLH       10   object  100000  \n",
       "f0       -1.40861   2.36233        0  float64  100000  \n",
       "f1      -0.848218   1.34377        0  float64  100000  \n",
       "f2       -12.0883   16.0038        0  float64  100000  \n",
       "product         0   185.364        0  float64  100000  "
      ]
     },
     "metadata": {},
     "output_type": "display_data"
    },
    {
     "name": "stdout",
     "output_type": "stream",
     "text": [
      "регион 2\n"
     ]
    },
    {
     "data": {
      "text/html": [
       "<div>\n",
       "<style scoped>\n",
       "    .dataframe tbody tr th:only-of-type {\n",
       "        vertical-align: middle;\n",
       "    }\n",
       "\n",
       "    .dataframe tbody tr th {\n",
       "        vertical-align: top;\n",
       "    }\n",
       "\n",
       "    .dataframe thead th {\n",
       "        text-align: right;\n",
       "    }\n",
       "</style>\n",
       "<table border=\"1\" class=\"dataframe\">\n",
       "  <thead>\n",
       "    <tr style=\"text-align: right;\">\n",
       "      <th></th>\n",
       "      <th>NaN_part</th>\n",
       "      <th>empty_counts</th>\n",
       "      <th>space_counts</th>\n",
       "      <th>0_counts</th>\n",
       "      <th>-1_counts</th>\n",
       "      <th>unique_counts</th>\n",
       "      <th>min_value</th>\n",
       "      <th>max_value</th>\n",
       "      <th>dupl_sum</th>\n",
       "      <th>dtypes</th>\n",
       "      <th>length</th>\n",
       "    </tr>\n",
       "  </thead>\n",
       "  <tbody>\n",
       "    <tr>\n",
       "      <th>id</th>\n",
       "      <td>0</td>\n",
       "      <td>0</td>\n",
       "      <td>0</td>\n",
       "      <td>0</td>\n",
       "      <td>0</td>\n",
       "      <td>99996</td>\n",
       "      <td>0022J</td>\n",
       "      <td>zzzvI</td>\n",
       "      <td>4</td>\n",
       "      <td>object</td>\n",
       "      <td>100000</td>\n",
       "    </tr>\n",
       "    <tr>\n",
       "      <th>f0</th>\n",
       "      <td>0</td>\n",
       "      <td>0</td>\n",
       "      <td>0</td>\n",
       "      <td>0</td>\n",
       "      <td>0</td>\n",
       "      <td>100000</td>\n",
       "      <td>-31.6096</td>\n",
       "      <td>29.4218</td>\n",
       "      <td>0</td>\n",
       "      <td>float64</td>\n",
       "      <td>100000</td>\n",
       "    </tr>\n",
       "    <tr>\n",
       "      <th>f1</th>\n",
       "      <td>0</td>\n",
       "      <td>0</td>\n",
       "      <td>0</td>\n",
       "      <td>0</td>\n",
       "      <td>0</td>\n",
       "      <td>100000</td>\n",
       "      <td>-26.3586</td>\n",
       "      <td>18.7341</td>\n",
       "      <td>0</td>\n",
       "      <td>float64</td>\n",
       "      <td>100000</td>\n",
       "    </tr>\n",
       "    <tr>\n",
       "      <th>f2</th>\n",
       "      <td>0</td>\n",
       "      <td>0</td>\n",
       "      <td>0</td>\n",
       "      <td>0</td>\n",
       "      <td>0</td>\n",
       "      <td>100000</td>\n",
       "      <td>-0.0181441</td>\n",
       "      <td>5.01972</td>\n",
       "      <td>0</td>\n",
       "      <td>float64</td>\n",
       "      <td>100000</td>\n",
       "    </tr>\n",
       "    <tr>\n",
       "      <th>product</th>\n",
       "      <td>0</td>\n",
       "      <td>0</td>\n",
       "      <td>0</td>\n",
       "      <td>8235</td>\n",
       "      <td>0</td>\n",
       "      <td>12</td>\n",
       "      <td>0</td>\n",
       "      <td>137.945</td>\n",
       "      <td>99988</td>\n",
       "      <td>float64</td>\n",
       "      <td>100000</td>\n",
       "    </tr>\n",
       "  </tbody>\n",
       "</table>\n",
       "</div>"
      ],
      "text/plain": [
       "        NaN_part empty_counts space_counts 0_counts -1_counts unique_counts  \\\n",
       "id             0            0            0        0         0         99996   \n",
       "f0             0            0            0        0         0        100000   \n",
       "f1             0            0            0        0         0        100000   \n",
       "f2             0            0            0        0         0        100000   \n",
       "product        0            0            0     8235         0            12   \n",
       "\n",
       "         min_value max_value dupl_sum   dtypes  length  \n",
       "id           0022J     zzzvI        4   object  100000  \n",
       "f0        -31.6096   29.4218        0  float64  100000  \n",
       "f1        -26.3586   18.7341        0  float64  100000  \n",
       "f2      -0.0181441   5.01972        0  float64  100000  \n",
       "product          0   137.945    99988  float64  100000  "
      ]
     },
     "metadata": {},
     "output_type": "display_data"
    },
    {
     "name": "stdout",
     "output_type": "stream",
     "text": [
      "регион 3\n"
     ]
    },
    {
     "data": {
      "text/html": [
       "<div>\n",
       "<style scoped>\n",
       "    .dataframe tbody tr th:only-of-type {\n",
       "        vertical-align: middle;\n",
       "    }\n",
       "\n",
       "    .dataframe tbody tr th {\n",
       "        vertical-align: top;\n",
       "    }\n",
       "\n",
       "    .dataframe thead th {\n",
       "        text-align: right;\n",
       "    }\n",
       "</style>\n",
       "<table border=\"1\" class=\"dataframe\">\n",
       "  <thead>\n",
       "    <tr style=\"text-align: right;\">\n",
       "      <th></th>\n",
       "      <th>NaN_part</th>\n",
       "      <th>empty_counts</th>\n",
       "      <th>space_counts</th>\n",
       "      <th>0_counts</th>\n",
       "      <th>-1_counts</th>\n",
       "      <th>unique_counts</th>\n",
       "      <th>min_value</th>\n",
       "      <th>max_value</th>\n",
       "      <th>dupl_sum</th>\n",
       "      <th>dtypes</th>\n",
       "      <th>length</th>\n",
       "    </tr>\n",
       "  </thead>\n",
       "  <tbody>\n",
       "    <tr>\n",
       "      <th>id</th>\n",
       "      <td>0</td>\n",
       "      <td>0</td>\n",
       "      <td>0</td>\n",
       "      <td>0</td>\n",
       "      <td>0</td>\n",
       "      <td>99996</td>\n",
       "      <td>009Gl</td>\n",
       "      <td>zzz9h</td>\n",
       "      <td>4</td>\n",
       "      <td>object</td>\n",
       "      <td>100000</td>\n",
       "    </tr>\n",
       "    <tr>\n",
       "      <th>f0</th>\n",
       "      <td>0</td>\n",
       "      <td>0</td>\n",
       "      <td>0</td>\n",
       "      <td>0</td>\n",
       "      <td>0</td>\n",
       "      <td>100000</td>\n",
       "      <td>-8.76</td>\n",
       "      <td>7.23826</td>\n",
       "      <td>0</td>\n",
       "      <td>float64</td>\n",
       "      <td>100000</td>\n",
       "    </tr>\n",
       "    <tr>\n",
       "      <th>f1</th>\n",
       "      <td>0</td>\n",
       "      <td>0</td>\n",
       "      <td>0</td>\n",
       "      <td>0</td>\n",
       "      <td>0</td>\n",
       "      <td>100000</td>\n",
       "      <td>-7.08402</td>\n",
       "      <td>7.8448</td>\n",
       "      <td>0</td>\n",
       "      <td>float64</td>\n",
       "      <td>100000</td>\n",
       "    </tr>\n",
       "    <tr>\n",
       "      <th>f2</th>\n",
       "      <td>0</td>\n",
       "      <td>0</td>\n",
       "      <td>0</td>\n",
       "      <td>0</td>\n",
       "      <td>0</td>\n",
       "      <td>100000</td>\n",
       "      <td>-11.9703</td>\n",
       "      <td>16.7394</td>\n",
       "      <td>0</td>\n",
       "      <td>float64</td>\n",
       "      <td>100000</td>\n",
       "    </tr>\n",
       "    <tr>\n",
       "      <th>product</th>\n",
       "      <td>0</td>\n",
       "      <td>0</td>\n",
       "      <td>0</td>\n",
       "      <td>1</td>\n",
       "      <td>0</td>\n",
       "      <td>100000</td>\n",
       "      <td>0</td>\n",
       "      <td>190.03</td>\n",
       "      <td>0</td>\n",
       "      <td>float64</td>\n",
       "      <td>100000</td>\n",
       "    </tr>\n",
       "  </tbody>\n",
       "</table>\n",
       "</div>"
      ],
      "text/plain": [
       "        NaN_part empty_counts space_counts 0_counts -1_counts unique_counts  \\\n",
       "id             0            0            0        0         0         99996   \n",
       "f0             0            0            0        0         0        100000   \n",
       "f1             0            0            0        0         0        100000   \n",
       "f2             0            0            0        0         0        100000   \n",
       "product        0            0            0        1         0        100000   \n",
       "\n",
       "        min_value max_value dupl_sum   dtypes  length  \n",
       "id          009Gl     zzz9h        4   object  100000  \n",
       "f0          -8.76   7.23826        0  float64  100000  \n",
       "f1       -7.08402    7.8448        0  float64  100000  \n",
       "f2       -11.9703   16.7394        0  float64  100000  \n",
       "product         0    190.03        0  float64  100000  "
      ]
     },
     "metadata": {},
     "output_type": "display_data"
    }
   ],
   "source": [
    "missing_value(data1) \n",
    "missing_value(data2) \n",
    "missing_value(data3) "
   ]
  },
  {
   "cell_type": "markdown",
   "metadata": {},
   "source": [
    "Из таблиц выше видно:\n",
    "- второй регион активно используется: 82.3% нефти из существующих скважин добыта. В остальных регионах только по 1 скважине высушено. \n",
    "- второй регион имеет 12 уникальных объемов запасов нефти при наличии многочисленных скважин.\n",
    "- во всех данных по регионам есть малочисленные дубликаты - необходимо удалить. \n",
    "\n",
    "Рассмотрю признаки на уникальность:"
   ]
  },
  {
   "cell_type": "code",
   "execution_count": 17,
   "metadata": {},
   "outputs": [
    {
     "name": "stdout",
     "output_type": "stream",
     "text": [
      "регион 2\n"
     ]
    },
    {
     "data": {
      "text/plain": [
       "[0.0,\n",
       " 3.179102583207246,\n",
       " 26.953261031539693,\n",
       " 30.132363614746946,\n",
       " 53.906522063079386,\n",
       " 57.08562464628662,\n",
       " 80.85978309461906,\n",
       " 84.03888567782631,\n",
       " 107.81304412615877,\n",
       " 110.992146709366,\n",
       " 134.76630515769844,\n",
       " 137.94540774090564]"
      ]
     },
     "metadata": {},
     "output_type": "display_data"
    }
   ],
   "source": [
    "print(data2.name)\n",
    "display(sorted(data2['product'].unique()))"
   ]
  },
  {
   "cell_type": "code",
   "execution_count": 18,
   "metadata": {},
   "outputs": [
    {
     "name": "stdout",
     "output_type": "stream",
     "text": [
      "регион 1\n"
     ]
    },
    {
     "data": {
      "text/html": [
       "<div>\n",
       "<style scoped>\n",
       "    .dataframe tbody tr th:only-of-type {\n",
       "        vertical-align: middle;\n",
       "    }\n",
       "\n",
       "    .dataframe tbody tr th {\n",
       "        vertical-align: top;\n",
       "    }\n",
       "\n",
       "    .dataframe thead th {\n",
       "        text-align: right;\n",
       "    }\n",
       "</style>\n",
       "<table border=\"1\" class=\"dataframe\">\n",
       "  <thead>\n",
       "    <tr style=\"text-align: right;\">\n",
       "      <th></th>\n",
       "      <th>id</th>\n",
       "      <th>f0</th>\n",
       "      <th>f1</th>\n",
       "      <th>f2</th>\n",
       "      <th>product</th>\n",
       "    </tr>\n",
       "  </thead>\n",
       "  <tbody>\n",
       "    <tr>\n",
       "      <th>7530</th>\n",
       "      <td>HZww2</td>\n",
       "      <td>1.061194</td>\n",
       "      <td>-0.373969</td>\n",
       "      <td>10.430210</td>\n",
       "      <td>158.828695</td>\n",
       "    </tr>\n",
       "    <tr>\n",
       "      <th>41724</th>\n",
       "      <td>bxg6G</td>\n",
       "      <td>-0.823752</td>\n",
       "      <td>0.546319</td>\n",
       "      <td>3.630479</td>\n",
       "      <td>93.007798</td>\n",
       "    </tr>\n",
       "    <tr>\n",
       "      <th>51970</th>\n",
       "      <td>A5aEY</td>\n",
       "      <td>-0.180335</td>\n",
       "      <td>0.935548</td>\n",
       "      <td>-2.094773</td>\n",
       "      <td>33.020205</td>\n",
       "    </tr>\n",
       "    <tr>\n",
       "      <th>63593</th>\n",
       "      <td>QcMuo</td>\n",
       "      <td>0.635635</td>\n",
       "      <td>-0.473422</td>\n",
       "      <td>0.862670</td>\n",
       "      <td>64.578675</td>\n",
       "    </tr>\n",
       "    <tr>\n",
       "      <th>66136</th>\n",
       "      <td>74z30</td>\n",
       "      <td>1.084962</td>\n",
       "      <td>-0.312358</td>\n",
       "      <td>6.990771</td>\n",
       "      <td>127.643327</td>\n",
       "    </tr>\n",
       "    <tr>\n",
       "      <th>69163</th>\n",
       "      <td>AGS9W</td>\n",
       "      <td>-0.933795</td>\n",
       "      <td>0.116194</td>\n",
       "      <td>-3.655896</td>\n",
       "      <td>19.230453</td>\n",
       "    </tr>\n",
       "    <tr>\n",
       "      <th>75715</th>\n",
       "      <td>Tdehs</td>\n",
       "      <td>0.112079</td>\n",
       "      <td>0.430296</td>\n",
       "      <td>3.218993</td>\n",
       "      <td>60.964018</td>\n",
       "    </tr>\n",
       "    <tr>\n",
       "      <th>90815</th>\n",
       "      <td>fiKDv</td>\n",
       "      <td>0.049883</td>\n",
       "      <td>0.841313</td>\n",
       "      <td>6.394613</td>\n",
       "      <td>137.346586</td>\n",
       "    </tr>\n",
       "    <tr>\n",
       "      <th>92341</th>\n",
       "      <td>TtcGQ</td>\n",
       "      <td>0.110711</td>\n",
       "      <td>1.022689</td>\n",
       "      <td>0.911381</td>\n",
       "      <td>101.318008</td>\n",
       "    </tr>\n",
       "    <tr>\n",
       "      <th>97785</th>\n",
       "      <td>bsk9y</td>\n",
       "      <td>0.378429</td>\n",
       "      <td>0.005837</td>\n",
       "      <td>0.160827</td>\n",
       "      <td>160.637302</td>\n",
       "    </tr>\n",
       "  </tbody>\n",
       "</table>\n",
       "</div>"
      ],
      "text/plain": [
       "          id        f0        f1         f2     product\n",
       "7530   HZww2  1.061194 -0.373969  10.430210  158.828695\n",
       "41724  bxg6G -0.823752  0.546319   3.630479   93.007798\n",
       "51970  A5aEY -0.180335  0.935548  -2.094773   33.020205\n",
       "63593  QcMuo  0.635635 -0.473422   0.862670   64.578675\n",
       "66136  74z30  1.084962 -0.312358   6.990771  127.643327\n",
       "69163  AGS9W -0.933795  0.116194  -3.655896   19.230453\n",
       "75715  Tdehs  0.112079  0.430296   3.218993   60.964018\n",
       "90815  fiKDv  0.049883  0.841313   6.394613  137.346586\n",
       "92341  TtcGQ  0.110711  1.022689   0.911381  101.318008\n",
       "97785  bsk9y  0.378429  0.005837   0.160827  160.637302"
      ]
     },
     "metadata": {},
     "output_type": "display_data"
    },
    {
     "name": "stdout",
     "output_type": "stream",
     "text": [
      "регион 2\n"
     ]
    },
    {
     "data": {
      "text/html": [
       "<div>\n",
       "<style scoped>\n",
       "    .dataframe tbody tr th:only-of-type {\n",
       "        vertical-align: middle;\n",
       "    }\n",
       "\n",
       "    .dataframe tbody tr th {\n",
       "        vertical-align: top;\n",
       "    }\n",
       "\n",
       "    .dataframe thead th {\n",
       "        text-align: right;\n",
       "    }\n",
       "</style>\n",
       "<table border=\"1\" class=\"dataframe\">\n",
       "  <thead>\n",
       "    <tr style=\"text-align: right;\">\n",
       "      <th></th>\n",
       "      <th>id</th>\n",
       "      <th>f0</th>\n",
       "      <th>f1</th>\n",
       "      <th>f2</th>\n",
       "      <th>product</th>\n",
       "    </tr>\n",
       "  </thead>\n",
       "  <tbody>\n",
       "    <tr>\n",
       "      <th>41906</th>\n",
       "      <td>LHZR0</td>\n",
       "      <td>-8.989672</td>\n",
       "      <td>-4.286607</td>\n",
       "      <td>2.009139</td>\n",
       "      <td>57.085625</td>\n",
       "    </tr>\n",
       "    <tr>\n",
       "      <th>82178</th>\n",
       "      <td>bfPNe</td>\n",
       "      <td>-6.202799</td>\n",
       "      <td>-4.820045</td>\n",
       "      <td>2.995107</td>\n",
       "      <td>84.038886</td>\n",
       "    </tr>\n",
       "    <tr>\n",
       "      <th>82873</th>\n",
       "      <td>wt4Uk</td>\n",
       "      <td>10.259972</td>\n",
       "      <td>-9.376355</td>\n",
       "      <td>4.994297</td>\n",
       "      <td>134.766305</td>\n",
       "    </tr>\n",
       "    <tr>\n",
       "      <th>84461</th>\n",
       "      <td>5ltQ6</td>\n",
       "      <td>18.213839</td>\n",
       "      <td>2.191999</td>\n",
       "      <td>3.993869</td>\n",
       "      <td>107.813044</td>\n",
       "    </tr>\n",
       "  </tbody>\n",
       "</table>\n",
       "</div>"
      ],
      "text/plain": [
       "          id         f0        f1        f2     product\n",
       "41906  LHZR0  -8.989672 -4.286607  2.009139   57.085625\n",
       "82178  bfPNe  -6.202799 -4.820045  2.995107   84.038886\n",
       "82873  wt4Uk  10.259972 -9.376355  4.994297  134.766305\n",
       "84461  5ltQ6  18.213839  2.191999  3.993869  107.813044"
      ]
     },
     "metadata": {},
     "output_type": "display_data"
    },
    {
     "name": "stdout",
     "output_type": "stream",
     "text": [
      "регион 3\n"
     ]
    },
    {
     "data": {
      "text/html": [
       "<div>\n",
       "<style scoped>\n",
       "    .dataframe tbody tr th:only-of-type {\n",
       "        vertical-align: middle;\n",
       "    }\n",
       "\n",
       "    .dataframe tbody tr th {\n",
       "        vertical-align: top;\n",
       "    }\n",
       "\n",
       "    .dataframe thead th {\n",
       "        text-align: right;\n",
       "    }\n",
       "</style>\n",
       "<table border=\"1\" class=\"dataframe\">\n",
       "  <thead>\n",
       "    <tr style=\"text-align: right;\">\n",
       "      <th></th>\n",
       "      <th>id</th>\n",
       "      <th>f0</th>\n",
       "      <th>f1</th>\n",
       "      <th>f2</th>\n",
       "      <th>product</th>\n",
       "    </tr>\n",
       "  </thead>\n",
       "  <tbody>\n",
       "    <tr>\n",
       "      <th>43233</th>\n",
       "      <td>xCHr8</td>\n",
       "      <td>-0.847066</td>\n",
       "      <td>2.101796</td>\n",
       "      <td>5.597130</td>\n",
       "      <td>184.388641</td>\n",
       "    </tr>\n",
       "    <tr>\n",
       "      <th>49564</th>\n",
       "      <td>VF7Jo</td>\n",
       "      <td>-0.883115</td>\n",
       "      <td>0.560537</td>\n",
       "      <td>0.723601</td>\n",
       "      <td>136.233420</td>\n",
       "    </tr>\n",
       "    <tr>\n",
       "      <th>55967</th>\n",
       "      <td>KUPhW</td>\n",
       "      <td>1.211150</td>\n",
       "      <td>3.176408</td>\n",
       "      <td>5.543540</td>\n",
       "      <td>132.831802</td>\n",
       "    </tr>\n",
       "    <tr>\n",
       "      <th>95090</th>\n",
       "      <td>Vcm5J</td>\n",
       "      <td>2.587702</td>\n",
       "      <td>1.986875</td>\n",
       "      <td>2.482245</td>\n",
       "      <td>92.327572</td>\n",
       "    </tr>\n",
       "  </tbody>\n",
       "</table>\n",
       "</div>"
      ],
      "text/plain": [
       "          id        f0        f1        f2     product\n",
       "43233  xCHr8 -0.847066  2.101796  5.597130  184.388641\n",
       "49564  VF7Jo -0.883115  0.560537  0.723601  136.233420\n",
       "55967  KUPhW  1.211150  3.176408  5.543540  132.831802\n",
       "95090  Vcm5J  2.587702  1.986875  2.482245   92.327572"
      ]
     },
     "metadata": {},
     "output_type": "display_data"
    }
   ],
   "source": [
    "print(data1.name)\n",
    "display(data1[data1.id.duplicated() == True])\n",
    "print(data2.name)\n",
    "display(data2[data2.id.duplicated() == True])\n",
    "print(data3.name)\n",
    "display(data3[data3.id.duplicated() == True])"
   ]
  },
  {
   "cell_type": "markdown",
   "metadata": {},
   "source": [
    "Необходимо убедиться в том, что признаки не коррелируют между собой. Для этого посмотрю на корреляцию данных:"
   ]
  },
  {
   "cell_type": "code",
   "execution_count": 20,
   "metadata": {},
   "outputs": [
    {
     "data": {
      "image/png": "[encoded data removed]",
      "text/plain": [
       "<Figure size 1080x360 with 6 Axes>"
      ]
     },
     "metadata": {},
     "output_type": "display_data"
    }
   ],
   "source": [
    "corr_inspection(list_df)"
   ]
  },
  {
   "cell_type": "markdown",
   "metadata": {},
   "source": [
    "Корреляция выявила крайне высокую связь между запасами нефти во 2 регионе и параметром f2. При этом нет корреляции между признаками, поэтому можно их оставить. Корреляция между признаком и целевым признаком допустима"
   ]
  },
  {
   "cell_type": "markdown",
   "metadata": {},
   "source": [
    "Посмотрю на распределения данных:"
   ]
  },
  {
   "cell_type": "code",
   "execution_count": 21,
   "metadata": {},
   "outputs": [
    {
     "data": {
      "image/png": "[encoded data removed]",
      "text/plain": [
       "<Figure size 1080x576 with 8 Axes>"
      ]
     },
     "metadata": {},
     "output_type": "display_data"
    }
   ],
   "source": [
    "plot_inspection(data1)"
   ]
  },
  {
   "cell_type": "code",
   "execution_count": 22,
   "metadata": {},
   "outputs": [
    {
     "data": {
      "image/png": "[encoded data removed]",
      "text/plain": [
       "<Figure size 1080x576 with 8 Axes>"
      ]
     },
     "metadata": {},
     "output_type": "display_data"
    }
   ],
   "source": [
    "plot_inspection(data2)"
   ]
  },
  {
   "cell_type": "code",
   "execution_count": 23,
   "metadata": {},
   "outputs": [
    {
     "data": {
      "image/png": "[encoded data removed]",
      "text/plain": [
       "<Figure size 1080x576 with 8 Axes>"
      ]
     },
     "metadata": {},
     "output_type": "display_data"
    }
   ],
   "source": [
    "plot_inspection(data3)"
   ]
  },
  {
   "cell_type": "markdown",
   "metadata": {},
   "source": [
    "### <a id=section4>4. Вывод</a>"
   ]
  },
  {
   "cell_type": "markdown",
   "metadata": {},
   "source": [
    "Аномалий нет:\n",
    "- есть дубликаты\n",
    "- что-то надо сделать с 0 в столбце 'product' региона 2.\n",
    "- график f2 региона 2 выглядит странно, аномалий не было выявлено\n",
    "- график 'ploduct' региона 2 имеет много 0, поэтому он вышел таким\n",
    "- высокая корреляция между 'f2' and 'product' в регионе 2\n",
    "- относительно сильная корреляция между 'f2' and 'product' в остальных регионах\n",
    "\n",
    "Вывод:\n",
    "- надо обратить внимание на признак 'f2'\n",
    "- дубликаты обрабатывать не надо, они не мешают построению модели\n",
    "- спросить у Заказчина причину наличия всего 12 уникальных значений 'product' в регионе 2\n",
    "\n",
    "`Вопросы`:\n",
    "- надо ли обрабатывать выбросы?\n",
    "- есть бимодальные и многомодальные распределения. В соответствии с ЦПТ нам все равно на это или все-таки надо что-то предпринимать?\n",
    "- с 0 в столбце 'product' региона 2 делать ничего не требуется?"
   ]
  },
  {
   "cell_type": "markdown",
   "metadata": {},
   "source": [
    "<hr style=\"border: 1px solid #000;\">"
   ]
  },
  {
   "cell_type": "markdown",
   "metadata": {},
   "source": [
    "## <a id=section02>2. Исследовательская часть</a>"
   ]
  },
  {
   "cell_type": "markdown",
   "metadata": {},
   "source": [
    "### <a id=section21>1. Предобработка</a>"
   ]
  },
  {
   "cell_type": "markdown",
   "metadata": {},
   "source": [
    "Сделаю необходимую предобработку"
   ]
  },
  {
   "cell_type": "code",
   "execution_count": 24,
   "metadata": {
    "scrolled": true
   },
   "outputs": [],
   "source": [
    "data1 = data1.drop(columns=['id'])\n",
    "data2 = data2.drop(columns=['id'])\n",
    "data3 = data3.drop(columns=['id'])"
   ]
  },
  {
   "cell_type": "code",
   "execution_count": 25,
   "metadata": {},
   "outputs": [
    {
     "data": {
      "text/html": [
       "<div>\n",
       "<style scoped>\n",
       "    .dataframe tbody tr th:only-of-type {\n",
       "        vertical-align: middle;\n",
       "    }\n",
       "\n",
       "    .dataframe tbody tr th {\n",
       "        vertical-align: top;\n",
       "    }\n",
       "\n",
       "    .dataframe thead th {\n",
       "        text-align: right;\n",
       "    }\n",
       "</style>\n",
       "<table border=\"1\" class=\"dataframe\">\n",
       "  <thead>\n",
       "    <tr style=\"text-align: right;\">\n",
       "      <th></th>\n",
       "      <th>f0</th>\n",
       "      <th>f1</th>\n",
       "      <th>f2</th>\n",
       "      <th>product</th>\n",
       "    </tr>\n",
       "  </thead>\n",
       "  <tbody>\n",
       "    <tr>\n",
       "      <th>8826</th>\n",
       "      <td>1.797736</td>\n",
       "      <td>0.098212</td>\n",
       "      <td>6.148260</td>\n",
       "      <td>185.364347</td>\n",
       "    </tr>\n",
       "    <tr>\n",
       "      <th>99818</th>\n",
       "      <td>0.518445</td>\n",
       "      <td>-0.412790</td>\n",
       "      <td>4.951916</td>\n",
       "      <td>185.362690</td>\n",
       "    </tr>\n",
       "    <tr>\n",
       "      <th>94175</th>\n",
       "      <td>0.351428</td>\n",
       "      <td>-0.400244</td>\n",
       "      <td>7.227618</td>\n",
       "      <td>185.355615</td>\n",
       "    </tr>\n",
       "    <tr>\n",
       "      <th>1925</th>\n",
       "      <td>0.624430</td>\n",
       "      <td>-0.469312</td>\n",
       "      <td>5.753677</td>\n",
       "      <td>185.354980</td>\n",
       "    </tr>\n",
       "    <tr>\n",
       "      <th>45291</th>\n",
       "      <td>1.758787</td>\n",
       "      <td>-0.395038</td>\n",
       "      <td>6.719085</td>\n",
       "      <td>185.352015</td>\n",
       "    </tr>\n",
       "  </tbody>\n",
       "</table>\n",
       "</div>"
      ],
      "text/plain": [
       "             f0        f1        f2     product\n",
       "8826   1.797736  0.098212  6.148260  185.364347\n",
       "99818  0.518445 -0.412790  4.951916  185.362690\n",
       "94175  0.351428 -0.400244  7.227618  185.355615\n",
       "1925   0.624430 -0.469312  5.753677  185.354980\n",
       "45291  1.758787 -0.395038  6.719085  185.352015"
      ]
     },
     "metadata": {},
     "output_type": "display_data"
    }
   ],
   "source": [
    "display(data1.sort_values(by='product', ascending=False).head())"
   ]
  },
  {
   "cell_type": "markdown",
   "metadata": {},
   "source": [
    "### <a id=section22>2. Подготовка данных</a>"
   ]
  },
  {
   "cell_type": "markdown",
   "metadata": {},
   "source": [
    "Теперь начну работу по созданию модели"
   ]
  },
  {
   "cell_type": "code",
   "execution_count": 26,
   "metadata": {},
   "outputs": [],
   "source": [
    "#отделяю целевой признак от остальных признаков\n",
    "features_1 = data1.drop('product', axis=1)\n",
    "target_1 = data1['product']\n",
    "\n",
    "features_2 = data2.drop('product', axis=1)\n",
    "target_2 = data2['product']\n",
    "\n",
    "features_3 = data3.drop('product', axis=1)\n",
    "target_3 = data3['product']"
   ]
  },
  {
   "cell_type": "code",
   "execution_count": 27,
   "metadata": {},
   "outputs": [],
   "source": [
    "#разбиваю датасет на обучающую, проверочную и тестовую выборки\n",
    "features_1_train, features_1_valid, target_1_train, target_1_valid = train_test_split(\n",
    "features_1, target_1, test_size=0.25, random_state=state)\n",
    "\n",
    "features_2_train, features_2_valid, target_2_train, target_2_valid = train_test_split(\n",
    "features_2, target_2, test_size=0.25, random_state=state)\n",
    "\n",
    "features_3_train, features_3_valid, target_3_train, target_3_valid = train_test_split(\n",
    "features_3, target_3, test_size=0.25, random_state=state)"
   ]
  },
  {
   "cell_type": "markdown",
   "metadata": {},
   "source": [
    "Теперь необходимо сбросить индексы и провести масштабирование обучающего и проверочного выборок"
   ]
  },
  {
   "cell_type": "code",
   "execution_count": 28,
   "metadata": {},
   "outputs": [],
   "source": [
    "features_1_train = features_1_train.reset_index(drop=True)\n",
    "features_2_train = features_2_train.reset_index(drop=True)\n",
    "features_3_train = features_3_train.reset_index(drop=True)"
   ]
  },
  {
   "cell_type": "code",
   "execution_count": 29,
   "metadata": {},
   "outputs": [
    {
     "name": "stdout",
     "output_type": "stream",
     "text": [
      "         f0        f1        f2\n",
      "0  0.022450  0.951034  2.197333\n",
      "1  1.766731  0.007835  6.436602\n",
      "2  0.724514  0.666063  1.840177\n",
      "3 -1.104181  0.255268  2.026156\n",
      "4 -0.635263  0.747990  6.643327\n"
     ]
    }
   ],
   "source": [
    "print(features_1_train.head())"
   ]
  },
  {
   "cell_type": "code",
   "execution_count": 30,
   "metadata": {},
   "outputs": [],
   "source": [
    "#масштабирую признаки через алгоритм StandardScaler\n",
    "scaler = StandardScaler()\n",
    "\n",
    "scaler.fit(features_1_train)\n",
    "features_1_train = pd.DataFrame(scaler.transform(features_1_train), columns=features_1_train.columns)\n",
    "features_1_valid = pd.DataFrame(scaler.transform(features_1_valid), columns=features_1_valid.columns)\n",
    "\n",
    "scaler.fit(features_2_train)\n",
    "features_2_train = pd.DataFrame(scaler.transform(features_2_train), columns=features_2_train.columns)\n",
    "features_2_valid = pd.DataFrame(scaler.transform(features_2_valid), columns=features_2_valid.columns)\n",
    "\n",
    "scaler.fit(features_2_train)\n",
    "features_3_train = pd.DataFrame(scaler.transform(features_3_train), columns=features_3_train.columns)\n",
    "features_3_valid = pd.DataFrame(scaler.transform(features_3_valid), columns=features_3_valid.columns)"
   ]
  },
  {
   "cell_type": "code",
   "execution_count": 31,
   "metadata": {},
   "outputs": [
    {
     "name": "stdout",
     "output_type": "stream",
     "text": [
      "(75000, 3)\n",
      "(25000, 3)\n",
      "(75000,)\n",
      "(25000,)\n"
     ]
    }
   ],
   "source": [
    "#вывожу размерность выборок\n",
    "print(features_1_train.shape)\n",
    "print(features_1_valid.shape)\n",
    "print(target_1_train.shape)\n",
    "print(target_1_valid.shape)"
   ]
  },
  {
   "cell_type": "markdown",
   "metadata": {},
   "source": [
    "### <a id=section23>3. Обучение модели</a>"
   ]
  },
  {
   "cell_type": "markdown",
   "metadata": {},
   "source": [
    "Посчитаю метрики линейной регрессии для полученных выборок:\n",
    "- MSE - среднеквадратичная ошибка отклонений измерений. Из-за квадрата в числителе разные измерения имеют разный вес влияния на метрику. Чем меньше, тем лучше.\n",
    "- RMSE - корень из MSE. Фактически приводит к общей мерности измеряемой величины, полезна для практического использования. Чем меньше, тем лучше.\n",
    "- R2 - коэффициент детерминации. Показывает долю среднеквадратичной ошибки прогноза модели относительно среднеквадратичной ошибки правильных ответов.Чем выше коэффициент, тем лучше.\n",
    "- MAE - среднее абсолютное отклонение. Показывает абсолютное отклонение правильных измерений от прогнозируемых. Берется не квадрат, а модуль. Чем меньше, тем лучше."
   ]
  },
  {
   "cell_type": "code",
   "execution_count": 32,
   "metadata": {},
   "outputs": [],
   "source": [
    "model = LinearRegression()"
   ]
  },
  {
   "cell_type": "code",
   "execution_count": 33,
   "metadata": {},
   "outputs": [
    {
     "data": {
      "text/plain": [
       "0     95.350352\n",
       "1    116.264179\n",
       "2     88.704068\n",
       "3     95.193309\n",
       "4    114.304125\n",
       "dtype: float64"
      ]
     },
     "metadata": {},
     "output_type": "display_data"
    }
   ],
   "source": [
    "#kfold = model.selection.Kfold(n_splits=10, random_state=state) #вместо СV_COUNT\n",
    "pred_reg1 = cross_val_predict(model, features_1, target_1, cv=CV_COUNT)\n",
    "pred_reg1 = pd.Series(pred_reg1)\n",
    "display(pred_reg1.head()) "
   ]
  },
  {
   "cell_type": "code",
   "execution_count": 34,
   "metadata": {},
   "outputs": [
    {
     "name": "stdout",
     "output_type": "stream",
     "text": [
      "r2 0.2756543593492765\n",
      "MSE 1420.781191824607\n",
      "RMSE 37.693251276914374\n",
      "MAE 31.038521834689718\n"
     ]
    }
   ],
   "source": [
    "print('r2', r2_score(target_1, pred_reg1))\n",
    "print('MSE', mean_squared_error(target_1, pred_reg1))\n",
    "print('RMSE', mean_squared_error(target_1, pred_reg1) ** 0.5)\n",
    "print('MAE', mean_absolute_error(target_1, pred_reg1))"
   ]
  },
  {
   "cell_type": "code",
   "execution_count": 35,
   "metadata": {},
   "outputs": [],
   "source": [
    "#sorted(sc.keys())"
   ]
  },
  {
   "cell_type": "code",
   "execution_count": 36,
   "metadata": {},
   "outputs": [
    {
     "data": {
      "text/html": [
       "<div>\n",
       "<style scoped>\n",
       "    .dataframe tbody tr th:only-of-type {\n",
       "        vertical-align: middle;\n",
       "    }\n",
       "\n",
       "    .dataframe tbody tr th {\n",
       "        vertical-align: top;\n",
       "    }\n",
       "\n",
       "    .dataframe thead th {\n",
       "        text-align: right;\n",
       "    }\n",
       "</style>\n",
       "<table border=\"1\" class=\"dataframe\">\n",
       "  <thead>\n",
       "    <tr style=\"text-align: right;\">\n",
       "      <th></th>\n",
       "      <th>fit_time</th>\n",
       "      <th>score_time</th>\n",
       "      <th>estimator</th>\n",
       "      <th>test_score</th>\n",
       "      <th>train_score</th>\n",
       "    </tr>\n",
       "  </thead>\n",
       "  <tbody>\n",
       "    <tr>\n",
       "      <th>0</th>\n",
       "      <td>0.010527</td>\n",
       "      <td>0.000502</td>\n",
       "      <td>LinearRegression()</td>\n",
       "      <td>0.155504</td>\n",
       "      <td>0.275813</td>\n",
       "    </tr>\n",
       "    <tr>\n",
       "      <th>1</th>\n",
       "      <td>0.010026</td>\n",
       "      <td>0.001504</td>\n",
       "      <td>LinearRegression()</td>\n",
       "      <td>0.226501</td>\n",
       "      <td>0.275754</td>\n",
       "    </tr>\n",
       "    <tr>\n",
       "      <th>2</th>\n",
       "      <td>0.011066</td>\n",
       "      <td>0.002005</td>\n",
       "      <td>LinearRegression()</td>\n",
       "      <td>0.296776</td>\n",
       "      <td>0.275681</td>\n",
       "    </tr>\n",
       "    <tr>\n",
       "      <th>3</th>\n",
       "      <td>0.011531</td>\n",
       "      <td>0.002005</td>\n",
       "      <td>LinearRegression()</td>\n",
       "      <td>0.325453</td>\n",
       "      <td>0.275637</td>\n",
       "    </tr>\n",
       "    <tr>\n",
       "      <th>4</th>\n",
       "      <td>0.012033</td>\n",
       "      <td>0.002005</td>\n",
       "      <td>LinearRegression()</td>\n",
       "      <td>0.228258</td>\n",
       "      <td>0.275769</td>\n",
       "    </tr>\n",
       "    <tr>\n",
       "      <th>...</th>\n",
       "      <td>...</td>\n",
       "      <td>...</td>\n",
       "      <td>...</td>\n",
       "      <td>...</td>\n",
       "      <td>...</td>\n",
       "    </tr>\n",
       "    <tr>\n",
       "      <th>995</th>\n",
       "      <td>0.009526</td>\n",
       "      <td>0.001504</td>\n",
       "      <td>LinearRegression()</td>\n",
       "      <td>0.309108</td>\n",
       "      <td>0.275677</td>\n",
       "    </tr>\n",
       "    <tr>\n",
       "      <th>996</th>\n",
       "      <td>0.009525</td>\n",
       "      <td>0.001504</td>\n",
       "      <td>LinearRegression()</td>\n",
       "      <td>0.190211</td>\n",
       "      <td>0.275782</td>\n",
       "    </tr>\n",
       "    <tr>\n",
       "      <th>997</th>\n",
       "      <td>0.009525</td>\n",
       "      <td>0.001504</td>\n",
       "      <td>LinearRegression()</td>\n",
       "      <td>0.253564</td>\n",
       "      <td>0.275724</td>\n",
       "    </tr>\n",
       "    <tr>\n",
       "      <th>998</th>\n",
       "      <td>0.009024</td>\n",
       "      <td>0.002005</td>\n",
       "      <td>LinearRegression()</td>\n",
       "      <td>0.272047</td>\n",
       "      <td>0.275698</td>\n",
       "    </tr>\n",
       "    <tr>\n",
       "      <th>999</th>\n",
       "      <td>0.009024</td>\n",
       "      <td>0.002006</td>\n",
       "      <td>LinearRegression()</td>\n",
       "      <td>0.284034</td>\n",
       "      <td>0.275692</td>\n",
       "    </tr>\n",
       "  </tbody>\n",
       "</table>\n",
       "<p>1000 rows × 5 columns</p>\n",
       "</div>"
      ],
      "text/plain": [
       "     fit_time  score_time           estimator  test_score  train_score\n",
       "0    0.010527    0.000502  LinearRegression()    0.155504     0.275813\n",
       "1    0.010026    0.001504  LinearRegression()    0.226501     0.275754\n",
       "2    0.011066    0.002005  LinearRegression()    0.296776     0.275681\n",
       "3    0.011531    0.002005  LinearRegression()    0.325453     0.275637\n",
       "4    0.012033    0.002005  LinearRegression()    0.228258     0.275769\n",
       "..        ...         ...                 ...         ...          ...\n",
       "995  0.009526    0.001504  LinearRegression()    0.309108     0.275677\n",
       "996  0.009525    0.001504  LinearRegression()    0.190211     0.275782\n",
       "997  0.009525    0.001504  LinearRegression()    0.253564     0.275724\n",
       "998  0.009024    0.002005  LinearRegression()    0.272047     0.275698\n",
       "999  0.009024    0.002006  LinearRegression()    0.284034     0.275692\n",
       "\n",
       "[1000 rows x 5 columns]"
      ]
     },
     "metadata": {},
     "output_type": "display_data"
    }
   ],
   "source": [
    "scores = cross_validate(model, features_1, target_1, cv=CV_COUNT, scoring=('r2'), return_train_score=True, return_estimator=True)\n",
    "display(pd.DataFrame(scores))"
   ]
  },
  {
   "cell_type": "code",
   "execution_count": 37,
   "metadata": {},
   "outputs": [
    {
     "data": {
      "text/plain": [
       "0      3.848707\n",
       "1     26.591341\n",
       "2    135.665464\n",
       "3    138.541466\n",
       "4    134.866232\n",
       "dtype: float64"
      ]
     },
     "metadata": {},
     "output_type": "display_data"
    }
   ],
   "source": [
    "pred_reg2 = cross_val_predict(model, features_2, target_2, cv=CV_COUNT)\n",
    "pred_reg2 = pd.Series(pred_reg2)\n",
    "display(pred_reg2.head())"
   ]
  },
  {
   "cell_type": "code",
   "execution_count": 38,
   "metadata": {},
   "outputs": [
    {
     "name": "stdout",
     "output_type": "stream",
     "text": [
      "r2 0.9996244075020216\n",
      "MSE 0.7928265178924098\n",
      "RMSE 0.8904080625715435\n",
      "MAE 0.7174010042018216\n"
     ]
    }
   ],
   "source": [
    "print('r2', r2_score(target_2, pred_reg2))\n",
    "print('MSE', mean_squared_error(target_2, pred_reg2))\n",
    "print('RMSE', mean_squared_error(target_2, pred_reg2) ** 0.5)\n",
    "print('MAE', mean_absolute_error(target_2, pred_reg2))"
   ]
  },
  {
   "cell_type": "code",
   "execution_count": 39,
   "metadata": {},
   "outputs": [
    {
     "data": {
      "text/html": [
       "<div>\n",
       "<style scoped>\n",
       "    .dataframe tbody tr th:only-of-type {\n",
       "        vertical-align: middle;\n",
       "    }\n",
       "\n",
       "    .dataframe tbody tr th {\n",
       "        vertical-align: top;\n",
       "    }\n",
       "\n",
       "    .dataframe thead th {\n",
       "        text-align: right;\n",
       "    }\n",
       "</style>\n",
       "<table border=\"1\" class=\"dataframe\">\n",
       "  <thead>\n",
       "    <tr style=\"text-align: right;\">\n",
       "      <th></th>\n",
       "      <th>fit_time</th>\n",
       "      <th>score_time</th>\n",
       "      <th>estimator</th>\n",
       "      <th>test_score</th>\n",
       "      <th>train_score</th>\n",
       "    </tr>\n",
       "  </thead>\n",
       "  <tbody>\n",
       "    <tr>\n",
       "      <th>0</th>\n",
       "      <td>0.010527</td>\n",
       "      <td>0.002005</td>\n",
       "      <td>LinearRegression()</td>\n",
       "      <td>0.155504</td>\n",
       "      <td>0.275813</td>\n",
       "    </tr>\n",
       "    <tr>\n",
       "      <th>1</th>\n",
       "      <td>0.009525</td>\n",
       "      <td>0.001504</td>\n",
       "      <td>LinearRegression()</td>\n",
       "      <td>0.226501</td>\n",
       "      <td>0.275754</td>\n",
       "    </tr>\n",
       "    <tr>\n",
       "      <th>2</th>\n",
       "      <td>0.009024</td>\n",
       "      <td>0.002005</td>\n",
       "      <td>LinearRegression()</td>\n",
       "      <td>0.296776</td>\n",
       "      <td>0.275681</td>\n",
       "    </tr>\n",
       "    <tr>\n",
       "      <th>3</th>\n",
       "      <td>0.010528</td>\n",
       "      <td>0.001504</td>\n",
       "      <td>LinearRegression()</td>\n",
       "      <td>0.325453</td>\n",
       "      <td>0.275637</td>\n",
       "    </tr>\n",
       "    <tr>\n",
       "      <th>4</th>\n",
       "      <td>0.009939</td>\n",
       "      <td>0.001503</td>\n",
       "      <td>LinearRegression()</td>\n",
       "      <td>0.228258</td>\n",
       "      <td>0.275769</td>\n",
       "    </tr>\n",
       "    <tr>\n",
       "      <th>...</th>\n",
       "      <td>...</td>\n",
       "      <td>...</td>\n",
       "      <td>...</td>\n",
       "      <td>...</td>\n",
       "      <td>...</td>\n",
       "    </tr>\n",
       "    <tr>\n",
       "      <th>995</th>\n",
       "      <td>0.009024</td>\n",
       "      <td>0.002040</td>\n",
       "      <td>LinearRegression()</td>\n",
       "      <td>0.309108</td>\n",
       "      <td>0.275677</td>\n",
       "    </tr>\n",
       "    <tr>\n",
       "      <th>996</th>\n",
       "      <td>0.009050</td>\n",
       "      <td>0.001511</td>\n",
       "      <td>LinearRegression()</td>\n",
       "      <td>0.190211</td>\n",
       "      <td>0.275782</td>\n",
       "    </tr>\n",
       "    <tr>\n",
       "      <th>997</th>\n",
       "      <td>0.009526</td>\n",
       "      <td>0.001534</td>\n",
       "      <td>LinearRegression()</td>\n",
       "      <td>0.253564</td>\n",
       "      <td>0.275724</td>\n",
       "    </tr>\n",
       "    <tr>\n",
       "      <th>998</th>\n",
       "      <td>0.009526</td>\n",
       "      <td>0.002037</td>\n",
       "      <td>LinearRegression()</td>\n",
       "      <td>0.272047</td>\n",
       "      <td>0.275698</td>\n",
       "    </tr>\n",
       "    <tr>\n",
       "      <th>999</th>\n",
       "      <td>0.009024</td>\n",
       "      <td>0.001537</td>\n",
       "      <td>LinearRegression()</td>\n",
       "      <td>0.284034</td>\n",
       "      <td>0.275692</td>\n",
       "    </tr>\n",
       "  </tbody>\n",
       "</table>\n",
       "<p>1000 rows × 5 columns</p>\n",
       "</div>"
      ],
      "text/plain": [
       "     fit_time  score_time           estimator  test_score  train_score\n",
       "0    0.010527    0.002005  LinearRegression()    0.155504     0.275813\n",
       "1    0.009525    0.001504  LinearRegression()    0.226501     0.275754\n",
       "2    0.009024    0.002005  LinearRegression()    0.296776     0.275681\n",
       "3    0.010528    0.001504  LinearRegression()    0.325453     0.275637\n",
       "4    0.009939    0.001503  LinearRegression()    0.228258     0.275769\n",
       "..        ...         ...                 ...         ...          ...\n",
       "995  0.009024    0.002040  LinearRegression()    0.309108     0.275677\n",
       "996  0.009050    0.001511  LinearRegression()    0.190211     0.275782\n",
       "997  0.009526    0.001534  LinearRegression()    0.253564     0.275724\n",
       "998  0.009526    0.002037  LinearRegression()    0.272047     0.275698\n",
       "999  0.009024    0.001537  LinearRegression()    0.284034     0.275692\n",
       "\n",
       "[1000 rows x 5 columns]"
      ]
     },
     "metadata": {},
     "output_type": "display_data"
    }
   ],
   "source": [
    "scores = cross_validate(model, features_1, target_1, cv=CV_COUNT, scoring=('r2'), return_train_score=True, return_estimator=True)\n",
    "display(pd.DataFrame(scores))"
   ]
  },
  {
   "cell_type": "code",
   "execution_count": 40,
   "metadata": {},
   "outputs": [
    {
     "data": {
      "text/plain": [
       "0     75.928769\n",
       "1     66.114204\n",
       "2     48.561421\n",
       "3     85.925237\n",
       "4    114.518372\n",
       "dtype: float64"
      ]
     },
     "metadata": {},
     "output_type": "display_data"
    }
   ],
   "source": [
    "model = LinearRegression()\n",
    "pred_reg3 = cross_val_predict(model, features_3, target_3, cv=CV_COUNT)\n",
    "pred_reg3 = pd.Series(pred_reg3)\n",
    "display(pred_reg3.head())"
   ]
  },
  {
   "cell_type": "code",
   "execution_count": 41,
   "metadata": {},
   "outputs": [
    {
     "name": "stdout",
     "output_type": "stream",
     "text": [
      "r2 0.19874337869459013\n",
      "MSE 1604.544756759673\n",
      "RMSE 40.05676917525517\n",
      "MAE 32.8213952866228\n"
     ]
    }
   ],
   "source": [
    "print('r2', r2_score(target_3, pred_reg3))\n",
    "print('MSE', mean_squared_error(target_3, pred_reg3))\n",
    "print('RMSE', mean_squared_error(target_3, pred_reg3) ** 0.5)\n",
    "print('MAE', mean_absolute_error(target_3, pred_reg3))"
   ]
  },
  {
   "cell_type": "code",
   "execution_count": 42,
   "metadata": {},
   "outputs": [
    {
     "data": {
      "text/html": [
       "<div>\n",
       "<style scoped>\n",
       "    .dataframe tbody tr th:only-of-type {\n",
       "        vertical-align: middle;\n",
       "    }\n",
       "\n",
       "    .dataframe tbody tr th {\n",
       "        vertical-align: top;\n",
       "    }\n",
       "\n",
       "    .dataframe thead th {\n",
       "        text-align: right;\n",
       "    }\n",
       "</style>\n",
       "<table border=\"1\" class=\"dataframe\">\n",
       "  <thead>\n",
       "    <tr style=\"text-align: right;\">\n",
       "      <th></th>\n",
       "      <th>fit_time</th>\n",
       "      <th>score_time</th>\n",
       "      <th>estimator</th>\n",
       "      <th>test_score</th>\n",
       "      <th>train_score</th>\n",
       "    </tr>\n",
       "  </thead>\n",
       "  <tbody>\n",
       "    <tr>\n",
       "      <th>0</th>\n",
       "      <td>0.012032</td>\n",
       "      <td>0.002006</td>\n",
       "      <td>LinearRegression()</td>\n",
       "      <td>0.155504</td>\n",
       "      <td>0.275813</td>\n",
       "    </tr>\n",
       "    <tr>\n",
       "      <th>1</th>\n",
       "      <td>0.009524</td>\n",
       "      <td>0.001504</td>\n",
       "      <td>LinearRegression()</td>\n",
       "      <td>0.226501</td>\n",
       "      <td>0.275754</td>\n",
       "    </tr>\n",
       "    <tr>\n",
       "      <th>2</th>\n",
       "      <td>0.010027</td>\n",
       "      <td>0.001504</td>\n",
       "      <td>LinearRegression()</td>\n",
       "      <td>0.296776</td>\n",
       "      <td>0.275681</td>\n",
       "    </tr>\n",
       "    <tr>\n",
       "      <th>3</th>\n",
       "      <td>0.009525</td>\n",
       "      <td>0.001504</td>\n",
       "      <td>LinearRegression()</td>\n",
       "      <td>0.325453</td>\n",
       "      <td>0.275637</td>\n",
       "    </tr>\n",
       "    <tr>\n",
       "      <th>4</th>\n",
       "      <td>0.010027</td>\n",
       "      <td>0.001504</td>\n",
       "      <td>LinearRegression()</td>\n",
       "      <td>0.228258</td>\n",
       "      <td>0.275769</td>\n",
       "    </tr>\n",
       "    <tr>\n",
       "      <th>...</th>\n",
       "      <td>...</td>\n",
       "      <td>...</td>\n",
       "      <td>...</td>\n",
       "      <td>...</td>\n",
       "      <td>...</td>\n",
       "    </tr>\n",
       "    <tr>\n",
       "      <th>995</th>\n",
       "      <td>0.009525</td>\n",
       "      <td>0.002005</td>\n",
       "      <td>LinearRegression()</td>\n",
       "      <td>0.309108</td>\n",
       "      <td>0.275677</td>\n",
       "    </tr>\n",
       "    <tr>\n",
       "      <th>996</th>\n",
       "      <td>0.009525</td>\n",
       "      <td>0.001504</td>\n",
       "      <td>LinearRegression()</td>\n",
       "      <td>0.190211</td>\n",
       "      <td>0.275782</td>\n",
       "    </tr>\n",
       "    <tr>\n",
       "      <th>997</th>\n",
       "      <td>0.010528</td>\n",
       "      <td>0.001504</td>\n",
       "      <td>LinearRegression()</td>\n",
       "      <td>0.253564</td>\n",
       "      <td>0.275724</td>\n",
       "    </tr>\n",
       "    <tr>\n",
       "      <th>998</th>\n",
       "      <td>0.010027</td>\n",
       "      <td>0.001504</td>\n",
       "      <td>LinearRegression()</td>\n",
       "      <td>0.272047</td>\n",
       "      <td>0.275698</td>\n",
       "    </tr>\n",
       "    <tr>\n",
       "      <th>999</th>\n",
       "      <td>0.010026</td>\n",
       "      <td>0.002006</td>\n",
       "      <td>LinearRegression()</td>\n",
       "      <td>0.284034</td>\n",
       "      <td>0.275692</td>\n",
       "    </tr>\n",
       "  </tbody>\n",
       "</table>\n",
       "<p>1000 rows × 5 columns</p>\n",
       "</div>"
      ],
      "text/plain": [
       "     fit_time  score_time           estimator  test_score  train_score\n",
       "0    0.012032    0.002006  LinearRegression()    0.155504     0.275813\n",
       "1    0.009524    0.001504  LinearRegression()    0.226501     0.275754\n",
       "2    0.010027    0.001504  LinearRegression()    0.296776     0.275681\n",
       "3    0.009525    0.001504  LinearRegression()    0.325453     0.275637\n",
       "4    0.010027    0.001504  LinearRegression()    0.228258     0.275769\n",
       "..        ...         ...                 ...         ...          ...\n",
       "995  0.009525    0.002005  LinearRegression()    0.309108     0.275677\n",
       "996  0.009525    0.001504  LinearRegression()    0.190211     0.275782\n",
       "997  0.010528    0.001504  LinearRegression()    0.253564     0.275724\n",
       "998  0.010027    0.001504  LinearRegression()    0.272047     0.275698\n",
       "999  0.010026    0.002006  LinearRegression()    0.284034     0.275692\n",
       "\n",
       "[1000 rows x 5 columns]"
      ]
     },
     "metadata": {},
     "output_type": "display_data"
    }
   ],
   "source": [
    "scores = cross_validate(model, features_1, target_1, cv=CV_COUNT, scoring=('r2'), return_train_score=True, return_estimator=True)\n",
    "display(pd.DataFrame(scores))"
   ]
  },
  {
   "cell_type": "markdown",
   "metadata": {},
   "source": [
    "Среднеквадратичная ошибка составляе около 40 в регионах 1 и 3, почти 1 в регионе 2. Это при том, что распределение единичное и стандартное отклонение выборок std=1. Это очень большая ошибка, она не дает понимания примерных запасов нефти. Метрики показывают, что построенная линейная модель очень плоха. R2 должен быть высоким, до 1 единицы, остальные метрики как можно меньше, до 0. У меня картина ровно наоборот. Хорошая метрика R2 только во втором регионе, но даже здесь высокое RMSE, около 1 при std=1."
   ]
  },
  {
   "cell_type": "markdown",
   "metadata": {},
   "source": [
    "### <a id=section24>4. Подготовка к расчету прибыли</a>"
   ]
  },
  {
   "cell_type": "markdown",
   "metadata": {},
   "source": [
    "Посчитаю сколько нужно добыть нефти, чтобы обеспечить безубыточность разработки скважины"
   ]
  },
  {
   "cell_type": "code",
   "execution_count": 43,
   "metadata": {},
   "outputs": [
    {
     "name": "stdout",
     "output_type": "stream",
     "text": [
      "Безубыточный объем добычи нефти составляет 22222.22 тыс. баррелей\n"
     ]
    }
   ],
   "source": [
    "oil_breakeven = BUDGET / COST_PER_PRODUCT\n",
    "print(f'Безубыточный объем добычи нефти составляет {oil_breakeven:.2f} тыс. баррелей')"
   ]
  },
  {
   "cell_type": "markdown",
   "metadata": {},
   "source": [
    "Так как планируется разрабатывать 200 скважин, то необходимо посчитать минимально необходимую величину разработки запасов нефти с 1 из 200 скважин"
   ]
  },
  {
   "cell_type": "code",
   "execution_count": 44,
   "metadata": {},
   "outputs": [
    {
     "name": "stdout",
     "output_type": "stream",
     "text": [
      "Безубыточный объем добычи нефти с 1 скважины из 200 составляет 111.11 тыс. баррелей\n"
     ]
    }
   ],
   "source": [
    "oil_breakeven_per_one = oil_breakeven / TOP_RESEARCHES\n",
    "print(f'Безубыточный объем добычи нефти с 1 скважины из 200 составляет {oil_breakeven_per_one:.2f} тыс. баррелей')"
   ]
  },
  {
   "cell_type": "code",
   "execution_count": 45,
   "metadata": {},
   "outputs": [
    {
     "name": "stdout",
     "output_type": "stream",
     "text": [
      "Средний запас нефти в одной скважине региона 1 составляет 92.50 тыс. баррелей\n",
      "Средний запас нефти в одной скважине региона 2 составляет 68.83 тыс. баррелей\n",
      "Средний запас нефти в одной скважине региона 3 составляет 95.00 тыс. баррелей\n"
     ]
    }
   ],
   "source": [
    "print(f'Средний запас нефти в одной скважине региона 1 составляет {data1[\"product\"].mean():.2f} тыс. баррелей')\n",
    "print(f'Средний запас нефти в одной скважине региона 2 составляет {data2[\"product\"].mean():.2f} тыс. баррелей')\n",
    "print(f'Средний запас нефти в одной скважине региона 3 составляет {data3[\"product\"].mean():.2f} тыс. баррелей')"
   ]
  },
  {
   "cell_type": "code",
   "execution_count": 46,
   "metadata": {},
   "outputs": [
    {
     "name": "stdout",
     "output_type": "stream",
     "text": [
      "Медиана запаса нефти в одной скважине региона 1 составляет 91.85 тыс. баррелей\n",
      "Медиана запаса нефти в одной скважине региона 2 составляет 57.09 тыс. баррелей\n",
      "Медиана запаса нефти в одной скважине региона 3 составляет 94.93 тыс. баррелей\n"
     ]
    }
   ],
   "source": [
    "print(f'Медиана запаса нефти в одной скважине региона 1 составляет {data1[\"product\"].median():.2f} тыс. баррелей')\n",
    "print(f'Медиана запаса нефти в одной скважине региона 2 составляет {data2[\"product\"].median():.2f} тыс. баррелей')\n",
    "print(f'Медиана запаса нефти в одной скважине региона 3 составляет {data3[\"product\"].median():.2f} тыс. баррелей')"
   ]
  },
  {
   "cell_type": "code",
   "execution_count": 47,
   "metadata": {},
   "outputs": [
    {
     "name": "stdout",
     "output_type": "stream",
     "text": [
      "Запас нефти в регионе 1 - 9250000 тыс. баррелей\n",
      "Запас нефти в регионе 2 - 6882500 тыс. баррелей\n",
      "Запас нефти в регионе 3 - 9500000 тыс. баррелей\n"
     ]
    }
   ],
   "source": [
    "volume_1 = data1['product'].sum()\n",
    "volume_2 = data2['product'].sum()\n",
    "volume_3 = data3['product'].sum()\n",
    "print(f'Запас нефти в регионе 1 - {volume_1:.0f} тыс. баррелей')\n",
    "print(f'Запас нефти в регионе 2 - {volume_2:.0f} тыс. баррелей')\n",
    "print(f'Запас нефти в регионе 3 - {volume_3:.0f} тыс. баррелей')"
   ]
  },
  {
   "cell_type": "code",
   "execution_count": 48,
   "metadata": {},
   "outputs": [
    {
     "name": "stdout",
     "output_type": "stream",
     "text": [
      "Доля безубыточного объема запасов нефти от всех объемов в трех регионах составляет: 0.0866954929180619 %\n"
     ]
    }
   ],
   "source": [
    "mean_reg = (volume_1 + volume_2 + volume_3).mean()\n",
    "print('Доля безубыточного объема запасов нефти от всех объемов в трех регионах составляет:', oil_breakeven * 100 / mean_reg ,'%')"
   ]
  },
  {
   "cell_type": "markdown",
   "metadata": {},
   "source": [
    "Для того, чтобы обеспечить безубыточность разработки скважин необходимо добыть 22 222 тыс. баррелей. Если сравнить этот объем со всем объемом запасов нефти, то он составляет 0.09%, остальное является прибылью - золотая жила. (не верно, так как бюджет дан на 200 скважин)\n",
    "\n",
    "Для обеспечения безубыточности 200 запланированных скважин необходимо добыть не менее 111.11 тыс. баррелей. Однако средняя по всем 3 регионам явно меньше, поэтому требуется найти найти точки, где будет обеспечиваться добыча свыше 111 тыс. баррелей. Для этого надо найти точки в регионах, в которых выполняется это условие."
   ]
  },
  {
   "cell_type": "markdown",
   "metadata": {},
   "source": [
    "### <a id=section25>5. Расчет прибыли</a>"
   ]
  },
  {
   "cell_type": "code",
   "execution_count": 49,
   "metadata": {},
   "outputs": [
    {
     "name": "stdout",
     "output_type": "stream",
     "text": [
      "Прибыль от 200 скважин в регионе 1: 3492.33 млн рублей\n",
      "Прибыль от 200 скважин в регионе 2: 2415.09 млн рублей\n",
      "Прибыль от 200 скважин в регионе 3: 2583.66 млн рублей\n"
     ]
    }
   ],
   "source": [
    "top_income_reg1 = revenue_top(target_1, pred_reg1)\n",
    "print(f'Прибыль от 200 скважин в регионе 1: {top_income_reg1:.2f} млн рублей')\n",
    "top_income_reg2 = revenue_top(target_2, pred_reg2)\n",
    "print(f'Прибыль от 200 скважин в регионе 2: {top_income_reg2:.2f} млн рублей')\n",
    "top_income_reg3 = revenue_top(target_3, pred_reg3)\n",
    "print(f'Прибыль от 200 скважин в регионе 3: {top_income_reg3:.2f} млн рублей')"
   ]
  },
  {
   "cell_type": "markdown",
   "metadata": {},
   "source": [
    "Это максимальная прибыль компании с 200 скважин с известных разработанных точек. Для предсказания мне необходимо рассмотреть 500 случайных точек. Это смоделирует точки с разной вероятностной прибылью - потенциальные точки могут оказаться с крайне малыми запасами нефти. Из этих 500 случайных точек надо выбрать 200 с максимальными запасами нефти, так как бюджет выделен именно на 200 точек. Затем необходимо будет оценить потенциальную прибыль."
   ]
  },
  {
   "cell_type": "markdown",
   "metadata": {},
   "source": [
    "### <a id=section26>6. Расчет рисков</a>"
   ]
  },
  {
   "cell_type": "markdown",
   "metadata": {},
   "source": [
    "Сначала необходимо получить распределение прибыли"
   ]
  },
  {
   "cell_type": "code",
   "execution_count": 54,
   "metadata": {},
   "outputs": [],
   "source": [
    "revenue_distrib_reg1 = revenue_distrib(target_1, pred_reg1, count=BOOTSTRAP_SIZE, n=N_RESEARCHES)\n",
    "revenue_distrib_reg2 = revenue_distrib(target_2, pred_reg2, count=BOOTSTRAP_SIZE, n=N_RESEARCHES)\n",
    "revenue_distrib_reg3 = revenue_distrib(target_3, pred_reg3, count=BOOTSTRAP_SIZE, n=N_RESEARCHES)"
   ]
  },
  {
   "cell_type": "code",
   "execution_count": 55,
   "metadata": {},
   "outputs": [
    {
     "data": {
      "image/png": "[encoded data removed]",
      "text/plain": [
       "<Figure size 1080x360 with 3 Axes>"
      ]
     },
     "metadata": {},
     "output_type": "display_data"
    }
   ],
   "source": [
    "fig, (ax1, ax2, ax3) = plt.subplots(nrows=1, ncols=3, figsize = (15,5))\n",
    "fig.suptitle(f'Распределение прибыли в 500 случайных из 10 000 точках по регионам', fontsize=12)\n",
    "plt.subplots_adjust(wspace=0.2, hspace=0.9)\n",
    "\n",
    "sns.histplot(revenue_distrib_reg1, bins=50, color='y', kde=True, alpha=0.9, ax=ax1)\n",
    "sns.histplot(revenue_distrib_reg2, bins=50, color='g', kde=True, alpha=0.9, ax=ax2)\n",
    "sns.histplot(revenue_distrib_reg3, bins=50, color='r', kde=True, alpha=0.9, ax=ax3)\n",
    "\n",
    "ax1.set_title(f'Распределение прибыли в {data1.name.title()}', fontsize=10)\n",
    "ax2.set_title(f'Распределение прибыли в {data2.name.title()}', fontsize=10)\n",
    "ax3.set_title(f'Распределение прибыли в {data3.name.title()}', fontsize=10)\n",
    "\n",
    "#revenue_distrib_reg1.plot(kind='hist', subplots=True, layout=(1,3), sharex=True, sharey=True) #share нормализует графики!\n",
    "\n",
    "plt.show()"
   ]
  },
  {
   "cell_type": "markdown",
   "metadata": {},
   "source": [
    "Построю доверительные интервалы для каждого из региона"
   ]
  },
  {
   "cell_type": "code",
   "execution_count": 68,
   "metadata": {},
   "outputs": [
    {
     "name": "stdout",
     "output_type": "stream",
     "text": [
      "Доверительный интервал для региона 1: (-105.7818324670551, 949.386915412735)\n",
      "Доверительный интервал для региона 2: (61.04231919597555, 855.7676157167458)\n",
      "Доверительный интервал для региона 3: (-152.03030321451342, 907.2876897305744)\n"
     ]
    }
   ],
   "source": [
    "confidence_interval_reg1 = st.t.interval(1 - ALPHA, len(revenue_distrib_reg1) - 1, revenue_distrib_reg1.mean(), revenue_distrib_reg1.std())\n",
    "confidence_interval_reg2 = st.t.interval(1 - ALPHA, len(revenue_distrib_reg2) - 1, revenue_distrib_reg2.mean(), revenue_distrib_reg2.std())\n",
    "confidence_interval_reg3 = st.t.interval(1 - ALPHA, len(revenue_distrib_reg3) - 1, revenue_distrib_reg3.mean(), revenue_distrib_reg3.std())\n",
    "print(f'Доверительный интервал для региона 1: {confidence_interval_reg1}')\n",
    "print(f'Доверительный интервал для региона 2: {confidence_interval_reg2}')\n",
    "print(f'Доверительный интервал для региона 3: {confidence_interval_reg3}')"
   ]
  },
  {
   "cell_type": "code",
   "execution_count": 65,
   "metadata": {},
   "outputs": [],
   "source": [
    "def conf_interval(sample):\n",
    "    std = np.std(sample, ddof=1)\n",
    "    sample_size = np.ptp(sample)\n",
    "    se = std / np.sqrt(sample_size)\n",
    "    sigma = st.norm().isf(ALPHA/2)\n",
    "    mean = sample.mean()\n",
    "    confidence_interval = mean - sigma*std, mean + sigma*std\n",
    "    print(f\"Доверительный интервал для региона в {(1-ALPHA)*100:.2f}% \", end='')\n",
    "    print('[%.2f; %.2f]' % confidence_interval)"
   ]
  },
  {
   "cell_type": "code",
   "execution_count": 66,
   "metadata": {},
   "outputs": [
    {
     "name": "stdout",
     "output_type": "stream",
     "text": [
      "Доверительный интервал для региона в 95.00% [-105.14; 948.75]\n",
      "Доверительный интервал для региона в 95.00% [61.52; 855.29]\n",
      "Доверительный интервал для региона в 95.00% [-151.39; 906.65]\n"
     ]
    }
   ],
   "source": [
    "conf_interval(revenue_distrib_reg1)\n",
    "conf_interval(revenue_distrib_reg2)\n",
    "conf_interval(revenue_distrib_reg3)"
   ]
  },
  {
   "cell_type": "code",
   "execution_count": 67,
   "metadata": {},
   "outputs": [
    {
     "name": "stdout",
     "output_type": "stream",
     "text": [
      "Доверительный интервал для региона 1: (-104.12561131066613, 940.5062139247005)\n",
      "Доверительный интервал для региона 2: (75.87537158733208, 871.8746263290487)\n",
      "Доверительный интервал для региона 3: (-167.551986411258, 906.5869907175776)\n"
     ]
    }
   ],
   "source": [
    "conf_interval_reg1 = (revenue_distrib_reg1.quantile(ALPHA/2), revenue_distrib_reg1.quantile(1-ALPHA/2))\n",
    "conf_interval_reg2 = (revenue_distrib_reg2.quantile(ALPHA/2), revenue_distrib_reg2.quantile(1-ALPHA/2))\n",
    "conf_interval_reg3 = (revenue_distrib_reg3.quantile(ALPHA/2), revenue_distrib_reg3.quantile(1-ALPHA/2))\n",
    "print(f'Доверительный интервал для региона 1: {conf_interval_reg1}')\n",
    "print(f'Доверительный интервал для региона 2: {conf_interval_reg2}')\n",
    "print(f'Доверительный интервал для региона 3: {conf_interval_reg3}')"
   ]
  },
  {
   "cell_type": "markdown",
   "metadata": {},
   "source": [
    "Посчитаю риски"
   ]
  },
  {
   "cell_type": "code",
   "execution_count": 60,
   "metadata": {},
   "outputs": [
    {
     "name": "stdout",
     "output_type": "stream",
     "text": [
      "Риск убытков для региона 1: 5.60%\n",
      "Риск убытков для региона 2: 0.80%\n",
      "Риск убытков для региона 3: 8.20%\n"
     ]
    }
   ],
   "source": [
    "risk_reg1 = (revenue_distrib_reg1 < 0).mean() * 100\n",
    "risk_reg2 = (revenue_distrib_reg2 < 0).mean() * 100\n",
    "risk_reg3 = (revenue_distrib_reg3 < 0).mean() * 100\n",
    "print(f'Риск убытков для региона 1: {risk_reg1:.2f}%')\n",
    "print(f'Риск убытков для региона 2: {risk_reg2:.2f}%')\n",
    "print(f'Риск убытков для региона 3: {risk_reg3:.2f}%')"
   ]
  },
  {
   "cell_type": "code",
   "execution_count": 61,
   "metadata": {},
   "outputs": [
    {
     "name": "stdout",
     "output_type": "stream",
     "text": [
      "Риск убытков для региона 1: 5.60%\n",
      "Риск убытков для региона 2: 0.80%\n",
      "Риск убытков для региона 3: 8.20%\n"
     ]
    }
   ],
   "source": [
    "risk_reg1 = st.percentileofscore(revenue_distrib_reg1, 0)\n",
    "risk_reg2 = st.percentileofscore(revenue_distrib_reg2, 0)\n",
    "risk_reg3 = st.percentileofscore(revenue_distrib_reg3, 0)\n",
    "print(f'Риск убытков для региона 1: {risk_reg1:.2f}%')\n",
    "print(f'Риск убытков для региона 2: {risk_reg2:.2f}%')\n",
    "print(f'Риск убытков для региона 3: {risk_reg3:.2f}%')"
   ]
  },
  {
   "cell_type": "markdown",
   "metadata": {},
   "source": [
    " "
   ]
  },
  {
   "cell_type": "markdown",
   "metadata": {},
   "source": [
    "## <a id=section03>3. Итоговый вывод</a>"
   ]
  },
  {
   "cell_type": "markdown",
   "metadata": {},
   "source": [
    "В ходе выполнения исследования я применил следующие модели:\n",
    "- линейная регрессия\n",
    "\n",
    "Оценка исследования проводилась по следующим метрикам:\n",
    "- MSE - среднеквадратичная ошибка отклонений измерений. Из-за квадрата в числителе разные измерения имеют разный вес влияния на метрику. Чем меньше, тем лучше.\n",
    "- RMSE - корень из MSE. Фактически приводит к общей мерности измеряемой величины, полезна для практического использования. Чем меньше, тем лучше.\n",
    "- R2 - коэффициент детерминации. Показывает долю среднеквадратичной ошибки прогноза модели относительно среднеквадратичной ошибки правильных ответов.Чем выше коэффициент, тем лучше.\n",
    "- MAE - среднее абсолютное отклонение. Показывает абсолютное отклонение правильных измерений от прогнозируемых. Берется не квадрат, а модуль. Чем меньше, тем лучше.\n",
    "Выяснилось, что метрики у данной модели достаточно низкие, но если верить условию задачи, то линейная регрессия является самой лучшей моделью.\n",
    "\n",
    "Наилучшие места для проведения бурения определяются исходя из условия минимизации рисков получения убытков. Наиболее уверенным я могу быть во втором регионе - риск получения убытков меньше 1%."
   ]
  }
 ],
 "metadata": {
  "kernelspec": {
   "display_name": "Python 3",
   "language": "python",
   "name": "python3"
  },
  "language_info": {
   "codemirror_mode": {
    "name": "ipython",
    "version": 3
   },
   "file_extension": ".py",
   "mimetype": "text/x-python",
   "name": "python",
   "nbconvert_exporter": "python",
   "pygments_lexer": "ipython3",
   "version": "3.8.5"
  },
  "toc": {
   "base_numbering": 1,
   "nav_menu": {
    "height": "473px",
    "width": "387px"
   },
   "number_sections": true,
   "sideBar": true,
   "skip_h1_title": true,
   "title_cell": "Table of Contents",
   "title_sidebar": "Contents",
   "toc_cell": false,
   "toc_position": {},
   "toc_section_display": true,
   "toc_window_display": false
  }
 },
 "nbformat": 4,
 "nbformat_minor": 2
}
