{
 "cells": [
  {
   "cell_type": "markdown",
   "metadata": {
    "toc": true
   },
   "source": [
    "<h1>Содержание<span class=\"tocSkip\"></span></h1>\n",
    "<div class=\"toc\"><ul class=\"toc-item\"><li><span><a href=\"#Подготовка\" data-toc-modified-id=\"Подготовка-1\"><span class=\"toc-item-num\">1&nbsp;&nbsp;</span>Подготовка</a></span></li><li><span><a href=\"#Анализ\" data-toc-modified-id=\"Анализ-2\"><span class=\"toc-item-num\">2&nbsp;&nbsp;</span>Анализ</a></span></li><li><span><a href=\"#Обучение\" data-toc-modified-id=\"Обучение-3\"><span class=\"toc-item-num\">3&nbsp;&nbsp;</span>Обучение</a></span></li><li><span><a href=\"#Тестирование\" data-toc-modified-id=\"Тестирование-4\"><span class=\"toc-item-num\">4&nbsp;&nbsp;</span>Тестирование</a></span></li><li><span><a href=\"#Вывод\" data-toc-modified-id=\"Вывод-5\"><span class=\"toc-item-num\">5&nbsp;&nbsp;</span>Вывод</a></span></li><li><span><a href=\"#Чек-лист-проверки\" data-toc-modified-id=\"Чек-лист-проверки-6\"><span class=\"toc-item-num\">6&nbsp;&nbsp;</span>Чек-лист проверки</a></span></li></ul></div>"
   ]
  },
  {
   "cell_type": "markdown",
   "metadata": {},
   "source": [
    "#  Прогнозирование заказов такси"
   ]
  },
  {
   "cell_type": "markdown",
   "metadata": {},
   "source": [
    "Компания «Чётенькое такси» собрала исторические данные о заказах такси в аэропортах. Чтобы привлекать больше водителей в период пиковой нагрузки, нужно спрогнозировать количество заказов такси на следующий час. Постройте модель для такого предсказания.\n",
    "\n",
    "Значение метрики *RMSE* на тестовой выборке должно быть не больше 48.\n",
    "\n",
    "Вам нужно:\n",
    "\n",
    "1. Загрузить данные и выполнить их ресемплирование по одному часу.\n",
    "2. Проанализировать данные.\n",
    "3. Обучить разные модели с различными гиперпараметрами. Сделать тестовую выборку размером 10% от исходных данных.\n",
    "4. Проверить данные на тестовой выборке и сделать выводы.\n",
    "\n",
    "\n",
    "Данные лежат в файле `taxi.csv`. Количество заказов находится в столбце `num_orders` (от англ. *number of orders*, «число заказов»)."
   ]
  },
  {
   "cell_type": "markdown",
   "metadata": {},
   "source": [
    "## Подготовка"
   ]
  },
  {
   "cell_type": "code",
   "execution_count": null,
   "metadata": {},
   "outputs": [],
   "source": [
    "import pandas as pd\n",
    "import numpy as np\n",
    "import matplotlib.pyplot as plt\n",
    "import time\n",
    "\n",
    "from statsmodels.tsa.seasonal import seasonal_decompose\n",
    "\n",
    "from sklearn.model_selection import train_test_split, cross_val_score, learning_curve, validation_curve\n",
    "from sklearn.model_selection import GridSearchCV\n",
    "from sklearn.model_selection import cross_validate as cval\n",
    "from sklearn.model_selection import TimeSeriesSplit\n",
    "from sklearn.preprocessing import StandardScaler\n",
    "from sklearn.metrics import mean_squared_error\n",
    "from sklearn.dummy import DummyRegressor\n",
    "\n",
    "from sklearn.linear_model import LinearRegression\n",
    "from sklearn.ensemble import GradientBoostingRegressor, RandomForestRegressor\n",
    "\n",
    "from xgboost import XGBRegressor\n",
    "from catboost import CatBoostRegressor, Pool, cv\n",
    "from lightgbm import LGBMRegressor"
   ]
  },
  {
   "cell_type": "code",
   "execution_count": null,
   "metadata": {},
   "outputs": [],
   "source": [
    "import warnings\n",
    "warnings.filterwarnings('ignore')\n",
    "rs = 12345"
   ]
  },
  {
   "cell_type": "code",
   "execution_count": null,
   "metadata": {},
   "outputs": [],
   "source": [
    "pd.set_option('display.max_columns', 90)\n",
    "pd.set_option('display.max_rows', 90)\n",
    "plt.rcParams['axes.titlesize'] = 15\n",
    "plt.rcParams['axes.titleweight'] = 2\n",
    "pd.set_option(\"display.precision\", 2)"
   ]
  },
  {
   "cell_type": "markdown",
   "metadata": {},
   "source": [
    "Посмотрю датасет"
   ]
  },
  {
   "cell_type": "code",
   "execution_count": null,
   "metadata": {},
   "outputs": [],
   "source": [
    "taxi = pd.read_csv('/datasets/taxi.csv', parse_dates=[0], index_col=[0])\n",
    "taxi.info()"
   ]
  },
  {
   "cell_type": "code",
   "execution_count": null,
   "metadata": {},
   "outputs": [],
   "source": [
    "taxi.head()"
   ]
  },
  {
   "cell_type": "markdown",
   "metadata": {},
   "source": [
    "Надо убедиться, что данные являются временным рядом. Для этого рассмотрю график и детальнее разберу дату и время, проанализирую их и синтезирую их обратно (удалю лишнее)."
   ]
  },
  {
   "cell_type": "code",
   "execution_count": null,
   "metadata": {},
   "outputs": [],
   "source": [
    "taxi.plot()"
   ]
  },
  {
   "cell_type": "code",
   "execution_count": null,
   "metadata": {},
   "outputs": [],
   "source": [
    "taxi['year'] = taxi.index.year\n",
    "taxi['month'] = taxi.index.month\n",
    "taxi['day'] = taxi.index.day\n",
    "taxi['hour'] = taxi.index.hour\n",
    "taxi['minute'] = taxi.index.minute\n",
    "taxi['second'] = taxi.index.second"
   ]
  },
  {
   "cell_type": "code",
   "execution_count": null,
   "metadata": {},
   "outputs": [],
   "source": [
    "taxi['year'].unique()"
   ]
  },
  {
   "cell_type": "code",
   "execution_count": null,
   "metadata": {},
   "outputs": [],
   "source": [
    "taxi['month'].unique()"
   ]
  },
  {
   "cell_type": "code",
   "execution_count": null,
   "metadata": {},
   "outputs": [],
   "source": [
    "taxi['day'].unique()"
   ]
  },
  {
   "cell_type": "code",
   "execution_count": null,
   "metadata": {},
   "outputs": [],
   "source": [
    "taxi['hour'].unique()"
   ]
  },
  {
   "cell_type": "code",
   "execution_count": null,
   "metadata": {},
   "outputs": [],
   "source": [
    "taxi['minute'].unique()"
   ]
  },
  {
   "cell_type": "code",
   "execution_count": null,
   "metadata": {},
   "outputs": [],
   "source": [
    "taxi['second'].unique()"
   ]
  },
  {
   "cell_type": "markdown",
   "metadata": {},
   "source": [
    "Уникальные значения дат и времени нормальны, с ними все хорошо"
   ]
  },
  {
   "cell_type": "code",
   "execution_count": null,
   "metadata": {},
   "outputs": [],
   "source": [
    "taxi['num_orders'].unique()"
   ]
  },
  {
   "cell_type": "code",
   "execution_count": null,
   "metadata": {},
   "outputs": [],
   "source": [
    "taxi['date'] = pd.to_datetime(taxi.index)\n",
    "print(taxi['date'].diff().max() - taxi['date'].diff().min())\n",
    "taxi.drop('date', axis=1, inplace=True)"
   ]
  },
  {
   "cell_type": "markdown",
   "metadata": {},
   "source": [
    "разрывов нет, шаг ряда одинаков и поэтому ряд является временным. Удалю созданные признаки и произведу resample с 10 минут до 1 часа"
   ]
  },
  {
   "cell_type": "code",
   "execution_count": null,
   "metadata": {},
   "outputs": [],
   "source": [
    "taxi.drop(['year', 'month', 'day', 'hour', 'minute', 'second'], axis=1, inplace=True)"
   ]
  },
  {
   "cell_type": "code",
   "execution_count": null,
   "metadata": {},
   "outputs": [],
   "source": [
    "taxi = taxi.resample('1H').sum()\n",
    "taxi"
   ]
  },
  {
   "cell_type": "markdown",
   "metadata": {},
   "source": [
    "Данные готовы для анализа, осталось только на всякий случай произвести сортировку временного ряда по индексу"
   ]
  },
  {
   "cell_type": "code",
   "execution_count": null,
   "metadata": {},
   "outputs": [],
   "source": [
    "taxi.sort_index(inplace=True)"
   ]
  },
  {
   "cell_type": "markdown",
   "metadata": {},
   "source": [
    "## Анализ"
   ]
  },
  {
   "cell_type": "code",
   "execution_count": null,
   "metadata": {},
   "outputs": [],
   "source": [
    "taxi['num_orders'].plot();"
   ]
  },
  {
   "cell_type": "code",
   "execution_count": null,
   "metadata": {},
   "outputs": [],
   "source": [
    "taxi_decomposed = seasonal_decompose(taxi.resample('1D').mean())\n",
    "\n",
    "fig = plt.figure(figsize=(14, 6), facecolor='gray')\n",
    "fig.suptitle('Временной ряд', fontsize=16)\n",
    "plt.subplots_adjust(wspace=0.2, hspace=0.3)\n",
    "\n",
    "ax = fig.add_subplot(1, 3, 1)\n",
    "ax=plt.gca()\n",
    "taxi_decomposed.trend.plot(ax=ax);\n",
    "ax.set_title('Trend')\n",
    "ax.grid(True)\n",
    "\n",
    "ax = fig.add_subplot(1, 3, 2)\n",
    "ax=plt.gca()\n",
    "taxi_decomposed.seasonal.plot(ax=ax);\n",
    "ax.set_title('Seasonality')\n",
    "ax.grid(True)\n",
    "\n",
    "ax = fig.add_subplot(1, 3, 3)\n",
    "ax=plt.gca()\n",
    "taxi_decomposed.resid.plot(ax=ax);\n",
    "ax.set_title('Residual')\n",
    "ax.grid(True)\n",
    "plt.tight_layout()\n",
    "plt.show()"
   ]
  },
  {
   "cell_type": "markdown",
   "metadata": {},
   "source": [
    "Тренд явно имеет восходящее значение, следовательно средняя величина изменяется. Стандартное отклонение также является разным, это видно по графику тренда. В августе 2018 года вообще начался экспоненциальный рост (или около того). Это является признаком нестационарности ряда. Для чего нужны остатки пока не понятно. Сезонность надо рассмотреть поближе, при resample=1H график плохо виден."
   ]
  },
  {
   "cell_type": "code",
   "execution_count": null,
   "metadata": {},
   "outputs": [],
   "source": [
    "plt.figure(figsize=(18, 8))\n",
    "taxi_decomposed.seasonal.plot(ax=plt.gca());\n",
    "plt.title('Seasonality', fontsize=20)\n",
    "plt.grid(True)\n",
    "plt.tight_layout()\n",
    "plt.show()"
   ]
  },
  {
   "cell_type": "markdown",
   "metadata": {},
   "source": [
    "Сезонность есть, форма ее необычная - синусом или косинусом не опишешь. Длительность цикла сезонности составляет примерно 1 раз в неделю."
   ]
  },
  {
   "cell_type": "code",
   "execution_count": null,
   "metadata": {},
   "outputs": [],
   "source": [
    "plt.figure(figsize=(18, 8))\n",
    "taxi['mean'] = taxi['num_orders'].rolling(100).mean()\n",
    "taxi['std'] = taxi['num_orders'].rolling(100).std()\n",
    "taxi.plot(ax=plt.gca());\n",
    "plt.grid(True)\n",
    "plt.show()\n",
    "taxi.drop(['mean', 'std'], axis=1, inplace=True)"
   ]
  },
  {
   "cell_type": "markdown",
   "metadata": {},
   "source": [
    "## Обучение"
   ]
  },
  {
   "cell_type": "code",
   "execution_count": null,
   "metadata": {},
   "outputs": [],
   "source": [
    "def make_features(data, max_lag, rolling_mean_size):\n",
    "    data['month'] = data.index.month\n",
    "    data['day'] = data.index.day\n",
    "    data['dayofweek'] = data.index.dayofweek\n",
    "    data['hour'] = data.index.hour\n",
    "    \n",
    "    for lag in range(1, max_lag + 1):\n",
    "        data['lag_{}'.format(lag)] = data['num_orders'].shift(lag)\n",
    "\n",
    "    data['rolling_mean'] = data['num_orders'].shift().rolling(rolling_mean_size).mean()"
   ]
  },
  {
   "cell_type": "code",
   "execution_count": null,
   "metadata": {},
   "outputs": [],
   "source": [
    "def search_best_params(data, lags, rolling_mean, model):\n",
    "    taxi = data\n",
    "    make_features(taxi, lags, rolling_mean)\n",
    "    taxi.dropna(inplace=True)\n",
    "\n",
    "    features = taxi.drop('num_orders', axis=1)\n",
    "    target = taxi['num_orders']\n",
    "    features_train, features_test, target_train, target_test = train_test_split(features, target, shuffle=False, \n",
    "                                                                                test_size=0.1, random_state=rs)\n",
    "\n",
    "    scaler = StandardScaler()\n",
    "    scaler.fit(features_train)\n",
    "    features_train = pd.DataFrame(scaler.transform(features_train), columns=features_train.columns, index=features_train.index)\n",
    "    features_test = pd.DataFrame(scaler.transform(features_test), columns=features_test.columns, index=features_test.index)\n",
    "\n",
    "    model.fit(features_train, target_train)\n",
    "    target_predict = model.predict(features_test)\n",
    "    RMSE = mean_squared_error(target_test, target_predict) ** 0.5\n",
    "    return(RMSE, model)"
   ]
  },
  {
   "cell_type": "code",
   "execution_count": null,
   "metadata": {},
   "outputs": [],
   "source": [
    "def search_best_model(df, model, time_split=None):\n",
    "    best_lag = 0\n",
    "    best_roll = 0\n",
    "    best_score = 100\n",
    "    best_model = None\n",
    "    for lag in range(1, 5, 1):\n",
    "        for roll_mean in range(1, 5, 1):\n",
    "            taxi_copy = df.copy()\n",
    "            if time_split == None:\n",
    "                rmse_model, model_best = search_best_params(data=taxi_copy, lags=lag, rolling_mean=roll_mean, model=model)\n",
    "            elif time_split != None:\n",
    "                rmse_model, model_best = search_best_params_and_hyperparams(data=taxi_copy, lags=lag, rolling_mean=roll_mean,\n",
    "                                                                            model=model, time_split=time_split)\n",
    "            if rmse_model < best_score:\n",
    "                best_model = model_best\n",
    "                best_score = rmse_model\n",
    "                best_lag = lag\n",
    "                best_roll = roll_mean\n",
    "    print(f'best_RMSE={best_score:.2f}, best_lag={best_lag}, best_rolling_mean={best_roll}, best_model={best_model}')\n",
    "    return(best_score, best_lag, best_roll, best_model)"
   ]
  },
  {
   "cell_type": "code",
   "execution_count": null,
   "metadata": {},
   "outputs": [],
   "source": [
    "start_time = time.time()\n",
    "lr_score, lr_lag, lr_roll, lr_model = search_best_model(df=taxi, model=LinearRegression())\n",
    "finish_time = time.time()\n",
    "lr_time = finish_time - start_time"
   ]
  },
  {
   "cell_type": "markdown",
   "metadata": {},
   "source": [
    "best_RMSE=52.431388538106695, best_lag=3, best_rolling_mean=2\n",
    "CPU times: user 712 ms, sys: 253 ms, total: 965 ms\n",
    "Wall time: 927 ms"
   ]
  },
  {
   "cell_type": "code",
   "execution_count": null,
   "metadata": {},
   "outputs": [],
   "source": [
    "def search_best_params_and_hyperparams(data, lags, rolling_mean, model, time_split):\n",
    "    taxi = data\n",
    "    make_features(taxi, lags, rolling_mean)\n",
    "    taxi.dropna(inplace=True)\n",
    "\n",
    "    features = taxi.drop('num_orders', axis=1)\n",
    "    target = taxi['num_orders']\n",
    "    features_train, features_test, target_train, target_test = train_test_split(features, target, shuffle=False, \n",
    "                                                                                test_size=0.1, random_state=rs)\n",
    "\n",
    "    scaler = StandardScaler()\n",
    "    scaler.fit(features_train)\n",
    "    features_train = pd.DataFrame(scaler.transform(features_train), columns=features_train.columns, index=features_train.index)\n",
    "    features_test = pd.DataFrame(scaler.transform(features_test), columns=features_test.columns, index=features_test.index)\n",
    " \n",
    "    params = {'n_estimators': [i for i in range(100, 141, 10)],\n",
    "             'learning_rate': [i for i in np.arange(0.04, 0.071, 0.01)]}\n",
    "\n",
    "    gs = GridSearchCV(model, params, cv=time_split, n_jobs=-1)\n",
    "    gs.fit(features_train, target_train)\n",
    "\n",
    "    model.set_params(**gs.best_params_)\n",
    "    model.fit(features_train, target_train)\n",
    "    target_predict = model.predict(features_test)\n",
    "    RMSE = mean_squared_error(target_test, target_predict) ** 0.5\n",
    "    gs = None\n",
    "    return(RMSE, model)"
   ]
  },
  {
   "cell_type": "code",
   "execution_count": null,
   "metadata": {},
   "outputs": [],
   "source": [
    "tscv = TimeSeriesSplit()"
   ]
  },
  {
   "cell_type": "code",
   "execution_count": null,
   "metadata": {},
   "outputs": [],
   "source": [
    "start_time = time.time()\n",
    "gbr_score, gbr_lag, gbr_roll, gbr_model = search_best_model(df=taxi, \n",
    "                                                model=GradientBoostingRegressor(max_depth=6, random_state=rs), time_split=tscv)\n",
    "finish_time = time.time()\n",
    "gbr_time = finish_time - start_time"
   ]
  },
  {
   "cell_type": "code",
   "execution_count": null,
   "metadata": {
    "scrolled": true
   },
   "outputs": [],
   "source": [
    "start_time = time.time()\n",
    "xgb_score, xgb_lag, xgb_roll, xgb_model = search_best_model(df=taxi, \n",
    "                                                model=XGBRegressor(max_depth=6, random_state=rs, verbosity=0), time_split=tscv)\n",
    "finish_time = time.time()\n",
    "xgb_time = finish_time - start_time"
   ]
  },
  {
   "cell_type": "code",
   "execution_count": null,
   "metadata": {},
   "outputs": [],
   "source": [
    "start_time = time.time()\n",
    "lgb_score, lgb_lag, lgb_roll, lgb_model = search_best_model(df=taxi, \n",
    "                                                model=LGBMRegressor(max_depth=6, random_state=rs), time_split=tscv)\n",
    "finish_time = time.time()\n",
    "lgb_time = finish_time - start_time"
   ]
  },
  {
   "cell_type": "code",
   "execution_count": null,
   "metadata": {},
   "outputs": [],
   "source": [
    "start_time = time.time()\n",
    "cat_score, cat_lag, cat_roll, cat_model = search_best_model(df=taxi, \n",
    "                                            model=CatBoostRegressor(max_depth=6, random_state=rs, verbose=0), time_split=tscv)\n",
    "finish_time = time.time()\n",
    "cat_time = finish_time - start_time"
   ]
  },
  {
   "cell_type": "markdown",
   "metadata": {},
   "source": [
    "## Тестирование"
   ]
  },
  {
   "cell_type": "markdown",
   "metadata": {},
   "source": [
    "Тестирование было произведено в предыдущем пунке внутри функции, результаты вывожу в следующем пункте"
   ]
  },
  {
   "cell_type": "markdown",
   "metadata": {},
   "source": [
    "## Вывод"
   ]
  },
  {
   "cell_type": "code",
   "execution_count": null,
   "metadata": {
    "scrolled": false
   },
   "outputs": [],
   "source": [
    "score = [lr_score, gbr_score, xgb_score, lgb_score]\n",
    "lag = [lr_lag, gbr_lag, xgb_lag, lgb_lag]\n",
    "roll = [lr_roll, gbr_roll, xgb_roll, lgb_roll]\n",
    "models = [LinearRegression(), GradientBoostingRegressor(), XGBRegressor(), LGBMRegressor()]\n",
    "time = [lr_time, gbr_time, xgb_time, lgb_time]\n",
    "\n",
    "compare = []\n",
    "for index,content in enumerate(score):\n",
    "    compare.append([score[index], lag[index], roll[index], time[index]])\n",
    "summary = pd.DataFrame(compare, index=[type(i).__name__ for i in models], \n",
    "                       columns=['RMSE_score', 'max_lag', 'rolling_mean_size', 'train_time'])\n",
    "summary.sort_values(by='RMSE_score', ascending=False)"
   ]
  },
  {
   "cell_type": "markdown",
   "metadata": {},
   "source": [
    "Посчитал на маленьком диапазоне параметров, чтобы время сэкономить. Если не рассматривать CatBoost, то лучшей метрики я достиг в библиотеке LGBMRegressor - 41.42. Это меньше заданной величины 48. Время расчета этой модели так же минимально. "
   ]
  },
  {
   "cell_type": "markdown",
   "metadata": {},
   "source": [
    " "
   ]
  }
 ],
 "metadata": {
  "kernelspec": {
   "display_name": "Python 3",
   "language": "python",
   "name": "python3"
  },
  "language_info": {
   "codemirror_mode": {
    "name": "ipython",
    "version": 3
   },
   "file_extension": ".py",
   "mimetype": "text/x-python",
   "name": "python",
   "nbconvert_exporter": "python",
   "pygments_lexer": "ipython3",
   "version": "3.8.5"
  },
  "toc": {
   "base_numbering": 1,
   "nav_menu": {},
   "number_sections": true,
   "sideBar": true,
   "skip_h1_title": true,
   "title_cell": "Содержание",
   "title_sidebar": "Contents",
   "toc_cell": true,
   "toc_position": {},
   "toc_section_display": true,
   "toc_window_display": false
  }
 },
 "nbformat": 4,
 "nbformat_minor": 2
}
