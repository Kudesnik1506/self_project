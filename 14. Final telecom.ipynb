{
 "cells": [
  {
   "cell_type": "markdown",
   "metadata": {
    "toc": true
   },
   "source": [
    "<h1>Table of Contents<span class=\"tocSkip\"></span></h1>\n",
    "<div class=\"toc\"><ul class=\"toc-item\"><li><span><a href=\"#Перечень-функций\" data-toc-modified-id=\"Перечень-функций-1\"><span class=\"toc-item-num\">1&nbsp;&nbsp;</span>Перечень функций</a></span></li><li><span><a href=\"#Анализ-данных\" data-toc-modified-id=\"Анализ-данных-2\"><span class=\"toc-item-num\">2&nbsp;&nbsp;</span>Анализ данных</a></span></li><li><span><a href=\"#Предобработка-данных\" data-toc-modified-id=\"Предобработка-данных-3\"><span class=\"toc-item-num\">3&nbsp;&nbsp;</span>Предобработка данных</a></span></li><li><span><a href=\"#Подготовка-модели\" data-toc-modified-id=\"Подготовка-модели-4\"><span class=\"toc-item-num\">4&nbsp;&nbsp;</span>Подготовка модели</a></span></li><li><span><a href=\"#Обучение-модели\" data-toc-modified-id=\"Обучение-модели-5\"><span class=\"toc-item-num\">5&nbsp;&nbsp;</span>Обучение модели</a></span><ul class=\"toc-item\"><li><span><a href=\"#Анализ-метрики-auc_roc-алгоритма-LogisticRegression\" data-toc-modified-id=\"Анализ-метрики-auc_roc-алгоритма-LogisticRegression-5.1\"><span class=\"toc-item-num\">5.1&nbsp;&nbsp;</span>Анализ метрики auc_roc алгоритма LogisticRegression</a></span></li><li><span><a href=\"#Анализ-метрики-auc_roc-алгоритма-RandomForestClassifier\" data-toc-modified-id=\"Анализ-метрики-auc_roc-алгоритма-RandomForestClassifier-5.2\"><span class=\"toc-item-num\">5.2&nbsp;&nbsp;</span>Анализ метрики auc_roc алгоритма RandomForestClassifier</a></span></li><li><span><a href=\"#Анализ-метрики-auc_roc-алгоритма-XGBClassifier\" data-toc-modified-id=\"Анализ-метрики-auc_roc-алгоритма-XGBClassifier-5.3\"><span class=\"toc-item-num\">5.3&nbsp;&nbsp;</span>Анализ метрики auc_roc алгоритма XGBClassifier</a></span></li><li><span><a href=\"#Анализ-метрики-auc_roc-алгоритма-LGBMClassifier\" data-toc-modified-id=\"Анализ-метрики-auc_roc-алгоритма-LGBMClassifier-5.4\"><span class=\"toc-item-num\">5.4&nbsp;&nbsp;</span>Анализ метрики auc_roc алгоритма LGBMClassifier</a></span></li></ul></li><li><span><a href=\"#Итого\" data-toc-modified-id=\"Итого-6\"><span class=\"toc-item-num\">6&nbsp;&nbsp;</span>Итого</a></span></li></ul></div>"
   ]
  },
  {
   "cell_type": "code",
   "execution_count": 1,
   "metadata": {},
   "outputs": [
    {
     "name": "stderr",
     "output_type": "stream",
     "text": [
      "C:\\Users\\George\\anaconda3\\lib\\site-packages\\sklearn\\utils\\deprecation.py:143: FutureWarning: The sklearn.metrics.scorer module is  deprecated in version 0.22 and will be removed in version 0.24. The corresponding classes / functions should instead be imported from sklearn.metrics. Anything that cannot be imported from sklearn.metrics is now part of the private API.\n",
      "  warnings.warn(message, FutureWarning)\n"
     ]
    }
   ],
   "source": [
    "import pandas as pd\n",
    "import numpy as np\n",
    "import matplotlib.pyplot as plt\n",
    "import seaborn as sb\n",
    "\n",
    "from sklearn.feature_selection import SelectKBest, chi2, VarianceThreshold, SelectFromModel\n",
    "from sklearn.model_selection import train_test_split\n",
    "from sklearn.preprocessing import StandardScaler\n",
    "from sklearn.metrics import accuracy_score, recall_score, precision_score, f1_score, confusion_matrix\n",
    "from sklearn.metrics import classification_report, precision_recall_curve, roc_curve, roc_auc_score\n",
    "from sklearn.metrics import scorer \n",
    "\n",
    "from sklearn.model_selection import cross_val_score as cvs\n",
    "from sklearn.model_selection import cross_val_predict as cvp\n",
    "from sklearn.model_selection import cross_validate as cval\n",
    "from sklearn.model_selection import GridSearchCV\n",
    "\n",
    "from sklearn.dummy import DummyClassifier\n",
    "from sklearn.ensemble import RandomForestClassifier, AdaBoostClassifier, GradientBoostingClassifier\n",
    "from sklearn.linear_model import LogisticRegression\n",
    "from sklearn.svm import SVC\n",
    "from sklearn.neighbors import KNeighborsClassifier\n",
    "\n",
    "from xgboost import XGBClassifier\n",
    "from catboost import CatBoostClassifier\n",
    "from lightgbm import LGBMClassifier\n",
    "\n",
    "from sklearn.utils import shuffle\n",
    "\n",
    "import warnings\n",
    "import logging"
   ]
  },
  {
   "cell_type": "code",
   "execution_count": 2,
   "metadata": {},
   "outputs": [],
   "source": [
    "warnings.filterwarnings='ignore'\n",
    "logging.getLogger().setLevel(logging.CRITICAL) \n",
    "pd.options.mode.chained_assignment = None\n",
    "rs = 0"
   ]
  },
  {
   "cell_type": "markdown",
   "metadata": {},
   "source": [
    "## Перечень функций"
   ]
  },
  {
   "cell_type": "code",
   "execution_count": 3,
   "metadata": {},
   "outputs": [],
   "source": [
    "def missing_values(df):\n",
    "    data = pd.DataFrame(columns=['NaN_part', 'empty_counts', 'space_counts', '0_counts', 'unique_counts',\\\n",
    "                                          'min_value', 'max_value', 'dupl_sum', 'dtypes', 'length'], index=df.columns)\n",
    "    for column in df.columns:\n",
    "        data['NaN_part'][column] = df[column].isnull().mean()\n",
    "        data['empty_counts'][column] = df[df[column] == ''][column].count()\n",
    "        data['space_counts'][column] = df[df[column] == ' '][column].count()\n",
    "        data['0_counts'][column] = df[df[column] == 0][column].count()\n",
    "        data['unique_counts'][column] = len(df[column].unique())\n",
    "        data['min_value'][column] = df[column].min()\n",
    "        data['max_value'][column] = df[column].max()\n",
    "        data['dupl_sum'][column] = df[column].duplicated().sum()\n",
    "        data['dtypes'][column] = df[column].dtypes\n",
    "        data['length'][column] = len(df[column])\n",
    "    return data        "
   ]
  },
  {
   "cell_type": "code",
   "execution_count": 4,
   "metadata": {},
   "outputs": [],
   "source": [
    "def missing_value(df):\n",
    "    data = pd.DataFrame(columns=['NaN_part', 'empty_counts', 'space_counts', '0_counts', 'unique_counts',\\\n",
    "                                          'dupl_sum', 'dtypes', 'length'], index=df.columns)\n",
    "    for column in df.columns:\n",
    "        data['NaN_part'][column] = df[column].isnull().mean()\n",
    "        data['empty_counts'][column] = df[df[column] == ''][column].count()\n",
    "        data['space_counts'][column] = df[df[column] == ' '][column].count()\n",
    "        data['0_counts'][column] = df[df[column] == 0][column].count()\n",
    "        data['unique_counts'][column] = len(df[column].unique())\n",
    "        data['dupl_sum'][column] = df[column].duplicated().sum()\n",
    "        data['dtypes'][column] = df[column].dtypes\n",
    "        data['length'][column] = len(df[column])\n",
    "    return data        "
   ]
  },
  {
   "cell_type": "code",
   "execution_count": 5,
   "metadata": {},
   "outputs": [],
   "source": [
    "def cv_search(model, features_train, target_train, features_test):\n",
    "    n_scores = pd.DataFrame(cval(model, features_train, target_train, scoring=('f1'), return_train_score=True))\n",
    "    train = n_scores.train_score.mean()\n",
    "    valid = n_scores.test_score.mean()\n",
    "    \n",
    "    model.fit(features_train, target_train)\n",
    "    prob = model.predict_proba(features_test)\n",
    "    prob_test_ones = prob[:, 1]\n",
    "    predict_test = prob_test_ones > 0.5\n",
    "    test = f1_score(target_test, predict_test)\n",
    "\n",
    "    print('Перекресная проверка (кросс-валидация):')\n",
    "    print(f'f1 на обучающей выборке: {train}')\n",
    "    print(f'f1 на валидационной выборке: {valid}')\n",
    "    print(f'f1 на тестовой выборке: {test}')\n",
    "    print()\n",
    "    print(f'Разница метрики f1 между train and valid не превышает {(train - valid) * 100 / train:.2}%. Переобучения нет, если разница <10%')\n",
    "    print(f'Разница метрики f1 между train and test не превышает {(train - test) * 100 / train:.2}%.')\n",
    "\n",
    "    predict_test = model.predict(features_test)\n",
    "    print()\n",
    "    print('Тестовая выборка:')\n",
    "    print('Доля положительных предсказаний от всех правильных предсказаний - Recall: ', recall_score(target_test, predict_test))\n",
    "    print('Доля положительных предсказаний от всех положительных предсказаний - Precision: ', precision_score(target_test, predict_test))\n",
    "    print('Среднее гармоническое полноты и точности - F1:', f1_score(target_test, predict_test))\n",
    "    print('Accuracy:', accuracy_score(target_test, predict_test))\n",
    "    print('ROC_AUC = ', roc_auc_score(target_test, predict_test))"
   ]
  },
  {
   "cell_type": "code",
   "execution_count": 6,
   "metadata": {},
   "outputs": [],
   "source": [
    "def upsample(features, target, repeat_zeros=1, repeat_ones=1):\n",
    "    features_zeros = features[target == 0]\n",
    "    features_ones = features[target == 1]\n",
    "    target_zeros = target[target == 0]\n",
    "    target_ones = target[target == 1]\n",
    "    \n",
    "    features_upsampled = pd.concat([features_zeros] * repeat_zeros + [features_ones] * repeat_ones)\n",
    "    target_upsampled = pd.concat([target_zeros] * repeat_zeros + [target_ones] * repeat_ones)\n",
    "    \n",
    "    features_upsampled, target_upsampled = shuffle(features_upsampled, target_upsampled, random_state=rs)\n",
    "    \n",
    "    return features_upsampled, target_upsampled"
   ]
  },
  {
   "cell_type": "code",
   "execution_count": 7,
   "metadata": {},
   "outputs": [],
   "source": [
    "def downsample(features, target, fraction_zeros=1, fraction_ones=1):\n",
    "    features_zeros = features[target == 0]\n",
    "    features_ones = features[target == 1]\n",
    "    target_zeros = target[target == 0]\n",
    "    target_ones = target[target == 1]\n",
    "    \n",
    "    features_downsampled = pd.concat([features_zeros.sample(frac=fraction_zeros, random_state=rs)] + \n",
    "                                     [features_ones.sample(frac=fraction_ones, random_state=rs)])\n",
    "    target_downsampled = pd.concat([target_zeros.sample(frac=fraction_zeros, random_state=rs)] + \n",
    "                                   [target_ones.sample(frac=fraction_ones, random_state=rs)])\n",
    "    \n",
    "    features_downsampled, target_downsampled = shuffle(features_downsampled, target_downsampled, random_state=rs)\n",
    "    \n",
    "    return features_downsampled, target_downsampled"
   ]
  },
  {
   "cell_type": "code",
   "execution_count": 8,
   "metadata": {},
   "outputs": [],
   "source": [
    "def threshold(begin, end, step, features, target, prob_ones):   \n",
    "    best_f1 = 0\n",
    "    best_threshold = -1\n",
    "    best_auc = -1\n",
    "    best_accuracy = 0\n",
    "    for threshold in np.arange(begin, end, step):\n",
    "        predict = prob_ones > threshold\n",
    "        \n",
    "        precision = precision_score(target, predict)\n",
    "        recall = recall_score(target, predict)\n",
    "        f1 = f1_score(target, predict)        \n",
    "        auc = roc_auc_score(target, prob_ones)\n",
    "        accuracy = accuracy_score(target, predict)\n",
    "                \n",
    "        if f1 > best_f1:\n",
    "            best_f1 = f1\n",
    "            best_threshold = threshold\n",
    "            best_auc = auc\n",
    "            best_accuracy = accuracy\n",
    "                    \n",
    "    return(best_f1, best_accuracy, best_auc, best_threshold)"
   ]
  },
  {
   "cell_type": "code",
   "execution_count": 9,
   "metadata": {},
   "outputs": [],
   "source": [
    "def auc_roc_plot(model, target, predict):\n",
    "    fig, (ax1, ax2) = plt.subplots(1,2, figsize=(18,6), facecolor='gray')\n",
    "    fig.suptitle('Зависимость метрик от изменения порога')\n",
    "\n",
    "    precision, recall, threshold = precision_recall_curve(target, predict)\n",
    "    dictionary = {'precision':pd.Series(precision), 'recall':pd.Series(recall)}\n",
    "    pr = pd.DataFrame(dictionary)\n",
    "\n",
    "    fpr, tpr, thresholds = roc_curve(target, predict)\n",
    "    dictionar = {'fpr':pd.Series(fpr), 'tpr':pd.Series(tpr)}\n",
    "    ftpr = pd.DataFrame(dictionar)\n",
    "    \n",
    "    ax1.step(recall, precision)\n",
    "    ax1.grid(True)\n",
    "    ax1.set_xlabel('Recall')\n",
    "    ax1.set_ylabel('Precision')\n",
    "    ax1.set_title('Кривая Precision-Recall')\n",
    "\n",
    "    ax2.step(fpr, tpr, where='post')\n",
    "    ax2.grid(True)\n",
    "    ax2.plot([0,1], [0,1], linestyle='--')\n",
    "    ax2.set_xlabel('false positive rate')\n",
    "    ax2.set_ylabel('true positive rate')\n",
    "    ax2.set_title('ROC-кривая')"
   ]
  },
  {
   "cell_type": "code",
   "execution_count": 10,
   "metadata": {},
   "outputs": [],
   "source": [
    "def predict_plot(target, predict, count): #найти точечный график\n",
    "    plt.figure(figsize=(16,8), facecolor='gray')\n",
    "    plt.plot(target.values[:count], label='actual')\n",
    "    plt.plot(predict[:count], label='predictions')\n",
    "    plt.legend(loc='best')\n",
    "    plt.grid()"
   ]
  },
  {
   "cell_type": "markdown",
   "metadata": {},
   "source": [
    "## Анализ данных"
   ]
  },
  {
   "cell_type": "markdown",
   "metadata": {},
   "source": [
    "Рассмотрю таблицу contract"
   ]
  },
  {
   "cell_type": "code",
   "execution_count": 11,
   "metadata": {},
   "outputs": [
    {
     "data": {
      "text/html": [
       "<div>\n",
       "<style scoped>\n",
       "    .dataframe tbody tr th:only-of-type {\n",
       "        vertical-align: middle;\n",
       "    }\n",
       "\n",
       "    .dataframe tbody tr th {\n",
       "        vertical-align: top;\n",
       "    }\n",
       "\n",
       "    .dataframe thead th {\n",
       "        text-align: right;\n",
       "    }\n",
       "</style>\n",
       "<table border=\"1\" class=\"dataframe\">\n",
       "  <thead>\n",
       "    <tr style=\"text-align: right;\">\n",
       "      <th></th>\n",
       "      <th>BeginDate</th>\n",
       "      <th>EndDate</th>\n",
       "      <th>Type</th>\n",
       "      <th>PaperlessBilling</th>\n",
       "      <th>PaymentMethod</th>\n",
       "      <th>MonthlyCharges</th>\n",
       "      <th>TotalCharges</th>\n",
       "    </tr>\n",
       "    <tr>\n",
       "      <th>customerID</th>\n",
       "      <th></th>\n",
       "      <th></th>\n",
       "      <th></th>\n",
       "      <th></th>\n",
       "      <th></th>\n",
       "      <th></th>\n",
       "      <th></th>\n",
       "    </tr>\n",
       "  </thead>\n",
       "  <tbody>\n",
       "    <tr>\n",
       "      <th>4616-EWBNJ</th>\n",
       "      <td>2018-10-01</td>\n",
       "      <td>No</td>\n",
       "      <td>One year</td>\n",
       "      <td>No</td>\n",
       "      <td>Bank transfer (automatic)</td>\n",
       "      <td>20.10</td>\n",
       "      <td>318.6</td>\n",
       "    </tr>\n",
       "    <tr>\n",
       "      <th>2159-TURXX</th>\n",
       "      <td>2019-09-01</td>\n",
       "      <td>No</td>\n",
       "      <td>Month-to-month</td>\n",
       "      <td>No</td>\n",
       "      <td>Credit card (automatic)</td>\n",
       "      <td>20.05</td>\n",
       "      <td>95.55</td>\n",
       "    </tr>\n",
       "    <tr>\n",
       "      <th>3537-RYBHH</th>\n",
       "      <td>2016-03-01</td>\n",
       "      <td>No</td>\n",
       "      <td>Month-to-month</td>\n",
       "      <td>Yes</td>\n",
       "      <td>Credit card (automatic)</td>\n",
       "      <td>67.45</td>\n",
       "      <td>3252</td>\n",
       "    </tr>\n",
       "    <tr>\n",
       "      <th>3936-QQFLL</th>\n",
       "      <td>2019-12-01</td>\n",
       "      <td>No</td>\n",
       "      <td>Month-to-month</td>\n",
       "      <td>No</td>\n",
       "      <td>Mailed check</td>\n",
       "      <td>19.75</td>\n",
       "      <td>39.3</td>\n",
       "    </tr>\n",
       "    <tr>\n",
       "      <th>6834-NXDCA</th>\n",
       "      <td>2018-11-01</td>\n",
       "      <td>2019-12-01 00:00:00</td>\n",
       "      <td>Month-to-month</td>\n",
       "      <td>Yes</td>\n",
       "      <td>Electronic check</td>\n",
       "      <td>23.90</td>\n",
       "      <td>300.8</td>\n",
       "    </tr>\n",
       "    <tr>\n",
       "      <th>9488-FYQAU</th>\n",
       "      <td>2014-11-01</td>\n",
       "      <td>No</td>\n",
       "      <td>Two year</td>\n",
       "      <td>Yes</td>\n",
       "      <td>Bank transfer (automatic)</td>\n",
       "      <td>109.25</td>\n",
       "      <td>6841.4</td>\n",
       "    </tr>\n",
       "    <tr>\n",
       "      <th>6543-XRMYR</th>\n",
       "      <td>2017-07-01</td>\n",
       "      <td>2020-01-01 00:00:00</td>\n",
       "      <td>Month-to-month</td>\n",
       "      <td>Yes</td>\n",
       "      <td>Electronic check</td>\n",
       "      <td>99.70</td>\n",
       "      <td>2967.35</td>\n",
       "    </tr>\n",
       "    <tr>\n",
       "      <th>9057-MSWCO</th>\n",
       "      <td>2017-10-01</td>\n",
       "      <td>2020-01-01 00:00:00</td>\n",
       "      <td>Month-to-month</td>\n",
       "      <td>No</td>\n",
       "      <td>Credit card (automatic)</td>\n",
       "      <td>30.75</td>\n",
       "      <td>805.1</td>\n",
       "    </tr>\n",
       "    <tr>\n",
       "      <th>8705-WZCYL</th>\n",
       "      <td>2020-01-01</td>\n",
       "      <td>No</td>\n",
       "      <td>Month-to-month</td>\n",
       "      <td>Yes</td>\n",
       "      <td>Electronic check</td>\n",
       "      <td>44.80</td>\n",
       "      <td>44.8</td>\n",
       "    </tr>\n",
       "    <tr>\n",
       "      <th>5317-FLPJF</th>\n",
       "      <td>2014-08-01</td>\n",
       "      <td>No</td>\n",
       "      <td>Two year</td>\n",
       "      <td>Yes</td>\n",
       "      <td>Bank transfer (automatic)</td>\n",
       "      <td>61.35</td>\n",
       "      <td>4193.4</td>\n",
       "    </tr>\n",
       "  </tbody>\n",
       "</table>\n",
       "</div>"
      ],
      "text/plain": [
       "             BeginDate              EndDate            Type PaperlessBilling  \\\n",
       "customerID                                                                     \n",
       "4616-EWBNJ  2018-10-01                   No        One year               No   \n",
       "2159-TURXX  2019-09-01                   No  Month-to-month               No   \n",
       "3537-RYBHH  2016-03-01                   No  Month-to-month              Yes   \n",
       "3936-QQFLL  2019-12-01                   No  Month-to-month               No   \n",
       "6834-NXDCA  2018-11-01  2019-12-01 00:00:00  Month-to-month              Yes   \n",
       "9488-FYQAU  2014-11-01                   No        Two year              Yes   \n",
       "6543-XRMYR  2017-07-01  2020-01-01 00:00:00  Month-to-month              Yes   \n",
       "9057-MSWCO  2017-10-01  2020-01-01 00:00:00  Month-to-month               No   \n",
       "8705-WZCYL  2020-01-01                   No  Month-to-month              Yes   \n",
       "5317-FLPJF  2014-08-01                   No        Two year              Yes   \n",
       "\n",
       "                        PaymentMethod  MonthlyCharges TotalCharges  \n",
       "customerID                                                          \n",
       "4616-EWBNJ  Bank transfer (automatic)           20.10        318.6  \n",
       "2159-TURXX    Credit card (automatic)           20.05        95.55  \n",
       "3537-RYBHH    Credit card (automatic)           67.45         3252  \n",
       "3936-QQFLL               Mailed check           19.75         39.3  \n",
       "6834-NXDCA           Electronic check           23.90        300.8  \n",
       "9488-FYQAU  Bank transfer (automatic)          109.25       6841.4  \n",
       "6543-XRMYR           Electronic check           99.70      2967.35  \n",
       "9057-MSWCO    Credit card (automatic)           30.75        805.1  \n",
       "8705-WZCYL           Electronic check           44.80         44.8  \n",
       "5317-FLPJF  Bank transfer (automatic)           61.35       4193.4  "
      ]
     },
     "execution_count": 11,
     "metadata": {},
     "output_type": "execute_result"
    }
   ],
   "source": [
    "try:\n",
    "    contract = pd.read_csv('datasets/final_provider/contract.csv', index_col=[0])\n",
    "except:\n",
    "    contract = pd.read_csv('/datasets/final_provider/contract.csv', index_col=[0])\n",
    "contract.sample(10)"
   ]
  },
  {
   "cell_type": "code",
   "execution_count": 12,
   "metadata": {},
   "outputs": [
    {
     "data": {
      "text/html": [
       "<div>\n",
       "<style scoped>\n",
       "    .dataframe tbody tr th:only-of-type {\n",
       "        vertical-align: middle;\n",
       "    }\n",
       "\n",
       "    .dataframe tbody tr th {\n",
       "        vertical-align: top;\n",
       "    }\n",
       "\n",
       "    .dataframe thead th {\n",
       "        text-align: right;\n",
       "    }\n",
       "</style>\n",
       "<table border=\"1\" class=\"dataframe\">\n",
       "  <thead>\n",
       "    <tr style=\"text-align: right;\">\n",
       "      <th></th>\n",
       "      <th>NaN_part</th>\n",
       "      <th>empty_counts</th>\n",
       "      <th>space_counts</th>\n",
       "      <th>0_counts</th>\n",
       "      <th>unique_counts</th>\n",
       "      <th>min_value</th>\n",
       "      <th>max_value</th>\n",
       "      <th>dupl_sum</th>\n",
       "      <th>dtypes</th>\n",
       "      <th>length</th>\n",
       "    </tr>\n",
       "  </thead>\n",
       "  <tbody>\n",
       "    <tr>\n",
       "      <th>BeginDate</th>\n",
       "      <td>0</td>\n",
       "      <td>0</td>\n",
       "      <td>0</td>\n",
       "      <td>0</td>\n",
       "      <td>77</td>\n",
       "      <td>2013-10-01</td>\n",
       "      <td>2020-02-01</td>\n",
       "      <td>6966</td>\n",
       "      <td>object</td>\n",
       "      <td>7043</td>\n",
       "    </tr>\n",
       "    <tr>\n",
       "      <th>EndDate</th>\n",
       "      <td>0</td>\n",
       "      <td>0</td>\n",
       "      <td>0</td>\n",
       "      <td>0</td>\n",
       "      <td>5</td>\n",
       "      <td>2019-10-01 00:00:00</td>\n",
       "      <td>No</td>\n",
       "      <td>7038</td>\n",
       "      <td>object</td>\n",
       "      <td>7043</td>\n",
       "    </tr>\n",
       "    <tr>\n",
       "      <th>Type</th>\n",
       "      <td>0</td>\n",
       "      <td>0</td>\n",
       "      <td>0</td>\n",
       "      <td>0</td>\n",
       "      <td>3</td>\n",
       "      <td>Month-to-month</td>\n",
       "      <td>Two year</td>\n",
       "      <td>7040</td>\n",
       "      <td>object</td>\n",
       "      <td>7043</td>\n",
       "    </tr>\n",
       "    <tr>\n",
       "      <th>PaperlessBilling</th>\n",
       "      <td>0</td>\n",
       "      <td>0</td>\n",
       "      <td>0</td>\n",
       "      <td>0</td>\n",
       "      <td>2</td>\n",
       "      <td>No</td>\n",
       "      <td>Yes</td>\n",
       "      <td>7041</td>\n",
       "      <td>object</td>\n",
       "      <td>7043</td>\n",
       "    </tr>\n",
       "    <tr>\n",
       "      <th>PaymentMethod</th>\n",
       "      <td>0</td>\n",
       "      <td>0</td>\n",
       "      <td>0</td>\n",
       "      <td>0</td>\n",
       "      <td>4</td>\n",
       "      <td>Bank transfer (automatic)</td>\n",
       "      <td>Mailed check</td>\n",
       "      <td>7039</td>\n",
       "      <td>object</td>\n",
       "      <td>7043</td>\n",
       "    </tr>\n",
       "    <tr>\n",
       "      <th>MonthlyCharges</th>\n",
       "      <td>0</td>\n",
       "      <td>0</td>\n",
       "      <td>0</td>\n",
       "      <td>0</td>\n",
       "      <td>1585</td>\n",
       "      <td>18.25</td>\n",
       "      <td>118.75</td>\n",
       "      <td>5458</td>\n",
       "      <td>float64</td>\n",
       "      <td>7043</td>\n",
       "    </tr>\n",
       "    <tr>\n",
       "      <th>TotalCharges</th>\n",
       "      <td>0</td>\n",
       "      <td>0</td>\n",
       "      <td>11</td>\n",
       "      <td>0</td>\n",
       "      <td>6531</td>\n",
       "      <td></td>\n",
       "      <td>999.9</td>\n",
       "      <td>512</td>\n",
       "      <td>object</td>\n",
       "      <td>7043</td>\n",
       "    </tr>\n",
       "  </tbody>\n",
       "</table>\n",
       "</div>"
      ],
      "text/plain": [
       "                 NaN_part empty_counts space_counts 0_counts unique_counts  \\\n",
       "BeginDate               0            0            0        0            77   \n",
       "EndDate                 0            0            0        0             5   \n",
       "Type                    0            0            0        0             3   \n",
       "PaperlessBilling        0            0            0        0             2   \n",
       "PaymentMethod           0            0            0        0             4   \n",
       "MonthlyCharges          0            0            0        0          1585   \n",
       "TotalCharges            0            0           11        0          6531   \n",
       "\n",
       "                                  min_value     max_value dupl_sum   dtypes  \\\n",
       "BeginDate                        2013-10-01    2020-02-01     6966   object   \n",
       "EndDate                 2019-10-01 00:00:00            No     7038   object   \n",
       "Type                         Month-to-month      Two year     7040   object   \n",
       "PaperlessBilling                         No           Yes     7041   object   \n",
       "PaymentMethod     Bank transfer (automatic)  Mailed check     7039   object   \n",
       "MonthlyCharges                        18.25        118.75     5458  float64   \n",
       "TotalCharges                                        999.9      512   object   \n",
       "\n",
       "                 length  \n",
       "BeginDate          7043  \n",
       "EndDate            7043  \n",
       "Type               7043  \n",
       "PaperlessBilling   7043  \n",
       "PaymentMethod      7043  \n",
       "MonthlyCharges     7043  \n",
       "TotalCharges       7043  "
      ]
     },
     "execution_count": 12,
     "metadata": {},
     "output_type": "execute_result"
    }
   ],
   "source": [
    "missing_contract = missing_values(contract)\n",
    "missing_contract"
   ]
  },
  {
   "cell_type": "code",
   "execution_count": 13,
   "metadata": {},
   "outputs": [
    {
     "data": {
      "text/plain": [
       "array(['No', '2019-12-01 00:00:00', '2019-11-01 00:00:00',\n",
       "       '2019-10-01 00:00:00', '2020-01-01 00:00:00'], dtype=object)"
      ]
     },
     "execution_count": 13,
     "metadata": {},
     "output_type": "execute_result"
    }
   ],
   "source": [
    "contract['EndDate'].unique()"
   ]
  },
  {
   "cell_type": "markdown",
   "metadata": {},
   "source": [
    "Анализ таблицы contract приводит к следующим выводам:\n",
    "- есть пропуски в признаке TotalCharges\n",
    "- ряд признаков не соответствуют своему типу: BeginDate, EndDate, TotalCharges\n",
    "- признак BeginDate необходимо привести к объекту date. Строчные данные надо перевести в дату. Скорее всего это должна быть конечная дата 01.02.2020\n",
    "- отток клиентов начался 4 месяца назад\n",
    "- в базе данных дана информация за 7 лет\n",
    "- бд имеет 7044 наблюдений и 8 признаков"
   ]
  },
  {
   "cell_type": "code",
   "execution_count": 14,
   "metadata": {},
   "outputs": [
    {
     "name": "stdout",
     "output_type": "stream",
     "text": [
      "<class 'pandas.core.frame.DataFrame'>\n",
      "Index: 7043 entries, 7590-VHVEG to 3186-AJIEK\n",
      "Data columns (total 7 columns):\n",
      " #   Column            Non-Null Count  Dtype         \n",
      "---  ------            --------------  -----         \n",
      " 0   BeginDate         7043 non-null   datetime64[ns]\n",
      " 1   EndDate           7043 non-null   object        \n",
      " 2   Type              7043 non-null   object        \n",
      " 3   PaperlessBilling  7043 non-null   object        \n",
      " 4   PaymentMethod     7043 non-null   object        \n",
      " 5   MonthlyCharges    7043 non-null   float64       \n",
      " 6   TotalCharges      7032 non-null   float64       \n",
      "dtypes: datetime64[ns](1), float64(2), object(4)\n",
      "memory usage: 440.2+ KB\n"
     ]
    }
   ],
   "source": [
    "contract['BeginDate'] = pd.to_datetime(contract['BeginDate'])\n",
    "contract['TotalCharges'] = pd.to_numeric(contract['TotalCharges'], errors='coerce')\n",
    "contract.info()"
   ]
  },
  {
   "cell_type": "code",
   "execution_count": 15,
   "metadata": {},
   "outputs": [
    {
     "data": {
      "text/html": [
       "<div>\n",
       "<style scoped>\n",
       "    .dataframe tbody tr th:only-of-type {\n",
       "        vertical-align: middle;\n",
       "    }\n",
       "\n",
       "    .dataframe tbody tr th {\n",
       "        vertical-align: top;\n",
       "    }\n",
       "\n",
       "    .dataframe thead th {\n",
       "        text-align: right;\n",
       "    }\n",
       "</style>\n",
       "<table border=\"1\" class=\"dataframe\">\n",
       "  <thead>\n",
       "    <tr style=\"text-align: right;\">\n",
       "      <th></th>\n",
       "      <th>NaN_part</th>\n",
       "      <th>empty_counts</th>\n",
       "      <th>space_counts</th>\n",
       "      <th>0_counts</th>\n",
       "      <th>unique_counts</th>\n",
       "      <th>min_value</th>\n",
       "      <th>max_value</th>\n",
       "      <th>dupl_sum</th>\n",
       "      <th>dtypes</th>\n",
       "      <th>length</th>\n",
       "    </tr>\n",
       "  </thead>\n",
       "  <tbody>\n",
       "    <tr>\n",
       "      <th>BeginDate</th>\n",
       "      <td>0</td>\n",
       "      <td>0</td>\n",
       "      <td>0</td>\n",
       "      <td>0</td>\n",
       "      <td>77</td>\n",
       "      <td>2013-10-01 00:00:00</td>\n",
       "      <td>2020-02-01 00:00:00</td>\n",
       "      <td>6966</td>\n",
       "      <td>datetime64[ns]</td>\n",
       "      <td>7043</td>\n",
       "    </tr>\n",
       "    <tr>\n",
       "      <th>EndDate</th>\n",
       "      <td>0</td>\n",
       "      <td>0</td>\n",
       "      <td>0</td>\n",
       "      <td>0</td>\n",
       "      <td>5</td>\n",
       "      <td>2019-10-01 00:00:00</td>\n",
       "      <td>No</td>\n",
       "      <td>7038</td>\n",
       "      <td>object</td>\n",
       "      <td>7043</td>\n",
       "    </tr>\n",
       "    <tr>\n",
       "      <th>Type</th>\n",
       "      <td>0</td>\n",
       "      <td>0</td>\n",
       "      <td>0</td>\n",
       "      <td>0</td>\n",
       "      <td>3</td>\n",
       "      <td>Month-to-month</td>\n",
       "      <td>Two year</td>\n",
       "      <td>7040</td>\n",
       "      <td>object</td>\n",
       "      <td>7043</td>\n",
       "    </tr>\n",
       "    <tr>\n",
       "      <th>PaperlessBilling</th>\n",
       "      <td>0</td>\n",
       "      <td>0</td>\n",
       "      <td>0</td>\n",
       "      <td>0</td>\n",
       "      <td>2</td>\n",
       "      <td>No</td>\n",
       "      <td>Yes</td>\n",
       "      <td>7041</td>\n",
       "      <td>object</td>\n",
       "      <td>7043</td>\n",
       "    </tr>\n",
       "    <tr>\n",
       "      <th>PaymentMethod</th>\n",
       "      <td>0</td>\n",
       "      <td>0</td>\n",
       "      <td>0</td>\n",
       "      <td>0</td>\n",
       "      <td>4</td>\n",
       "      <td>Bank transfer (automatic)</td>\n",
       "      <td>Mailed check</td>\n",
       "      <td>7039</td>\n",
       "      <td>object</td>\n",
       "      <td>7043</td>\n",
       "    </tr>\n",
       "    <tr>\n",
       "      <th>MonthlyCharges</th>\n",
       "      <td>0</td>\n",
       "      <td>0</td>\n",
       "      <td>0</td>\n",
       "      <td>0</td>\n",
       "      <td>1585</td>\n",
       "      <td>18.25</td>\n",
       "      <td>118.75</td>\n",
       "      <td>5458</td>\n",
       "      <td>float64</td>\n",
       "      <td>7043</td>\n",
       "    </tr>\n",
       "    <tr>\n",
       "      <th>TotalCharges</th>\n",
       "      <td>0.00156183</td>\n",
       "      <td>0</td>\n",
       "      <td>0</td>\n",
       "      <td>0</td>\n",
       "      <td>6531</td>\n",
       "      <td>18.8</td>\n",
       "      <td>8684.8</td>\n",
       "      <td>512</td>\n",
       "      <td>float64</td>\n",
       "      <td>7043</td>\n",
       "    </tr>\n",
       "  </tbody>\n",
       "</table>\n",
       "</div>"
      ],
      "text/plain": [
       "                    NaN_part empty_counts space_counts 0_counts unique_counts  \\\n",
       "BeginDate                  0            0            0        0            77   \n",
       "EndDate                    0            0            0        0             5   \n",
       "Type                       0            0            0        0             3   \n",
       "PaperlessBilling           0            0            0        0             2   \n",
       "PaymentMethod              0            0            0        0             4   \n",
       "MonthlyCharges             0            0            0        0          1585   \n",
       "TotalCharges      0.00156183            0            0        0          6531   \n",
       "\n",
       "                                  min_value            max_value dupl_sum  \\\n",
       "BeginDate               2013-10-01 00:00:00  2020-02-01 00:00:00     6966   \n",
       "EndDate                 2019-10-01 00:00:00                   No     7038   \n",
       "Type                         Month-to-month             Two year     7040   \n",
       "PaperlessBilling                         No                  Yes     7041   \n",
       "PaymentMethod     Bank transfer (automatic)         Mailed check     7039   \n",
       "MonthlyCharges                        18.25               118.75     5458   \n",
       "TotalCharges                           18.8               8684.8      512   \n",
       "\n",
       "                          dtypes length  \n",
       "BeginDate         datetime64[ns]   7043  \n",
       "EndDate                   object   7043  \n",
       "Type                      object   7043  \n",
       "PaperlessBilling          object   7043  \n",
       "PaymentMethod             object   7043  \n",
       "MonthlyCharges           float64   7043  \n",
       "TotalCharges             float64   7043  "
      ]
     },
     "execution_count": 15,
     "metadata": {},
     "output_type": "execute_result"
    }
   ],
   "source": [
    "missing_contract = missing_values(contract)\n",
    "missing_contract"
   ]
  },
  {
   "cell_type": "code",
   "execution_count": 16,
   "metadata": {},
   "outputs": [
    {
     "data": {
      "text/html": [
       "<div>\n",
       "<style scoped>\n",
       "    .dataframe tbody tr th:only-of-type {\n",
       "        vertical-align: middle;\n",
       "    }\n",
       "\n",
       "    .dataframe tbody tr th {\n",
       "        vertical-align: top;\n",
       "    }\n",
       "\n",
       "    .dataframe thead th {\n",
       "        text-align: right;\n",
       "    }\n",
       "</style>\n",
       "<table border=\"1\" class=\"dataframe\">\n",
       "  <thead>\n",
       "    <tr style=\"text-align: right;\">\n",
       "      <th></th>\n",
       "      <th>BeginDate</th>\n",
       "      <th>EndDate</th>\n",
       "      <th>Type</th>\n",
       "      <th>PaperlessBilling</th>\n",
       "      <th>PaymentMethod</th>\n",
       "      <th>MonthlyCharges</th>\n",
       "      <th>TotalCharges</th>\n",
       "    </tr>\n",
       "    <tr>\n",
       "      <th>customerID</th>\n",
       "      <th></th>\n",
       "      <th></th>\n",
       "      <th></th>\n",
       "      <th></th>\n",
       "      <th></th>\n",
       "      <th></th>\n",
       "      <th></th>\n",
       "    </tr>\n",
       "  </thead>\n",
       "  <tbody>\n",
       "    <tr>\n",
       "      <th>3679-XASPY</th>\n",
       "      <td>2020-01-01</td>\n",
       "      <td>No</td>\n",
       "      <td>Month-to-month</td>\n",
       "      <td>No</td>\n",
       "      <td>Electronic check</td>\n",
       "      <td>19.45</td>\n",
       "      <td>19.45</td>\n",
       "    </tr>\n",
       "    <tr>\n",
       "      <th>3930-ZGWVE</th>\n",
       "      <td>2020-01-01</td>\n",
       "      <td>No</td>\n",
       "      <td>Month-to-month</td>\n",
       "      <td>No</td>\n",
       "      <td>Mailed check</td>\n",
       "      <td>19.75</td>\n",
       "      <td>19.75</td>\n",
       "    </tr>\n",
       "    <tr>\n",
       "      <th>1098-TDVUQ</th>\n",
       "      <td>2020-01-01</td>\n",
       "      <td>No</td>\n",
       "      <td>Month-to-month</td>\n",
       "      <td>Yes</td>\n",
       "      <td>Bank transfer (automatic)</td>\n",
       "      <td>19.25</td>\n",
       "      <td>19.25</td>\n",
       "    </tr>\n",
       "    <tr>\n",
       "      <th>7302-ZHMHP</th>\n",
       "      <td>2020-01-01</td>\n",
       "      <td>No</td>\n",
       "      <td>Month-to-month</td>\n",
       "      <td>No</td>\n",
       "      <td>Mailed check</td>\n",
       "      <td>19.15</td>\n",
       "      <td>19.15</td>\n",
       "    </tr>\n",
       "    <tr>\n",
       "      <th>4800-VHZKI</th>\n",
       "      <td>2019-12-01</td>\n",
       "      <td>2020-01-01 00:00:00</td>\n",
       "      <td>Month-to-month</td>\n",
       "      <td>Yes</td>\n",
       "      <td>Mailed check</td>\n",
       "      <td>19.90</td>\n",
       "      <td>19.90</td>\n",
       "    </tr>\n",
       "  </tbody>\n",
       "</table>\n",
       "</div>"
      ],
      "text/plain": [
       "            BeginDate              EndDate            Type PaperlessBilling  \\\n",
       "customerID                                                                    \n",
       "3679-XASPY 2020-01-01                   No  Month-to-month               No   \n",
       "3930-ZGWVE 2020-01-01                   No  Month-to-month               No   \n",
       "1098-TDVUQ 2020-01-01                   No  Month-to-month              Yes   \n",
       "7302-ZHMHP 2020-01-01                   No  Month-to-month               No   \n",
       "4800-VHZKI 2019-12-01  2020-01-01 00:00:00  Month-to-month              Yes   \n",
       "\n",
       "                        PaymentMethod  MonthlyCharges  TotalCharges  \n",
       "customerID                                                           \n",
       "3679-XASPY           Electronic check           19.45         19.45  \n",
       "3930-ZGWVE               Mailed check           19.75         19.75  \n",
       "1098-TDVUQ  Bank transfer (automatic)           19.25         19.25  \n",
       "7302-ZHMHP               Mailed check           19.15         19.15  \n",
       "4800-VHZKI               Mailed check           19.90         19.90  "
      ]
     },
     "execution_count": 16,
     "metadata": {},
     "output_type": "execute_result"
    }
   ],
   "source": [
    "contract[contract['TotalCharges'] < 20].head()"
   ]
  },
  {
   "cell_type": "code",
   "execution_count": 17,
   "metadata": {},
   "outputs": [
    {
     "data": {
      "text/html": [
       "<div>\n",
       "<style scoped>\n",
       "    .dataframe tbody tr th:only-of-type {\n",
       "        vertical-align: middle;\n",
       "    }\n",
       "\n",
       "    .dataframe tbody tr th {\n",
       "        vertical-align: top;\n",
       "    }\n",
       "\n",
       "    .dataframe thead th {\n",
       "        text-align: right;\n",
       "    }\n",
       "</style>\n",
       "<table border=\"1\" class=\"dataframe\">\n",
       "  <thead>\n",
       "    <tr style=\"text-align: right;\">\n",
       "      <th></th>\n",
       "      <th>BeginDate</th>\n",
       "      <th>EndDate</th>\n",
       "      <th>Type</th>\n",
       "      <th>PaperlessBilling</th>\n",
       "      <th>PaymentMethod</th>\n",
       "      <th>MonthlyCharges</th>\n",
       "      <th>TotalCharges</th>\n",
       "    </tr>\n",
       "    <tr>\n",
       "      <th>customerID</th>\n",
       "      <th></th>\n",
       "      <th></th>\n",
       "      <th></th>\n",
       "      <th></th>\n",
       "      <th></th>\n",
       "      <th></th>\n",
       "      <th></th>\n",
       "    </tr>\n",
       "  </thead>\n",
       "  <tbody>\n",
       "    <tr>\n",
       "      <th>7590-VHVEG</th>\n",
       "      <td>2020-01-01</td>\n",
       "      <td>No</td>\n",
       "      <td>Month-to-month</td>\n",
       "      <td>Yes</td>\n",
       "      <td>Electronic check</td>\n",
       "      <td>29.85</td>\n",
       "      <td>29.85</td>\n",
       "    </tr>\n",
       "    <tr>\n",
       "      <th>8779-QRDMV</th>\n",
       "      <td>2019-11-01</td>\n",
       "      <td>2019-12-01 00:00:00</td>\n",
       "      <td>Month-to-month</td>\n",
       "      <td>Yes</td>\n",
       "      <td>Electronic check</td>\n",
       "      <td>39.65</td>\n",
       "      <td>39.65</td>\n",
       "    </tr>\n",
       "    <tr>\n",
       "      <th>1066-JKSGK</th>\n",
       "      <td>2019-11-01</td>\n",
       "      <td>2019-12-01 00:00:00</td>\n",
       "      <td>Month-to-month</td>\n",
       "      <td>No</td>\n",
       "      <td>Mailed check</td>\n",
       "      <td>20.15</td>\n",
       "      <td>20.15</td>\n",
       "    </tr>\n",
       "    <tr>\n",
       "      <th>8665-UTDHZ</th>\n",
       "      <td>2019-11-01</td>\n",
       "      <td>2019-12-01 00:00:00</td>\n",
       "      <td>Month-to-month</td>\n",
       "      <td>No</td>\n",
       "      <td>Electronic check</td>\n",
       "      <td>30.20</td>\n",
       "      <td>30.20</td>\n",
       "    </tr>\n",
       "    <tr>\n",
       "      <th>7310-EGVHZ</th>\n",
       "      <td>2020-01-01</td>\n",
       "      <td>No</td>\n",
       "      <td>Month-to-month</td>\n",
       "      <td>No</td>\n",
       "      <td>Bank transfer (automatic)</td>\n",
       "      <td>20.20</td>\n",
       "      <td>20.20</td>\n",
       "    </tr>\n",
       "    <tr>\n",
       "      <th>...</th>\n",
       "      <td>...</td>\n",
       "      <td>...</td>\n",
       "      <td>...</td>\n",
       "      <td>...</td>\n",
       "      <td>...</td>\n",
       "      <td>...</td>\n",
       "      <td>...</td>\n",
       "    </tr>\n",
       "    <tr>\n",
       "      <th>5351-QESIO</th>\n",
       "      <td>2020-01-01</td>\n",
       "      <td>No</td>\n",
       "      <td>Month-to-month</td>\n",
       "      <td>No</td>\n",
       "      <td>Mailed check</td>\n",
       "      <td>24.20</td>\n",
       "      <td>24.20</td>\n",
       "    </tr>\n",
       "    <tr>\n",
       "      <th>0723-DRCLG</th>\n",
       "      <td>2019-11-01</td>\n",
       "      <td>2019-12-01 00:00:00</td>\n",
       "      <td>Month-to-month</td>\n",
       "      <td>Yes</td>\n",
       "      <td>Electronic check</td>\n",
       "      <td>74.45</td>\n",
       "      <td>74.45</td>\n",
       "    </tr>\n",
       "    <tr>\n",
       "      <th>1471-GIQKQ</th>\n",
       "      <td>2020-01-01</td>\n",
       "      <td>No</td>\n",
       "      <td>Month-to-month</td>\n",
       "      <td>No</td>\n",
       "      <td>Electronic check</td>\n",
       "      <td>49.95</td>\n",
       "      <td>49.95</td>\n",
       "    </tr>\n",
       "    <tr>\n",
       "      <th>1122-JWTJW</th>\n",
       "      <td>2019-10-01</td>\n",
       "      <td>2019-11-01 00:00:00</td>\n",
       "      <td>Month-to-month</td>\n",
       "      <td>Yes</td>\n",
       "      <td>Mailed check</td>\n",
       "      <td>70.65</td>\n",
       "      <td>70.65</td>\n",
       "    </tr>\n",
       "    <tr>\n",
       "      <th>6894-LFHLY</th>\n",
       "      <td>2019-10-01</td>\n",
       "      <td>2019-11-01 00:00:00</td>\n",
       "      <td>Month-to-month</td>\n",
       "      <td>Yes</td>\n",
       "      <td>Electronic check</td>\n",
       "      <td>75.75</td>\n",
       "      <td>75.75</td>\n",
       "    </tr>\n",
       "  </tbody>\n",
       "</table>\n",
       "<p>613 rows × 7 columns</p>\n",
       "</div>"
      ],
      "text/plain": [
       "            BeginDate              EndDate            Type PaperlessBilling  \\\n",
       "customerID                                                                    \n",
       "7590-VHVEG 2020-01-01                   No  Month-to-month              Yes   \n",
       "8779-QRDMV 2019-11-01  2019-12-01 00:00:00  Month-to-month              Yes   \n",
       "1066-JKSGK 2019-11-01  2019-12-01 00:00:00  Month-to-month               No   \n",
       "8665-UTDHZ 2019-11-01  2019-12-01 00:00:00  Month-to-month               No   \n",
       "7310-EGVHZ 2020-01-01                   No  Month-to-month               No   \n",
       "...               ...                  ...             ...              ...   \n",
       "5351-QESIO 2020-01-01                   No  Month-to-month               No   \n",
       "0723-DRCLG 2019-11-01  2019-12-01 00:00:00  Month-to-month              Yes   \n",
       "1471-GIQKQ 2020-01-01                   No  Month-to-month               No   \n",
       "1122-JWTJW 2019-10-01  2019-11-01 00:00:00  Month-to-month              Yes   \n",
       "6894-LFHLY 2019-10-01  2019-11-01 00:00:00  Month-to-month              Yes   \n",
       "\n",
       "                        PaymentMethod  MonthlyCharges  TotalCharges  \n",
       "customerID                                                           \n",
       "7590-VHVEG           Electronic check           29.85         29.85  \n",
       "8779-QRDMV           Electronic check           39.65         39.65  \n",
       "1066-JKSGK               Mailed check           20.15         20.15  \n",
       "8665-UTDHZ           Electronic check           30.20         30.20  \n",
       "7310-EGVHZ  Bank transfer (automatic)           20.20         20.20  \n",
       "...                               ...             ...           ...  \n",
       "5351-QESIO               Mailed check           24.20         24.20  \n",
       "0723-DRCLG           Electronic check           74.45         74.45  \n",
       "1471-GIQKQ           Electronic check           49.95         49.95  \n",
       "1122-JWTJW               Mailed check           70.65         70.65  \n",
       "6894-LFHLY           Electronic check           75.75         75.75  \n",
       "\n",
       "[613 rows x 7 columns]"
      ]
     },
     "execution_count": 17,
     "metadata": {},
     "output_type": "execute_result"
    }
   ],
   "source": [
    "contract[contract['MonthlyCharges'] == contract['TotalCharges']]"
   ]
  },
  {
   "cell_type": "markdown",
   "metadata": {},
   "source": [
    "Анализ предобработанной таблицы показывает:\n",
    "- пропуски в признаке EndDate указывают не только на вероятность того, что потребители пользуются услугами на 01.02.2020, но и то, что услугу покупали единожды и больше не пользовались. Часть данных в признаке EndDate имеет подтверждение - услуги были предоставлены на месяц, другая часть данных имеет пропуски. \n",
    "- 613 человек не пользовались услугами оператора больше месяца. У половины из них дата окончания пользования услугами неопределена.\n",
    "- 73% данных признака EndDate отсутствуют. Слишком много, удалять нельзя - необходимо обрабатывать.\n",
    "- 0.15% данных признака TotalCharges отсутствуют. Это мало, можно удалить данные."
   ]
  },
  {
   "cell_type": "markdown",
   "metadata": {},
   "source": [
    "Рассмотрю таблицу internet"
   ]
  },
  {
   "cell_type": "code",
   "execution_count": 18,
   "metadata": {},
   "outputs": [
    {
     "data": {
      "text/html": [
       "<div>\n",
       "<style scoped>\n",
       "    .dataframe tbody tr th:only-of-type {\n",
       "        vertical-align: middle;\n",
       "    }\n",
       "\n",
       "    .dataframe tbody tr th {\n",
       "        vertical-align: top;\n",
       "    }\n",
       "\n",
       "    .dataframe thead th {\n",
       "        text-align: right;\n",
       "    }\n",
       "</style>\n",
       "<table border=\"1\" class=\"dataframe\">\n",
       "  <thead>\n",
       "    <tr style=\"text-align: right;\">\n",
       "      <th></th>\n",
       "      <th>InternetService</th>\n",
       "      <th>OnlineSecurity</th>\n",
       "      <th>OnlineBackup</th>\n",
       "      <th>DeviceProtection</th>\n",
       "      <th>TechSupport</th>\n",
       "      <th>StreamingTV</th>\n",
       "      <th>StreamingMovies</th>\n",
       "    </tr>\n",
       "    <tr>\n",
       "      <th>customerID</th>\n",
       "      <th></th>\n",
       "      <th></th>\n",
       "      <th></th>\n",
       "      <th></th>\n",
       "      <th></th>\n",
       "      <th></th>\n",
       "      <th></th>\n",
       "    </tr>\n",
       "  </thead>\n",
       "  <tbody>\n",
       "    <tr>\n",
       "      <th>4626-OZDTJ</th>\n",
       "      <td>DSL</td>\n",
       "      <td>No</td>\n",
       "      <td>Yes</td>\n",
       "      <td>No</td>\n",
       "      <td>Yes</td>\n",
       "      <td>Yes</td>\n",
       "      <td>Yes</td>\n",
       "    </tr>\n",
       "    <tr>\n",
       "      <th>3716-LRGXK</th>\n",
       "      <td>Fiber optic</td>\n",
       "      <td>No</td>\n",
       "      <td>No</td>\n",
       "      <td>Yes</td>\n",
       "      <td>No</td>\n",
       "      <td>Yes</td>\n",
       "      <td>Yes</td>\n",
       "    </tr>\n",
       "    <tr>\n",
       "      <th>9728-FTTVZ</th>\n",
       "      <td>Fiber optic</td>\n",
       "      <td>No</td>\n",
       "      <td>No</td>\n",
       "      <td>No</td>\n",
       "      <td>No</td>\n",
       "      <td>No</td>\n",
       "      <td>No</td>\n",
       "    </tr>\n",
       "    <tr>\n",
       "      <th>3923-CSIHK</th>\n",
       "      <td>Fiber optic</td>\n",
       "      <td>No</td>\n",
       "      <td>No</td>\n",
       "      <td>No</td>\n",
       "      <td>No</td>\n",
       "      <td>No</td>\n",
       "      <td>No</td>\n",
       "    </tr>\n",
       "    <tr>\n",
       "      <th>6319-IEJWJ</th>\n",
       "      <td>Fiber optic</td>\n",
       "      <td>No</td>\n",
       "      <td>No</td>\n",
       "      <td>No</td>\n",
       "      <td>No</td>\n",
       "      <td>Yes</td>\n",
       "      <td>Yes</td>\n",
       "    </tr>\n",
       "    <tr>\n",
       "      <th>8328-SKJNO</th>\n",
       "      <td>DSL</td>\n",
       "      <td>Yes</td>\n",
       "      <td>Yes</td>\n",
       "      <td>No</td>\n",
       "      <td>Yes</td>\n",
       "      <td>No</td>\n",
       "      <td>No</td>\n",
       "    </tr>\n",
       "    <tr>\n",
       "      <th>1010-DIAUQ</th>\n",
       "      <td>Fiber optic</td>\n",
       "      <td>No</td>\n",
       "      <td>No</td>\n",
       "      <td>Yes</td>\n",
       "      <td>No</td>\n",
       "      <td>Yes</td>\n",
       "      <td>Yes</td>\n",
       "    </tr>\n",
       "    <tr>\n",
       "      <th>3884-UEBXB</th>\n",
       "      <td>DSL</td>\n",
       "      <td>Yes</td>\n",
       "      <td>Yes</td>\n",
       "      <td>No</td>\n",
       "      <td>No</td>\n",
       "      <td>No</td>\n",
       "      <td>No</td>\n",
       "    </tr>\n",
       "    <tr>\n",
       "      <th>8221-EQDGL</th>\n",
       "      <td>DSL</td>\n",
       "      <td>Yes</td>\n",
       "      <td>Yes</td>\n",
       "      <td>Yes</td>\n",
       "      <td>No</td>\n",
       "      <td>No</td>\n",
       "      <td>No</td>\n",
       "    </tr>\n",
       "    <tr>\n",
       "      <th>8849-GYOKR</th>\n",
       "      <td>Fiber optic</td>\n",
       "      <td>Yes</td>\n",
       "      <td>Yes</td>\n",
       "      <td>No</td>\n",
       "      <td>No</td>\n",
       "      <td>Yes</td>\n",
       "      <td>Yes</td>\n",
       "    </tr>\n",
       "  </tbody>\n",
       "</table>\n",
       "</div>"
      ],
      "text/plain": [
       "           InternetService OnlineSecurity OnlineBackup DeviceProtection  \\\n",
       "customerID                                                                \n",
       "4626-OZDTJ             DSL             No          Yes               No   \n",
       "3716-LRGXK     Fiber optic             No           No              Yes   \n",
       "9728-FTTVZ     Fiber optic             No           No               No   \n",
       "3923-CSIHK     Fiber optic             No           No               No   \n",
       "6319-IEJWJ     Fiber optic             No           No               No   \n",
       "8328-SKJNO             DSL            Yes          Yes               No   \n",
       "1010-DIAUQ     Fiber optic             No           No              Yes   \n",
       "3884-UEBXB             DSL            Yes          Yes               No   \n",
       "8221-EQDGL             DSL            Yes          Yes              Yes   \n",
       "8849-GYOKR     Fiber optic            Yes          Yes               No   \n",
       "\n",
       "           TechSupport StreamingTV StreamingMovies  \n",
       "customerID                                          \n",
       "4626-OZDTJ         Yes         Yes             Yes  \n",
       "3716-LRGXK          No         Yes             Yes  \n",
       "9728-FTTVZ          No          No              No  \n",
       "3923-CSIHK          No          No              No  \n",
       "6319-IEJWJ          No         Yes             Yes  \n",
       "8328-SKJNO         Yes          No              No  \n",
       "1010-DIAUQ          No         Yes             Yes  \n",
       "3884-UEBXB          No          No              No  \n",
       "8221-EQDGL          No          No              No  \n",
       "8849-GYOKR          No         Yes             Yes  "
      ]
     },
     "execution_count": 18,
     "metadata": {},
     "output_type": "execute_result"
    }
   ],
   "source": [
    "try:\n",
    "    internet = pd.read_csv('datasets/final_provider/internet.csv', index_col=[0])\n",
    "except:\n",
    "    internet = pd.read_csv('/datasets/final_provider/internet.csv', index_col=[0])\n",
    "internet.sample(10)"
   ]
  },
  {
   "cell_type": "code",
   "execution_count": 19,
   "metadata": {},
   "outputs": [
    {
     "data": {
      "text/html": [
       "<div>\n",
       "<style scoped>\n",
       "    .dataframe tbody tr th:only-of-type {\n",
       "        vertical-align: middle;\n",
       "    }\n",
       "\n",
       "    .dataframe tbody tr th {\n",
       "        vertical-align: top;\n",
       "    }\n",
       "\n",
       "    .dataframe thead th {\n",
       "        text-align: right;\n",
       "    }\n",
       "</style>\n",
       "<table border=\"1\" class=\"dataframe\">\n",
       "  <thead>\n",
       "    <tr style=\"text-align: right;\">\n",
       "      <th></th>\n",
       "      <th>NaN_part</th>\n",
       "      <th>empty_counts</th>\n",
       "      <th>space_counts</th>\n",
       "      <th>0_counts</th>\n",
       "      <th>unique_counts</th>\n",
       "      <th>min_value</th>\n",
       "      <th>max_value</th>\n",
       "      <th>dupl_sum</th>\n",
       "      <th>dtypes</th>\n",
       "      <th>length</th>\n",
       "    </tr>\n",
       "  </thead>\n",
       "  <tbody>\n",
       "    <tr>\n",
       "      <th>InternetService</th>\n",
       "      <td>0</td>\n",
       "      <td>0</td>\n",
       "      <td>0</td>\n",
       "      <td>0</td>\n",
       "      <td>2</td>\n",
       "      <td>DSL</td>\n",
       "      <td>Fiber optic</td>\n",
       "      <td>5515</td>\n",
       "      <td>object</td>\n",
       "      <td>5517</td>\n",
       "    </tr>\n",
       "    <tr>\n",
       "      <th>OnlineSecurity</th>\n",
       "      <td>0</td>\n",
       "      <td>0</td>\n",
       "      <td>0</td>\n",
       "      <td>0</td>\n",
       "      <td>2</td>\n",
       "      <td>No</td>\n",
       "      <td>Yes</td>\n",
       "      <td>5515</td>\n",
       "      <td>object</td>\n",
       "      <td>5517</td>\n",
       "    </tr>\n",
       "    <tr>\n",
       "      <th>OnlineBackup</th>\n",
       "      <td>0</td>\n",
       "      <td>0</td>\n",
       "      <td>0</td>\n",
       "      <td>0</td>\n",
       "      <td>2</td>\n",
       "      <td>No</td>\n",
       "      <td>Yes</td>\n",
       "      <td>5515</td>\n",
       "      <td>object</td>\n",
       "      <td>5517</td>\n",
       "    </tr>\n",
       "    <tr>\n",
       "      <th>DeviceProtection</th>\n",
       "      <td>0</td>\n",
       "      <td>0</td>\n",
       "      <td>0</td>\n",
       "      <td>0</td>\n",
       "      <td>2</td>\n",
       "      <td>No</td>\n",
       "      <td>Yes</td>\n",
       "      <td>5515</td>\n",
       "      <td>object</td>\n",
       "      <td>5517</td>\n",
       "    </tr>\n",
       "    <tr>\n",
       "      <th>TechSupport</th>\n",
       "      <td>0</td>\n",
       "      <td>0</td>\n",
       "      <td>0</td>\n",
       "      <td>0</td>\n",
       "      <td>2</td>\n",
       "      <td>No</td>\n",
       "      <td>Yes</td>\n",
       "      <td>5515</td>\n",
       "      <td>object</td>\n",
       "      <td>5517</td>\n",
       "    </tr>\n",
       "    <tr>\n",
       "      <th>StreamingTV</th>\n",
       "      <td>0</td>\n",
       "      <td>0</td>\n",
       "      <td>0</td>\n",
       "      <td>0</td>\n",
       "      <td>2</td>\n",
       "      <td>No</td>\n",
       "      <td>Yes</td>\n",
       "      <td>5515</td>\n",
       "      <td>object</td>\n",
       "      <td>5517</td>\n",
       "    </tr>\n",
       "    <tr>\n",
       "      <th>StreamingMovies</th>\n",
       "      <td>0</td>\n",
       "      <td>0</td>\n",
       "      <td>0</td>\n",
       "      <td>0</td>\n",
       "      <td>2</td>\n",
       "      <td>No</td>\n",
       "      <td>Yes</td>\n",
       "      <td>5515</td>\n",
       "      <td>object</td>\n",
       "      <td>5517</td>\n",
       "    </tr>\n",
       "  </tbody>\n",
       "</table>\n",
       "</div>"
      ],
      "text/plain": [
       "                 NaN_part empty_counts space_counts 0_counts unique_counts  \\\n",
       "InternetService         0            0            0        0             2   \n",
       "OnlineSecurity          0            0            0        0             2   \n",
       "OnlineBackup            0            0            0        0             2   \n",
       "DeviceProtection        0            0            0        0             2   \n",
       "TechSupport             0            0            0        0             2   \n",
       "StreamingTV             0            0            0        0             2   \n",
       "StreamingMovies         0            0            0        0             2   \n",
       "\n",
       "                 min_value    max_value dupl_sum  dtypes length  \n",
       "InternetService        DSL  Fiber optic     5515  object   5517  \n",
       "OnlineSecurity          No          Yes     5515  object   5517  \n",
       "OnlineBackup            No          Yes     5515  object   5517  \n",
       "DeviceProtection        No          Yes     5515  object   5517  \n",
       "TechSupport             No          Yes     5515  object   5517  \n",
       "StreamingTV             No          Yes     5515  object   5517  \n",
       "StreamingMovies         No          Yes     5515  object   5517  "
      ]
     },
     "execution_count": 19,
     "metadata": {},
     "output_type": "execute_result"
    }
   ],
   "source": [
    "missing_internet = missing_values(internet)\n",
    "missing_internet"
   ]
  },
  {
   "cell_type": "markdown",
   "metadata": {},
   "source": [
    "Анализ таблицы internet приводит к следующим выводам:\n",
    "- данных в таблице internet меньше чем данных в таблице contract\n",
    "- все признаки бинарны\n",
    "- все признаки типа object\n",
    "- в таблице 5517 наблюдений и 8 признаков"
   ]
  },
  {
   "cell_type": "markdown",
   "metadata": {},
   "source": [
    "Рассмотрю таблицу personal"
   ]
  },
  {
   "cell_type": "code",
   "execution_count": 20,
   "metadata": {},
   "outputs": [
    {
     "data": {
      "text/html": [
       "<div>\n",
       "<style scoped>\n",
       "    .dataframe tbody tr th:only-of-type {\n",
       "        vertical-align: middle;\n",
       "    }\n",
       "\n",
       "    .dataframe tbody tr th {\n",
       "        vertical-align: top;\n",
       "    }\n",
       "\n",
       "    .dataframe thead th {\n",
       "        text-align: right;\n",
       "    }\n",
       "</style>\n",
       "<table border=\"1\" class=\"dataframe\">\n",
       "  <thead>\n",
       "    <tr style=\"text-align: right;\">\n",
       "      <th></th>\n",
       "      <th>gender</th>\n",
       "      <th>SeniorCitizen</th>\n",
       "      <th>Partner</th>\n",
       "      <th>Dependents</th>\n",
       "    </tr>\n",
       "    <tr>\n",
       "      <th>customerID</th>\n",
       "      <th></th>\n",
       "      <th></th>\n",
       "      <th></th>\n",
       "      <th></th>\n",
       "    </tr>\n",
       "  </thead>\n",
       "  <tbody>\n",
       "    <tr>\n",
       "      <th>9848-JQJTX</th>\n",
       "      <td>Male</td>\n",
       "      <td>0</td>\n",
       "      <td>No</td>\n",
       "      <td>No</td>\n",
       "    </tr>\n",
       "    <tr>\n",
       "      <th>1036-GUDCL</th>\n",
       "      <td>Male</td>\n",
       "      <td>0</td>\n",
       "      <td>Yes</td>\n",
       "      <td>Yes</td>\n",
       "    </tr>\n",
       "    <tr>\n",
       "      <th>9430-NKQLY</th>\n",
       "      <td>Male</td>\n",
       "      <td>0</td>\n",
       "      <td>Yes</td>\n",
       "      <td>Yes</td>\n",
       "    </tr>\n",
       "    <tr>\n",
       "      <th>7694-VLBWQ</th>\n",
       "      <td>Male</td>\n",
       "      <td>0</td>\n",
       "      <td>Yes</td>\n",
       "      <td>No</td>\n",
       "    </tr>\n",
       "    <tr>\n",
       "      <th>4293-ETKAP</th>\n",
       "      <td>Female</td>\n",
       "      <td>0</td>\n",
       "      <td>Yes</td>\n",
       "      <td>Yes</td>\n",
       "    </tr>\n",
       "    <tr>\n",
       "      <th>4976-LNFVV</th>\n",
       "      <td>Male</td>\n",
       "      <td>1</td>\n",
       "      <td>Yes</td>\n",
       "      <td>No</td>\n",
       "    </tr>\n",
       "    <tr>\n",
       "      <th>7096-UCLNH</th>\n",
       "      <td>Male</td>\n",
       "      <td>0</td>\n",
       "      <td>No</td>\n",
       "      <td>No</td>\n",
       "    </tr>\n",
       "    <tr>\n",
       "      <th>0404-SWRVG</th>\n",
       "      <td>Male</td>\n",
       "      <td>0</td>\n",
       "      <td>No</td>\n",
       "      <td>No</td>\n",
       "    </tr>\n",
       "    <tr>\n",
       "      <th>4062-HBMOS</th>\n",
       "      <td>Male</td>\n",
       "      <td>0</td>\n",
       "      <td>No</td>\n",
       "      <td>No</td>\n",
       "    </tr>\n",
       "    <tr>\n",
       "      <th>0285-INHLN</th>\n",
       "      <td>Male</td>\n",
       "      <td>0</td>\n",
       "      <td>Yes</td>\n",
       "      <td>Yes</td>\n",
       "    </tr>\n",
       "  </tbody>\n",
       "</table>\n",
       "</div>"
      ],
      "text/plain": [
       "            gender  SeniorCitizen Partner Dependents\n",
       "customerID                                          \n",
       "9848-JQJTX    Male              0      No         No\n",
       "1036-GUDCL    Male              0     Yes        Yes\n",
       "9430-NKQLY    Male              0     Yes        Yes\n",
       "7694-VLBWQ    Male              0     Yes         No\n",
       "4293-ETKAP  Female              0     Yes        Yes\n",
       "4976-LNFVV    Male              1     Yes         No\n",
       "7096-UCLNH    Male              0      No         No\n",
       "0404-SWRVG    Male              0      No         No\n",
       "4062-HBMOS    Male              0      No         No\n",
       "0285-INHLN    Male              0     Yes        Yes"
      ]
     },
     "execution_count": 20,
     "metadata": {},
     "output_type": "execute_result"
    }
   ],
   "source": [
    "try:\n",
    "    personal = pd.read_csv('datasets/final_provider/personal.csv', index_col=[0])\n",
    "except:\n",
    "    personal = pd.read_csv('/datasets/final_provider/personal.csv', index_col=[0])\n",
    "personal.sample(10)"
   ]
  },
  {
   "cell_type": "code",
   "execution_count": 21,
   "metadata": {},
   "outputs": [
    {
     "data": {
      "text/html": [
       "<div>\n",
       "<style scoped>\n",
       "    .dataframe tbody tr th:only-of-type {\n",
       "        vertical-align: middle;\n",
       "    }\n",
       "\n",
       "    .dataframe tbody tr th {\n",
       "        vertical-align: top;\n",
       "    }\n",
       "\n",
       "    .dataframe thead th {\n",
       "        text-align: right;\n",
       "    }\n",
       "</style>\n",
       "<table border=\"1\" class=\"dataframe\">\n",
       "  <thead>\n",
       "    <tr style=\"text-align: right;\">\n",
       "      <th></th>\n",
       "      <th>NaN_part</th>\n",
       "      <th>empty_counts</th>\n",
       "      <th>space_counts</th>\n",
       "      <th>0_counts</th>\n",
       "      <th>unique_counts</th>\n",
       "      <th>min_value</th>\n",
       "      <th>max_value</th>\n",
       "      <th>dupl_sum</th>\n",
       "      <th>dtypes</th>\n",
       "      <th>length</th>\n",
       "    </tr>\n",
       "  </thead>\n",
       "  <tbody>\n",
       "    <tr>\n",
       "      <th>gender</th>\n",
       "      <td>0</td>\n",
       "      <td>0</td>\n",
       "      <td>0</td>\n",
       "      <td>0</td>\n",
       "      <td>2</td>\n",
       "      <td>Female</td>\n",
       "      <td>Male</td>\n",
       "      <td>7041</td>\n",
       "      <td>object</td>\n",
       "      <td>7043</td>\n",
       "    </tr>\n",
       "    <tr>\n",
       "      <th>SeniorCitizen</th>\n",
       "      <td>0</td>\n",
       "      <td>0</td>\n",
       "      <td>0</td>\n",
       "      <td>5901</td>\n",
       "      <td>2</td>\n",
       "      <td>0</td>\n",
       "      <td>1</td>\n",
       "      <td>7041</td>\n",
       "      <td>int64</td>\n",
       "      <td>7043</td>\n",
       "    </tr>\n",
       "    <tr>\n",
       "      <th>Partner</th>\n",
       "      <td>0</td>\n",
       "      <td>0</td>\n",
       "      <td>0</td>\n",
       "      <td>0</td>\n",
       "      <td>2</td>\n",
       "      <td>No</td>\n",
       "      <td>Yes</td>\n",
       "      <td>7041</td>\n",
       "      <td>object</td>\n",
       "      <td>7043</td>\n",
       "    </tr>\n",
       "    <tr>\n",
       "      <th>Dependents</th>\n",
       "      <td>0</td>\n",
       "      <td>0</td>\n",
       "      <td>0</td>\n",
       "      <td>0</td>\n",
       "      <td>2</td>\n",
       "      <td>No</td>\n",
       "      <td>Yes</td>\n",
       "      <td>7041</td>\n",
       "      <td>object</td>\n",
       "      <td>7043</td>\n",
       "    </tr>\n",
       "  </tbody>\n",
       "</table>\n",
       "</div>"
      ],
      "text/plain": [
       "              NaN_part empty_counts space_counts 0_counts unique_counts  \\\n",
       "gender               0            0            0        0             2   \n",
       "SeniorCitizen        0            0            0     5901             2   \n",
       "Partner              0            0            0        0             2   \n",
       "Dependents           0            0            0        0             2   \n",
       "\n",
       "              min_value max_value dupl_sum  dtypes length  \n",
       "gender           Female      Male     7041  object   7043  \n",
       "SeniorCitizen         0         1     7041   int64   7043  \n",
       "Partner              No       Yes     7041  object   7043  \n",
       "Dependents           No       Yes     7041  object   7043  "
      ]
     },
     "execution_count": 21,
     "metadata": {},
     "output_type": "execute_result"
    }
   ],
   "source": [
    "missing_personal = missing_values(personal)\n",
    "missing_personal"
   ]
  },
  {
   "cell_type": "markdown",
   "metadata": {},
   "source": [
    "Анализ данных в таблице peronal:\n",
    "- все признаки бинарные, 1 типа integer, остильные типа object\n",
    "- количество наблюдений соответствуют количеству наблюдений в таблице contract\n",
    "- в таблице 7043 наблюдений и 5 признаков"
   ]
  },
  {
   "cell_type": "markdown",
   "metadata": {},
   "source": [
    "Рассмотрю таблицу phone"
   ]
  },
  {
   "cell_type": "code",
   "execution_count": 22,
   "metadata": {},
   "outputs": [
    {
     "data": {
      "text/html": [
       "<div>\n",
       "<style scoped>\n",
       "    .dataframe tbody tr th:only-of-type {\n",
       "        vertical-align: middle;\n",
       "    }\n",
       "\n",
       "    .dataframe tbody tr th {\n",
       "        vertical-align: top;\n",
       "    }\n",
       "\n",
       "    .dataframe thead th {\n",
       "        text-align: right;\n",
       "    }\n",
       "</style>\n",
       "<table border=\"1\" class=\"dataframe\">\n",
       "  <thead>\n",
       "    <tr style=\"text-align: right;\">\n",
       "      <th></th>\n",
       "      <th>MultipleLines</th>\n",
       "    </tr>\n",
       "    <tr>\n",
       "      <th>customerID</th>\n",
       "      <th></th>\n",
       "    </tr>\n",
       "  </thead>\n",
       "  <tbody>\n",
       "    <tr>\n",
       "      <th>7577-SWIFR</th>\n",
       "      <td>No</td>\n",
       "    </tr>\n",
       "    <tr>\n",
       "      <th>0269-XFESX</th>\n",
       "      <td>Yes</td>\n",
       "    </tr>\n",
       "    <tr>\n",
       "      <th>2931-VUVJN</th>\n",
       "      <td>Yes</td>\n",
       "    </tr>\n",
       "    <tr>\n",
       "      <th>5840-NVDCG</th>\n",
       "      <td>No</td>\n",
       "    </tr>\n",
       "    <tr>\n",
       "      <th>0708-SJDIS</th>\n",
       "      <td>Yes</td>\n",
       "    </tr>\n",
       "    <tr>\n",
       "      <th>5242-UOWHD</th>\n",
       "      <td>No</td>\n",
       "    </tr>\n",
       "    <tr>\n",
       "      <th>5647-URDKA</th>\n",
       "      <td>No</td>\n",
       "    </tr>\n",
       "    <tr>\n",
       "      <th>6000-UKLWI</th>\n",
       "      <td>No</td>\n",
       "    </tr>\n",
       "    <tr>\n",
       "      <th>8620-RJPZN</th>\n",
       "      <td>No</td>\n",
       "    </tr>\n",
       "    <tr>\n",
       "      <th>2541-YGPKE</th>\n",
       "      <td>No</td>\n",
       "    </tr>\n",
       "  </tbody>\n",
       "</table>\n",
       "</div>"
      ],
      "text/plain": [
       "           MultipleLines\n",
       "customerID              \n",
       "7577-SWIFR            No\n",
       "0269-XFESX           Yes\n",
       "2931-VUVJN           Yes\n",
       "5840-NVDCG            No\n",
       "0708-SJDIS           Yes\n",
       "5242-UOWHD            No\n",
       "5647-URDKA            No\n",
       "6000-UKLWI            No\n",
       "8620-RJPZN            No\n",
       "2541-YGPKE            No"
      ]
     },
     "execution_count": 22,
     "metadata": {},
     "output_type": "execute_result"
    }
   ],
   "source": [
    "try:\n",
    "    phone = pd.read_csv('datasets/final_provider/phone.csv', index_col=[0])\n",
    "except:\n",
    "    phone = pd.read_csv('/datasets/final_provider/phone.csv', index_col=[0])\n",
    "phone.sample(10)"
   ]
  },
  {
   "cell_type": "code",
   "execution_count": 23,
   "metadata": {},
   "outputs": [
    {
     "data": {
      "text/html": [
       "<div>\n",
       "<style scoped>\n",
       "    .dataframe tbody tr th:only-of-type {\n",
       "        vertical-align: middle;\n",
       "    }\n",
       "\n",
       "    .dataframe tbody tr th {\n",
       "        vertical-align: top;\n",
       "    }\n",
       "\n",
       "    .dataframe thead th {\n",
       "        text-align: right;\n",
       "    }\n",
       "</style>\n",
       "<table border=\"1\" class=\"dataframe\">\n",
       "  <thead>\n",
       "    <tr style=\"text-align: right;\">\n",
       "      <th></th>\n",
       "      <th>NaN_part</th>\n",
       "      <th>empty_counts</th>\n",
       "      <th>space_counts</th>\n",
       "      <th>0_counts</th>\n",
       "      <th>unique_counts</th>\n",
       "      <th>min_value</th>\n",
       "      <th>max_value</th>\n",
       "      <th>dupl_sum</th>\n",
       "      <th>dtypes</th>\n",
       "      <th>length</th>\n",
       "    </tr>\n",
       "  </thead>\n",
       "  <tbody>\n",
       "    <tr>\n",
       "      <th>MultipleLines</th>\n",
       "      <td>0</td>\n",
       "      <td>0</td>\n",
       "      <td>0</td>\n",
       "      <td>0</td>\n",
       "      <td>2</td>\n",
       "      <td>No</td>\n",
       "      <td>Yes</td>\n",
       "      <td>6359</td>\n",
       "      <td>object</td>\n",
       "      <td>6361</td>\n",
       "    </tr>\n",
       "  </tbody>\n",
       "</table>\n",
       "</div>"
      ],
      "text/plain": [
       "              NaN_part empty_counts space_counts 0_counts unique_counts  \\\n",
       "MultipleLines        0            0            0        0             2   \n",
       "\n",
       "              min_value max_value dupl_sum  dtypes length  \n",
       "MultipleLines        No       Yes     6359  object   6361  "
      ]
     },
     "execution_count": 23,
     "metadata": {},
     "output_type": "execute_result"
    }
   ],
   "source": [
    "missing_phone = missing_values(phone)\n",
    "missing_phone"
   ]
  },
  {
   "cell_type": "markdown",
   "metadata": {},
   "source": [
    "Анализ данных в таблице phone:\n",
    "- в таблице 6361 наблюдения и 2 признака\n",
    "- количество признаков не соответствует количеству признаков из таблицы contract, personal and internet"
   ]
  },
  {
   "cell_type": "markdown",
   "metadata": {},
   "source": [
    "В ходе анализа возникли следующие вопросы:\n",
    "- MonthlyCharges * month_count <> TotalCharges. Почему не всегда выполняется равенство?\n",
    "- что такое PaperlessBilling и ряд других признаков?\n",
    "- почему признак TotalCharges имеет пропуски?\n",
    "- почему признак EndDate имеет строчный данные? Говорит ли строка 'No' о том, что абонет пользуется связью на 01.02.2020 год или не пользовался связью больше месяца?\n",
    "- как обработать признак EndDate?\n",
    "- почему количество наблюдений в таблицах разное?\n",
    "- какой целевой признак - partner таблицы personal?"
   ]
  },
  {
   "cell_type": "markdown",
   "metadata": {},
   "source": [
    "План решения задачи:\n",
    "- обработать 73% данных признака EndDate и 0.15% данных признака TotalCharge\n",
    "- разобраться в признаках всех таблиц и выделить те, которые необходимы будут для машинного обучения\n",
    "- выбранные признаки объединить в 1 таблицу\n",
    "- определиться с целевым признаком, скорее всего это признак Partner таблицы personal\n",
    "- подготовить данные к машинному обучению: разбить на выборки, провести прямую кодировку и масштабирование данных\n",
    "- проверка на дисбаланс классов\n",
    "- проведение разных техник уменьшения влияния дисбаланса классов\n",
    "- проведение машинного обучения с разными алгоритмами бустинга и бэггинга\n",
    "- подбор параметров до значения метрики AUC-ROC >= 0.88"
   ]
  },
  {
   "cell_type": "markdown",
   "metadata": {},
   "source": [
    "## Предобработка данных"
   ]
  },
  {
   "cell_type": "code",
   "execution_count": 24,
   "metadata": {},
   "outputs": [
    {
     "data": {
      "text/html": [
       "<div>\n",
       "<style scoped>\n",
       "    .dataframe tbody tr th:only-of-type {\n",
       "        vertical-align: middle;\n",
       "    }\n",
       "\n",
       "    .dataframe tbody tr th {\n",
       "        vertical-align: top;\n",
       "    }\n",
       "\n",
       "    .dataframe thead th {\n",
       "        text-align: right;\n",
       "    }\n",
       "</style>\n",
       "<table border=\"1\" class=\"dataframe\">\n",
       "  <thead>\n",
       "    <tr style=\"text-align: right;\">\n",
       "      <th></th>\n",
       "      <th>BeginDate</th>\n",
       "      <th>EndDate</th>\n",
       "      <th>Type</th>\n",
       "      <th>PaperlessBilling</th>\n",
       "      <th>PaymentMethod</th>\n",
       "      <th>MonthlyCharges</th>\n",
       "      <th>TotalCharges</th>\n",
       "    </tr>\n",
       "    <tr>\n",
       "      <th>customerID</th>\n",
       "      <th></th>\n",
       "      <th></th>\n",
       "      <th></th>\n",
       "      <th></th>\n",
       "      <th></th>\n",
       "      <th></th>\n",
       "      <th></th>\n",
       "    </tr>\n",
       "  </thead>\n",
       "  <tbody>\n",
       "    <tr>\n",
       "      <th>7590-VHVEG</th>\n",
       "      <td>2020-01-01</td>\n",
       "      <td>No</td>\n",
       "      <td>Month-to-month</td>\n",
       "      <td>Yes</td>\n",
       "      <td>Electronic check</td>\n",
       "      <td>29.85</td>\n",
       "      <td>29.85</td>\n",
       "    </tr>\n",
       "    <tr>\n",
       "      <th>5575-GNVDE</th>\n",
       "      <td>2017-04-01</td>\n",
       "      <td>No</td>\n",
       "      <td>One year</td>\n",
       "      <td>No</td>\n",
       "      <td>Mailed check</td>\n",
       "      <td>56.95</td>\n",
       "      <td>1889.50</td>\n",
       "    </tr>\n",
       "    <tr>\n",
       "      <th>3668-QPYBK</th>\n",
       "      <td>2019-10-01</td>\n",
       "      <td>2019-12-01 00:00:00</td>\n",
       "      <td>Month-to-month</td>\n",
       "      <td>Yes</td>\n",
       "      <td>Mailed check</td>\n",
       "      <td>53.85</td>\n",
       "      <td>108.15</td>\n",
       "    </tr>\n",
       "    <tr>\n",
       "      <th>7795-CFOCW</th>\n",
       "      <td>2016-05-01</td>\n",
       "      <td>No</td>\n",
       "      <td>One year</td>\n",
       "      <td>No</td>\n",
       "      <td>Bank transfer (automatic)</td>\n",
       "      <td>42.30</td>\n",
       "      <td>1840.75</td>\n",
       "    </tr>\n",
       "    <tr>\n",
       "      <th>9237-HQITU</th>\n",
       "      <td>2019-09-01</td>\n",
       "      <td>2019-11-01 00:00:00</td>\n",
       "      <td>Month-to-month</td>\n",
       "      <td>Yes</td>\n",
       "      <td>Electronic check</td>\n",
       "      <td>70.70</td>\n",
       "      <td>151.65</td>\n",
       "    </tr>\n",
       "  </tbody>\n",
       "</table>\n",
       "</div>"
      ],
      "text/plain": [
       "            BeginDate              EndDate            Type PaperlessBilling  \\\n",
       "customerID                                                                    \n",
       "7590-VHVEG 2020-01-01                   No  Month-to-month              Yes   \n",
       "5575-GNVDE 2017-04-01                   No        One year               No   \n",
       "3668-QPYBK 2019-10-01  2019-12-01 00:00:00  Month-to-month              Yes   \n",
       "7795-CFOCW 2016-05-01                   No        One year               No   \n",
       "9237-HQITU 2019-09-01  2019-11-01 00:00:00  Month-to-month              Yes   \n",
       "\n",
       "                        PaymentMethod  MonthlyCharges  TotalCharges  \n",
       "customerID                                                           \n",
       "7590-VHVEG           Electronic check           29.85         29.85  \n",
       "5575-GNVDE               Mailed check           56.95       1889.50  \n",
       "3668-QPYBK               Mailed check           53.85        108.15  \n",
       "7795-CFOCW  Bank transfer (automatic)           42.30       1840.75  \n",
       "9237-HQITU           Electronic check           70.70        151.65  "
      ]
     },
     "execution_count": 24,
     "metadata": {},
     "output_type": "execute_result"
    }
   ],
   "source": [
    "contract.head()"
   ]
  },
  {
   "cell_type": "markdown",
   "metadata": {},
   "source": [
    "Добавлю новый признак - продолжительность пользования услугой и удалю признак BeginDate"
   ]
  },
  {
   "cell_type": "code",
   "execution_count": 25,
   "metadata": {},
   "outputs": [
    {
     "data": {
      "text/html": [
       "<div>\n",
       "<style scoped>\n",
       "    .dataframe tbody tr th:only-of-type {\n",
       "        vertical-align: middle;\n",
       "    }\n",
       "\n",
       "    .dataframe tbody tr th {\n",
       "        vertical-align: top;\n",
       "    }\n",
       "\n",
       "    .dataframe thead th {\n",
       "        text-align: right;\n",
       "    }\n",
       "</style>\n",
       "<table border=\"1\" class=\"dataframe\">\n",
       "  <thead>\n",
       "    <tr style=\"text-align: right;\">\n",
       "      <th></th>\n",
       "      <th>EndDate</th>\n",
       "      <th>Type</th>\n",
       "      <th>PaperlessBilling</th>\n",
       "      <th>PaymentMethod</th>\n",
       "      <th>MonthlyCharges</th>\n",
       "      <th>TotalCharges</th>\n",
       "      <th>ContractLive</th>\n",
       "    </tr>\n",
       "    <tr>\n",
       "      <th>customerID</th>\n",
       "      <th></th>\n",
       "      <th></th>\n",
       "      <th></th>\n",
       "      <th></th>\n",
       "      <th></th>\n",
       "      <th></th>\n",
       "      <th></th>\n",
       "    </tr>\n",
       "  </thead>\n",
       "  <tbody>\n",
       "    <tr>\n",
       "      <th>7590-VHVEG</th>\n",
       "      <td>No</td>\n",
       "      <td>Month-to-month</td>\n",
       "      <td>Yes</td>\n",
       "      <td>Electronic check</td>\n",
       "      <td>29.85</td>\n",
       "      <td>29.85</td>\n",
       "      <td>31</td>\n",
       "    </tr>\n",
       "    <tr>\n",
       "      <th>5575-GNVDE</th>\n",
       "      <td>No</td>\n",
       "      <td>One year</td>\n",
       "      <td>No</td>\n",
       "      <td>Mailed check</td>\n",
       "      <td>56.95</td>\n",
       "      <td>1889.50</td>\n",
       "      <td>1036</td>\n",
       "    </tr>\n",
       "    <tr>\n",
       "      <th>3668-QPYBK</th>\n",
       "      <td>2019-12-01 00:00:00</td>\n",
       "      <td>Month-to-month</td>\n",
       "      <td>Yes</td>\n",
       "      <td>Mailed check</td>\n",
       "      <td>53.85</td>\n",
       "      <td>108.15</td>\n",
       "      <td>61</td>\n",
       "    </tr>\n",
       "    <tr>\n",
       "      <th>7795-CFOCW</th>\n",
       "      <td>No</td>\n",
       "      <td>One year</td>\n",
       "      <td>No</td>\n",
       "      <td>Bank transfer (automatic)</td>\n",
       "      <td>42.30</td>\n",
       "      <td>1840.75</td>\n",
       "      <td>1371</td>\n",
       "    </tr>\n",
       "    <tr>\n",
       "      <th>9237-HQITU</th>\n",
       "      <td>2019-11-01 00:00:00</td>\n",
       "      <td>Month-to-month</td>\n",
       "      <td>Yes</td>\n",
       "      <td>Electronic check</td>\n",
       "      <td>70.70</td>\n",
       "      <td>151.65</td>\n",
       "      <td>61</td>\n",
       "    </tr>\n",
       "  </tbody>\n",
       "</table>\n",
       "</div>"
      ],
      "text/plain": [
       "                        EndDate            Type PaperlessBilling  \\\n",
       "customerID                                                         \n",
       "7590-VHVEG                   No  Month-to-month              Yes   \n",
       "5575-GNVDE                   No        One year               No   \n",
       "3668-QPYBK  2019-12-01 00:00:00  Month-to-month              Yes   \n",
       "7795-CFOCW                   No        One year               No   \n",
       "9237-HQITU  2019-11-01 00:00:00  Month-to-month              Yes   \n",
       "\n",
       "                        PaymentMethod  MonthlyCharges  TotalCharges  \\\n",
       "customerID                                                            \n",
       "7590-VHVEG           Electronic check           29.85         29.85   \n",
       "5575-GNVDE               Mailed check           56.95       1889.50   \n",
       "3668-QPYBK               Mailed check           53.85        108.15   \n",
       "7795-CFOCW  Bank transfer (automatic)           42.30       1840.75   \n",
       "9237-HQITU           Electronic check           70.70        151.65   \n",
       "\n",
       "            ContractLive  \n",
       "customerID                \n",
       "7590-VHVEG            31  \n",
       "5575-GNVDE          1036  \n",
       "3668-QPYBK            61  \n",
       "7795-CFOCW          1371  \n",
       "9237-HQITU            61  "
      ]
     },
     "execution_count": 25,
     "metadata": {},
     "output_type": "execute_result"
    }
   ],
   "source": [
    "contract['EndDate2'] = pd.to_datetime(contract['EndDate'].apply(lambda x: '2020-02-01' if x=='No' else x))\n",
    "contract['ContractLive'] = contract['EndDate2'] - contract['BeginDate']\n",
    "contract['ContractLive'] = contract['ContractLive'].dt.days\n",
    "contract = contract.drop(columns=['BeginDate', 'EndDate2'])\n",
    "contract.head()"
   ]
  },
  {
   "cell_type": "markdown",
   "metadata": {},
   "source": [
    "Переведу целевой признак в бинарный вид типа integer"
   ]
  },
  {
   "cell_type": "code",
   "execution_count": 26,
   "metadata": {},
   "outputs": [
    {
     "data": {
      "text/html": [
       "<div>\n",
       "<style scoped>\n",
       "    .dataframe tbody tr th:only-of-type {\n",
       "        vertical-align: middle;\n",
       "    }\n",
       "\n",
       "    .dataframe tbody tr th {\n",
       "        vertical-align: top;\n",
       "    }\n",
       "\n",
       "    .dataframe thead th {\n",
       "        text-align: right;\n",
       "    }\n",
       "</style>\n",
       "<table border=\"1\" class=\"dataframe\">\n",
       "  <thead>\n",
       "    <tr style=\"text-align: right;\">\n",
       "      <th></th>\n",
       "      <th>EndDate</th>\n",
       "      <th>Type</th>\n",
       "      <th>PaperlessBilling</th>\n",
       "      <th>PaymentMethod</th>\n",
       "      <th>MonthlyCharges</th>\n",
       "      <th>TotalCharges</th>\n",
       "      <th>ContractLive</th>\n",
       "    </tr>\n",
       "    <tr>\n",
       "      <th>customerID</th>\n",
       "      <th></th>\n",
       "      <th></th>\n",
       "      <th></th>\n",
       "      <th></th>\n",
       "      <th></th>\n",
       "      <th></th>\n",
       "      <th></th>\n",
       "    </tr>\n",
       "  </thead>\n",
       "  <tbody>\n",
       "    <tr>\n",
       "      <th>7590-VHVEG</th>\n",
       "      <td>0</td>\n",
       "      <td>Month-to-month</td>\n",
       "      <td>Yes</td>\n",
       "      <td>Electronic check</td>\n",
       "      <td>29.85</td>\n",
       "      <td>29.85</td>\n",
       "      <td>31</td>\n",
       "    </tr>\n",
       "    <tr>\n",
       "      <th>5575-GNVDE</th>\n",
       "      <td>0</td>\n",
       "      <td>One year</td>\n",
       "      <td>No</td>\n",
       "      <td>Mailed check</td>\n",
       "      <td>56.95</td>\n",
       "      <td>1889.50</td>\n",
       "      <td>1036</td>\n",
       "    </tr>\n",
       "    <tr>\n",
       "      <th>3668-QPYBK</th>\n",
       "      <td>1</td>\n",
       "      <td>Month-to-month</td>\n",
       "      <td>Yes</td>\n",
       "      <td>Mailed check</td>\n",
       "      <td>53.85</td>\n",
       "      <td>108.15</td>\n",
       "      <td>61</td>\n",
       "    </tr>\n",
       "    <tr>\n",
       "      <th>7795-CFOCW</th>\n",
       "      <td>0</td>\n",
       "      <td>One year</td>\n",
       "      <td>No</td>\n",
       "      <td>Bank transfer (automatic)</td>\n",
       "      <td>42.30</td>\n",
       "      <td>1840.75</td>\n",
       "      <td>1371</td>\n",
       "    </tr>\n",
       "    <tr>\n",
       "      <th>9237-HQITU</th>\n",
       "      <td>1</td>\n",
       "      <td>Month-to-month</td>\n",
       "      <td>Yes</td>\n",
       "      <td>Electronic check</td>\n",
       "      <td>70.70</td>\n",
       "      <td>151.65</td>\n",
       "      <td>61</td>\n",
       "    </tr>\n",
       "  </tbody>\n",
       "</table>\n",
       "</div>"
      ],
      "text/plain": [
       "            EndDate            Type PaperlessBilling  \\\n",
       "customerID                                             \n",
       "7590-VHVEG        0  Month-to-month              Yes   \n",
       "5575-GNVDE        0        One year               No   \n",
       "3668-QPYBK        1  Month-to-month              Yes   \n",
       "7795-CFOCW        0        One year               No   \n",
       "9237-HQITU        1  Month-to-month              Yes   \n",
       "\n",
       "                        PaymentMethod  MonthlyCharges  TotalCharges  \\\n",
       "customerID                                                            \n",
       "7590-VHVEG           Electronic check           29.85         29.85   \n",
       "5575-GNVDE               Mailed check           56.95       1889.50   \n",
       "3668-QPYBK               Mailed check           53.85        108.15   \n",
       "7795-CFOCW  Bank transfer (automatic)           42.30       1840.75   \n",
       "9237-HQITU           Electronic check           70.70        151.65   \n",
       "\n",
       "            ContractLive  \n",
       "customerID                \n",
       "7590-VHVEG            31  \n",
       "5575-GNVDE          1036  \n",
       "3668-QPYBK            61  \n",
       "7795-CFOCW          1371  \n",
       "9237-HQITU            61  "
      ]
     },
     "execution_count": 26,
     "metadata": {},
     "output_type": "execute_result"
    }
   ],
   "source": [
    "contract['EndDate'] = contract['EndDate'].apply(lambda x: 0 if x=='No' else 1)\n",
    "contract.head()"
   ]
  },
  {
   "cell_type": "markdown",
   "metadata": {},
   "source": [
    "Удалю пропуски в признаки TotalCharges. Их происхождение мне неизвестно и как обрабатывать - непонятно."
   ]
  },
  {
   "cell_type": "code",
   "execution_count": 27,
   "metadata": {},
   "outputs": [
    {
     "name": "stdout",
     "output_type": "stream",
     "text": [
      "<class 'pandas.core.frame.DataFrame'>\n",
      "Index: 7032 entries, 7590-VHVEG to 3186-AJIEK\n",
      "Data columns (total 7 columns):\n",
      " #   Column            Non-Null Count  Dtype  \n",
      "---  ------            --------------  -----  \n",
      " 0   EndDate           7032 non-null   int64  \n",
      " 1   Type              7032 non-null   object \n",
      " 2   PaperlessBilling  7032 non-null   object \n",
      " 3   PaymentMethod     7032 non-null   object \n",
      " 4   MonthlyCharges    7032 non-null   float64\n",
      " 5   TotalCharges      7032 non-null   float64\n",
      " 6   ContractLive      7032 non-null   int64  \n",
      "dtypes: float64(2), int64(2), object(3)\n",
      "memory usage: 439.5+ KB\n"
     ]
    }
   ],
   "source": [
    "contract = contract.dropna()\n",
    "contract.info()"
   ]
  },
  {
   "cell_type": "markdown",
   "metadata": {},
   "source": [
    "Объеденю все признаки в одну таблицу. "
   ]
  },
  {
   "cell_type": "code",
   "execution_count": 28,
   "metadata": {},
   "outputs": [
    {
     "name": "stdout",
     "output_type": "stream",
     "text": [
      "<class 'pandas.core.frame.DataFrame'>\n",
      "Index: 7032 entries, 7590-VHVEG to 3186-AJIEK\n",
      "Data columns (total 19 columns):\n",
      " #   Column            Non-Null Count  Dtype  \n",
      "---  ------            --------------  -----  \n",
      " 0   EndDate           7032 non-null   float64\n",
      " 1   Type              7032 non-null   object \n",
      " 2   PaperlessBilling  7032 non-null   object \n",
      " 3   PaymentMethod     7032 non-null   object \n",
      " 4   MonthlyCharges    7032 non-null   float64\n",
      " 5   TotalCharges      7032 non-null   float64\n",
      " 6   ContractLive      7032 non-null   float64\n",
      " 7   InternetService   5512 non-null   object \n",
      " 8   OnlineSecurity    5512 non-null   object \n",
      " 9   OnlineBackup      5512 non-null   object \n",
      " 10  DeviceProtection  5512 non-null   object \n",
      " 11  TechSupport       5512 non-null   object \n",
      " 12  StreamingTV       5512 non-null   object \n",
      " 13  StreamingMovies   5512 non-null   object \n",
      " 14  gender            7032 non-null   object \n",
      " 15  SeniorCitizen     7032 non-null   int64  \n",
      " 16  Partner           7032 non-null   object \n",
      " 17  Dependents        7032 non-null   object \n",
      " 18  MultipleLines     6352 non-null   object \n",
      "dtypes: float64(4), int64(1), object(14)\n",
      "memory usage: 1.4+ MB\n"
     ]
    }
   ],
   "source": [
    "df = contract.join([internet, personal, phone], how='left')\n",
    "df.info()"
   ]
  },
  {
   "cell_type": "code",
   "execution_count": 29,
   "metadata": {},
   "outputs": [
    {
     "data": {
      "text/html": [
       "<div>\n",
       "<style scoped>\n",
       "    .dataframe tbody tr th:only-of-type {\n",
       "        vertical-align: middle;\n",
       "    }\n",
       "\n",
       "    .dataframe tbody tr th {\n",
       "        vertical-align: top;\n",
       "    }\n",
       "\n",
       "    .dataframe thead th {\n",
       "        text-align: right;\n",
       "    }\n",
       "</style>\n",
       "<table border=\"1\" class=\"dataframe\">\n",
       "  <thead>\n",
       "    <tr style=\"text-align: right;\">\n",
       "      <th></th>\n",
       "      <th>NaN_part</th>\n",
       "      <th>empty_counts</th>\n",
       "      <th>space_counts</th>\n",
       "      <th>0_counts</th>\n",
       "      <th>unique_counts</th>\n",
       "      <th>dupl_sum</th>\n",
       "      <th>dtypes</th>\n",
       "      <th>length</th>\n",
       "    </tr>\n",
       "  </thead>\n",
       "  <tbody>\n",
       "    <tr>\n",
       "      <th>EndDate</th>\n",
       "      <td>0</td>\n",
       "      <td>0</td>\n",
       "      <td>0</td>\n",
       "      <td>5163</td>\n",
       "      <td>2</td>\n",
       "      <td>7030</td>\n",
       "      <td>float64</td>\n",
       "      <td>7032</td>\n",
       "    </tr>\n",
       "    <tr>\n",
       "      <th>Type</th>\n",
       "      <td>0</td>\n",
       "      <td>0</td>\n",
       "      <td>0</td>\n",
       "      <td>0</td>\n",
       "      <td>3</td>\n",
       "      <td>7029</td>\n",
       "      <td>object</td>\n",
       "      <td>7032</td>\n",
       "    </tr>\n",
       "    <tr>\n",
       "      <th>PaperlessBilling</th>\n",
       "      <td>0</td>\n",
       "      <td>0</td>\n",
       "      <td>0</td>\n",
       "      <td>0</td>\n",
       "      <td>2</td>\n",
       "      <td>7030</td>\n",
       "      <td>object</td>\n",
       "      <td>7032</td>\n",
       "    </tr>\n",
       "    <tr>\n",
       "      <th>PaymentMethod</th>\n",
       "      <td>0</td>\n",
       "      <td>0</td>\n",
       "      <td>0</td>\n",
       "      <td>0</td>\n",
       "      <td>4</td>\n",
       "      <td>7028</td>\n",
       "      <td>object</td>\n",
       "      <td>7032</td>\n",
       "    </tr>\n",
       "    <tr>\n",
       "      <th>MonthlyCharges</th>\n",
       "      <td>0</td>\n",
       "      <td>0</td>\n",
       "      <td>0</td>\n",
       "      <td>0</td>\n",
       "      <td>1584</td>\n",
       "      <td>5448</td>\n",
       "      <td>float64</td>\n",
       "      <td>7032</td>\n",
       "    </tr>\n",
       "    <tr>\n",
       "      <th>TotalCharges</th>\n",
       "      <td>0</td>\n",
       "      <td>0</td>\n",
       "      <td>0</td>\n",
       "      <td>0</td>\n",
       "      <td>6530</td>\n",
       "      <td>502</td>\n",
       "      <td>float64</td>\n",
       "      <td>7032</td>\n",
       "    </tr>\n",
       "    <tr>\n",
       "      <th>ContractLive</th>\n",
       "      <td>0</td>\n",
       "      <td>0</td>\n",
       "      <td>0</td>\n",
       "      <td>0</td>\n",
       "      <td>155</td>\n",
       "      <td>6877</td>\n",
       "      <td>float64</td>\n",
       "      <td>7032</td>\n",
       "    </tr>\n",
       "    <tr>\n",
       "      <th>InternetService</th>\n",
       "      <td>0.216155</td>\n",
       "      <td>0</td>\n",
       "      <td>0</td>\n",
       "      <td>0</td>\n",
       "      <td>3</td>\n",
       "      <td>7029</td>\n",
       "      <td>object</td>\n",
       "      <td>7032</td>\n",
       "    </tr>\n",
       "    <tr>\n",
       "      <th>OnlineSecurity</th>\n",
       "      <td>0.216155</td>\n",
       "      <td>0</td>\n",
       "      <td>0</td>\n",
       "      <td>0</td>\n",
       "      <td>3</td>\n",
       "      <td>7029</td>\n",
       "      <td>object</td>\n",
       "      <td>7032</td>\n",
       "    </tr>\n",
       "    <tr>\n",
       "      <th>OnlineBackup</th>\n",
       "      <td>0.216155</td>\n",
       "      <td>0</td>\n",
       "      <td>0</td>\n",
       "      <td>0</td>\n",
       "      <td>3</td>\n",
       "      <td>7029</td>\n",
       "      <td>object</td>\n",
       "      <td>7032</td>\n",
       "    </tr>\n",
       "    <tr>\n",
       "      <th>DeviceProtection</th>\n",
       "      <td>0.216155</td>\n",
       "      <td>0</td>\n",
       "      <td>0</td>\n",
       "      <td>0</td>\n",
       "      <td>3</td>\n",
       "      <td>7029</td>\n",
       "      <td>object</td>\n",
       "      <td>7032</td>\n",
       "    </tr>\n",
       "    <tr>\n",
       "      <th>TechSupport</th>\n",
       "      <td>0.216155</td>\n",
       "      <td>0</td>\n",
       "      <td>0</td>\n",
       "      <td>0</td>\n",
       "      <td>3</td>\n",
       "      <td>7029</td>\n",
       "      <td>object</td>\n",
       "      <td>7032</td>\n",
       "    </tr>\n",
       "    <tr>\n",
       "      <th>StreamingTV</th>\n",
       "      <td>0.216155</td>\n",
       "      <td>0</td>\n",
       "      <td>0</td>\n",
       "      <td>0</td>\n",
       "      <td>3</td>\n",
       "      <td>7029</td>\n",
       "      <td>object</td>\n",
       "      <td>7032</td>\n",
       "    </tr>\n",
       "    <tr>\n",
       "      <th>StreamingMovies</th>\n",
       "      <td>0.216155</td>\n",
       "      <td>0</td>\n",
       "      <td>0</td>\n",
       "      <td>0</td>\n",
       "      <td>3</td>\n",
       "      <td>7029</td>\n",
       "      <td>object</td>\n",
       "      <td>7032</td>\n",
       "    </tr>\n",
       "    <tr>\n",
       "      <th>gender</th>\n",
       "      <td>0</td>\n",
       "      <td>0</td>\n",
       "      <td>0</td>\n",
       "      <td>0</td>\n",
       "      <td>2</td>\n",
       "      <td>7030</td>\n",
       "      <td>object</td>\n",
       "      <td>7032</td>\n",
       "    </tr>\n",
       "    <tr>\n",
       "      <th>SeniorCitizen</th>\n",
       "      <td>0</td>\n",
       "      <td>0</td>\n",
       "      <td>0</td>\n",
       "      <td>5890</td>\n",
       "      <td>2</td>\n",
       "      <td>7030</td>\n",
       "      <td>int64</td>\n",
       "      <td>7032</td>\n",
       "    </tr>\n",
       "    <tr>\n",
       "      <th>Partner</th>\n",
       "      <td>0</td>\n",
       "      <td>0</td>\n",
       "      <td>0</td>\n",
       "      <td>0</td>\n",
       "      <td>2</td>\n",
       "      <td>7030</td>\n",
       "      <td>object</td>\n",
       "      <td>7032</td>\n",
       "    </tr>\n",
       "    <tr>\n",
       "      <th>Dependents</th>\n",
       "      <td>0</td>\n",
       "      <td>0</td>\n",
       "      <td>0</td>\n",
       "      <td>0</td>\n",
       "      <td>2</td>\n",
       "      <td>7030</td>\n",
       "      <td>object</td>\n",
       "      <td>7032</td>\n",
       "    </tr>\n",
       "    <tr>\n",
       "      <th>MultipleLines</th>\n",
       "      <td>0.0967008</td>\n",
       "      <td>0</td>\n",
       "      <td>0</td>\n",
       "      <td>0</td>\n",
       "      <td>3</td>\n",
       "      <td>7029</td>\n",
       "      <td>object</td>\n",
       "      <td>7032</td>\n",
       "    </tr>\n",
       "  </tbody>\n",
       "</table>\n",
       "</div>"
      ],
      "text/plain": [
       "                   NaN_part empty_counts space_counts 0_counts unique_counts  \\\n",
       "EndDate                   0            0            0     5163             2   \n",
       "Type                      0            0            0        0             3   \n",
       "PaperlessBilling          0            0            0        0             2   \n",
       "PaymentMethod             0            0            0        0             4   \n",
       "MonthlyCharges            0            0            0        0          1584   \n",
       "TotalCharges              0            0            0        0          6530   \n",
       "ContractLive              0            0            0        0           155   \n",
       "InternetService    0.216155            0            0        0             3   \n",
       "OnlineSecurity     0.216155            0            0        0             3   \n",
       "OnlineBackup       0.216155            0            0        0             3   \n",
       "DeviceProtection   0.216155            0            0        0             3   \n",
       "TechSupport        0.216155            0            0        0             3   \n",
       "StreamingTV        0.216155            0            0        0             3   \n",
       "StreamingMovies    0.216155            0            0        0             3   \n",
       "gender                    0            0            0        0             2   \n",
       "SeniorCitizen             0            0            0     5890             2   \n",
       "Partner                   0            0            0        0             2   \n",
       "Dependents                0            0            0        0             2   \n",
       "MultipleLines     0.0967008            0            0        0             3   \n",
       "\n",
       "                 dupl_sum   dtypes length  \n",
       "EndDate              7030  float64   7032  \n",
       "Type                 7029   object   7032  \n",
       "PaperlessBilling     7030   object   7032  \n",
       "PaymentMethod        7028   object   7032  \n",
       "MonthlyCharges       5448  float64   7032  \n",
       "TotalCharges          502  float64   7032  \n",
       "ContractLive         6877  float64   7032  \n",
       "InternetService      7029   object   7032  \n",
       "OnlineSecurity       7029   object   7032  \n",
       "OnlineBackup         7029   object   7032  \n",
       "DeviceProtection     7029   object   7032  \n",
       "TechSupport          7029   object   7032  \n",
       "StreamingTV          7029   object   7032  \n",
       "StreamingMovies      7029   object   7032  \n",
       "gender               7030   object   7032  \n",
       "SeniorCitizen        7030    int64   7032  \n",
       "Partner              7030   object   7032  \n",
       "Dependents           7030   object   7032  \n",
       "MultipleLines        7029   object   7032  "
      ]
     },
     "execution_count": 29,
     "metadata": {},
     "output_type": "execute_result"
    }
   ],
   "source": [
    "miss = missing_value(df)\n",
    "miss"
   ]
  },
  {
   "cell_type": "markdown",
   "metadata": {},
   "source": [
    "Заполню пропуски. Заменю их на No."
   ]
  },
  {
   "cell_type": "code",
   "execution_count": 30,
   "metadata": {},
   "outputs": [
    {
     "name": "stdout",
     "output_type": "stream",
     "text": [
      "<class 'pandas.core.frame.DataFrame'>\n",
      "Index: 7032 entries, 7590-VHVEG to 3186-AJIEK\n",
      "Data columns (total 19 columns):\n",
      " #   Column            Non-Null Count  Dtype  \n",
      "---  ------            --------------  -----  \n",
      " 0   EndDate           7032 non-null   float64\n",
      " 1   Type              7032 non-null   object \n",
      " 2   PaperlessBilling  7032 non-null   object \n",
      " 3   PaymentMethod     7032 non-null   object \n",
      " 4   MonthlyCharges    7032 non-null   float64\n",
      " 5   TotalCharges      7032 non-null   float64\n",
      " 6   ContractLive      7032 non-null   float64\n",
      " 7   InternetService   7032 non-null   object \n",
      " 8   OnlineSecurity    7032 non-null   object \n",
      " 9   OnlineBackup      7032 non-null   object \n",
      " 10  DeviceProtection  7032 non-null   object \n",
      " 11  TechSupport       7032 non-null   object \n",
      " 12  StreamingTV       7032 non-null   object \n",
      " 13  StreamingMovies   7032 non-null   object \n",
      " 14  gender            7032 non-null   object \n",
      " 15  SeniorCitizen     7032 non-null   int64  \n",
      " 16  Partner           7032 non-null   object \n",
      " 17  Dependents        7032 non-null   object \n",
      " 18  MultipleLines     7032 non-null   object \n",
      "dtypes: float64(4), int64(1), object(14)\n",
      "memory usage: 1.4+ MB\n"
     ]
    }
   ],
   "source": [
    "df = df.fillna('No')\n",
    "df.info()"
   ]
  },
  {
   "cell_type": "code",
   "execution_count": 31,
   "metadata": {},
   "outputs": [
    {
     "data": {
      "text/html": [
       "<div>\n",
       "<style scoped>\n",
       "    .dataframe tbody tr th:only-of-type {\n",
       "        vertical-align: middle;\n",
       "    }\n",
       "\n",
       "    .dataframe tbody tr th {\n",
       "        vertical-align: top;\n",
       "    }\n",
       "\n",
       "    .dataframe thead th {\n",
       "        text-align: right;\n",
       "    }\n",
       "</style>\n",
       "<table border=\"1\" class=\"dataframe\">\n",
       "  <thead>\n",
       "    <tr style=\"text-align: right;\">\n",
       "      <th></th>\n",
       "      <th>NaN_part</th>\n",
       "      <th>empty_counts</th>\n",
       "      <th>space_counts</th>\n",
       "      <th>0_counts</th>\n",
       "      <th>unique_counts</th>\n",
       "      <th>min_value</th>\n",
       "      <th>max_value</th>\n",
       "      <th>dupl_sum</th>\n",
       "      <th>dtypes</th>\n",
       "      <th>length</th>\n",
       "    </tr>\n",
       "  </thead>\n",
       "  <tbody>\n",
       "    <tr>\n",
       "      <th>EndDate</th>\n",
       "      <td>0</td>\n",
       "      <td>0</td>\n",
       "      <td>0</td>\n",
       "      <td>5163</td>\n",
       "      <td>2</td>\n",
       "      <td>0</td>\n",
       "      <td>1</td>\n",
       "      <td>7030</td>\n",
       "      <td>float64</td>\n",
       "      <td>7032</td>\n",
       "    </tr>\n",
       "    <tr>\n",
       "      <th>Type</th>\n",
       "      <td>0</td>\n",
       "      <td>0</td>\n",
       "      <td>0</td>\n",
       "      <td>0</td>\n",
       "      <td>3</td>\n",
       "      <td>Month-to-month</td>\n",
       "      <td>Two year</td>\n",
       "      <td>7029</td>\n",
       "      <td>object</td>\n",
       "      <td>7032</td>\n",
       "    </tr>\n",
       "    <tr>\n",
       "      <th>PaperlessBilling</th>\n",
       "      <td>0</td>\n",
       "      <td>0</td>\n",
       "      <td>0</td>\n",
       "      <td>0</td>\n",
       "      <td>2</td>\n",
       "      <td>No</td>\n",
       "      <td>Yes</td>\n",
       "      <td>7030</td>\n",
       "      <td>object</td>\n",
       "      <td>7032</td>\n",
       "    </tr>\n",
       "    <tr>\n",
       "      <th>PaymentMethod</th>\n",
       "      <td>0</td>\n",
       "      <td>0</td>\n",
       "      <td>0</td>\n",
       "      <td>0</td>\n",
       "      <td>4</td>\n",
       "      <td>Bank transfer (automatic)</td>\n",
       "      <td>Mailed check</td>\n",
       "      <td>7028</td>\n",
       "      <td>object</td>\n",
       "      <td>7032</td>\n",
       "    </tr>\n",
       "    <tr>\n",
       "      <th>MonthlyCharges</th>\n",
       "      <td>0</td>\n",
       "      <td>0</td>\n",
       "      <td>0</td>\n",
       "      <td>0</td>\n",
       "      <td>1584</td>\n",
       "      <td>18.25</td>\n",
       "      <td>118.75</td>\n",
       "      <td>5448</td>\n",
       "      <td>float64</td>\n",
       "      <td>7032</td>\n",
       "    </tr>\n",
       "    <tr>\n",
       "      <th>TotalCharges</th>\n",
       "      <td>0</td>\n",
       "      <td>0</td>\n",
       "      <td>0</td>\n",
       "      <td>0</td>\n",
       "      <td>6530</td>\n",
       "      <td>18.8</td>\n",
       "      <td>8684.8</td>\n",
       "      <td>502</td>\n",
       "      <td>float64</td>\n",
       "      <td>7032</td>\n",
       "    </tr>\n",
       "    <tr>\n",
       "      <th>ContractLive</th>\n",
       "      <td>0</td>\n",
       "      <td>0</td>\n",
       "      <td>0</td>\n",
       "      <td>0</td>\n",
       "      <td>155</td>\n",
       "      <td>30</td>\n",
       "      <td>2191</td>\n",
       "      <td>6877</td>\n",
       "      <td>float64</td>\n",
       "      <td>7032</td>\n",
       "    </tr>\n",
       "    <tr>\n",
       "      <th>InternetService</th>\n",
       "      <td>0</td>\n",
       "      <td>0</td>\n",
       "      <td>0</td>\n",
       "      <td>0</td>\n",
       "      <td>3</td>\n",
       "      <td>DSL</td>\n",
       "      <td>No</td>\n",
       "      <td>7029</td>\n",
       "      <td>object</td>\n",
       "      <td>7032</td>\n",
       "    </tr>\n",
       "    <tr>\n",
       "      <th>OnlineSecurity</th>\n",
       "      <td>0</td>\n",
       "      <td>0</td>\n",
       "      <td>0</td>\n",
       "      <td>0</td>\n",
       "      <td>2</td>\n",
       "      <td>No</td>\n",
       "      <td>Yes</td>\n",
       "      <td>7030</td>\n",
       "      <td>object</td>\n",
       "      <td>7032</td>\n",
       "    </tr>\n",
       "    <tr>\n",
       "      <th>OnlineBackup</th>\n",
       "      <td>0</td>\n",
       "      <td>0</td>\n",
       "      <td>0</td>\n",
       "      <td>0</td>\n",
       "      <td>2</td>\n",
       "      <td>No</td>\n",
       "      <td>Yes</td>\n",
       "      <td>7030</td>\n",
       "      <td>object</td>\n",
       "      <td>7032</td>\n",
       "    </tr>\n",
       "    <tr>\n",
       "      <th>DeviceProtection</th>\n",
       "      <td>0</td>\n",
       "      <td>0</td>\n",
       "      <td>0</td>\n",
       "      <td>0</td>\n",
       "      <td>2</td>\n",
       "      <td>No</td>\n",
       "      <td>Yes</td>\n",
       "      <td>7030</td>\n",
       "      <td>object</td>\n",
       "      <td>7032</td>\n",
       "    </tr>\n",
       "    <tr>\n",
       "      <th>TechSupport</th>\n",
       "      <td>0</td>\n",
       "      <td>0</td>\n",
       "      <td>0</td>\n",
       "      <td>0</td>\n",
       "      <td>2</td>\n",
       "      <td>No</td>\n",
       "      <td>Yes</td>\n",
       "      <td>7030</td>\n",
       "      <td>object</td>\n",
       "      <td>7032</td>\n",
       "    </tr>\n",
       "    <tr>\n",
       "      <th>StreamingTV</th>\n",
       "      <td>0</td>\n",
       "      <td>0</td>\n",
       "      <td>0</td>\n",
       "      <td>0</td>\n",
       "      <td>2</td>\n",
       "      <td>No</td>\n",
       "      <td>Yes</td>\n",
       "      <td>7030</td>\n",
       "      <td>object</td>\n",
       "      <td>7032</td>\n",
       "    </tr>\n",
       "    <tr>\n",
       "      <th>StreamingMovies</th>\n",
       "      <td>0</td>\n",
       "      <td>0</td>\n",
       "      <td>0</td>\n",
       "      <td>0</td>\n",
       "      <td>2</td>\n",
       "      <td>No</td>\n",
       "      <td>Yes</td>\n",
       "      <td>7030</td>\n",
       "      <td>object</td>\n",
       "      <td>7032</td>\n",
       "    </tr>\n",
       "    <tr>\n",
       "      <th>gender</th>\n",
       "      <td>0</td>\n",
       "      <td>0</td>\n",
       "      <td>0</td>\n",
       "      <td>0</td>\n",
       "      <td>2</td>\n",
       "      <td>Female</td>\n",
       "      <td>Male</td>\n",
       "      <td>7030</td>\n",
       "      <td>object</td>\n",
       "      <td>7032</td>\n",
       "    </tr>\n",
       "    <tr>\n",
       "      <th>SeniorCitizen</th>\n",
       "      <td>0</td>\n",
       "      <td>0</td>\n",
       "      <td>0</td>\n",
       "      <td>5890</td>\n",
       "      <td>2</td>\n",
       "      <td>0</td>\n",
       "      <td>1</td>\n",
       "      <td>7030</td>\n",
       "      <td>int64</td>\n",
       "      <td>7032</td>\n",
       "    </tr>\n",
       "    <tr>\n",
       "      <th>Partner</th>\n",
       "      <td>0</td>\n",
       "      <td>0</td>\n",
       "      <td>0</td>\n",
       "      <td>0</td>\n",
       "      <td>2</td>\n",
       "      <td>No</td>\n",
       "      <td>Yes</td>\n",
       "      <td>7030</td>\n",
       "      <td>object</td>\n",
       "      <td>7032</td>\n",
       "    </tr>\n",
       "    <tr>\n",
       "      <th>Dependents</th>\n",
       "      <td>0</td>\n",
       "      <td>0</td>\n",
       "      <td>0</td>\n",
       "      <td>0</td>\n",
       "      <td>2</td>\n",
       "      <td>No</td>\n",
       "      <td>Yes</td>\n",
       "      <td>7030</td>\n",
       "      <td>object</td>\n",
       "      <td>7032</td>\n",
       "    </tr>\n",
       "    <tr>\n",
       "      <th>MultipleLines</th>\n",
       "      <td>0</td>\n",
       "      <td>0</td>\n",
       "      <td>0</td>\n",
       "      <td>0</td>\n",
       "      <td>2</td>\n",
       "      <td>No</td>\n",
       "      <td>Yes</td>\n",
       "      <td>7030</td>\n",
       "      <td>object</td>\n",
       "      <td>7032</td>\n",
       "    </tr>\n",
       "  </tbody>\n",
       "</table>\n",
       "</div>"
      ],
      "text/plain": [
       "                 NaN_part empty_counts space_counts 0_counts unique_counts  \\\n",
       "EndDate                 0            0            0     5163             2   \n",
       "Type                    0            0            0        0             3   \n",
       "PaperlessBilling        0            0            0        0             2   \n",
       "PaymentMethod           0            0            0        0             4   \n",
       "MonthlyCharges          0            0            0        0          1584   \n",
       "TotalCharges            0            0            0        0          6530   \n",
       "ContractLive            0            0            0        0           155   \n",
       "InternetService         0            0            0        0             3   \n",
       "OnlineSecurity          0            0            0        0             2   \n",
       "OnlineBackup            0            0            0        0             2   \n",
       "DeviceProtection        0            0            0        0             2   \n",
       "TechSupport             0            0            0        0             2   \n",
       "StreamingTV             0            0            0        0             2   \n",
       "StreamingMovies         0            0            0        0             2   \n",
       "gender                  0            0            0        0             2   \n",
       "SeniorCitizen           0            0            0     5890             2   \n",
       "Partner                 0            0            0        0             2   \n",
       "Dependents              0            0            0        0             2   \n",
       "MultipleLines           0            0            0        0             2   \n",
       "\n",
       "                                  min_value     max_value dupl_sum   dtypes  \\\n",
       "EndDate                                   0             1     7030  float64   \n",
       "Type                         Month-to-month      Two year     7029   object   \n",
       "PaperlessBilling                         No           Yes     7030   object   \n",
       "PaymentMethod     Bank transfer (automatic)  Mailed check     7028   object   \n",
       "MonthlyCharges                        18.25        118.75     5448  float64   \n",
       "TotalCharges                           18.8        8684.8      502  float64   \n",
       "ContractLive                             30          2191     6877  float64   \n",
       "InternetService                         DSL            No     7029   object   \n",
       "OnlineSecurity                           No           Yes     7030   object   \n",
       "OnlineBackup                             No           Yes     7030   object   \n",
       "DeviceProtection                         No           Yes     7030   object   \n",
       "TechSupport                              No           Yes     7030   object   \n",
       "StreamingTV                              No           Yes     7030   object   \n",
       "StreamingMovies                          No           Yes     7030   object   \n",
       "gender                               Female          Male     7030   object   \n",
       "SeniorCitizen                             0             1     7030    int64   \n",
       "Partner                                  No           Yes     7030   object   \n",
       "Dependents                               No           Yes     7030   object   \n",
       "MultipleLines                            No           Yes     7030   object   \n",
       "\n",
       "                 length  \n",
       "EndDate            7032  \n",
       "Type               7032  \n",
       "PaperlessBilling   7032  \n",
       "PaymentMethod      7032  \n",
       "MonthlyCharges     7032  \n",
       "TotalCharges       7032  \n",
       "ContractLive       7032  \n",
       "InternetService    7032  \n",
       "OnlineSecurity     7032  \n",
       "OnlineBackup       7032  \n",
       "DeviceProtection   7032  \n",
       "TechSupport        7032  \n",
       "StreamingTV        7032  \n",
       "StreamingMovies    7032  \n",
       "gender             7032  \n",
       "SeniorCitizen      7032  \n",
       "Partner            7032  \n",
       "Dependents         7032  \n",
       "MultipleLines      7032  "
      ]
     },
     "execution_count": 31,
     "metadata": {},
     "output_type": "execute_result"
    }
   ],
   "source": [
    "miss = missing_values(df)\n",
    "miss"
   ]
  },
  {
   "cell_type": "markdown",
   "metadata": {},
   "source": [
    "Переведу в числовое значение все возможные признаки. Таким образом я минимизирую количество категориальных признаков:"
   ]
  },
  {
   "cell_type": "code",
   "execution_count": 32,
   "metadata": {},
   "outputs": [
    {
     "data": {
      "text/html": [
       "<div>\n",
       "<style scoped>\n",
       "    .dataframe tbody tr th:only-of-type {\n",
       "        vertical-align: middle;\n",
       "    }\n",
       "\n",
       "    .dataframe tbody tr th {\n",
       "        vertical-align: top;\n",
       "    }\n",
       "\n",
       "    .dataframe thead th {\n",
       "        text-align: right;\n",
       "    }\n",
       "</style>\n",
       "<table border=\"1\" class=\"dataframe\">\n",
       "  <thead>\n",
       "    <tr style=\"text-align: right;\">\n",
       "      <th></th>\n",
       "      <th>EndDate</th>\n",
       "      <th>Type</th>\n",
       "      <th>PaperlessBilling</th>\n",
       "      <th>PaymentMethod</th>\n",
       "      <th>MonthlyCharges</th>\n",
       "      <th>TotalCharges</th>\n",
       "      <th>ContractLive</th>\n",
       "      <th>InternetService</th>\n",
       "      <th>OnlineSecurity</th>\n",
       "      <th>OnlineBackup</th>\n",
       "      <th>DeviceProtection</th>\n",
       "      <th>TechSupport</th>\n",
       "      <th>StreamingTV</th>\n",
       "      <th>StreamingMovies</th>\n",
       "      <th>gender</th>\n",
       "      <th>SeniorCitizen</th>\n",
       "      <th>Partner</th>\n",
       "      <th>Dependents</th>\n",
       "      <th>MultipleLines</th>\n",
       "    </tr>\n",
       "  </thead>\n",
       "  <tbody>\n",
       "    <tr>\n",
       "      <th>7590-VHVEG</th>\n",
       "      <td>0</td>\n",
       "      <td>Month-to-month</td>\n",
       "      <td>0</td>\n",
       "      <td>Electronic check</td>\n",
       "      <td>29.85</td>\n",
       "      <td>29.85</td>\n",
       "      <td>31</td>\n",
       "      <td>DSL</td>\n",
       "      <td>1</td>\n",
       "      <td>0</td>\n",
       "      <td>1</td>\n",
       "      <td>1</td>\n",
       "      <td>1</td>\n",
       "      <td>1</td>\n",
       "      <td>Female</td>\n",
       "      <td>0</td>\n",
       "      <td>0</td>\n",
       "      <td>1</td>\n",
       "      <td>1</td>\n",
       "    </tr>\n",
       "    <tr>\n",
       "      <th>5575-GNVDE</th>\n",
       "      <td>0</td>\n",
       "      <td>One year</td>\n",
       "      <td>1</td>\n",
       "      <td>Mailed check</td>\n",
       "      <td>56.95</td>\n",
       "      <td>1889.5</td>\n",
       "      <td>1036</td>\n",
       "      <td>DSL</td>\n",
       "      <td>0</td>\n",
       "      <td>1</td>\n",
       "      <td>0</td>\n",
       "      <td>1</td>\n",
       "      <td>1</td>\n",
       "      <td>1</td>\n",
       "      <td>Male</td>\n",
       "      <td>0</td>\n",
       "      <td>1</td>\n",
       "      <td>1</td>\n",
       "      <td>1</td>\n",
       "    </tr>\n",
       "    <tr>\n",
       "      <th>3668-QPYBK</th>\n",
       "      <td>1</td>\n",
       "      <td>Month-to-month</td>\n",
       "      <td>0</td>\n",
       "      <td>Mailed check</td>\n",
       "      <td>53.85</td>\n",
       "      <td>108.15</td>\n",
       "      <td>61</td>\n",
       "      <td>DSL</td>\n",
       "      <td>0</td>\n",
       "      <td>0</td>\n",
       "      <td>1</td>\n",
       "      <td>1</td>\n",
       "      <td>1</td>\n",
       "      <td>1</td>\n",
       "      <td>Male</td>\n",
       "      <td>0</td>\n",
       "      <td>1</td>\n",
       "      <td>1</td>\n",
       "      <td>1</td>\n",
       "    </tr>\n",
       "    <tr>\n",
       "      <th>7795-CFOCW</th>\n",
       "      <td>0</td>\n",
       "      <td>One year</td>\n",
       "      <td>1</td>\n",
       "      <td>Bank transfer (automatic)</td>\n",
       "      <td>42.3</td>\n",
       "      <td>1840.75</td>\n",
       "      <td>1371</td>\n",
       "      <td>DSL</td>\n",
       "      <td>0</td>\n",
       "      <td>1</td>\n",
       "      <td>0</td>\n",
       "      <td>0</td>\n",
       "      <td>1</td>\n",
       "      <td>1</td>\n",
       "      <td>Male</td>\n",
       "      <td>0</td>\n",
       "      <td>1</td>\n",
       "      <td>1</td>\n",
       "      <td>1</td>\n",
       "    </tr>\n",
       "    <tr>\n",
       "      <th>9237-HQITU</th>\n",
       "      <td>1</td>\n",
       "      <td>Month-to-month</td>\n",
       "      <td>0</td>\n",
       "      <td>Electronic check</td>\n",
       "      <td>70.7</td>\n",
       "      <td>151.65</td>\n",
       "      <td>61</td>\n",
       "      <td>Fiber optic</td>\n",
       "      <td>1</td>\n",
       "      <td>1</td>\n",
       "      <td>1</td>\n",
       "      <td>1</td>\n",
       "      <td>1</td>\n",
       "      <td>1</td>\n",
       "      <td>Female</td>\n",
       "      <td>0</td>\n",
       "      <td>1</td>\n",
       "      <td>1</td>\n",
       "      <td>1</td>\n",
       "    </tr>\n",
       "  </tbody>\n",
       "</table>\n",
       "</div>"
      ],
      "text/plain": [
       "           EndDate            Type PaperlessBilling  \\\n",
       "7590-VHVEG       0  Month-to-month                0   \n",
       "5575-GNVDE       0        One year                1   \n",
       "3668-QPYBK       1  Month-to-month                0   \n",
       "7795-CFOCW       0        One year                1   \n",
       "9237-HQITU       1  Month-to-month                0   \n",
       "\n",
       "                        PaymentMethod MonthlyCharges TotalCharges  \\\n",
       "7590-VHVEG           Electronic check          29.85        29.85   \n",
       "5575-GNVDE               Mailed check          56.95       1889.5   \n",
       "3668-QPYBK               Mailed check          53.85       108.15   \n",
       "7795-CFOCW  Bank transfer (automatic)           42.3      1840.75   \n",
       "9237-HQITU           Electronic check           70.7       151.65   \n",
       "\n",
       "           ContractLive InternetService OnlineSecurity OnlineBackup  \\\n",
       "7590-VHVEG           31             DSL              1            0   \n",
       "5575-GNVDE         1036             DSL              0            1   \n",
       "3668-QPYBK           61             DSL              0            0   \n",
       "7795-CFOCW         1371             DSL              0            1   \n",
       "9237-HQITU           61     Fiber optic              1            1   \n",
       "\n",
       "           DeviceProtection TechSupport StreamingTV StreamingMovies  gender  \\\n",
       "7590-VHVEG                1           1           1               1  Female   \n",
       "5575-GNVDE                0           1           1               1    Male   \n",
       "3668-QPYBK                1           1           1               1    Male   \n",
       "7795-CFOCW                0           0           1               1    Male   \n",
       "9237-HQITU                1           1           1               1  Female   \n",
       "\n",
       "           SeniorCitizen Partner Dependents MultipleLines  \n",
       "7590-VHVEG             0       0          1             1  \n",
       "5575-GNVDE             0       1          1             1  \n",
       "3668-QPYBK             0       1          1             1  \n",
       "7795-CFOCW             0       1          1             1  \n",
       "9237-HQITU             0       1          1             1  "
      ]
     },
     "execution_count": 32,
     "metadata": {},
     "output_type": "execute_result"
    }
   ],
   "source": [
    "df = df.apply([lambda x: 1 if x=='No' else (0 if x=='Yes' else x)], axis=1).droplevel(level=1)\n",
    "df.head()"
   ]
  },
  {
   "cell_type": "code",
   "execution_count": 33,
   "metadata": {},
   "outputs": [
    {
     "data": {
      "text/html": [
       "<div>\n",
       "<style scoped>\n",
       "    .dataframe tbody tr th:only-of-type {\n",
       "        vertical-align: middle;\n",
       "    }\n",
       "\n",
       "    .dataframe tbody tr th {\n",
       "        vertical-align: top;\n",
       "    }\n",
       "\n",
       "    .dataframe thead th {\n",
       "        text-align: right;\n",
       "    }\n",
       "</style>\n",
       "<table border=\"1\" class=\"dataframe\">\n",
       "  <thead>\n",
       "    <tr style=\"text-align: right;\">\n",
       "      <th></th>\n",
       "      <th>EndDate</th>\n",
       "      <th>Type</th>\n",
       "      <th>PaperlessBilling</th>\n",
       "      <th>PaymentMethod</th>\n",
       "      <th>MonthlyCharges</th>\n",
       "      <th>TotalCharges</th>\n",
       "      <th>ContractLive</th>\n",
       "      <th>InternetService</th>\n",
       "      <th>OnlineSecurity</th>\n",
       "      <th>OnlineBackup</th>\n",
       "      <th>DeviceProtection</th>\n",
       "      <th>TechSupport</th>\n",
       "      <th>StreamingTV</th>\n",
       "      <th>StreamingMovies</th>\n",
       "      <th>gender</th>\n",
       "      <th>SeniorCitizen</th>\n",
       "      <th>Partner</th>\n",
       "      <th>Dependents</th>\n",
       "      <th>MultipleLines</th>\n",
       "    </tr>\n",
       "  </thead>\n",
       "  <tbody>\n",
       "    <tr>\n",
       "      <th>7590-VHVEG</th>\n",
       "      <td>0</td>\n",
       "      <td>Month-to-month</td>\n",
       "      <td>0</td>\n",
       "      <td>Electronic check</td>\n",
       "      <td>29.85</td>\n",
       "      <td>29.85</td>\n",
       "      <td>31</td>\n",
       "      <td>DSL</td>\n",
       "      <td>1</td>\n",
       "      <td>0</td>\n",
       "      <td>1</td>\n",
       "      <td>1</td>\n",
       "      <td>1</td>\n",
       "      <td>1</td>\n",
       "      <td>1</td>\n",
       "      <td>0</td>\n",
       "      <td>0</td>\n",
       "      <td>1</td>\n",
       "      <td>1</td>\n",
       "    </tr>\n",
       "    <tr>\n",
       "      <th>5575-GNVDE</th>\n",
       "      <td>0</td>\n",
       "      <td>One year</td>\n",
       "      <td>1</td>\n",
       "      <td>Mailed check</td>\n",
       "      <td>56.95</td>\n",
       "      <td>1889.50</td>\n",
       "      <td>1036</td>\n",
       "      <td>DSL</td>\n",
       "      <td>0</td>\n",
       "      <td>1</td>\n",
       "      <td>0</td>\n",
       "      <td>1</td>\n",
       "      <td>1</td>\n",
       "      <td>1</td>\n",
       "      <td>0</td>\n",
       "      <td>0</td>\n",
       "      <td>1</td>\n",
       "      <td>1</td>\n",
       "      <td>1</td>\n",
       "    </tr>\n",
       "    <tr>\n",
       "      <th>3668-QPYBK</th>\n",
       "      <td>1</td>\n",
       "      <td>Month-to-month</td>\n",
       "      <td>0</td>\n",
       "      <td>Mailed check</td>\n",
       "      <td>53.85</td>\n",
       "      <td>108.15</td>\n",
       "      <td>61</td>\n",
       "      <td>DSL</td>\n",
       "      <td>0</td>\n",
       "      <td>0</td>\n",
       "      <td>1</td>\n",
       "      <td>1</td>\n",
       "      <td>1</td>\n",
       "      <td>1</td>\n",
       "      <td>0</td>\n",
       "      <td>0</td>\n",
       "      <td>1</td>\n",
       "      <td>1</td>\n",
       "      <td>1</td>\n",
       "    </tr>\n",
       "    <tr>\n",
       "      <th>7795-CFOCW</th>\n",
       "      <td>0</td>\n",
       "      <td>One year</td>\n",
       "      <td>1</td>\n",
       "      <td>Bank transfer (automatic)</td>\n",
       "      <td>42.30</td>\n",
       "      <td>1840.75</td>\n",
       "      <td>1371</td>\n",
       "      <td>DSL</td>\n",
       "      <td>0</td>\n",
       "      <td>1</td>\n",
       "      <td>0</td>\n",
       "      <td>0</td>\n",
       "      <td>1</td>\n",
       "      <td>1</td>\n",
       "      <td>0</td>\n",
       "      <td>0</td>\n",
       "      <td>1</td>\n",
       "      <td>1</td>\n",
       "      <td>1</td>\n",
       "    </tr>\n",
       "    <tr>\n",
       "      <th>9237-HQITU</th>\n",
       "      <td>1</td>\n",
       "      <td>Month-to-month</td>\n",
       "      <td>0</td>\n",
       "      <td>Electronic check</td>\n",
       "      <td>70.70</td>\n",
       "      <td>151.65</td>\n",
       "      <td>61</td>\n",
       "      <td>Fiber optic</td>\n",
       "      <td>1</td>\n",
       "      <td>1</td>\n",
       "      <td>1</td>\n",
       "      <td>1</td>\n",
       "      <td>1</td>\n",
       "      <td>1</td>\n",
       "      <td>1</td>\n",
       "      <td>0</td>\n",
       "      <td>1</td>\n",
       "      <td>1</td>\n",
       "      <td>1</td>\n",
       "    </tr>\n",
       "  </tbody>\n",
       "</table>\n",
       "</div>"
      ],
      "text/plain": [
       "            EndDate            Type  PaperlessBilling  \\\n",
       "7590-VHVEG        0  Month-to-month                 0   \n",
       "5575-GNVDE        0        One year                 1   \n",
       "3668-QPYBK        1  Month-to-month                 0   \n",
       "7795-CFOCW        0        One year                 1   \n",
       "9237-HQITU        1  Month-to-month                 0   \n",
       "\n",
       "                        PaymentMethod  MonthlyCharges  TotalCharges  \\\n",
       "7590-VHVEG           Electronic check           29.85         29.85   \n",
       "5575-GNVDE               Mailed check           56.95       1889.50   \n",
       "3668-QPYBK               Mailed check           53.85        108.15   \n",
       "7795-CFOCW  Bank transfer (automatic)           42.30       1840.75   \n",
       "9237-HQITU           Electronic check           70.70        151.65   \n",
       "\n",
       "            ContractLive InternetService  OnlineSecurity  OnlineBackup  \\\n",
       "7590-VHVEG            31             DSL               1             0   \n",
       "5575-GNVDE          1036             DSL               0             1   \n",
       "3668-QPYBK            61             DSL               0             0   \n",
       "7795-CFOCW          1371             DSL               0             1   \n",
       "9237-HQITU            61     Fiber optic               1             1   \n",
       "\n",
       "            DeviceProtection  TechSupport  StreamingTV  StreamingMovies  \\\n",
       "7590-VHVEG                 1            1            1                1   \n",
       "5575-GNVDE                 0            1            1                1   \n",
       "3668-QPYBK                 1            1            1                1   \n",
       "7795-CFOCW                 0            0            1                1   \n",
       "9237-HQITU                 1            1            1                1   \n",
       "\n",
       "            gender  SeniorCitizen  Partner  Dependents  MultipleLines  \n",
       "7590-VHVEG       1              0        0           1              1  \n",
       "5575-GNVDE       0              0        1           1              1  \n",
       "3668-QPYBK       0              0        1           1              1  \n",
       "7795-CFOCW       0              0        1           1              1  \n",
       "9237-HQITU       1              0        1           1              1  "
      ]
     },
     "execution_count": 33,
     "metadata": {},
     "output_type": "execute_result"
    }
   ],
   "source": [
    "df.loc[df['InternetService'] == 1, 'InternetService'] = 'No'\n",
    "df['gender'] = df['gender'].apply(lambda x: 1 if x=='Female' else 0)\n",
    "df = df.apply(lambda x: x.astype(int) if x.name not in ['Type', 'PaymentMethod', 'InternetService', 'MonthlyCharges', 'TotalCharges'] else x)\n",
    "df = df.apply(lambda x: x.astype(float) if x.name in ['MonthlyCharges', 'TotalCharges'] else x)\n",
    "df.head()"
   ]
  },
  {
   "cell_type": "code",
   "execution_count": 34,
   "metadata": {},
   "outputs": [
    {
     "data": {
      "text/html": [
       "<div>\n",
       "<style scoped>\n",
       "    .dataframe tbody tr th:only-of-type {\n",
       "        vertical-align: middle;\n",
       "    }\n",
       "\n",
       "    .dataframe tbody tr th {\n",
       "        vertical-align: top;\n",
       "    }\n",
       "\n",
       "    .dataframe thead th {\n",
       "        text-align: right;\n",
       "    }\n",
       "</style>\n",
       "<table border=\"1\" class=\"dataframe\">\n",
       "  <thead>\n",
       "    <tr style=\"text-align: right;\">\n",
       "      <th></th>\n",
       "      <th>NaN_part</th>\n",
       "      <th>empty_counts</th>\n",
       "      <th>space_counts</th>\n",
       "      <th>0_counts</th>\n",
       "      <th>unique_counts</th>\n",
       "      <th>min_value</th>\n",
       "      <th>max_value</th>\n",
       "      <th>dupl_sum</th>\n",
       "      <th>dtypes</th>\n",
       "      <th>length</th>\n",
       "    </tr>\n",
       "  </thead>\n",
       "  <tbody>\n",
       "    <tr>\n",
       "      <th>EndDate</th>\n",
       "      <td>0</td>\n",
       "      <td>0</td>\n",
       "      <td>0</td>\n",
       "      <td>5163</td>\n",
       "      <td>2</td>\n",
       "      <td>0</td>\n",
       "      <td>1</td>\n",
       "      <td>7030</td>\n",
       "      <td>int32</td>\n",
       "      <td>7032</td>\n",
       "    </tr>\n",
       "    <tr>\n",
       "      <th>Type</th>\n",
       "      <td>0</td>\n",
       "      <td>0</td>\n",
       "      <td>0</td>\n",
       "      <td>0</td>\n",
       "      <td>3</td>\n",
       "      <td>Month-to-month</td>\n",
       "      <td>Two year</td>\n",
       "      <td>7029</td>\n",
       "      <td>object</td>\n",
       "      <td>7032</td>\n",
       "    </tr>\n",
       "    <tr>\n",
       "      <th>PaperlessBilling</th>\n",
       "      <td>0</td>\n",
       "      <td>0</td>\n",
       "      <td>0</td>\n",
       "      <td>4168</td>\n",
       "      <td>2</td>\n",
       "      <td>0</td>\n",
       "      <td>1</td>\n",
       "      <td>7030</td>\n",
       "      <td>int32</td>\n",
       "      <td>7032</td>\n",
       "    </tr>\n",
       "    <tr>\n",
       "      <th>PaymentMethod</th>\n",
       "      <td>0</td>\n",
       "      <td>0</td>\n",
       "      <td>0</td>\n",
       "      <td>0</td>\n",
       "      <td>4</td>\n",
       "      <td>Bank transfer (automatic)</td>\n",
       "      <td>Mailed check</td>\n",
       "      <td>7028</td>\n",
       "      <td>object</td>\n",
       "      <td>7032</td>\n",
       "    </tr>\n",
       "    <tr>\n",
       "      <th>MonthlyCharges</th>\n",
       "      <td>0</td>\n",
       "      <td>0</td>\n",
       "      <td>0</td>\n",
       "      <td>0</td>\n",
       "      <td>1584</td>\n",
       "      <td>18.25</td>\n",
       "      <td>118.75</td>\n",
       "      <td>5448</td>\n",
       "      <td>float64</td>\n",
       "      <td>7032</td>\n",
       "    </tr>\n",
       "    <tr>\n",
       "      <th>TotalCharges</th>\n",
       "      <td>0</td>\n",
       "      <td>0</td>\n",
       "      <td>0</td>\n",
       "      <td>0</td>\n",
       "      <td>6530</td>\n",
       "      <td>18.8</td>\n",
       "      <td>8684.8</td>\n",
       "      <td>502</td>\n",
       "      <td>float64</td>\n",
       "      <td>7032</td>\n",
       "    </tr>\n",
       "    <tr>\n",
       "      <th>ContractLive</th>\n",
       "      <td>0</td>\n",
       "      <td>0</td>\n",
       "      <td>0</td>\n",
       "      <td>0</td>\n",
       "      <td>155</td>\n",
       "      <td>30</td>\n",
       "      <td>2191</td>\n",
       "      <td>6877</td>\n",
       "      <td>int32</td>\n",
       "      <td>7032</td>\n",
       "    </tr>\n",
       "    <tr>\n",
       "      <th>InternetService</th>\n",
       "      <td>0</td>\n",
       "      <td>0</td>\n",
       "      <td>0</td>\n",
       "      <td>0</td>\n",
       "      <td>3</td>\n",
       "      <td>DSL</td>\n",
       "      <td>No</td>\n",
       "      <td>7029</td>\n",
       "      <td>object</td>\n",
       "      <td>7032</td>\n",
       "    </tr>\n",
       "    <tr>\n",
       "      <th>OnlineSecurity</th>\n",
       "      <td>0</td>\n",
       "      <td>0</td>\n",
       "      <td>0</td>\n",
       "      <td>2015</td>\n",
       "      <td>2</td>\n",
       "      <td>0</td>\n",
       "      <td>1</td>\n",
       "      <td>7030</td>\n",
       "      <td>int32</td>\n",
       "      <td>7032</td>\n",
       "    </tr>\n",
       "    <tr>\n",
       "      <th>OnlineBackup</th>\n",
       "      <td>0</td>\n",
       "      <td>0</td>\n",
       "      <td>0</td>\n",
       "      <td>2425</td>\n",
       "      <td>2</td>\n",
       "      <td>0</td>\n",
       "      <td>1</td>\n",
       "      <td>7030</td>\n",
       "      <td>int32</td>\n",
       "      <td>7032</td>\n",
       "    </tr>\n",
       "    <tr>\n",
       "      <th>DeviceProtection</th>\n",
       "      <td>0</td>\n",
       "      <td>0</td>\n",
       "      <td>0</td>\n",
       "      <td>2418</td>\n",
       "      <td>2</td>\n",
       "      <td>0</td>\n",
       "      <td>1</td>\n",
       "      <td>7030</td>\n",
       "      <td>int32</td>\n",
       "      <td>7032</td>\n",
       "    </tr>\n",
       "    <tr>\n",
       "      <th>TechSupport</th>\n",
       "      <td>0</td>\n",
       "      <td>0</td>\n",
       "      <td>0</td>\n",
       "      <td>2040</td>\n",
       "      <td>2</td>\n",
       "      <td>0</td>\n",
       "      <td>1</td>\n",
       "      <td>7030</td>\n",
       "      <td>int32</td>\n",
       "      <td>7032</td>\n",
       "    </tr>\n",
       "    <tr>\n",
       "      <th>StreamingTV</th>\n",
       "      <td>0</td>\n",
       "      <td>0</td>\n",
       "      <td>0</td>\n",
       "      <td>2703</td>\n",
       "      <td>2</td>\n",
       "      <td>0</td>\n",
       "      <td>1</td>\n",
       "      <td>7030</td>\n",
       "      <td>int32</td>\n",
       "      <td>7032</td>\n",
       "    </tr>\n",
       "    <tr>\n",
       "      <th>StreamingMovies</th>\n",
       "      <td>0</td>\n",
       "      <td>0</td>\n",
       "      <td>0</td>\n",
       "      <td>2731</td>\n",
       "      <td>2</td>\n",
       "      <td>0</td>\n",
       "      <td>1</td>\n",
       "      <td>7030</td>\n",
       "      <td>int32</td>\n",
       "      <td>7032</td>\n",
       "    </tr>\n",
       "    <tr>\n",
       "      <th>gender</th>\n",
       "      <td>0</td>\n",
       "      <td>0</td>\n",
       "      <td>0</td>\n",
       "      <td>3549</td>\n",
       "      <td>2</td>\n",
       "      <td>0</td>\n",
       "      <td>1</td>\n",
       "      <td>7030</td>\n",
       "      <td>int32</td>\n",
       "      <td>7032</td>\n",
       "    </tr>\n",
       "    <tr>\n",
       "      <th>SeniorCitizen</th>\n",
       "      <td>0</td>\n",
       "      <td>0</td>\n",
       "      <td>0</td>\n",
       "      <td>5890</td>\n",
       "      <td>2</td>\n",
       "      <td>0</td>\n",
       "      <td>1</td>\n",
       "      <td>7030</td>\n",
       "      <td>int32</td>\n",
       "      <td>7032</td>\n",
       "    </tr>\n",
       "    <tr>\n",
       "      <th>Partner</th>\n",
       "      <td>0</td>\n",
       "      <td>0</td>\n",
       "      <td>0</td>\n",
       "      <td>3393</td>\n",
       "      <td>2</td>\n",
       "      <td>0</td>\n",
       "      <td>1</td>\n",
       "      <td>7030</td>\n",
       "      <td>int32</td>\n",
       "      <td>7032</td>\n",
       "    </tr>\n",
       "    <tr>\n",
       "      <th>Dependents</th>\n",
       "      <td>0</td>\n",
       "      <td>0</td>\n",
       "      <td>0</td>\n",
       "      <td>2099</td>\n",
       "      <td>2</td>\n",
       "      <td>0</td>\n",
       "      <td>1</td>\n",
       "      <td>7030</td>\n",
       "      <td>int32</td>\n",
       "      <td>7032</td>\n",
       "    </tr>\n",
       "    <tr>\n",
       "      <th>MultipleLines</th>\n",
       "      <td>0</td>\n",
       "      <td>0</td>\n",
       "      <td>0</td>\n",
       "      <td>2967</td>\n",
       "      <td>2</td>\n",
       "      <td>0</td>\n",
       "      <td>1</td>\n",
       "      <td>7030</td>\n",
       "      <td>int32</td>\n",
       "      <td>7032</td>\n",
       "    </tr>\n",
       "  </tbody>\n",
       "</table>\n",
       "</div>"
      ],
      "text/plain": [
       "                 NaN_part empty_counts space_counts 0_counts unique_counts  \\\n",
       "EndDate                 0            0            0     5163             2   \n",
       "Type                    0            0            0        0             3   \n",
       "PaperlessBilling        0            0            0     4168             2   \n",
       "PaymentMethod           0            0            0        0             4   \n",
       "MonthlyCharges          0            0            0        0          1584   \n",
       "TotalCharges            0            0            0        0          6530   \n",
       "ContractLive            0            0            0        0           155   \n",
       "InternetService         0            0            0        0             3   \n",
       "OnlineSecurity          0            0            0     2015             2   \n",
       "OnlineBackup            0            0            0     2425             2   \n",
       "DeviceProtection        0            0            0     2418             2   \n",
       "TechSupport             0            0            0     2040             2   \n",
       "StreamingTV             0            0            0     2703             2   \n",
       "StreamingMovies         0            0            0     2731             2   \n",
       "gender                  0            0            0     3549             2   \n",
       "SeniorCitizen           0            0            0     5890             2   \n",
       "Partner                 0            0            0     3393             2   \n",
       "Dependents              0            0            0     2099             2   \n",
       "MultipleLines           0            0            0     2967             2   \n",
       "\n",
       "                                  min_value     max_value dupl_sum   dtypes  \\\n",
       "EndDate                                   0             1     7030    int32   \n",
       "Type                         Month-to-month      Two year     7029   object   \n",
       "PaperlessBilling                          0             1     7030    int32   \n",
       "PaymentMethod     Bank transfer (automatic)  Mailed check     7028   object   \n",
       "MonthlyCharges                        18.25        118.75     5448  float64   \n",
       "TotalCharges                           18.8        8684.8      502  float64   \n",
       "ContractLive                             30          2191     6877    int32   \n",
       "InternetService                         DSL            No     7029   object   \n",
       "OnlineSecurity                            0             1     7030    int32   \n",
       "OnlineBackup                              0             1     7030    int32   \n",
       "DeviceProtection                          0             1     7030    int32   \n",
       "TechSupport                               0             1     7030    int32   \n",
       "StreamingTV                               0             1     7030    int32   \n",
       "StreamingMovies                           0             1     7030    int32   \n",
       "gender                                    0             1     7030    int32   \n",
       "SeniorCitizen                             0             1     7030    int32   \n",
       "Partner                                   0             1     7030    int32   \n",
       "Dependents                                0             1     7030    int32   \n",
       "MultipleLines                             0             1     7030    int32   \n",
       "\n",
       "                 length  \n",
       "EndDate            7032  \n",
       "Type               7032  \n",
       "PaperlessBilling   7032  \n",
       "PaymentMethod      7032  \n",
       "MonthlyCharges     7032  \n",
       "TotalCharges       7032  \n",
       "ContractLive       7032  \n",
       "InternetService    7032  \n",
       "OnlineSecurity     7032  \n",
       "OnlineBackup       7032  \n",
       "DeviceProtection   7032  \n",
       "TechSupport        7032  \n",
       "StreamingTV        7032  \n",
       "StreamingMovies    7032  \n",
       "gender             7032  \n",
       "SeniorCitizen      7032  \n",
       "Partner            7032  \n",
       "Dependents         7032  \n",
       "MultipleLines      7032  "
      ]
     },
     "execution_count": 34,
     "metadata": {},
     "output_type": "execute_result"
    }
   ],
   "source": [
    "miss = missing_values(df)\n",
    "miss"
   ]
  },
  {
   "cell_type": "markdown",
   "metadata": {},
   "source": [
    "Предобработка выполнена"
   ]
  },
  {
   "cell_type": "markdown",
   "metadata": {},
   "source": [
    "## Подготовка модели"
   ]
  },
  {
   "cell_type": "markdown",
   "metadata": {},
   "source": [
    "Посмотрю на баланс классов"
   ]
  },
  {
   "cell_type": "code",
   "execution_count": 35,
   "metadata": {},
   "outputs": [
    {
     "name": "stdout",
     "output_type": "stream",
     "text": [
      "0    0.734215\n",
      "1    0.265785\n",
      "Name: EndDate, dtype: float64\n"
     ]
    },
    {
     "data": {
      "text/plain": [
       "<AxesSubplot:>"
      ]
     },
     "execution_count": 35,
     "metadata": {},
     "output_type": "execute_result"
    },
    {
     "data": {
      "image/png": "[encoded data removed]",
      "text/plain": [
       "<Figure size 432x288 with 1 Axes>"
      ]
     },
     "metadata": {
      "needs_background": "light"
     },
     "output_type": "display_data"
    }
   ],
   "source": [
    "class_frequency = df['EndDate'].value_counts(normalize=True)\n",
    "print(class_frequency)\n",
    "class_frequency.plot(kind='bar')"
   ]
  },
  {
   "cell_type": "markdown",
   "metadata": {},
   "source": [
    "Есть дисбаланс классов. Стоит использовать техники по уменьшению влияния дисбаланса классов. Но сначала надо подготовить модель, удалить лишнее и подготовить к машинному обучению. \n",
    "\n",
    "Проведу кодирование и разобью датасет на общие и целевой признаки"
   ]
  },
  {
   "cell_type": "code",
   "execution_count": 36,
   "metadata": {},
   "outputs": [
    {
     "data": {
      "text/html": [
       "<div>\n",
       "<style scoped>\n",
       "    .dataframe tbody tr th:only-of-type {\n",
       "        vertical-align: middle;\n",
       "    }\n",
       "\n",
       "    .dataframe tbody tr th {\n",
       "        vertical-align: top;\n",
       "    }\n",
       "\n",
       "    .dataframe thead th {\n",
       "        text-align: right;\n",
       "    }\n",
       "</style>\n",
       "<table border=\"1\" class=\"dataframe\">\n",
       "  <thead>\n",
       "    <tr style=\"text-align: right;\">\n",
       "      <th></th>\n",
       "      <th>EndDate</th>\n",
       "      <th>PaperlessBilling</th>\n",
       "      <th>MonthlyCharges</th>\n",
       "      <th>TotalCharges</th>\n",
       "      <th>ContractLive</th>\n",
       "      <th>OnlineSecurity</th>\n",
       "      <th>OnlineBackup</th>\n",
       "      <th>DeviceProtection</th>\n",
       "      <th>TechSupport</th>\n",
       "      <th>StreamingTV</th>\n",
       "      <th>...</th>\n",
       "      <th>Partner</th>\n",
       "      <th>Dependents</th>\n",
       "      <th>MultipleLines</th>\n",
       "      <th>Type_One year</th>\n",
       "      <th>Type_Two year</th>\n",
       "      <th>PaymentMethod_Credit card (automatic)</th>\n",
       "      <th>PaymentMethod_Electronic check</th>\n",
       "      <th>PaymentMethod_Mailed check</th>\n",
       "      <th>InternetService_Fiber optic</th>\n",
       "      <th>InternetService_No</th>\n",
       "    </tr>\n",
       "  </thead>\n",
       "  <tbody>\n",
       "    <tr>\n",
       "      <th>7590-VHVEG</th>\n",
       "      <td>0</td>\n",
       "      <td>0</td>\n",
       "      <td>29.85</td>\n",
       "      <td>29.85</td>\n",
       "      <td>31</td>\n",
       "      <td>1</td>\n",
       "      <td>0</td>\n",
       "      <td>1</td>\n",
       "      <td>1</td>\n",
       "      <td>1</td>\n",
       "      <td>...</td>\n",
       "      <td>0</td>\n",
       "      <td>1</td>\n",
       "      <td>1</td>\n",
       "      <td>0</td>\n",
       "      <td>0</td>\n",
       "      <td>0</td>\n",
       "      <td>1</td>\n",
       "      <td>0</td>\n",
       "      <td>0</td>\n",
       "      <td>0</td>\n",
       "    </tr>\n",
       "    <tr>\n",
       "      <th>5575-GNVDE</th>\n",
       "      <td>0</td>\n",
       "      <td>1</td>\n",
       "      <td>56.95</td>\n",
       "      <td>1889.50</td>\n",
       "      <td>1036</td>\n",
       "      <td>0</td>\n",
       "      <td>1</td>\n",
       "      <td>0</td>\n",
       "      <td>1</td>\n",
       "      <td>1</td>\n",
       "      <td>...</td>\n",
       "      <td>1</td>\n",
       "      <td>1</td>\n",
       "      <td>1</td>\n",
       "      <td>1</td>\n",
       "      <td>0</td>\n",
       "      <td>0</td>\n",
       "      <td>0</td>\n",
       "      <td>1</td>\n",
       "      <td>0</td>\n",
       "      <td>0</td>\n",
       "    </tr>\n",
       "    <tr>\n",
       "      <th>3668-QPYBK</th>\n",
       "      <td>1</td>\n",
       "      <td>0</td>\n",
       "      <td>53.85</td>\n",
       "      <td>108.15</td>\n",
       "      <td>61</td>\n",
       "      <td>0</td>\n",
       "      <td>0</td>\n",
       "      <td>1</td>\n",
       "      <td>1</td>\n",
       "      <td>1</td>\n",
       "      <td>...</td>\n",
       "      <td>1</td>\n",
       "      <td>1</td>\n",
       "      <td>1</td>\n",
       "      <td>0</td>\n",
       "      <td>0</td>\n",
       "      <td>0</td>\n",
       "      <td>0</td>\n",
       "      <td>1</td>\n",
       "      <td>0</td>\n",
       "      <td>0</td>\n",
       "    </tr>\n",
       "    <tr>\n",
       "      <th>7795-CFOCW</th>\n",
       "      <td>0</td>\n",
       "      <td>1</td>\n",
       "      <td>42.30</td>\n",
       "      <td>1840.75</td>\n",
       "      <td>1371</td>\n",
       "      <td>0</td>\n",
       "      <td>1</td>\n",
       "      <td>0</td>\n",
       "      <td>0</td>\n",
       "      <td>1</td>\n",
       "      <td>...</td>\n",
       "      <td>1</td>\n",
       "      <td>1</td>\n",
       "      <td>1</td>\n",
       "      <td>1</td>\n",
       "      <td>0</td>\n",
       "      <td>0</td>\n",
       "      <td>0</td>\n",
       "      <td>0</td>\n",
       "      <td>0</td>\n",
       "      <td>0</td>\n",
       "    </tr>\n",
       "    <tr>\n",
       "      <th>9237-HQITU</th>\n",
       "      <td>1</td>\n",
       "      <td>0</td>\n",
       "      <td>70.70</td>\n",
       "      <td>151.65</td>\n",
       "      <td>61</td>\n",
       "      <td>1</td>\n",
       "      <td>1</td>\n",
       "      <td>1</td>\n",
       "      <td>1</td>\n",
       "      <td>1</td>\n",
       "      <td>...</td>\n",
       "      <td>1</td>\n",
       "      <td>1</td>\n",
       "      <td>1</td>\n",
       "      <td>0</td>\n",
       "      <td>0</td>\n",
       "      <td>0</td>\n",
       "      <td>1</td>\n",
       "      <td>0</td>\n",
       "      <td>1</td>\n",
       "      <td>0</td>\n",
       "    </tr>\n",
       "  </tbody>\n",
       "</table>\n",
       "<p>5 rows × 23 columns</p>\n",
       "</div>"
      ],
      "text/plain": [
       "            EndDate  PaperlessBilling  MonthlyCharges  TotalCharges  \\\n",
       "7590-VHVEG        0                 0           29.85         29.85   \n",
       "5575-GNVDE        0                 1           56.95       1889.50   \n",
       "3668-QPYBK        1                 0           53.85        108.15   \n",
       "7795-CFOCW        0                 1           42.30       1840.75   \n",
       "9237-HQITU        1                 0           70.70        151.65   \n",
       "\n",
       "            ContractLive  OnlineSecurity  OnlineBackup  DeviceProtection  \\\n",
       "7590-VHVEG            31               1             0                 1   \n",
       "5575-GNVDE          1036               0             1                 0   \n",
       "3668-QPYBK            61               0             0                 1   \n",
       "7795-CFOCW          1371               0             1                 0   \n",
       "9237-HQITU            61               1             1                 1   \n",
       "\n",
       "            TechSupport  StreamingTV  ...  Partner  Dependents  MultipleLines  \\\n",
       "7590-VHVEG            1            1  ...        0           1              1   \n",
       "5575-GNVDE            1            1  ...        1           1              1   \n",
       "3668-QPYBK            1            1  ...        1           1              1   \n",
       "7795-CFOCW            0            1  ...        1           1              1   \n",
       "9237-HQITU            1            1  ...        1           1              1   \n",
       "\n",
       "            Type_One year  Type_Two year  \\\n",
       "7590-VHVEG              0              0   \n",
       "5575-GNVDE              1              0   \n",
       "3668-QPYBK              0              0   \n",
       "7795-CFOCW              1              0   \n",
       "9237-HQITU              0              0   \n",
       "\n",
       "            PaymentMethod_Credit card (automatic)  \\\n",
       "7590-VHVEG                                      0   \n",
       "5575-GNVDE                                      0   \n",
       "3668-QPYBK                                      0   \n",
       "7795-CFOCW                                      0   \n",
       "9237-HQITU                                      0   \n",
       "\n",
       "            PaymentMethod_Electronic check  PaymentMethod_Mailed check  \\\n",
       "7590-VHVEG                               1                           0   \n",
       "5575-GNVDE                               0                           1   \n",
       "3668-QPYBK                               0                           1   \n",
       "7795-CFOCW                               0                           0   \n",
       "9237-HQITU                               1                           0   \n",
       "\n",
       "            InternetService_Fiber optic  InternetService_No  \n",
       "7590-VHVEG                            0                   0  \n",
       "5575-GNVDE                            0                   0  \n",
       "3668-QPYBK                            0                   0  \n",
       "7795-CFOCW                            0                   0  \n",
       "9237-HQITU                            1                   0  \n",
       "\n",
       "[5 rows x 23 columns]"
      ]
     },
     "execution_count": 36,
     "metadata": {},
     "output_type": "execute_result"
    }
   ],
   "source": [
    "features_ohe = pd.get_dummies(df, drop_first=True)\n",
    "features_ohe.head()"
   ]
  },
  {
   "cell_type": "code",
   "execution_count": 37,
   "metadata": {},
   "outputs": [
    {
     "name": "stdout",
     "output_type": "stream",
     "text": [
      "(7032, 22)\n",
      "(7032,)\n"
     ]
    }
   ],
   "source": [
    "features = features_ohe.drop('EndDate', axis=1)\n",
    "target = features_ohe['EndDate']\n",
    "print(features.shape)\n",
    "print(target.shape)"
   ]
  },
  {
   "cell_type": "code",
   "execution_count": null,
   "metadata": {},
   "outputs": [],
   "source": [
    "features.reset_index(inplace=True, drop=True)\n",
    "target = target.reset_index(drop=True)"
   ]
  },
  {
   "cell_type": "markdown",
   "metadata": {},
   "source": [
    "Данные были закодированы и переведены в числовой вид. Теперь можно оценить мультиколлинеарность данных:"
   ]
  },
  {
   "cell_type": "code",
   "execution_count": 39,
   "metadata": {},
   "outputs": [
    {
     "data": {
      "image/png": "[encoded data removed]",
      "text/plain": [
       "<Figure size 1152x576 with 2 Axes>"
      ]
     },
     "metadata": {
      "needs_background": "light"
     },
     "output_type": "display_data"
    }
   ],
   "source": [
    "fig = plt.figure(figsize = (16,8))\n",
    "sb.heatmap(features.corr(), vmin=-1, vmax=1, center=0, annot=True, linewidths=0.5)\n",
    "plt.show();"
   ]
  },
  {
   "cell_type": "markdown",
   "metadata": {},
   "source": [
    "Матрица корреляции признаков показывает, что есть:\n",
    "- высокая положительная связь между MonthlyCharges and InternetService_Fiber optic (0.79), TotalCharges and ContractLive (0.83)\n",
    "- высокая отрицательная связь между MonthlyCharges and InternetService_No\n",
    "- относительно высокая положительная связь между MonthlyCarges and TotalCharges (0.65)\n",
    "- относительно высокая отрицательная связь между MonthlyCharges and StreamingTV (0.63), MonthlyCharges and StreamingMovies (0.63)\n",
    "\n",
    "Исходя из этих наблюдений, можно сделать вывод, что признак MonthlyCharges необходимо удалить, так как он участвует во всех высоких корреляционных связях.\n",
    "\n",
    "Признаки TotalCharges and ContractLive также имеют высокую связь (0.83). Удаляю TotalCharges."
   ]
  },
  {
   "cell_type": "code",
   "execution_count": 40,
   "metadata": {},
   "outputs": [],
   "source": [
    "features = features.drop(columns=['MonthlyCharges', 'TotalCharges'])"
   ]
  },
  {
   "cell_type": "code",
   "execution_count": 41,
   "metadata": {},
   "outputs": [
    {
     "name": "stdout",
     "output_type": "stream",
     "text": [
      "(5274, 20)\n",
      "(1758, 20)\n",
      "(5274,)\n",
      "(1758,)\n"
     ]
    }
   ],
   "source": [
    "features_train, features_test, target_train, target_test = train_test_split(features, target, train_size=0.75, \n",
    "                                                                            random_state=rs, stratify=target)\n",
    "print(features_train.shape)\n",
    "print(features_test.shape)\n",
    "print(target_train.shape)\n",
    "print(target_test.shape)"
   ]
  },
  {
   "cell_type": "code",
   "execution_count": 42,
   "metadata": {},
   "outputs": [
    {
     "name": "stdout",
     "output_type": "stream",
     "text": [
      "(3691, 20)\n",
      "(1583, 20)\n",
      "(3691,)\n",
      "(1583,)\n"
     ]
    }
   ],
   "source": [
    "features_train_val, features_valid, target_train_val, target_valid = train_test_split(features_train, target_train, train_size=0.7, \n",
    "                                                                                      random_state=rs, stratify=target_train)\n",
    "print(features_train_val.shape)\n",
    "print(features_valid.shape)\n",
    "print(target_train_val.shape)\n",
    "print(target_valid.shape)"
   ]
  },
  {
   "cell_type": "code",
   "execution_count": 43,
   "metadata": {},
   "outputs": [
    {
     "data": {
      "text/html": [
       "<div>\n",
       "<style scoped>\n",
       "    .dataframe tbody tr th:only-of-type {\n",
       "        vertical-align: middle;\n",
       "    }\n",
       "\n",
       "    .dataframe tbody tr th {\n",
       "        vertical-align: top;\n",
       "    }\n",
       "\n",
       "    .dataframe thead th {\n",
       "        text-align: right;\n",
       "    }\n",
       "</style>\n",
       "<table border=\"1\" class=\"dataframe\">\n",
       "  <thead>\n",
       "    <tr style=\"text-align: right;\">\n",
       "      <th></th>\n",
       "      <th>PaperlessBilling</th>\n",
       "      <th>ContractLive</th>\n",
       "      <th>OnlineSecurity</th>\n",
       "      <th>OnlineBackup</th>\n",
       "      <th>DeviceProtection</th>\n",
       "      <th>TechSupport</th>\n",
       "      <th>StreamingTV</th>\n",
       "      <th>StreamingMovies</th>\n",
       "      <th>gender</th>\n",
       "      <th>SeniorCitizen</th>\n",
       "      <th>Partner</th>\n",
       "      <th>Dependents</th>\n",
       "      <th>MultipleLines</th>\n",
       "      <th>Type_One year</th>\n",
       "      <th>Type_Two year</th>\n",
       "      <th>PaymentMethod_Credit card (automatic)</th>\n",
       "      <th>PaymentMethod_Electronic check</th>\n",
       "      <th>PaymentMethod_Mailed check</th>\n",
       "      <th>InternetService_Fiber optic</th>\n",
       "      <th>InternetService_No</th>\n",
       "    </tr>\n",
       "  </thead>\n",
       "  <tbody>\n",
       "    <tr>\n",
       "      <th>1715</th>\n",
       "      <td>-0.815981</td>\n",
       "      <td>-1.240762</td>\n",
       "      <td>0.632204</td>\n",
       "      <td>-1.360445</td>\n",
       "      <td>0.727115</td>\n",
       "      <td>0.636907</td>\n",
       "      <td>-1.274828</td>\n",
       "      <td>0.802186</td>\n",
       "      <td>1.007613</td>\n",
       "      <td>2.222429</td>\n",
       "      <td>0.96827</td>\n",
       "      <td>0.648689</td>\n",
       "      <td>0.846969</td>\n",
       "      <td>-0.518366</td>\n",
       "      <td>-0.553548</td>\n",
       "      <td>-0.529829</td>\n",
       "      <td>-0.706805</td>\n",
       "      <td>-0.547700</td>\n",
       "      <td>1.124928</td>\n",
       "      <td>-0.520426</td>\n",
       "    </tr>\n",
       "    <tr>\n",
       "      <th>6648</th>\n",
       "      <td>1.225519</td>\n",
       "      <td>0.684006</td>\n",
       "      <td>0.632204</td>\n",
       "      <td>0.735054</td>\n",
       "      <td>0.727115</td>\n",
       "      <td>0.636907</td>\n",
       "      <td>0.784419</td>\n",
       "      <td>0.802186</td>\n",
       "      <td>1.007613</td>\n",
       "      <td>-0.449958</td>\n",
       "      <td>-1.03277</td>\n",
       "      <td>0.648689</td>\n",
       "      <td>0.846969</td>\n",
       "      <td>1.929139</td>\n",
       "      <td>-0.553548</td>\n",
       "      <td>-0.529829</td>\n",
       "      <td>-0.706805</td>\n",
       "      <td>-0.547700</td>\n",
       "      <td>-0.888945</td>\n",
       "      <td>1.921502</td>\n",
       "    </tr>\n",
       "    <tr>\n",
       "      <th>4949</th>\n",
       "      <td>-0.815981</td>\n",
       "      <td>-0.791200</td>\n",
       "      <td>0.632204</td>\n",
       "      <td>0.735054</td>\n",
       "      <td>0.727115</td>\n",
       "      <td>0.636907</td>\n",
       "      <td>0.784419</td>\n",
       "      <td>0.802186</td>\n",
       "      <td>-0.992444</td>\n",
       "      <td>-0.449958</td>\n",
       "      <td>0.96827</td>\n",
       "      <td>0.648689</td>\n",
       "      <td>0.846969</td>\n",
       "      <td>-0.518366</td>\n",
       "      <td>-0.553548</td>\n",
       "      <td>-0.529829</td>\n",
       "      <td>1.414817</td>\n",
       "      <td>-0.547700</td>\n",
       "      <td>-0.888945</td>\n",
       "      <td>1.921502</td>\n",
       "    </tr>\n",
       "    <tr>\n",
       "      <th>4673</th>\n",
       "      <td>-0.815981</td>\n",
       "      <td>-0.954065</td>\n",
       "      <td>0.632204</td>\n",
       "      <td>0.735054</td>\n",
       "      <td>0.727115</td>\n",
       "      <td>0.636907</td>\n",
       "      <td>0.784419</td>\n",
       "      <td>-1.246593</td>\n",
       "      <td>-0.992444</td>\n",
       "      <td>2.222429</td>\n",
       "      <td>0.96827</td>\n",
       "      <td>0.648689</td>\n",
       "      <td>-1.180681</td>\n",
       "      <td>-0.518366</td>\n",
       "      <td>-0.553548</td>\n",
       "      <td>-0.529829</td>\n",
       "      <td>1.414817</td>\n",
       "      <td>-0.547700</td>\n",
       "      <td>1.124928</td>\n",
       "      <td>-0.520426</td>\n",
       "    </tr>\n",
       "    <tr>\n",
       "      <th>3503</th>\n",
       "      <td>-0.815981</td>\n",
       "      <td>-1.282487</td>\n",
       "      <td>0.632204</td>\n",
       "      <td>0.735054</td>\n",
       "      <td>0.727115</td>\n",
       "      <td>0.636907</td>\n",
       "      <td>0.784419</td>\n",
       "      <td>0.802186</td>\n",
       "      <td>-0.992444</td>\n",
       "      <td>-0.449958</td>\n",
       "      <td>0.96827</td>\n",
       "      <td>0.648689</td>\n",
       "      <td>0.846969</td>\n",
       "      <td>-0.518366</td>\n",
       "      <td>-0.553548</td>\n",
       "      <td>-0.529829</td>\n",
       "      <td>-0.706805</td>\n",
       "      <td>1.825817</td>\n",
       "      <td>-0.888945</td>\n",
       "      <td>-0.520426</td>\n",
       "    </tr>\n",
       "  </tbody>\n",
       "</table>\n",
       "</div>"
      ],
      "text/plain": [
       "      PaperlessBilling  ContractLive  OnlineSecurity  OnlineBackup  \\\n",
       "1715         -0.815981     -1.240762        0.632204     -1.360445   \n",
       "6648          1.225519      0.684006        0.632204      0.735054   \n",
       "4949         -0.815981     -0.791200        0.632204      0.735054   \n",
       "4673         -0.815981     -0.954065        0.632204      0.735054   \n",
       "3503         -0.815981     -1.282487        0.632204      0.735054   \n",
       "\n",
       "      DeviceProtection  TechSupport  StreamingTV  StreamingMovies    gender  \\\n",
       "1715          0.727115     0.636907    -1.274828         0.802186  1.007613   \n",
       "6648          0.727115     0.636907     0.784419         0.802186  1.007613   \n",
       "4949          0.727115     0.636907     0.784419         0.802186 -0.992444   \n",
       "4673          0.727115     0.636907     0.784419        -1.246593 -0.992444   \n",
       "3503          0.727115     0.636907     0.784419         0.802186 -0.992444   \n",
       "\n",
       "      SeniorCitizen  Partner  Dependents  MultipleLines  Type_One year  \\\n",
       "1715       2.222429  0.96827    0.648689       0.846969      -0.518366   \n",
       "6648      -0.449958 -1.03277    0.648689       0.846969       1.929139   \n",
       "4949      -0.449958  0.96827    0.648689       0.846969      -0.518366   \n",
       "4673       2.222429  0.96827    0.648689      -1.180681      -0.518366   \n",
       "3503      -0.449958  0.96827    0.648689       0.846969      -0.518366   \n",
       "\n",
       "      Type_Two year  PaymentMethod_Credit card (automatic)  \\\n",
       "1715      -0.553548                              -0.529829   \n",
       "6648      -0.553548                              -0.529829   \n",
       "4949      -0.553548                              -0.529829   \n",
       "4673      -0.553548                              -0.529829   \n",
       "3503      -0.553548                              -0.529829   \n",
       "\n",
       "      PaymentMethod_Electronic check  PaymentMethod_Mailed check  \\\n",
       "1715                       -0.706805                   -0.547700   \n",
       "6648                       -0.706805                   -0.547700   \n",
       "4949                        1.414817                   -0.547700   \n",
       "4673                        1.414817                   -0.547700   \n",
       "3503                       -0.706805                    1.825817   \n",
       "\n",
       "      InternetService_Fiber optic  InternetService_No  \n",
       "1715                     1.124928           -0.520426  \n",
       "6648                    -0.888945            1.921502  \n",
       "4949                    -0.888945            1.921502  \n",
       "4673                     1.124928           -0.520426  \n",
       "3503                    -0.888945           -0.520426  "
      ]
     },
     "execution_count": 43,
     "metadata": {},
     "output_type": "execute_result"
    }
   ],
   "source": [
    "scaler = StandardScaler()\n",
    "scaler.fit(features_train)\n",
    "\n",
    "features_train = pd.DataFrame(scaler.transform(features_train), columns=features_train.columns, index=features_train.index)\n",
    "features_test = pd.DataFrame(scaler.transform(features_test), columns=features_test.columns, index=features_test.index)\n",
    "features_train_val = pd.DataFrame(scaler.transform(features_train_val), columns=features_train_val.columns, index=features_train_val.index)\n",
    "features_valid = pd.DataFrame(scaler.transform(features_valid), columns=features_valid.columns, index=features_valid.index)\n",
    "\n",
    "features_train.head()"
   ]
  },
  {
   "cell_type": "markdown",
   "metadata": {},
   "source": [
    "<div style=\"background: #cceeaa; padding: 5px; border: 1px solid green; border-radius: 5px;\">\n",
    "    <font color='green'> <b><u>КОММЕНТАРИЙ РЕВЬЮЕРА</u></b>\n",
    "</font>\n",
    "<font color='green'><br>понял"
   ]
  },
  {
   "cell_type": "code",
   "execution_count": 44,
   "metadata": {},
   "outputs": [
    {
     "name": "stdout",
     "output_type": "stream",
     "text": [
      "Перекресная проверка (кросс-валидация):\n",
      "f1 на обучающей выборке: 0.2603475692270264\n",
      "f1 на валидационной выборке: 0.2565823964174623\n",
      "f1 на тестовой выборке: 0.2565720294426919\n",
      "\n",
      "Разница метрики f1 между train and valid не превышает 1.4%. Переобучения нет, если разница <10%\n",
      "Разница метрики f1 между train and test не превышает 1.5%.\n",
      "\n",
      "Тестовая выборка:\n",
      "Доля положительных предсказаний от всех правильных предсказаний - Recall:  0.26124197002141325\n",
      "Доля положительных предсказаний от всех положительных предсказаний - Precision:  0.25206611570247933\n",
      "Среднее гармоническое полноты и точности - F1: 0.2565720294426919\n",
      "Accuracy: 0.5978384527872582\n",
      "ROC_AUC =  0.49041959074269736\n"
     ]
    }
   ],
   "source": [
    "model_dummy = DummyClassifier(random_state=rs, strategy='stratified')\n",
    "cv_search(model_dummy, features_train, target_train, features_test)"
   ]
  },
  {
   "cell_type": "markdown",
   "metadata": {},
   "source": [
    "Опорное значеник roc_auc = 0.49. Создам отдельные датасеты в которых приведу целевой класс к балансу по техникам увеличения и уменьшения классов:"
   ]
  },
  {
   "cell_type": "code",
   "execution_count": 45,
   "metadata": {},
   "outputs": [],
   "source": [
    "features_downsampled, target_downsampled = downsample(features_train, target_train, fraction_zeros=0.3)"
   ]
  },
  {
   "cell_type": "code",
   "execution_count": 46,
   "metadata": {},
   "outputs": [
    {
     "name": "stdout",
     "output_type": "stream",
     "text": [
      "1    0.546802\n",
      "0    0.453198\n",
      "Name: EndDate, dtype: float64\n"
     ]
    }
   ],
   "source": [
    "class_frequency = target_downsampled.value_counts(normalize=True)\n",
    "print(class_frequency)"
   ]
  },
  {
   "cell_type": "code",
   "execution_count": 47,
   "metadata": {},
   "outputs": [],
   "source": [
    "features_upsampled, target_upsampled = upsample(features_train, target_train, repeat_ones=2)"
   ]
  },
  {
   "cell_type": "code",
   "execution_count": 48,
   "metadata": {
    "scrolled": true
   },
   "outputs": [
    {
     "name": "stdout",
     "output_type": "stream",
     "text": [
      "0    0.579988\n",
      "1    0.420012\n",
      "Name: EndDate, dtype: float64\n"
     ]
    }
   ],
   "source": [
    "class_frequency = target_upsampled.value_counts(normalize=True)\n",
    "print(class_frequency)"
   ]
  },
  {
   "cell_type": "markdown",
   "metadata": {},
   "source": [
    "## Обучение модели"
   ]
  },
  {
   "cell_type": "markdown",
   "metadata": {},
   "source": [
    "### Анализ метрики auc_roc алгоритма LogisticRegression"
   ]
  },
  {
   "cell_type": "markdown",
   "metadata": {},
   "source": [
    "Проведу исследование и обучение модели LogisticRegression."
   ]
  },
  {
   "cell_type": "code",
   "execution_count": 49,
   "metadata": {},
   "outputs": [
    {
     "name": "stdout",
     "output_type": "stream",
     "text": [
      "Wall time: 7.34 s\n"
     ]
    },
    {
     "name": "stderr",
     "output_type": "stream",
     "text": [
      "C:\\Users\\George\\anaconda3\\lib\\site-packages\\sklearn\\linear_model\\_logistic.py:1353: UserWarning: 'n_jobs' > 1 does not have any effect when 'solver' is set to 'liblinear'. Got 'n_jobs' = 8.\n",
      "  warnings.warn(\"'n_jobs' > 1 does not have any effect when\"\n"
     ]
    },
    {
     "data": {
      "text/plain": [
       "{'solver': 'liblinear'}"
      ]
     },
     "execution_count": 49,
     "metadata": {},
     "output_type": "execute_result"
    }
   ],
   "source": [
    "%%time\n",
    "lr = LogisticRegression(random_state=rs, n_jobs=-1)\n",
    "params = {'solver': ['newton-cg', 'lbfgs', 'liblinear', 'sag', 'saga']}\n",
    "\n",
    "gs_lr = GridSearchCV(lr, params, scoring=('f1'), n_jobs=-1, cv=5)\n",
    "gs_lr.fit(features_train, target_train)\n",
    "gs_lr.best_params_"
   ]
  },
  {
   "cell_type": "code",
   "execution_count": 50,
   "metadata": {},
   "outputs": [
    {
     "name": "stdout",
     "output_type": "stream",
     "text": [
      "Перекресная проверка (кросс-валидация):\n",
      "f1 на обучающей выборке: 0.5974990504621986\n",
      "f1 на валидационной выборке: 0.5917798714193211\n",
      "f1 на тестовой выборке: 0.5814234016887816\n",
      "\n",
      "Разница метрики f1 между train and valid не превышает 0.96%. Переобучения нет, если разница <10%\n",
      "Разница метрики f1 между train and test не превышает 2.7%.\n",
      "\n",
      "Тестовая выборка:\n",
      "Доля положительных предсказаний от всех правильных предсказаний - Recall:  0.5160599571734475\n",
      "Доля положительных предсказаний от всех положительных предсказаний - Precision:  0.6657458563535912\n",
      "Среднее гармоническое полноты и точности - F1: 0.5814234016887816\n",
      "Accuracy: 0.8026166097838453\n",
      "ROC_AUC =  0.7111670816076378\n"
     ]
    }
   ],
   "source": [
    "model = LogisticRegression(**gs_lr.best_params_)\n",
    "cv_search(model, features_train, target_train, features_test)"
   ]
  },
  {
   "cell_type": "markdown",
   "metadata": {},
   "source": [
    "Попробую использовать атрибут баланса классов"
   ]
  },
  {
   "cell_type": "code",
   "execution_count": 51,
   "metadata": {},
   "outputs": [
    {
     "name": "stdout",
     "output_type": "stream",
     "text": [
      "Wall time: 645 ms\n"
     ]
    },
    {
     "data": {
      "text/plain": [
       "{'solver': 'newton-cg'}"
      ]
     },
     "execution_count": 51,
     "metadata": {},
     "output_type": "execute_result"
    }
   ],
   "source": [
    "%%time\n",
    "lr = LogisticRegression(random_state=rs, n_jobs=-1, class_weight='balanced')\n",
    "params = {'solver': ['newton-cg', 'lbfgs', 'liblinear', 'sag', 'saga']}\n",
    "\n",
    "gs = GridSearchCV(lr, params, scoring=('f1'), n_jobs=-1, cv=5)\n",
    "gs.fit(features_train, target_train)\n",
    "gs.best_params_"
   ]
  },
  {
   "cell_type": "code",
   "execution_count": 52,
   "metadata": {},
   "outputs": [
    {
     "name": "stdout",
     "output_type": "stream",
     "text": [
      "Перекресная проверка (кросс-валидация):\n",
      "f1 на обучающей выборке: 0.5974196805990581\n",
      "f1 на валидационной выборке: 0.591373836231101\n",
      "f1 на тестовой выборке: 0.5814234016887816\n",
      "\n",
      "Разница метрики f1 между train and valid не превышает 1.0%. Переобучения нет, если разница <10%\n",
      "Разница метрики f1 между train and test не превышает 2.7%.\n",
      "\n",
      "Тестовая выборка:\n",
      "Доля положительных предсказаний от всех правильных предсказаний - Recall:  0.5160599571734475\n",
      "Доля положительных предсказаний от всех положительных предсказаний - Precision:  0.6657458563535912\n",
      "Среднее гармоническое полноты и точности - F1: 0.5814234016887816\n",
      "Accuracy: 0.8026166097838453\n",
      "ROC_AUC =  0.7111670816076378\n"
     ]
    }
   ],
   "source": [
    "model = LogisticRegression(**gs.best_params_)\n",
    "cv_search(model, features_train, target_train, features_test)"
   ]
  },
  {
   "cell_type": "markdown",
   "metadata": {},
   "source": [
    "Техника добавления данных для баланса целевого класса"
   ]
  },
  {
   "cell_type": "code",
   "execution_count": 53,
   "metadata": {},
   "outputs": [
    {
     "name": "stdout",
     "output_type": "stream",
     "text": [
      "Wall time: 1.3 s\n"
     ]
    },
    {
     "data": {
      "text/plain": [
       "{'solver': 'newton-cg'}"
      ]
     },
     "execution_count": 53,
     "metadata": {},
     "output_type": "execute_result"
    }
   ],
   "source": [
    "%%time\n",
    "lr = LogisticRegression(random_state=rs, n_jobs=-1)\n",
    "params = {'solver': ['newton-cg', 'lbfgs', 'liblinear', 'sag', 'saga']}\n",
    "\n",
    "gs = GridSearchCV(lr, params, scoring=('f1'), n_jobs=-1, cv=5)\n",
    "gs.fit(features_upsampled, target_upsampled)\n",
    "gs.best_params_"
   ]
  },
  {
   "cell_type": "code",
   "execution_count": 54,
   "metadata": {},
   "outputs": [
    {
     "name": "stdout",
     "output_type": "stream",
     "text": [
      "Перекресная проверка (кросс-валидация):\n",
      "f1 на обучающей выборке: 0.7267847974173189\n",
      "f1 на валидационной выборке: 0.7227558968057394\n",
      "f1 на тестовой выборке: 0.6263008514664145\n",
      "\n",
      "Разница метрики f1 между train and valid не превышает 0.55%. Переобучения нет, если разница <10%\n",
      "Разница метрики f1 между train and test не превышает 1.4e+01%.\n",
      "\n",
      "Тестовая выборка:\n",
      "Доля положительных предсказаний от всех правильных предсказаний - Recall:  0.708779443254818\n",
      "Доля положительных предсказаний от всех положительных предсказаний - Precision:  0.5610169491525424\n",
      "Среднее гармоническое полноты и точности - F1: 0.6263008514664145\n",
      "Accuracy: 0.7753128555176336\n",
      "ROC_AUC =  0.7540798842920101\n"
     ]
    }
   ],
   "source": [
    "model = LogisticRegression(**gs.best_params_)\n",
    "cv_search(model, features_upsampled, target_upsampled, features_test)"
   ]
  },
  {
   "cell_type": "markdown",
   "metadata": {},
   "source": [
    "Техника уменьшения данных для баланса целевого класса"
   ]
  },
  {
   "cell_type": "code",
   "execution_count": 55,
   "metadata": {},
   "outputs": [
    {
     "name": "stdout",
     "output_type": "stream",
     "text": [
      "Wall time: 428 ms\n"
     ]
    },
    {
     "data": {
      "text/plain": [
       "{'solver': 'newton-cg'}"
      ]
     },
     "execution_count": 55,
     "metadata": {},
     "output_type": "execute_result"
    }
   ],
   "source": [
    "%%time\n",
    "lr = LogisticRegression(random_state=rs, n_jobs=-1)\n",
    "params = {'solver': ['newton-cg', 'lbfgs', 'liblinear', 'sag', 'saga']}\n",
    "\n",
    "gs = GridSearchCV(lr, params, scoring=('f1'), n_jobs=-1, cv=5)\n",
    "gs.fit(features_downsampled, target_downsampled)\n",
    "gs.best_params_"
   ]
  },
  {
   "cell_type": "code",
   "execution_count": 56,
   "metadata": {},
   "outputs": [
    {
     "name": "stdout",
     "output_type": "stream",
     "text": [
      "Перекресная проверка (кросс-валидация):\n",
      "f1 на обучающей выборке: 0.7925317942851023\n",
      "f1 на валидационной выборке: 0.7863759189769735\n",
      "f1 на тестовой выборке: 0.6185397867104184\n",
      "\n",
      "Разница метрики f1 между train and valid не превышает 0.78%. Переобучения нет, если разница <10%\n",
      "Разница метрики f1 между train and test не превышает 2.2e+01%.\n",
      "\n",
      "Тестовая выборка:\n",
      "Доля положительных предсказаний от всех правильных предсказаний - Recall:  0.8072805139186295\n",
      "Доля положительных предсказаний от всех положительных предсказаний - Precision:  0.5013297872340425\n",
      "Среднее гармоническое полноты и точности - F1: 0.6185397867104184\n",
      "Accuracy: 0.735494880546075\n",
      "ROC_AUC =  0.758404005991073\n"
     ]
    }
   ],
   "source": [
    "model = LogisticRegression(**gs.best_params_)\n",
    "cv_search(model, features_downsampled, target_downsampled, features_test)"
   ]
  },
  {
   "cell_type": "markdown",
   "metadata": {},
   "source": [
    "Техника изменения порога"
   ]
  },
  {
   "cell_type": "code",
   "execution_count": 57,
   "metadata": {
    "scrolled": true
   },
   "outputs": [
    {
     "name": "stdout",
     "output_type": "stream",
     "text": [
      "Валидационная выборка на пороге threshold = 0.53:\n",
      "f1 = 0.58311345646438\n",
      "accuracy = 0.8379503763271614\n",
      "auc = 0.8003790271636134\n"
     ]
    },
    {
     "name": "stderr",
     "output_type": "stream",
     "text": [
      "C:\\Users\\George\\anaconda3\\lib\\site-packages\\sklearn\\metrics\\_classification.py:1221: UndefinedMetricWarning: Precision is ill-defined and being set to 0.0 due to no predicted samples. Use `zero_division` parameter to control this behavior.\n",
      "  _warn_prf(average, modifier, msg_start, len(result))\n",
      "C:\\Users\\George\\anaconda3\\lib\\site-packages\\sklearn\\metrics\\_classification.py:1221: UndefinedMetricWarning: Precision is ill-defined and being set to 0.0 due to no predicted samples. Use `zero_division` parameter to control this behavior.\n",
      "  _warn_prf(average, modifier, msg_start, len(result))\n",
      "C:\\Users\\George\\anaconda3\\lib\\site-packages\\sklearn\\metrics\\_classification.py:1221: UndefinedMetricWarning: Precision is ill-defined and being set to 0.0 due to no predicted samples. Use `zero_division` parameter to control this behavior.\n",
      "  _warn_prf(average, modifier, msg_start, len(result))\n",
      "C:\\Users\\George\\anaconda3\\lib\\site-packages\\sklearn\\metrics\\_classification.py:1221: UndefinedMetricWarning: Precision is ill-defined and being set to 0.0 due to no predicted samples. Use `zero_division` parameter to control this behavior.\n",
      "  _warn_prf(average, modifier, msg_start, len(result))\n",
      "C:\\Users\\George\\anaconda3\\lib\\site-packages\\sklearn\\metrics\\_classification.py:1221: UndefinedMetricWarning: Precision is ill-defined and being set to 0.0 due to no predicted samples. Use `zero_division` parameter to control this behavior.\n",
      "  _warn_prf(average, modifier, msg_start, len(result))\n",
      "C:\\Users\\George\\anaconda3\\lib\\site-packages\\sklearn\\metrics\\_classification.py:1221: UndefinedMetricWarning: Precision is ill-defined and being set to 0.0 due to no predicted samples. Use `zero_division` parameter to control this behavior.\n",
      "  _warn_prf(average, modifier, msg_start, len(result))\n",
      "C:\\Users\\George\\anaconda3\\lib\\site-packages\\sklearn\\metrics\\_classification.py:1221: UndefinedMetricWarning: Precision is ill-defined and being set to 0.0 due to no predicted samples. Use `zero_division` parameter to control this behavior.\n",
      "  _warn_prf(average, modifier, msg_start, len(result))\n",
      "C:\\Users\\George\\anaconda3\\lib\\site-packages\\sklearn\\metrics\\_classification.py:1221: UndefinedMetricWarning: Precision is ill-defined and being set to 0.0 due to no predicted samples. Use `zero_division` parameter to control this behavior.\n",
      "  _warn_prf(average, modifier, msg_start, len(result))\n",
      "C:\\Users\\George\\anaconda3\\lib\\site-packages\\sklearn\\metrics\\_classification.py:1221: UndefinedMetricWarning: Precision is ill-defined and being set to 0.0 due to no predicted samples. Use `zero_division` parameter to control this behavior.\n",
      "  _warn_prf(average, modifier, msg_start, len(result))\n",
      "C:\\Users\\George\\anaconda3\\lib\\site-packages\\sklearn\\metrics\\_classification.py:1221: UndefinedMetricWarning: Precision is ill-defined and being set to 0.0 due to no predicted samples. Use `zero_division` parameter to control this behavior.\n",
      "  _warn_prf(average, modifier, msg_start, len(result))\n",
      "C:\\Users\\George\\anaconda3\\lib\\site-packages\\sklearn\\metrics\\_classification.py:1221: UndefinedMetricWarning: Precision is ill-defined and being set to 0.0 due to no predicted samples. Use `zero_division` parameter to control this behavior.\n",
      "  _warn_prf(average, modifier, msg_start, len(result))\n",
      "C:\\Users\\George\\anaconda3\\lib\\site-packages\\sklearn\\metrics\\_classification.py:1221: UndefinedMetricWarning: Precision is ill-defined and being set to 0.0 due to no predicted samples. Use `zero_division` parameter to control this behavior.\n",
      "  _warn_prf(average, modifier, msg_start, len(result))\n"
     ]
    }
   ],
   "source": [
    "model = LogisticRegression(**gs_lr.best_params_)\n",
    "model.fit(features_train_val, target_train_val)\n",
    "prob = model.predict_proba(features_valid)\n",
    "prob_valid_ones = prob[:, 1]\n",
    "\n",
    "f1, auc, accuracy, threshold_lr = threshold(begin=0, end=1, step=0.01, features=features_valid, \n",
    "                                              target=target_valid, prob_ones=prob_valid_ones)\n",
    "print(f'Валидационная выборка на пороге threshold = {threshold_lr}:')\n",
    "print(f'f1 = {f1}')\n",
    "print(f'accuracy = {accuracy}')\n",
    "print(f'auc = {auc}')"
   ]
  },
  {
   "cell_type": "code",
   "execution_count": 58,
   "metadata": {},
   "outputs": [
    {
     "name": "stdout",
     "output_type": "stream",
     "text": [
      "Тестовая выборка на пороге threshold = 0.53:\n",
      "f1 = 0.5609137055837564\n",
      "accuracy = 0.8031854379977247\n",
      "auc = 0.6978870354305959\n"
     ]
    }
   ],
   "source": [
    "best_model = LogisticRegression(**gs_lr.best_params_)\n",
    "best_model.fit(features_train, target_train)\n",
    "prob = best_model.predict_proba(features_test)\n",
    "prob_test_ones = prob[:, 1]\n",
    "predicted_test = prob_test_ones > threshold_lr\n",
    "\n",
    "f1 = f1_score(target_test, predicted_test)\n",
    "auc = roc_auc_score(target_test, predicted_test)\n",
    "accuracy = accuracy_score(target_test, predicted_test)\n",
    "\n",
    "print(f'Тестовая выборка на пороге threshold = {threshold_lr}:')\n",
    "print(f'f1 = {f1}')\n",
    "print(f'accuracy = {accuracy}')\n",
    "print(f'auc = {auc}')"
   ]
  },
  {
   "cell_type": "markdown",
   "metadata": {},
   "source": [
    "Наибольшее значение метрики auc_roc я получил при использовании техники уменьшения классов. auc_roc = 0.758"
   ]
  },
  {
   "cell_type": "code",
   "execution_count": 59,
   "metadata": {},
   "outputs": [
    {
     "data": {
      "image/png": "[encoded data removed]",
      "text/plain": [
       "<Figure size 1296x432 with 2 Axes>"
      ]
     },
     "metadata": {},
     "output_type": "display_data"
    }
   ],
   "source": [
    "auc_roc_plot(best_model, target_test, prob_test_ones)"
   ]
  },
  {
   "cell_type": "raw",
   "metadata": {},
   "source": [
    "predict_plot(target_test, predict_test, 100)"
   ]
  },
  {
   "cell_type": "markdown",
   "metadata": {},
   "source": [
    "### Анализ метрики auc_roc алгоритма RandomForestClassifier"
   ]
  },
  {
   "cell_type": "code",
   "execution_count": 60,
   "metadata": {},
   "outputs": [
    {
     "name": "stdout",
     "output_type": "stream",
     "text": [
      "Wall time: 1min 1s\n"
     ]
    },
    {
     "data": {
      "text/plain": [
       "{'max_depth': 5, 'n_estimators': 10}"
      ]
     },
     "execution_count": 60,
     "metadata": {},
     "output_type": "execute_result"
    }
   ],
   "source": [
    "%%time\n",
    "rfr = RandomForestClassifier(n_jobs=-1, random_state=rs)\n",
    "params = {'n_estimators': [i for i in range(10, 300, 10)],\n",
    "          'max_depth': [i for i in range(1, 6, 1)]}\n",
    "\n",
    "gs_rfr = GridSearchCV(rfr, params, scoring=('f1'), n_jobs=-1, cv=3)\n",
    "gs_rfr.fit(features_train, target_train)\n",
    "gs_rfr.best_params_"
   ]
  },
  {
   "cell_type": "code",
   "execution_count": 61,
   "metadata": {},
   "outputs": [
    {
     "name": "stdout",
     "output_type": "stream",
     "text": [
      "Перекресная проверка (кросс-валидация):\n",
      "f1 на обучающей выборке: 0.5407160699100757\n",
      "f1 на валидационной выборке: 0.5385349108274872\n",
      "f1 на тестовой выборке: 0.5435630689206762\n",
      "\n",
      "Разница метрики f1 между train and valid не превышает 0.4%. Переобучения нет, если разница <10%\n",
      "Разница метрики f1 между train and test не превышает -0.53%.\n",
      "\n",
      "Тестовая выборка:\n",
      "Доля положительных предсказаний от всех правильных предсказаний - Recall:  0.4475374732334047\n",
      "Доля положительных предсказаний от всех положительных предсказаний - Precision:  0.6920529801324503\n",
      "Среднее гармоническое полноты и точности - F1: 0.5435630689206762\n",
      "Accuracy: 0.8003412969283277\n",
      "ROC_AUC =  0.6877501463765784\n"
     ]
    }
   ],
   "source": [
    "model = RandomForestClassifier(**gs_rfr.best_params_)\n",
    "cv_search(model, features_train, target_train, features_test)"
   ]
  },
  {
   "cell_type": "markdown",
   "metadata": {},
   "source": [
    "Посмотрю важность признаков и уменьшу признаковое пространство:"
   ]
  },
  {
   "cell_type": "code",
   "execution_count": 62,
   "metadata": {},
   "outputs": [
    {
     "data": {
      "text/plain": [
       "<AxesSubplot:>"
      ]
     },
     "execution_count": 62,
     "metadata": {},
     "output_type": "execute_result"
    },
    {
     "data": {
      "image/png": "[encoded data removed]",
      "text/plain": [
       "<Figure size 432x288 with 1 Axes>"
      ]
     },
     "metadata": {
      "needs_background": "light"
     },
     "output_type": "display_data"
    }
   ],
   "source": [
    "importances = pd.Series(model.feature_importances_, index=features.columns)\n",
    "importances.sort_values().plot(kind='barh')"
   ]
  },
  {
   "cell_type": "code",
   "execution_count": 63,
   "metadata": {},
   "outputs": [],
   "source": [
    "rfr_count = 6"
   ]
  },
  {
   "cell_type": "code",
   "execution_count": 64,
   "metadata": {},
   "outputs": [
    {
     "data": {
      "text/html": [
       "<div>\n",
       "<style scoped>\n",
       "    .dataframe tbody tr th:only-of-type {\n",
       "        vertical-align: middle;\n",
       "    }\n",
       "\n",
       "    .dataframe tbody tr th {\n",
       "        vertical-align: top;\n",
       "    }\n",
       "\n",
       "    .dataframe thead th {\n",
       "        text-align: right;\n",
       "    }\n",
       "</style>\n",
       "<table border=\"1\" class=\"dataframe\">\n",
       "  <thead>\n",
       "    <tr style=\"text-align: right;\">\n",
       "      <th></th>\n",
       "      <th>ContractLive</th>\n",
       "      <th>Type_One year</th>\n",
       "      <th>Type_Two year</th>\n",
       "      <th>PaymentMethod_Electronic check</th>\n",
       "      <th>InternetService_Fiber optic</th>\n",
       "      <th>InternetService_No</th>\n",
       "    </tr>\n",
       "  </thead>\n",
       "  <tbody>\n",
       "    <tr>\n",
       "      <th>1715</th>\n",
       "      <td>-1.240762</td>\n",
       "      <td>-0.518366</td>\n",
       "      <td>-0.553548</td>\n",
       "      <td>-0.706805</td>\n",
       "      <td>1.124928</td>\n",
       "      <td>-0.520426</td>\n",
       "    </tr>\n",
       "    <tr>\n",
       "      <th>6648</th>\n",
       "      <td>0.684006</td>\n",
       "      <td>1.929139</td>\n",
       "      <td>-0.553548</td>\n",
       "      <td>-0.706805</td>\n",
       "      <td>-0.888945</td>\n",
       "      <td>1.921502</td>\n",
       "    </tr>\n",
       "    <tr>\n",
       "      <th>4949</th>\n",
       "      <td>-0.791200</td>\n",
       "      <td>-0.518366</td>\n",
       "      <td>-0.553548</td>\n",
       "      <td>1.414817</td>\n",
       "      <td>-0.888945</td>\n",
       "      <td>1.921502</td>\n",
       "    </tr>\n",
       "    <tr>\n",
       "      <th>4673</th>\n",
       "      <td>-0.954065</td>\n",
       "      <td>-0.518366</td>\n",
       "      <td>-0.553548</td>\n",
       "      <td>1.414817</td>\n",
       "      <td>1.124928</td>\n",
       "      <td>-0.520426</td>\n",
       "    </tr>\n",
       "    <tr>\n",
       "      <th>3503</th>\n",
       "      <td>-1.282487</td>\n",
       "      <td>-0.518366</td>\n",
       "      <td>-0.553548</td>\n",
       "      <td>-0.706805</td>\n",
       "      <td>-0.888945</td>\n",
       "      <td>-0.520426</td>\n",
       "    </tr>\n",
       "  </tbody>\n",
       "</table>\n",
       "</div>"
      ],
      "text/plain": [
       "      ContractLive  Type_One year  Type_Two year  \\\n",
       "1715     -1.240762      -0.518366      -0.553548   \n",
       "6648      0.684006       1.929139      -0.553548   \n",
       "4949     -0.791200      -0.518366      -0.553548   \n",
       "4673     -0.954065      -0.518366      -0.553548   \n",
       "3503     -1.282487      -0.518366      -0.553548   \n",
       "\n",
       "      PaymentMethod_Electronic check  InternetService_Fiber optic  \\\n",
       "1715                       -0.706805                     1.124928   \n",
       "6648                       -0.706805                    -0.888945   \n",
       "4949                        1.414817                    -0.888945   \n",
       "4673                        1.414817                     1.124928   \n",
       "3503                       -0.706805                    -0.888945   \n",
       "\n",
       "      InternetService_No  \n",
       "1715           -0.520426  \n",
       "6648            1.921502  \n",
       "4949            1.921502  \n",
       "4673           -0.520426  \n",
       "3503           -0.520426  "
      ]
     },
     "execution_count": 64,
     "metadata": {},
     "output_type": "execute_result"
    }
   ],
   "source": [
    "features_train_forest = features_train.drop(columns=importances.sort_values(ascending=False).index[rfr_count:])\n",
    "features_test_forest = features_test.drop(columns=importances.sort_values(ascending=False).index[rfr_count:])\n",
    "features_train_forest.head()"
   ]
  },
  {
   "cell_type": "code",
   "execution_count": 65,
   "metadata": {},
   "outputs": [
    {
     "name": "stdout",
     "output_type": "stream",
     "text": [
      "Wall time: 58.9 s\n"
     ]
    },
    {
     "data": {
      "text/plain": [
       "{'max_depth': 5, 'n_estimators': 20}"
      ]
     },
     "execution_count": 65,
     "metadata": {},
     "output_type": "execute_result"
    }
   ],
   "source": [
    "%%time\n",
    "rfr = RandomForestClassifier(n_jobs=-1, random_state=rs)\n",
    "params = {'n_estimators': [i for i in range(10, 300, 10)],\n",
    "          'max_depth': [i for i in range(1, 6, 1)]}\n",
    "\n",
    "gs_rfr = GridSearchCV(rfr, params, scoring=('f1'), n_jobs=-1, cv=3)\n",
    "gs_rfr.fit(features_train_forest, target_train)\n",
    "gs_rfr.best_params_"
   ]
  },
  {
   "cell_type": "code",
   "execution_count": 66,
   "metadata": {},
   "outputs": [
    {
     "name": "stdout",
     "output_type": "stream",
     "text": [
      "Перекресная проверка (кросс-валидация):\n",
      "f1 на обучающей выборке: 0.589450308819012\n",
      "f1 на валидационной выборке: 0.5764288717556959\n",
      "f1 на тестовой выборке: 0.5695876288659795\n",
      "\n",
      "Разница метрики f1 между train and valid не превышает 2.2%. Переобучения нет, если разница <10%\n",
      "Разница метрики f1 между train and test не превышает 3.4%.\n",
      "\n",
      "Тестовая выборка:\n",
      "Доля положительных предсказаний от всех правильных предсказаний - Recall:  0.4732334047109208\n",
      "Доля положительных предсказаний от всех положительных предсказаний - Precision:  0.7152103559870551\n",
      "Среднее гармоническое полноты и точности - F1: 0.5695876288659795\n",
      "Accuracy: 0.8100113765642776\n",
      "ROC_AUC =  0.7025345954615797\n"
     ]
    }
   ],
   "source": [
    "model = RandomForestClassifier(**gs_rfr.best_params_)\n",
    "cv_search(model, features_train_forest, target_train, features_test_forest)"
   ]
  },
  {
   "cell_type": "markdown",
   "metadata": {},
   "source": [
    "Использую технику изменения параметра леса class_weight='balanced':"
   ]
  },
  {
   "cell_type": "code",
   "execution_count": 67,
   "metadata": {},
   "outputs": [
    {
     "name": "stdout",
     "output_type": "stream",
     "text": [
      "Wall time: 1min 6s\n"
     ]
    },
    {
     "data": {
      "text/plain": [
       "{'max_depth': 5, 'n_estimators': 180}"
      ]
     },
     "execution_count": 67,
     "metadata": {},
     "output_type": "execute_result"
    }
   ],
   "source": [
    "%%time\n",
    "rfr = RandomForestClassifier(n_jobs=-1, random_state=rs, class_weight='balanced')\n",
    "params = {'n_estimators': [i for i in range(10, 300, 10)],\n",
    "          'max_depth': [i for i in range(1, 6, 1)]}\n",
    "\n",
    "gs = GridSearchCV(rfr, params, scoring=('f1'), n_jobs=-1, cv=3)\n",
    "gs.fit(features_train_forest, target_train)\n",
    "gs.best_params_"
   ]
  },
  {
   "cell_type": "code",
   "execution_count": 68,
   "metadata": {},
   "outputs": [
    {
     "name": "stdout",
     "output_type": "stream",
     "text": [
      "Перекресная проверка (кросс-валидация):\n",
      "f1 на обучающей выборке: 0.5987954801288006\n",
      "f1 на валидационной выборке: 0.5819931970968978\n",
      "f1 на тестовой выборке: 0.5804816223067173\n",
      "\n",
      "Разница метрики f1 между train and valid не превышает 2.8%. Переобучения нет, если разница <10%\n",
      "Разница метрики f1 между train and test не превышает 3.1%.\n",
      "\n",
      "Тестовая выборка:\n",
      "Доля положительных предсказаний от всех правильных предсказаний - Recall:  0.49036402569593146\n",
      "Доля положительных предсказаний от всех положительных предсказаний - Precision:  0.7111801242236024\n",
      "Среднее гармоническое полноты и точности - F1: 0.5804816223067173\n",
      "Accuracy: 0.8117178612059158\n",
      "ROC_AUC =  0.7091634226078417\n"
     ]
    }
   ],
   "source": [
    "model = RandomForestClassifier(**gs.best_params_)\n",
    "cv_search(model, features_train_forest, target_train, features_test_forest)"
   ]
  },
  {
   "cell_type": "markdown",
   "metadata": {},
   "source": [
    "Использую техники уменьшения и увеличения целевого класса:"
   ]
  },
  {
   "cell_type": "code",
   "execution_count": 69,
   "metadata": {},
   "outputs": [
    {
     "data": {
      "text/html": [
       "<div>\n",
       "<style scoped>\n",
       "    .dataframe tbody tr th:only-of-type {\n",
       "        vertical-align: middle;\n",
       "    }\n",
       "\n",
       "    .dataframe tbody tr th {\n",
       "        vertical-align: top;\n",
       "    }\n",
       "\n",
       "    .dataframe thead th {\n",
       "        text-align: right;\n",
       "    }\n",
       "</style>\n",
       "<table border=\"1\" class=\"dataframe\">\n",
       "  <thead>\n",
       "    <tr style=\"text-align: right;\">\n",
       "      <th></th>\n",
       "      <th>ContractLive</th>\n",
       "      <th>Type_One year</th>\n",
       "      <th>Type_Two year</th>\n",
       "      <th>PaymentMethod_Electronic check</th>\n",
       "      <th>InternetService_Fiber optic</th>\n",
       "      <th>InternetService_No</th>\n",
       "    </tr>\n",
       "  </thead>\n",
       "  <tbody>\n",
       "    <tr>\n",
       "      <th>3468</th>\n",
       "      <td>1.339504</td>\n",
       "      <td>-0.518366</td>\n",
       "      <td>-0.553548</td>\n",
       "      <td>1.414817</td>\n",
       "      <td>1.124928</td>\n",
       "      <td>-0.520426</td>\n",
       "    </tr>\n",
       "    <tr>\n",
       "      <th>3984</th>\n",
       "      <td>-1.158656</td>\n",
       "      <td>-0.518366</td>\n",
       "      <td>-0.553548</td>\n",
       "      <td>1.414817</td>\n",
       "      <td>1.124928</td>\n",
       "      <td>-0.520426</td>\n",
       "    </tr>\n",
       "    <tr>\n",
       "      <th>6484</th>\n",
       "      <td>-0.626989</td>\n",
       "      <td>1.929139</td>\n",
       "      <td>-0.553548</td>\n",
       "      <td>1.414817</td>\n",
       "      <td>-0.888945</td>\n",
       "      <td>-0.520426</td>\n",
       "    </tr>\n",
       "    <tr>\n",
       "      <th>4151</th>\n",
       "      <td>0.273479</td>\n",
       "      <td>-0.518366</td>\n",
       "      <td>1.806527</td>\n",
       "      <td>-0.706805</td>\n",
       "      <td>-0.888945</td>\n",
       "      <td>1.921502</td>\n",
       "    </tr>\n",
       "    <tr>\n",
       "      <th>6213</th>\n",
       "      <td>1.381230</td>\n",
       "      <td>-0.518366</td>\n",
       "      <td>-0.553548</td>\n",
       "      <td>-0.706805</td>\n",
       "      <td>1.124928</td>\n",
       "      <td>-0.520426</td>\n",
       "    </tr>\n",
       "  </tbody>\n",
       "</table>\n",
       "</div>"
      ],
      "text/plain": [
       "      ContractLive  Type_One year  Type_Two year  \\\n",
       "3468      1.339504      -0.518366      -0.553548   \n",
       "3984     -1.158656      -0.518366      -0.553548   \n",
       "6484     -0.626989       1.929139      -0.553548   \n",
       "4151      0.273479      -0.518366       1.806527   \n",
       "6213      1.381230      -0.518366      -0.553548   \n",
       "\n",
       "      PaymentMethod_Electronic check  InternetService_Fiber optic  \\\n",
       "3468                        1.414817                     1.124928   \n",
       "3984                        1.414817                     1.124928   \n",
       "6484                        1.414817                    -0.888945   \n",
       "4151                       -0.706805                    -0.888945   \n",
       "6213                       -0.706805                     1.124928   \n",
       "\n",
       "      InternetService_No  \n",
       "3468           -0.520426  \n",
       "3984           -0.520426  \n",
       "6484           -0.520426  \n",
       "4151            1.921502  \n",
       "6213           -0.520426  "
      ]
     },
     "execution_count": 69,
     "metadata": {},
     "output_type": "execute_result"
    }
   ],
   "source": [
    "features_upsampled_forest = features_upsampled.drop(columns=importances.sort_values(ascending=False).index[rfr_count:])\n",
    "features_downsampled_forest = features_downsampled.drop(columns=importances.sort_values(ascending=False).index[rfr_count:])\n",
    "features_upsampled_forest.head()"
   ]
  },
  {
   "cell_type": "code",
   "execution_count": 70,
   "metadata": {},
   "outputs": [
    {
     "name": "stdout",
     "output_type": "stream",
     "text": [
      "Wall time: 1min 11s\n"
     ]
    },
    {
     "data": {
      "text/plain": [
       "{'max_depth': 4, 'n_estimators': 50}"
      ]
     },
     "execution_count": 70,
     "metadata": {},
     "output_type": "execute_result"
    }
   ],
   "source": [
    "%%time\n",
    "rfr = RandomForestClassifier(n_jobs=-1, random_state=rs)\n",
    "params = {'n_estimators': [i for i in range(10, 300, 10)],\n",
    "          'max_depth': [i for i in range(1, 6, 1)]}\n",
    "\n",
    "gs = GridSearchCV(rfr, params, scoring=('f1'), n_jobs=-1, cv=3)\n",
    "gs.fit(features_upsampled_forest, target_upsampled)\n",
    "gs.best_params_"
   ]
  },
  {
   "cell_type": "code",
   "execution_count": 71,
   "metadata": {},
   "outputs": [
    {
     "name": "stdout",
     "output_type": "stream",
     "text": [
      "Перекресная проверка (кросс-валидация):\n",
      "f1 на обучающей выборке: 0.7277251275777369\n",
      "f1 на валидационной выборке: 0.7240572875276252\n",
      "f1 на тестовой выборке: 0.6230468750000001\n",
      "\n",
      "Разница метрики f1 между train and valid не превышает 0.5%. Переобучения нет, если разница <10%\n",
      "Разница метрики f1 между train and test не превышает 1.4e+01%.\n",
      "\n",
      "Тестовая выборка:\n",
      "Доля положительных предсказаний от всех правильных предсказаний - Recall:  0.683083511777302\n",
      "Доля положительных предсказаний от всех положительных предсказаний - Precision:  0.5727109515260324\n",
      "Среднее гармоническое полноты и точности - F1: 0.6230468750000001\n",
      "Accuracy: 0.7804323094425484\n",
      "ROC_AUC =  0.7493651486074736\n"
     ]
    }
   ],
   "source": [
    "model = RandomForestClassifier(**gs.best_params_)\n",
    "cv_search(model, features_upsampled_forest, target_upsampled, features_test_forest)"
   ]
  },
  {
   "cell_type": "code",
   "execution_count": 72,
   "metadata": {},
   "outputs": [
    {
     "name": "stdout",
     "output_type": "stream",
     "text": [
      "Wall time: 59.8 s\n"
     ]
    },
    {
     "data": {
      "text/plain": [
       "{'max_depth': 3, 'n_estimators': 230}"
      ]
     },
     "execution_count": 72,
     "metadata": {},
     "output_type": "execute_result"
    }
   ],
   "source": [
    "%%time\n",
    "rfr = RandomForestClassifier(n_jobs=-1, random_state=rs)\n",
    "params = {'n_estimators': [i for i in range(10, 300, 10)],\n",
    "          'max_depth': [i for i in range(1, 6, 1)]}\n",
    "\n",
    "gs = GridSearchCV(rfr, params, scoring=('f1'), n_jobs=-1, cv=3)\n",
    "gs.fit(features_downsampled_forest, target_downsampled)\n",
    "gs.best_params_"
   ]
  },
  {
   "cell_type": "code",
   "execution_count": 73,
   "metadata": {},
   "outputs": [
    {
     "name": "stdout",
     "output_type": "stream",
     "text": [
      "Перекресная проверка (кросс-валидация):\n",
      "f1 на обучающей выборке: 0.8064542206579397\n",
      "f1 на валидационной выборке: 0.7989031096197305\n",
      "f1 на тестовой выборке: 0.6119969627942293\n",
      "\n",
      "Разница метрики f1 между train and valid не превышает 0.94%. Переобучения нет, если разница <10%\n",
      "Разница метрики f1 между train and test не превышает 2.4e+01%.\n",
      "\n",
      "Тестовая выборка:\n",
      "Доля положительных предсказаний от всех правильных предсказаний - Recall:  0.8629550321199143\n",
      "Доля положительных предсказаний от всех положительных предсказаний - Precision:  0.47411764705882353\n",
      "Среднее гармоническое полноты и точности - F1: 0.6119969627942293\n",
      "Accuracy: 0.7093287827076223\n",
      "ROC_AUC =  0.7583559049058131\n"
     ]
    }
   ],
   "source": [
    "model = RandomForestClassifier(**gs.best_params_)\n",
    "cv_search(model, features_downsampled_forest, target_downsampled, features_test_forest)"
   ]
  },
  {
   "cell_type": "markdown",
   "metadata": {},
   "source": [
    "Использую технику изменения порога классов:"
   ]
  },
  {
   "cell_type": "code",
   "execution_count": 74,
   "metadata": {
    "scrolled": true
   },
   "outputs": [
    {
     "name": "stdout",
     "output_type": "stream",
     "text": [
      "Валидационная выборка на пороге thresold = 0.44:\n",
      "f1 = 0.6120906801007556\n",
      "accuracy = 0.8490010261609724\n",
      "auc = 0.8054327226784587\n"
     ]
    },
    {
     "name": "stderr",
     "output_type": "stream",
     "text": [
      "C:\\Users\\George\\anaconda3\\lib\\site-packages\\sklearn\\metrics\\_classification.py:1221: UndefinedMetricWarning: Precision is ill-defined and being set to 0.0 due to no predicted samples. Use `zero_division` parameter to control this behavior.\n",
      "  _warn_prf(average, modifier, msg_start, len(result))\n",
      "C:\\Users\\George\\anaconda3\\lib\\site-packages\\sklearn\\metrics\\_classification.py:1221: UndefinedMetricWarning: Precision is ill-defined and being set to 0.0 due to no predicted samples. Use `zero_division` parameter to control this behavior.\n",
      "  _warn_prf(average, modifier, msg_start, len(result))\n",
      "C:\\Users\\George\\anaconda3\\lib\\site-packages\\sklearn\\metrics\\_classification.py:1221: UndefinedMetricWarning: Precision is ill-defined and being set to 0.0 due to no predicted samples. Use `zero_division` parameter to control this behavior.\n",
      "  _warn_prf(average, modifier, msg_start, len(result))\n",
      "C:\\Users\\George\\anaconda3\\lib\\site-packages\\sklearn\\metrics\\_classification.py:1221: UndefinedMetricWarning: Precision is ill-defined and being set to 0.0 due to no predicted samples. Use `zero_division` parameter to control this behavior.\n",
      "  _warn_prf(average, modifier, msg_start, len(result))\n",
      "C:\\Users\\George\\anaconda3\\lib\\site-packages\\sklearn\\metrics\\_classification.py:1221: UndefinedMetricWarning: Precision is ill-defined and being set to 0.0 due to no predicted samples. Use `zero_division` parameter to control this behavior.\n",
      "  _warn_prf(average, modifier, msg_start, len(result))\n",
      "C:\\Users\\George\\anaconda3\\lib\\site-packages\\sklearn\\metrics\\_classification.py:1221: UndefinedMetricWarning: Precision is ill-defined and being set to 0.0 due to no predicted samples. Use `zero_division` parameter to control this behavior.\n",
      "  _warn_prf(average, modifier, msg_start, len(result))\n",
      "C:\\Users\\George\\anaconda3\\lib\\site-packages\\sklearn\\metrics\\_classification.py:1221: UndefinedMetricWarning: Precision is ill-defined and being set to 0.0 due to no predicted samples. Use `zero_division` parameter to control this behavior.\n",
      "  _warn_prf(average, modifier, msg_start, len(result))\n",
      "C:\\Users\\George\\anaconda3\\lib\\site-packages\\sklearn\\metrics\\_classification.py:1221: UndefinedMetricWarning: Precision is ill-defined and being set to 0.0 due to no predicted samples. Use `zero_division` parameter to control this behavior.\n",
      "  _warn_prf(average, modifier, msg_start, len(result))\n",
      "C:\\Users\\George\\anaconda3\\lib\\site-packages\\sklearn\\metrics\\_classification.py:1221: UndefinedMetricWarning: Precision is ill-defined and being set to 0.0 due to no predicted samples. Use `zero_division` parameter to control this behavior.\n",
      "  _warn_prf(average, modifier, msg_start, len(result))\n",
      "C:\\Users\\George\\anaconda3\\lib\\site-packages\\sklearn\\metrics\\_classification.py:1221: UndefinedMetricWarning: Precision is ill-defined and being set to 0.0 due to no predicted samples. Use `zero_division` parameter to control this behavior.\n",
      "  _warn_prf(average, modifier, msg_start, len(result))\n",
      "C:\\Users\\George\\anaconda3\\lib\\site-packages\\sklearn\\metrics\\_classification.py:1221: UndefinedMetricWarning: Precision is ill-defined and being set to 0.0 due to no predicted samples. Use `zero_division` parameter to control this behavior.\n",
      "  _warn_prf(average, modifier, msg_start, len(result))\n",
      "C:\\Users\\George\\anaconda3\\lib\\site-packages\\sklearn\\metrics\\_classification.py:1221: UndefinedMetricWarning: Precision is ill-defined and being set to 0.0 due to no predicted samples. Use `zero_division` parameter to control this behavior.\n",
      "  _warn_prf(average, modifier, msg_start, len(result))\n",
      "C:\\Users\\George\\anaconda3\\lib\\site-packages\\sklearn\\metrics\\_classification.py:1221: UndefinedMetricWarning: Precision is ill-defined and being set to 0.0 due to no predicted samples. Use `zero_division` parameter to control this behavior.\n",
      "  _warn_prf(average, modifier, msg_start, len(result))\n",
      "C:\\Users\\George\\anaconda3\\lib\\site-packages\\sklearn\\metrics\\_classification.py:1221: UndefinedMetricWarning: Precision is ill-defined and being set to 0.0 due to no predicted samples. Use `zero_division` parameter to control this behavior.\n",
      "  _warn_prf(average, modifier, msg_start, len(result))\n",
      "C:\\Users\\George\\anaconda3\\lib\\site-packages\\sklearn\\metrics\\_classification.py:1221: UndefinedMetricWarning: Precision is ill-defined and being set to 0.0 due to no predicted samples. Use `zero_division` parameter to control this behavior.\n",
      "  _warn_prf(average, modifier, msg_start, len(result))\n",
      "C:\\Users\\George\\anaconda3\\lib\\site-packages\\sklearn\\metrics\\_classification.py:1221: UndefinedMetricWarning: Precision is ill-defined and being set to 0.0 due to no predicted samples. Use `zero_division` parameter to control this behavior.\n",
      "  _warn_prf(average, modifier, msg_start, len(result))\n",
      "C:\\Users\\George\\anaconda3\\lib\\site-packages\\sklearn\\metrics\\_classification.py:1221: UndefinedMetricWarning: Precision is ill-defined and being set to 0.0 due to no predicted samples. Use `zero_division` parameter to control this behavior.\n",
      "  _warn_prf(average, modifier, msg_start, len(result))\n",
      "C:\\Users\\George\\anaconda3\\lib\\site-packages\\sklearn\\metrics\\_classification.py:1221: UndefinedMetricWarning: Precision is ill-defined and being set to 0.0 due to no predicted samples. Use `zero_division` parameter to control this behavior.\n",
      "  _warn_prf(average, modifier, msg_start, len(result))\n",
      "C:\\Users\\George\\anaconda3\\lib\\site-packages\\sklearn\\metrics\\_classification.py:1221: UndefinedMetricWarning: Precision is ill-defined and being set to 0.0 due to no predicted samples. Use `zero_division` parameter to control this behavior.\n",
      "  _warn_prf(average, modifier, msg_start, len(result))\n",
      "C:\\Users\\George\\anaconda3\\lib\\site-packages\\sklearn\\metrics\\_classification.py:1221: UndefinedMetricWarning: Precision is ill-defined and being set to 0.0 due to no predicted samples. Use `zero_division` parameter to control this behavior.\n",
      "  _warn_prf(average, modifier, msg_start, len(result))\n"
     ]
    }
   ],
   "source": [
    "model = RandomForestClassifier(**gs_rfr.best_params_)\n",
    "model.fit(features_train_val, target_train_val)\n",
    "prob_valid = model.predict_proba(features_valid)\n",
    "prob_valid_ones = prob_valid[:, 1]\n",
    "\n",
    "f1, auc, accuracy, threshold_rfr = threshold(begin=0, end=1, step=0.01, features=features_valid, \n",
    "                                              target=target_valid, prob_ones=prob_valid_ones)\n",
    "\n",
    "print(f'Валидационная выборка на пороге thresold = {threshold_rfr}:')\n",
    "print(f'f1 = {f1}')\n",
    "print(f'accuracy = {accuracy}')\n",
    "print(f'auc = {auc}')"
   ]
  },
  {
   "cell_type": "code",
   "execution_count": 75,
   "metadata": {},
   "outputs": [
    {
     "name": "stdout",
     "output_type": "stream",
     "text": [
      "Тестовая выборка на пороге thresold = 0.44:\n",
      "f1 = 0.5742092457420925\n",
      "accuracy = 0.800910125142207\n",
      "auc = 0.7065883558883193\n"
     ]
    }
   ],
   "source": [
    "best_model = RandomForestClassifier(**gs_rfr.best_params_)\n",
    "best_model.fit(features_train, target_train)\n",
    "prob = best_model.predict_proba(features_test)\n",
    "prob_test_ones = prob[:, 1]\n",
    "predicted_test = prob_test_ones > threshold_rfr\n",
    "\n",
    "f1 = f1_score(target_test, predicted_test)\n",
    "auc = roc_auc_score(target_test, predicted_test)\n",
    "accuracy = accuracy_score(target_test, predicted_test)\n",
    "\n",
    "print(f'Тестовая выборка на пороге thresold = {threshold_rfr}:')\n",
    "print(f'f1 = {f1}')\n",
    "print(f'accuracy = {accuracy}')\n",
    "print(f'auc = {auc}')"
   ]
  },
  {
   "cell_type": "markdown",
   "metadata": {},
   "source": [
    "Наилучший результат я получил при использовании техники увеличения количества классов целевого признака roc_auc=0.758"
   ]
  },
  {
   "cell_type": "code",
   "execution_count": 76,
   "metadata": {},
   "outputs": [
    {
     "data": {
      "image/png": "[encoded data removed]",
      "text/plain": [
       "<Figure size 1296x432 with 2 Axes>"
      ]
     },
     "metadata": {},
     "output_type": "display_data"
    }
   ],
   "source": [
    "auc_roc_plot(best_model, target_test, prob_test_ones)"
   ]
  },
  {
   "cell_type": "raw",
   "metadata": {},
   "source": [
    "predict_plot(target_test, predict_test, 100)"
   ]
  },
  {
   "cell_type": "markdown",
   "metadata": {},
   "source": [
    "### Анализ метрики auc_roc алгоритма XGBClassifier"
   ]
  },
  {
   "cell_type": "code",
   "execution_count": 77,
   "metadata": {},
   "outputs": [
    {
     "name": "stderr",
     "output_type": "stream",
     "text": [
      "C:\\Users\\George\\anaconda3\\lib\\site-packages\\xgboost\\sklearn.py:1146: UserWarning: The use of label encoder in XGBClassifier is deprecated and will be removed in a future release. To remove this warning, do the following: 1) Pass option use_label_encoder=False when constructing XGBClassifier object; and 2) Encode your labels (y) as integers starting with 0, i.e. 0, 1, 2, ..., [num_class - 1].\n",
      "  warnings.warn(label_encoder_deprecation_msg, UserWarning)\n"
     ]
    },
    {
     "name": "stdout",
     "output_type": "stream",
     "text": [
      "[11:36:17] WARNING: C:/Users/Administrator/workspace/xgboost-win64_release_1.4.0/src/learner.cc:1095: Starting in XGBoost 1.3.0, the default evaluation metric used with the objective 'binary:logistic' was changed from 'error' to 'logloss'. Explicitly set eval_metric if you'd like to restore the old behavior.\n",
      "Wall time: 1min 4s\n"
     ]
    },
    {
     "data": {
      "text/plain": [
       "{'learning_rate': 0.11000000000000001, 'max_depth': 5, 'n_estimators': 90}"
      ]
     },
     "execution_count": 77,
     "metadata": {},
     "output_type": "execute_result"
    }
   ],
   "source": [
    "%%time\n",
    "xgb = XGBClassifier(random_state=rs, n_jobs=-1)\n",
    "params = {'n_estimators': [i for i in range(10, 100, 10)],\n",
    "          'learning_rate': [i for i in np.arange(0.05, 0.12, 0.01)],\n",
    "          'max_depth': [i for i in range(1, 6, 1)]}\n",
    "\n",
    "gs_xgb = GridSearchCV(xgb, params, scoring=('f1'), n_jobs=-1, cv=3)\n",
    "gs_xgb.fit(features_train, target_train)\n",
    "gs_xgb.best_params_"
   ]
  },
  {
   "cell_type": "code",
   "execution_count": 78,
   "metadata": {
    "scrolled": true
   },
   "outputs": [
    {
     "name": "stdout",
     "output_type": "stream",
     "text": [
      "[11:36:17] WARNING: C:/Users/Administrator/workspace/xgboost-win64_release_1.4.0/src/learner.cc:1095: Starting in XGBoost 1.3.0, the default evaluation metric used with the objective 'binary:logistic' was changed from 'error' to 'logloss'. Explicitly set eval_metric if you'd like to restore the old behavior.\n"
     ]
    },
    {
     "name": "stderr",
     "output_type": "stream",
     "text": [
      "C:\\Users\\George\\anaconda3\\lib\\site-packages\\xgboost\\sklearn.py:1146: UserWarning: The use of label encoder in XGBClassifier is deprecated and will be removed in a future release. To remove this warning, do the following: 1) Pass option use_label_encoder=False when constructing XGBClassifier object; and 2) Encode your labels (y) as integers starting with 0, i.e. 0, 1, 2, ..., [num_class - 1].\n",
      "  warnings.warn(label_encoder_deprecation_msg, UserWarning)\n",
      "C:\\Users\\George\\anaconda3\\lib\\site-packages\\xgboost\\data.py:112: UserWarning: Use subset (sliced data) of np.ndarray is not recommended because it will generate extra copies and increase memory consumption\n",
      "  warnings.warn(\n"
     ]
    },
    {
     "name": "stdout",
     "output_type": "stream",
     "text": [
      "[11:36:17] WARNING: C:/Users/Administrator/workspace/xgboost-win64_release_1.4.0/src/learner.cc:1095: Starting in XGBoost 1.3.0, the default evaluation metric used with the objective 'binary:logistic' was changed from 'error' to 'logloss'. Explicitly set eval_metric if you'd like to restore the old behavior.\n",
      "[11:36:18] WARNING: C:/Users/Administrator/workspace/xgboost-win64_release_1.4.0/src/learner.cc:1095: Starting in XGBoost 1.3.0, the default evaluation metric used with the objective 'binary:logistic' was changed from 'error' to 'logloss'. Explicitly set eval_metric if you'd like to restore the old behavior.\n",
      "[11:36:18] WARNING: C:/Users/Administrator/workspace/xgboost-win64_release_1.4.0/src/learner.cc:1095: Starting in XGBoost 1.3.0, the default evaluation metric used with the objective 'binary:logistic' was changed from 'error' to 'logloss'. Explicitly set eval_metric if you'd like to restore the old behavior.\n",
      "[11:36:18] WARNING: C:/Users/Administrator/workspace/xgboost-win64_release_1.4.0/src/learner.cc:1095: Starting in XGBoost 1.3.0, the default evaluation metric used with the objective 'binary:logistic' was changed from 'error' to 'logloss'. Explicitly set eval_metric if you'd like to restore the old behavior.\n",
      "[11:36:19] WARNING: C:/Users/Administrator/workspace/xgboost-win64_release_1.4.0/src/learner.cc:1095: Starting in XGBoost 1.3.0, the default evaluation metric used with the objective 'binary:logistic' was changed from 'error' to 'logloss'. Explicitly set eval_metric if you'd like to restore the old behavior.\n",
      "Перекресная проверка (кросс-валидация):\n",
      "f1 на обучающей выборке: 0.7347308578473035\n",
      "f1 на валидационной выборке: 0.6659908608915325\n",
      "f1 на тестовой выборке: 0.6748466257668712\n",
      "\n",
      "Разница метрики f1 между train and valid не превышает 9.4%. Переобучения нет, если разница <10%\n",
      "Разница метрики f1 между train and test не превышает 8.2%.\n",
      "\n",
      "Тестовая выборка:\n",
      "Доля положительных предсказаний от всех правильных предсказаний - Recall:  0.588865096359743\n",
      "Доля положительных предсказаний от всех положительных предсказаний - Precision:  0.7902298850574713\n",
      "Среднее гармоническое полноты и точности - F1: 0.6748466257668712\n",
      "Accuracy: 0.8492605233219568\n",
      "ROC_AUC =  0.7661598913247205\n"
     ]
    }
   ],
   "source": [
    "model = XGBClassifier(**gs_xgb.best_params_)\n",
    "cv_search(model, features_train, target_train, features_test)"
   ]
  },
  {
   "cell_type": "markdown",
   "metadata": {},
   "source": [
    "Оценю важность признаков и оставлю только самые весомые:"
   ]
  },
  {
   "cell_type": "code",
   "execution_count": 79,
   "metadata": {},
   "outputs": [
    {
     "data": {
      "text/plain": [
       "<AxesSubplot:>"
      ]
     },
     "execution_count": 79,
     "metadata": {},
     "output_type": "execute_result"
    },
    {
     "data": {
      "image/png": "[encoded data removed]",
      "text/plain": [
       "<Figure size 432x288 with 1 Axes>"
      ]
     },
     "metadata": {
      "needs_background": "light"
     },
     "output_type": "display_data"
    }
   ],
   "source": [
    "importances = pd.Series(model.feature_importances_, index=features.columns)\n",
    "importances.sort_values().plot(kind='barh')"
   ]
  },
  {
   "cell_type": "code",
   "execution_count": 80,
   "metadata": {},
   "outputs": [],
   "source": [
    "xgb_count = 5"
   ]
  },
  {
   "cell_type": "code",
   "execution_count": 81,
   "metadata": {},
   "outputs": [
    {
     "data": {
      "text/html": [
       "<div>\n",
       "<style scoped>\n",
       "    .dataframe tbody tr th:only-of-type {\n",
       "        vertical-align: middle;\n",
       "    }\n",
       "\n",
       "    .dataframe tbody tr th {\n",
       "        vertical-align: top;\n",
       "    }\n",
       "\n",
       "    .dataframe thead th {\n",
       "        text-align: right;\n",
       "    }\n",
       "</style>\n",
       "<table border=\"1\" class=\"dataframe\">\n",
       "  <thead>\n",
       "    <tr style=\"text-align: right;\">\n",
       "      <th></th>\n",
       "      <th>ContractLive</th>\n",
       "      <th>Type_One year</th>\n",
       "      <th>Type_Two year</th>\n",
       "      <th>InternetService_Fiber optic</th>\n",
       "      <th>InternetService_No</th>\n",
       "    </tr>\n",
       "  </thead>\n",
       "  <tbody>\n",
       "    <tr>\n",
       "      <th>1715</th>\n",
       "      <td>-1.240762</td>\n",
       "      <td>-0.518366</td>\n",
       "      <td>-0.553548</td>\n",
       "      <td>1.124928</td>\n",
       "      <td>-0.520426</td>\n",
       "    </tr>\n",
       "    <tr>\n",
       "      <th>6648</th>\n",
       "      <td>0.684006</td>\n",
       "      <td>1.929139</td>\n",
       "      <td>-0.553548</td>\n",
       "      <td>-0.888945</td>\n",
       "      <td>1.921502</td>\n",
       "    </tr>\n",
       "    <tr>\n",
       "      <th>4949</th>\n",
       "      <td>-0.791200</td>\n",
       "      <td>-0.518366</td>\n",
       "      <td>-0.553548</td>\n",
       "      <td>-0.888945</td>\n",
       "      <td>1.921502</td>\n",
       "    </tr>\n",
       "    <tr>\n",
       "      <th>4673</th>\n",
       "      <td>-0.954065</td>\n",
       "      <td>-0.518366</td>\n",
       "      <td>-0.553548</td>\n",
       "      <td>1.124928</td>\n",
       "      <td>-0.520426</td>\n",
       "    </tr>\n",
       "    <tr>\n",
       "      <th>3503</th>\n",
       "      <td>-1.282487</td>\n",
       "      <td>-0.518366</td>\n",
       "      <td>-0.553548</td>\n",
       "      <td>-0.888945</td>\n",
       "      <td>-0.520426</td>\n",
       "    </tr>\n",
       "  </tbody>\n",
       "</table>\n",
       "</div>"
      ],
      "text/plain": [
       "      ContractLive  Type_One year  Type_Two year  InternetService_Fiber optic  \\\n",
       "1715     -1.240762      -0.518366      -0.553548                     1.124928   \n",
       "6648      0.684006       1.929139      -0.553548                    -0.888945   \n",
       "4949     -0.791200      -0.518366      -0.553548                    -0.888945   \n",
       "4673     -0.954065      -0.518366      -0.553548                     1.124928   \n",
       "3503     -1.282487      -0.518366      -0.553548                    -0.888945   \n",
       "\n",
       "      InternetService_No  \n",
       "1715           -0.520426  \n",
       "6648            1.921502  \n",
       "4949            1.921502  \n",
       "4673           -0.520426  \n",
       "3503           -0.520426  "
      ]
     },
     "execution_count": 81,
     "metadata": {},
     "output_type": "execute_result"
    }
   ],
   "source": [
    "features_train_xgb = features_train.drop(columns=importances.sort_values(ascending=False).index[xgb_count:])\n",
    "features_test_xgb = features_test.drop(columns=importances.sort_values(ascending=False).index[xgb_count:])\n",
    "features_train_xgb.head()"
   ]
  },
  {
   "cell_type": "code",
   "execution_count": 82,
   "metadata": {},
   "outputs": [
    {
     "name": "stdout",
     "output_type": "stream",
     "text": [
      "[11:37:16] WARNING: C:/Users/Administrator/workspace/xgboost-win64_release_1.4.0/src/learner.cc:1095: Starting in XGBoost 1.3.0, the default evaluation metric used with the objective 'binary:logistic' was changed from 'error' to 'logloss'. Explicitly set eval_metric if you'd like to restore the old behavior.\n",
      "Wall time: 56.2 s\n"
     ]
    },
    {
     "name": "stderr",
     "output_type": "stream",
     "text": [
      "C:\\Users\\George\\anaconda3\\lib\\site-packages\\xgboost\\sklearn.py:1146: UserWarning: The use of label encoder in XGBClassifier is deprecated and will be removed in a future release. To remove this warning, do the following: 1) Pass option use_label_encoder=False when constructing XGBClassifier object; and 2) Encode your labels (y) as integers starting with 0, i.e. 0, 1, 2, ..., [num_class - 1].\n",
      "  warnings.warn(label_encoder_deprecation_msg, UserWarning)\n"
     ]
    },
    {
     "data": {
      "text/plain": [
       "{'learning_rate': 0.24000000000000007, 'max_depth': 5, 'n_estimators': 90}"
      ]
     },
     "execution_count": 82,
     "metadata": {},
     "output_type": "execute_result"
    }
   ],
   "source": [
    "%%time\n",
    "xgb = XGBClassifier(random_state=rs, n_jobs=-1)\n",
    "params = {'n_estimators': [i for i in range(10, 100, 10)],\n",
    "          'learning_rate': [i for i in np.arange(0.15, 0.25, 0.01)],\n",
    "          'max_depth': [i for i in range(1, 6, 1)]}\n",
    "\n",
    "gs_xgb = GridSearchCV(xgb, params, scoring=('f1'), n_jobs=-1, cv=3)\n",
    "gs_xgb.fit(features_train_xgb, target_train)\n",
    "gs_xgb.best_params_"
   ]
  },
  {
   "cell_type": "code",
   "execution_count": 83,
   "metadata": {
    "scrolled": true
   },
   "outputs": [
    {
     "name": "stderr",
     "output_type": "stream",
     "text": [
      "C:\\Users\\George\\anaconda3\\lib\\site-packages\\xgboost\\sklearn.py:1146: UserWarning: The use of label encoder in XGBClassifier is deprecated and will be removed in a future release. To remove this warning, do the following: 1) Pass option use_label_encoder=False when constructing XGBClassifier object; and 2) Encode your labels (y) as integers starting with 0, i.e. 0, 1, 2, ..., [num_class - 1].\n",
      "  warnings.warn(label_encoder_deprecation_msg, UserWarning)\n",
      "C:\\Users\\George\\anaconda3\\lib\\site-packages\\xgboost\\data.py:112: UserWarning: Use subset (sliced data) of np.ndarray is not recommended because it will generate extra copies and increase memory consumption\n",
      "  warnings.warn(\n"
     ]
    },
    {
     "name": "stdout",
     "output_type": "stream",
     "text": [
      "[11:37:16] WARNING: C:/Users/Administrator/workspace/xgboost-win64_release_1.4.0/src/learner.cc:1095: Starting in XGBoost 1.3.0, the default evaluation metric used with the objective 'binary:logistic' was changed from 'error' to 'logloss'. Explicitly set eval_metric if you'd like to restore the old behavior.\n",
      "[11:37:16] WARNING: C:/Users/Administrator/workspace/xgboost-win64_release_1.4.0/src/learner.cc:1095: Starting in XGBoost 1.3.0, the default evaluation metric used with the objective 'binary:logistic' was changed from 'error' to 'logloss'. Explicitly set eval_metric if you'd like to restore the old behavior.\n",
      "[11:37:16] WARNING: C:/Users/Administrator/workspace/xgboost-win64_release_1.4.0/src/learner.cc:1095: Starting in XGBoost 1.3.0, the default evaluation metric used with the objective 'binary:logistic' was changed from 'error' to 'logloss'. Explicitly set eval_metric if you'd like to restore the old behavior.\n",
      "[11:37:16] WARNING: C:/Users/Administrator/workspace/xgboost-win64_release_1.4.0/src/learner.cc:1095: Starting in XGBoost 1.3.0, the default evaluation metric used with the objective 'binary:logistic' was changed from 'error' to 'logloss'. Explicitly set eval_metric if you'd like to restore the old behavior.\n",
      "[11:37:17] WARNING: C:/Users/Administrator/workspace/xgboost-win64_release_1.4.0/src/learner.cc:1095: Starting in XGBoost 1.3.0, the default evaluation metric used with the objective 'binary:logistic' was changed from 'error' to 'logloss'. Explicitly set eval_metric if you'd like to restore the old behavior.\n",
      "[11:37:17] WARNING: C:/Users/Administrator/workspace/xgboost-win64_release_1.4.0/src/learner.cc:1095: Starting in XGBoost 1.3.0, the default evaluation metric used with the objective 'binary:logistic' was changed from 'error' to 'logloss'. Explicitly set eval_metric if you'd like to restore the old behavior.\n",
      "Перекресная проверка (кросс-валидация):\n",
      "f1 на обучающей выборке: 0.7670878734162094\n",
      "f1 на валидационной выборке: 0.7295834940639369\n",
      "f1 на тестовой выборке: 0.741190765492102\n",
      "\n",
      "Разница метрики f1 между train and valid не превышает 4.9%. Переобучения нет, если разница <10%\n",
      "Разница метрики f1 между train and test не превышает 3.4%.\n",
      "\n",
      "Тестовая выборка:\n",
      "Доля положительных предсказаний от всех правильных предсказаний - Recall:  0.6531049250535332\n",
      "Доля положительных предсказаний от всех положительных предсказаний - Precision:  0.8567415730337079\n",
      "Среднее гармоническое полноты и точности - F1: 0.741190765492102\n",
      "Accuracy: 0.878839590443686\n",
      "ROC_AUC =  0.8068003323950858\n"
     ]
    }
   ],
   "source": [
    "model = XGBClassifier(**gs_xgb.best_params_)\n",
    "cv_search(model, features_train_xgb, target_train, features_test_xgb)"
   ]
  },
  {
   "cell_type": "markdown",
   "metadata": {},
   "source": [
    "Использую технику увеличения и уменьшения баланса классов:"
   ]
  },
  {
   "cell_type": "code",
   "execution_count": 84,
   "metadata": {},
   "outputs": [
    {
     "data": {
      "text/html": [
       "<div>\n",
       "<style scoped>\n",
       "    .dataframe tbody tr th:only-of-type {\n",
       "        vertical-align: middle;\n",
       "    }\n",
       "\n",
       "    .dataframe tbody tr th {\n",
       "        vertical-align: top;\n",
       "    }\n",
       "\n",
       "    .dataframe thead th {\n",
       "        text-align: right;\n",
       "    }\n",
       "</style>\n",
       "<table border=\"1\" class=\"dataframe\">\n",
       "  <thead>\n",
       "    <tr style=\"text-align: right;\">\n",
       "      <th></th>\n",
       "      <th>ContractLive</th>\n",
       "      <th>Type_One year</th>\n",
       "      <th>Type_Two year</th>\n",
       "      <th>InternetService_Fiber optic</th>\n",
       "      <th>InternetService_No</th>\n",
       "    </tr>\n",
       "  </thead>\n",
       "  <tbody>\n",
       "    <tr>\n",
       "      <th>3468</th>\n",
       "      <td>1.339504</td>\n",
       "      <td>-0.518366</td>\n",
       "      <td>-0.553548</td>\n",
       "      <td>1.124928</td>\n",
       "      <td>-0.520426</td>\n",
       "    </tr>\n",
       "    <tr>\n",
       "      <th>3984</th>\n",
       "      <td>-1.158656</td>\n",
       "      <td>-0.518366</td>\n",
       "      <td>-0.553548</td>\n",
       "      <td>1.124928</td>\n",
       "      <td>-0.520426</td>\n",
       "    </tr>\n",
       "    <tr>\n",
       "      <th>6484</th>\n",
       "      <td>-0.626989</td>\n",
       "      <td>1.929139</td>\n",
       "      <td>-0.553548</td>\n",
       "      <td>-0.888945</td>\n",
       "      <td>-0.520426</td>\n",
       "    </tr>\n",
       "    <tr>\n",
       "      <th>4151</th>\n",
       "      <td>0.273479</td>\n",
       "      <td>-0.518366</td>\n",
       "      <td>1.806527</td>\n",
       "      <td>-0.888945</td>\n",
       "      <td>1.921502</td>\n",
       "    </tr>\n",
       "    <tr>\n",
       "      <th>6213</th>\n",
       "      <td>1.381230</td>\n",
       "      <td>-0.518366</td>\n",
       "      <td>-0.553548</td>\n",
       "      <td>1.124928</td>\n",
       "      <td>-0.520426</td>\n",
       "    </tr>\n",
       "  </tbody>\n",
       "</table>\n",
       "</div>"
      ],
      "text/plain": [
       "      ContractLive  Type_One year  Type_Two year  InternetService_Fiber optic  \\\n",
       "3468      1.339504      -0.518366      -0.553548                     1.124928   \n",
       "3984     -1.158656      -0.518366      -0.553548                     1.124928   \n",
       "6484     -0.626989       1.929139      -0.553548                    -0.888945   \n",
       "4151      0.273479      -0.518366       1.806527                    -0.888945   \n",
       "6213      1.381230      -0.518366      -0.553548                     1.124928   \n",
       "\n",
       "      InternetService_No  \n",
       "3468           -0.520426  \n",
       "3984           -0.520426  \n",
       "6484           -0.520426  \n",
       "4151            1.921502  \n",
       "6213           -0.520426  "
      ]
     },
     "execution_count": 84,
     "metadata": {},
     "output_type": "execute_result"
    }
   ],
   "source": [
    "features_upsampled_xgb = features_upsampled.drop(columns=importances.sort_values(ascending=False).index[xgb_count:])\n",
    "features_downsampled_xgb = features_downsampled.drop(columns=importances.sort_values(ascending=False).index[xgb_count:])\n",
    "features_upsampled_xgb.head()"
   ]
  },
  {
   "cell_type": "code",
   "execution_count": 85,
   "metadata": {},
   "outputs": [
    {
     "name": "stderr",
     "output_type": "stream",
     "text": [
      "C:\\Users\\George\\anaconda3\\lib\\site-packages\\xgboost\\sklearn.py:1146: UserWarning: The use of label encoder in XGBClassifier is deprecated and will be removed in a future release. To remove this warning, do the following: 1) Pass option use_label_encoder=False when constructing XGBClassifier object; and 2) Encode your labels (y) as integers starting with 0, i.e. 0, 1, 2, ..., [num_class - 1].\n",
      "  warnings.warn(label_encoder_deprecation_msg, UserWarning)\n"
     ]
    },
    {
     "name": "stdout",
     "output_type": "stream",
     "text": [
      "[11:41:45] WARNING: C:/Users/Administrator/workspace/xgboost-win64_release_1.4.0/src/learner.cc:1095: Starting in XGBoost 1.3.0, the default evaluation metric used with the objective 'binary:logistic' was changed from 'error' to 'logloss'. Explicitly set eval_metric if you'd like to restore the old behavior.\n",
      "Wall time: 4min 28s\n"
     ]
    },
    {
     "data": {
      "text/plain": [
       "{'learning_rate': 0.18999999999999995, 'max_depth': 5, 'n_estimators': 190}"
      ]
     },
     "execution_count": 85,
     "metadata": {},
     "output_type": "execute_result"
    }
   ],
   "source": [
    "%%time\n",
    "xgb = XGBClassifier(random_state=rs, n_jobs=-1)\n",
    "params = {'n_estimators': [i for i in range(10, 200, 10)],\n",
    "          'learning_rate': [i for i in np.arange(0.1, 0.2, 0.01)],\n",
    "          'max_depth': [i for i in range(2, 6, 1)]}\n",
    "\n",
    "gs = GridSearchCV(xgb, params, scoring=('f1'), n_jobs=-1, cv=3)\n",
    "gs.fit(features_upsampled_xgb, target_upsampled)\n",
    "gs.best_params_"
   ]
  },
  {
   "cell_type": "code",
   "execution_count": 86,
   "metadata": {
    "scrolled": true
   },
   "outputs": [
    {
     "name": "stdout",
     "output_type": "stream",
     "text": [
      "[11:41:46] WARNING: C:/Users/Administrator/workspace/xgboost-win64_release_1.4.0/src/learner.cc:1095: Starting in XGBoost 1.3.0, the default evaluation metric used with the objective 'binary:logistic' was changed from 'error' to 'logloss'. Explicitly set eval_metric if you'd like to restore the old behavior.\n"
     ]
    },
    {
     "name": "stderr",
     "output_type": "stream",
     "text": [
      "C:\\Users\\George\\anaconda3\\lib\\site-packages\\xgboost\\sklearn.py:1146: UserWarning: The use of label encoder in XGBClassifier is deprecated and will be removed in a future release. To remove this warning, do the following: 1) Pass option use_label_encoder=False when constructing XGBClassifier object; and 2) Encode your labels (y) as integers starting with 0, i.e. 0, 1, 2, ..., [num_class - 1].\n",
      "  warnings.warn(label_encoder_deprecation_msg, UserWarning)\n",
      "C:\\Users\\George\\anaconda3\\lib\\site-packages\\xgboost\\data.py:112: UserWarning: Use subset (sliced data) of np.ndarray is not recommended because it will generate extra copies and increase memory consumption\n",
      "  warnings.warn(\n"
     ]
    },
    {
     "name": "stdout",
     "output_type": "stream",
     "text": [
      "[11:41:46] WARNING: C:/Users/Administrator/workspace/xgboost-win64_release_1.4.0/src/learner.cc:1095: Starting in XGBoost 1.3.0, the default evaluation metric used with the objective 'binary:logistic' was changed from 'error' to 'logloss'. Explicitly set eval_metric if you'd like to restore the old behavior.\n",
      "[11:41:47] WARNING: C:/Users/Administrator/workspace/xgboost-win64_release_1.4.0/src/learner.cc:1095: Starting in XGBoost 1.3.0, the default evaluation metric used with the objective 'binary:logistic' was changed from 'error' to 'logloss'. Explicitly set eval_metric if you'd like to restore the old behavior.\n",
      "[11:41:47] WARNING: C:/Users/Administrator/workspace/xgboost-win64_release_1.4.0/src/learner.cc:1095: Starting in XGBoost 1.3.0, the default evaluation metric used with the objective 'binary:logistic' was changed from 'error' to 'logloss'. Explicitly set eval_metric if you'd like to restore the old behavior.\n",
      "[11:41:47] WARNING: C:/Users/Administrator/workspace/xgboost-win64_release_1.4.0/src/learner.cc:1095: Starting in XGBoost 1.3.0, the default evaluation metric used with the objective 'binary:logistic' was changed from 'error' to 'logloss'. Explicitly set eval_metric if you'd like to restore the old behavior.\n",
      "[11:41:48] WARNING: C:/Users/Administrator/workspace/xgboost-win64_release_1.4.0/src/learner.cc:1095: Starting in XGBoost 1.3.0, the default evaluation metric used with the objective 'binary:logistic' was changed from 'error' to 'logloss'. Explicitly set eval_metric if you'd like to restore the old behavior.\n",
      "Перекресная проверка (кросс-валидация):\n",
      "f1 на обучающей выборке: 0.8656951025468317\n",
      "f1 на валидационной выборке: 0.8537345703573965\n",
      "f1 на тестовой выборке: 0.785425101214575\n",
      "\n",
      "Разница метрики f1 между train and valid не превышает 1.4%. Переобучения нет, если разница <10%\n",
      "Разница метрики f1 между train and test не превышает 9.3%.\n",
      "\n",
      "Тестовая выборка:\n",
      "Доля положительных предсказаний от всех правильных предсказаний - Recall:  0.8308351177730193\n",
      "Доля положительных предсказаний от всех положительных предсказаний - Precision:  0.744721689059501\n",
      "Среднее гармоническое полноты и точности - F1: 0.785425101214575\n",
      "Accuracy: 0.8794084186575654\n",
      "ROC_AUC =  0.8639071018764399\n"
     ]
    }
   ],
   "source": [
    "model = XGBClassifier(**gs.best_params_)\n",
    "cv_search(model, features_upsampled_xgb, target_upsampled, features_test_xgb)"
   ]
  },
  {
   "cell_type": "code",
   "execution_count": 87,
   "metadata": {},
   "outputs": [
    {
     "name": "stderr",
     "output_type": "stream",
     "text": [
      "C:\\Users\\George\\anaconda3\\lib\\site-packages\\xgboost\\sklearn.py:1146: UserWarning: The use of label encoder in XGBClassifier is deprecated and will be removed in a future release. To remove this warning, do the following: 1) Pass option use_label_encoder=False when constructing XGBClassifier object; and 2) Encode your labels (y) as integers starting with 0, i.e. 0, 1, 2, ..., [num_class - 1].\n",
      "  warnings.warn(label_encoder_deprecation_msg, UserWarning)\n"
     ]
    },
    {
     "name": "stdout",
     "output_type": "stream",
     "text": [
      "[11:43:56] WARNING: C:/Users/Administrator/workspace/xgboost-win64_release_1.4.0/src/learner.cc:1095: Starting in XGBoost 1.3.0, the default evaluation metric used with the objective 'binary:logistic' was changed from 'error' to 'logloss'. Explicitly set eval_metric if you'd like to restore the old behavior.\n",
      "Wall time: 2min 8s\n"
     ]
    },
    {
     "data": {
      "text/plain": [
       "{'learning_rate': 0.14, 'max_depth': 4, 'n_estimators': 190}"
      ]
     },
     "execution_count": 87,
     "metadata": {},
     "output_type": "execute_result"
    }
   ],
   "source": [
    "%%time\n",
    "xgb = XGBClassifier(random_state=rs, n_jobs=-1)\n",
    "params = {'n_estimators': [i for i in range(10, 200, 10)],\n",
    "          'learning_rate': [i for i in np.arange(0.05, 0.15, 0.01)],\n",
    "          'max_depth': [i for i in range(2, 6, 1)]}\n",
    "\n",
    "gs = GridSearchCV(xgb, params, scoring=('roc_auc'), n_jobs=-1, cv=3)\n",
    "gs.fit(features_downsampled_xgb, target_downsampled)\n",
    "gs.best_params_"
   ]
  },
  {
   "cell_type": "code",
   "execution_count": 88,
   "metadata": {
    "scrolled": true
   },
   "outputs": [
    {
     "name": "stdout",
     "output_type": "stream",
     "text": [
      "[11:43:56] WARNING: C:/Users/Administrator/workspace/xgboost-win64_release_1.4.0/src/learner.cc:1095: Starting in XGBoost 1.3.0, the default evaluation metric used with the objective 'binary:logistic' was changed from 'error' to 'logloss'. Explicitly set eval_metric if you'd like to restore the old behavior.\n"
     ]
    },
    {
     "name": "stderr",
     "output_type": "stream",
     "text": [
      "C:\\Users\\George\\anaconda3\\lib\\site-packages\\xgboost\\sklearn.py:1146: UserWarning: The use of label encoder in XGBClassifier is deprecated and will be removed in a future release. To remove this warning, do the following: 1) Pass option use_label_encoder=False when constructing XGBClassifier object; and 2) Encode your labels (y) as integers starting with 0, i.e. 0, 1, 2, ..., [num_class - 1].\n",
      "  warnings.warn(label_encoder_deprecation_msg, UserWarning)\n",
      "C:\\Users\\George\\anaconda3\\lib\\site-packages\\xgboost\\data.py:112: UserWarning: Use subset (sliced data) of np.ndarray is not recommended because it will generate extra copies and increase memory consumption\n",
      "  warnings.warn(\n"
     ]
    },
    {
     "name": "stdout",
     "output_type": "stream",
     "text": [
      "[11:43:57] WARNING: C:/Users/Administrator/workspace/xgboost-win64_release_1.4.0/src/learner.cc:1095: Starting in XGBoost 1.3.0, the default evaluation metric used with the objective 'binary:logistic' was changed from 'error' to 'logloss'. Explicitly set eval_metric if you'd like to restore the old behavior.\n",
      "[11:43:57] WARNING: C:/Users/Administrator/workspace/xgboost-win64_release_1.4.0/src/learner.cc:1095: Starting in XGBoost 1.3.0, the default evaluation metric used with the objective 'binary:logistic' was changed from 'error' to 'logloss'. Explicitly set eval_metric if you'd like to restore the old behavior.\n",
      "[11:43:57] WARNING: C:/Users/Administrator/workspace/xgboost-win64_release_1.4.0/src/learner.cc:1095: Starting in XGBoost 1.3.0, the default evaluation metric used with the objective 'binary:logistic' was changed from 'error' to 'logloss'. Explicitly set eval_metric if you'd like to restore the old behavior.\n",
      "[11:43:57] WARNING: C:/Users/Administrator/workspace/xgboost-win64_release_1.4.0/src/learner.cc:1095: Starting in XGBoost 1.3.0, the default evaluation metric used with the objective 'binary:logistic' was changed from 'error' to 'logloss'. Explicitly set eval_metric if you'd like to restore the old behavior.\n",
      "[11:43:58] WARNING: C:/Users/Administrator/workspace/xgboost-win64_release_1.4.0/src/learner.cc:1095: Starting in XGBoost 1.3.0, the default evaluation metric used with the objective 'binary:logistic' was changed from 'error' to 'logloss'. Explicitly set eval_metric if you'd like to restore the old behavior.\n",
      "Перекресная проверка (кросс-валидация):\n",
      "f1 на обучающей выборке: 0.8826800882800852\n",
      "f1 на валидационной выборке: 0.8556801367855448\n",
      "f1 на тестовой выборке: 0.7297056199821588\n",
      "\n",
      "Разница метрики f1 между train and valid не превышает 3.1%. Переобучения нет, если разница <10%\n",
      "Разница метрики f1 между train and test не превышает 1.7e+01%.\n",
      "\n",
      "Тестовая выборка:\n",
      "Доля положительных предсказаний от всех правильных предсказаний - Recall:  0.8758029978586723\n",
      "Доля положительных предсказаний от всех положительных предсказаний - Precision:  0.6253822629969419\n",
      "Среднее гармоническое полноты и точности - F1: 0.7297056199821588\n",
      "Accuracy: 0.8276450511945392\n",
      "ROC_AUC =  0.8430138149634182\n"
     ]
    }
   ],
   "source": [
    "model = XGBClassifier(**gs.best_params_)\n",
    "cv_search(model, features_downsampled_xgb, target_downsampled, features_test_xgb)"
   ]
  },
  {
   "cell_type": "markdown",
   "metadata": {},
   "source": [
    "Использую технику изменения порога баланса классов:"
   ]
  },
  {
   "cell_type": "code",
   "execution_count": 89,
   "metadata": {
    "scrolled": true
   },
   "outputs": [
    {
     "name": "stdout",
     "output_type": "stream",
     "text": [
      "[11:43:58] WARNING: C:/Users/Administrator/workspace/xgboost-win64_release_1.4.0/src/learner.cc:1095: Starting in XGBoost 1.3.0, the default evaluation metric used with the objective 'binary:logistic' was changed from 'error' to 'logloss'. Explicitly set eval_metric if you'd like to restore the old behavior.\n"
     ]
    },
    {
     "name": "stderr",
     "output_type": "stream",
     "text": [
      "C:\\Users\\George\\anaconda3\\lib\\site-packages\\xgboost\\sklearn.py:1146: UserWarning: The use of label encoder in XGBClassifier is deprecated and will be removed in a future release. To remove this warning, do the following: 1) Pass option use_label_encoder=False when constructing XGBClassifier object; and 2) Encode your labels (y) as integers starting with 0, i.e. 0, 1, 2, ..., [num_class - 1].\n",
      "  warnings.warn(label_encoder_deprecation_msg, UserWarning)\n",
      "C:\\Users\\George\\anaconda3\\lib\\site-packages\\xgboost\\data.py:112: UserWarning: Use subset (sliced data) of np.ndarray is not recommended because it will generate extra copies and increase memory consumption\n",
      "  warnings.warn(\n"
     ]
    },
    {
     "name": "stdout",
     "output_type": "stream",
     "text": [
      "Валидационная выборка на пороге thresold = 0.53:\n",
      "f1 = 0.6873315363881402\n",
      "accuracy = 0.8993973859469094\n",
      "auc = 0.8534428300694883\n"
     ]
    }
   ],
   "source": [
    "model = XGBClassifier(**gs_xgb.best_params_)\n",
    "model.fit(features_train_val, target_train_val)\n",
    "prob_valid = model.predict_proba(features_valid)\n",
    "prob_valid_ones = prob_valid[:, 1]\n",
    "\n",
    "f1, auc, accuracy, threshold_xgb = threshold(begin=0, end=1, step=0.01, features=features_valid, \n",
    "                                              target=target_valid, prob_ones=prob_valid_ones)\n",
    "\n",
    "print(f'Валидационная выборка на пороге thresold = {threshold_xgb}:')\n",
    "print(f'f1 = {f1}')\n",
    "print(f'accuracy = {accuracy}')\n",
    "print(f'auc = {auc}')"
   ]
  },
  {
   "cell_type": "code",
   "execution_count": 90,
   "metadata": {},
   "outputs": [
    {
     "name": "stdout",
     "output_type": "stream",
     "text": [
      "[11:43:59] WARNING: C:/Users/Administrator/workspace/xgboost-win64_release_1.4.0/src/learner.cc:1095: Starting in XGBoost 1.3.0, the default evaluation metric used with the objective 'binary:logistic' was changed from 'error' to 'logloss'. Explicitly set eval_metric if you'd like to restore the old behavior.\n"
     ]
    },
    {
     "name": "stderr",
     "output_type": "stream",
     "text": [
      "C:\\Users\\George\\anaconda3\\lib\\site-packages\\xgboost\\sklearn.py:1146: UserWarning: The use of label encoder in XGBClassifier is deprecated and will be removed in a future release. To remove this warning, do the following: 1) Pass option use_label_encoder=False when constructing XGBClassifier object; and 2) Encode your labels (y) as integers starting with 0, i.e. 0, 1, 2, ..., [num_class - 1].\n",
      "  warnings.warn(label_encoder_deprecation_msg, UserWarning)\n"
     ]
    },
    {
     "name": "stdout",
     "output_type": "stream",
     "text": [
      "Тестовая выборка на пороге thresold = 0.53:\n",
      "f1 = 0.7380073800738007\n",
      "accuracy = 0.878839590443686\n",
      "auc = 0.803383496683513\n"
     ]
    },
    {
     "name": "stderr",
     "output_type": "stream",
     "text": [
      "C:\\Users\\George\\anaconda3\\lib\\site-packages\\xgboost\\data.py:112: UserWarning: Use subset (sliced data) of np.ndarray is not recommended because it will generate extra copies and increase memory consumption\n",
      "  warnings.warn(\n"
     ]
    }
   ],
   "source": [
    "best_model = XGBClassifier(**gs_xgb.best_params_)\n",
    "best_model.fit(features_train, target_train)\n",
    "prob = best_model.predict_proba(features_test)\n",
    "prob_test_ones = prob[:, 1]\n",
    "predicted_test = prob_test_ones > threshold_xgb\n",
    "\n",
    "f1 = f1_score(target_test, predicted_test)\n",
    "auc = roc_auc_score(target_test, predicted_test)\n",
    "accuracy = accuracy_score(target_test, predicted_test)\n",
    "\n",
    "print(f'Тестовая выборка на пороге thresold = {threshold_xgb}:')\n",
    "print(f'f1 = {f1}')\n",
    "print(f'accuracy = {accuracy}')\n",
    "print(f'auc = {auc}')"
   ]
  },
  {
   "cell_type": "markdown",
   "metadata": {},
   "source": [
    "Наилучшего результата добился при использовании техники увеличения баланса класса. roc_auc=0.8639"
   ]
  },
  {
   "cell_type": "code",
   "execution_count": 91,
   "metadata": {},
   "outputs": [
    {
     "data": {
      "image/png": "[encoded data removed]",
      "text/plain": [
       "<Figure size 1296x432 with 2 Axes>"
      ]
     },
     "metadata": {},
     "output_type": "display_data"
    }
   ],
   "source": [
    "auc_roc_plot(best_model, target_test, prob_test_ones)"
   ]
  },
  {
   "cell_type": "markdown",
   "metadata": {},
   "source": [
    "predict_plot(target_test, predict_test, 100)"
   ]
  },
  {
   "cell_type": "markdown",
   "metadata": {},
   "source": [
    "### Анализ метрики auc_roc алгоритма LGBMClassifier"
   ]
  },
  {
   "cell_type": "code",
   "execution_count": 92,
   "metadata": {},
   "outputs": [
    {
     "name": "stdout",
     "output_type": "stream",
     "text": [
      "Wall time: 2min 10s\n"
     ]
    },
    {
     "data": {
      "text/plain": [
       "{'learning_rate': 0.2, 'max_depth': 4, 'n_estimators': 90}"
      ]
     },
     "execution_count": 92,
     "metadata": {},
     "output_type": "execute_result"
    }
   ],
   "source": [
    "%%time\n",
    "lgb = LGBMClassifier(random_state=rs, n_jobs=-1)\n",
    "params = {'n_estimators': [i for i in range(10, 100, 10)],\n",
    "          'learning_rate': [i for i in np.arange(0.05, 0.2, 0.01)],\n",
    "          'max_depth': [i for i in range(1, 6, 1)]}\n",
    "\n",
    "gs_lgb = GridSearchCV(lgb, params, scoring=('roc_auc'), n_jobs=-1, cv=5)\n",
    "gs_lgb.fit(features_train, target_train)\n",
    "gs_lgb.best_params_"
   ]
  },
  {
   "cell_type": "code",
   "execution_count": 93,
   "metadata": {
    "scrolled": true
   },
   "outputs": [
    {
     "name": "stdout",
     "output_type": "stream",
     "text": [
      "Перекресная проверка (кросс-валидация):\n",
      "f1 на обучающей выборке: 0.773281809290207\n",
      "f1 на валидационной выборке: 0.6970883827102475\n",
      "f1 на тестовой выборке: 0.6925880923450791\n",
      "\n",
      "Разница метрики f1 между train and valid не превышает 9.9%. Переобучения нет, если разница <10%\n",
      "Разница метрики f1 между train and test не превышает 1e+01%.\n",
      "\n",
      "Тестовая выборка:\n",
      "Доля положительных предсказаний от всех правильных предсказаний - Recall:  0.6102783725910065\n",
      "Доля положительных предсказаний от всех положительных предсказаний - Precision:  0.800561797752809\n",
      "Среднее гармоническое полноты и точности - F1: 0.6925880923450791\n",
      "Accuracy: 0.8560864618885097\n",
      "ROC_AUC =  0.7776411227788496\n"
     ]
    }
   ],
   "source": [
    "model = LGBMClassifier(**gs_lgb.best_params_)\n",
    "cv_search(model, features_train, target_train, features_test)"
   ]
  },
  {
   "cell_type": "markdown",
   "metadata": {},
   "source": [
    "Оценю важнось признаков и возьму только самые весомые:"
   ]
  },
  {
   "cell_type": "code",
   "execution_count": 94,
   "metadata": {},
   "outputs": [
    {
     "data": {
      "text/plain": [
       "<AxesSubplot:>"
      ]
     },
     "execution_count": 94,
     "metadata": {},
     "output_type": "execute_result"
    },
    {
     "data": {
      "image/png": "[encoded data removed]",
      "text/plain": [
       "<Figure size 432x288 with 1 Axes>"
      ]
     },
     "metadata": {
      "needs_background": "light"
     },
     "output_type": "display_data"
    }
   ],
   "source": [
    "importances = pd.Series(model.feature_importances_, index=features.columns)\n",
    "importances.sort_values().plot(kind='barh')"
   ]
  },
  {
   "cell_type": "code",
   "execution_count": 95,
   "metadata": {},
   "outputs": [],
   "source": [
    "lgb_count = 5"
   ]
  },
  {
   "cell_type": "code",
   "execution_count": 96,
   "metadata": {},
   "outputs": [
    {
     "data": {
      "text/html": [
       "<div>\n",
       "<style scoped>\n",
       "    .dataframe tbody tr th:only-of-type {\n",
       "        vertical-align: middle;\n",
       "    }\n",
       "\n",
       "    .dataframe tbody tr th {\n",
       "        vertical-align: top;\n",
       "    }\n",
       "\n",
       "    .dataframe thead th {\n",
       "        text-align: right;\n",
       "    }\n",
       "</style>\n",
       "<table border=\"1\" class=\"dataframe\">\n",
       "  <thead>\n",
       "    <tr style=\"text-align: right;\">\n",
       "      <th></th>\n",
       "      <th>ContractLive</th>\n",
       "      <th>StreamingMovies</th>\n",
       "      <th>gender</th>\n",
       "      <th>PaymentMethod_Electronic check</th>\n",
       "      <th>InternetService_Fiber optic</th>\n",
       "    </tr>\n",
       "  </thead>\n",
       "  <tbody>\n",
       "    <tr>\n",
       "      <th>1715</th>\n",
       "      <td>-1.240762</td>\n",
       "      <td>0.802186</td>\n",
       "      <td>1.007613</td>\n",
       "      <td>-0.706805</td>\n",
       "      <td>1.124928</td>\n",
       "    </tr>\n",
       "    <tr>\n",
       "      <th>6648</th>\n",
       "      <td>0.684006</td>\n",
       "      <td>0.802186</td>\n",
       "      <td>1.007613</td>\n",
       "      <td>-0.706805</td>\n",
       "      <td>-0.888945</td>\n",
       "    </tr>\n",
       "    <tr>\n",
       "      <th>4949</th>\n",
       "      <td>-0.791200</td>\n",
       "      <td>0.802186</td>\n",
       "      <td>-0.992444</td>\n",
       "      <td>1.414817</td>\n",
       "      <td>-0.888945</td>\n",
       "    </tr>\n",
       "    <tr>\n",
       "      <th>4673</th>\n",
       "      <td>-0.954065</td>\n",
       "      <td>-1.246593</td>\n",
       "      <td>-0.992444</td>\n",
       "      <td>1.414817</td>\n",
       "      <td>1.124928</td>\n",
       "    </tr>\n",
       "    <tr>\n",
       "      <th>3503</th>\n",
       "      <td>-1.282487</td>\n",
       "      <td>0.802186</td>\n",
       "      <td>-0.992444</td>\n",
       "      <td>-0.706805</td>\n",
       "      <td>-0.888945</td>\n",
       "    </tr>\n",
       "  </tbody>\n",
       "</table>\n",
       "</div>"
      ],
      "text/plain": [
       "      ContractLive  StreamingMovies    gender  PaymentMethod_Electronic check  \\\n",
       "1715     -1.240762         0.802186  1.007613                       -0.706805   \n",
       "6648      0.684006         0.802186  1.007613                       -0.706805   \n",
       "4949     -0.791200         0.802186 -0.992444                        1.414817   \n",
       "4673     -0.954065        -1.246593 -0.992444                        1.414817   \n",
       "3503     -1.282487         0.802186 -0.992444                       -0.706805   \n",
       "\n",
       "      InternetService_Fiber optic  \n",
       "1715                     1.124928  \n",
       "6648                    -0.888945  \n",
       "4949                    -0.888945  \n",
       "4673                     1.124928  \n",
       "3503                    -0.888945  "
      ]
     },
     "execution_count": 96,
     "metadata": {},
     "output_type": "execute_result"
    }
   ],
   "source": [
    "features_train_lgb = features_train.drop(columns=importances.sort_values(ascending=False).index[xgb_count:])\n",
    "features_test_lgb = features_test.drop(columns=importances.sort_values(ascending=False).index[xgb_count:])\n",
    "features_train_lgb.head()"
   ]
  },
  {
   "cell_type": "code",
   "execution_count": 97,
   "metadata": {},
   "outputs": [
    {
     "name": "stdout",
     "output_type": "stream",
     "text": [
      "Wall time: 3h 26min 33s\n"
     ]
    },
    {
     "data": {
      "text/plain": [
       "{'learning_rate': 0.2, 'max_depth': 4, 'n_estimators': 190}"
      ]
     },
     "execution_count": 97,
     "metadata": {},
     "output_type": "execute_result"
    }
   ],
   "source": [
    "%%time\n",
    "lgb = LGBMClassifier(random_state=rs, n_jobs=-1)\n",
    "params = {'n_estimators': [i for i in range(10, 200, 10)],\n",
    "          'learning_rate': [i for i in np.arange(0.05, 0.2, 0.01)],\n",
    "          'max_depth': [i for i in range(1, 6, 1)]}\n",
    "\n",
    "gs_lgb = GridSearchCV(lgb, params, scoring=('roc_auc'), n_jobs=-1, cv=5)\n",
    "gs_lgb.fit(features_train_lgb, target_train)\n",
    "gs_lgb.best_params_"
   ]
  },
  {
   "cell_type": "code",
   "execution_count": 98,
   "metadata": {
    "scrolled": true
   },
   "outputs": [
    {
     "name": "stdout",
     "output_type": "stream",
     "text": [
      "Перекресная проверка (кросс-валидация):\n",
      "f1 на обучающей выборке: 0.7941193371668851\n",
      "f1 на валидационной выборке: 0.735127200326216\n",
      "f1 на тестовой выборке: 0.7741176470588235\n",
      "\n",
      "Разница метрики f1 между train and valid не превышает 7.4%. Переобучения нет, если разница <10%\n",
      "Разница метрики f1 между train and test не превышает 2.5%.\n",
      "\n",
      "Тестовая выборка:\n",
      "Доля положительных предсказаний от всех правильных предсказаний - Recall:  0.7044967880085653\n",
      "Доля положительных предсказаний от всех положительных предсказаний - Precision:  0.8590078328981723\n",
      "Среднее гармоническое полноты и точности - F1: 0.7741176470588235\n",
      "Accuracy: 0.8907849829351536\n",
      "ROC_AUC =  0.8313343738648559\n"
     ]
    }
   ],
   "source": [
    "model = LGBMClassifier(**gs_lgb.best_params_)\n",
    "cv_search(model, features_train_lgb, target_train, features_test_lgb)"
   ]
  },
  {
   "cell_type": "markdown",
   "metadata": {},
   "source": [
    "Использую техники увеличения и уменьшения баланса классов:"
   ]
  },
  {
   "cell_type": "code",
   "execution_count": 99,
   "metadata": {},
   "outputs": [
    {
     "data": {
      "text/html": [
       "<div>\n",
       "<style scoped>\n",
       "    .dataframe tbody tr th:only-of-type {\n",
       "        vertical-align: middle;\n",
       "    }\n",
       "\n",
       "    .dataframe tbody tr th {\n",
       "        vertical-align: top;\n",
       "    }\n",
       "\n",
       "    .dataframe thead th {\n",
       "        text-align: right;\n",
       "    }\n",
       "</style>\n",
       "<table border=\"1\" class=\"dataframe\">\n",
       "  <thead>\n",
       "    <tr style=\"text-align: right;\">\n",
       "      <th></th>\n",
       "      <th>ContractLive</th>\n",
       "      <th>StreamingMovies</th>\n",
       "      <th>gender</th>\n",
       "      <th>PaymentMethod_Electronic check</th>\n",
       "      <th>InternetService_Fiber optic</th>\n",
       "    </tr>\n",
       "  </thead>\n",
       "  <tbody>\n",
       "    <tr>\n",
       "      <th>3468</th>\n",
       "      <td>1.339504</td>\n",
       "      <td>0.802186</td>\n",
       "      <td>-0.992444</td>\n",
       "      <td>1.414817</td>\n",
       "      <td>1.124928</td>\n",
       "    </tr>\n",
       "    <tr>\n",
       "      <th>3984</th>\n",
       "      <td>-1.158656</td>\n",
       "      <td>-1.246593</td>\n",
       "      <td>1.007613</td>\n",
       "      <td>1.414817</td>\n",
       "      <td>1.124928</td>\n",
       "    </tr>\n",
       "    <tr>\n",
       "      <th>6484</th>\n",
       "      <td>-0.626989</td>\n",
       "      <td>-1.246593</td>\n",
       "      <td>-0.992444</td>\n",
       "      <td>1.414817</td>\n",
       "      <td>-0.888945</td>\n",
       "    </tr>\n",
       "    <tr>\n",
       "      <th>4151</th>\n",
       "      <td>0.273479</td>\n",
       "      <td>0.802186</td>\n",
       "      <td>-0.992444</td>\n",
       "      <td>-0.706805</td>\n",
       "      <td>-0.888945</td>\n",
       "    </tr>\n",
       "    <tr>\n",
       "      <th>6213</th>\n",
       "      <td>1.381230</td>\n",
       "      <td>-1.246593</td>\n",
       "      <td>-0.992444</td>\n",
       "      <td>-0.706805</td>\n",
       "      <td>1.124928</td>\n",
       "    </tr>\n",
       "  </tbody>\n",
       "</table>\n",
       "</div>"
      ],
      "text/plain": [
       "      ContractLive  StreamingMovies    gender  PaymentMethod_Electronic check  \\\n",
       "3468      1.339504         0.802186 -0.992444                        1.414817   \n",
       "3984     -1.158656        -1.246593  1.007613                        1.414817   \n",
       "6484     -0.626989        -1.246593 -0.992444                        1.414817   \n",
       "4151      0.273479         0.802186 -0.992444                       -0.706805   \n",
       "6213      1.381230        -1.246593 -0.992444                       -0.706805   \n",
       "\n",
       "      InternetService_Fiber optic  \n",
       "3468                     1.124928  \n",
       "3984                     1.124928  \n",
       "6484                    -0.888945  \n",
       "4151                    -0.888945  \n",
       "6213                     1.124928  "
      ]
     },
     "execution_count": 99,
     "metadata": {},
     "output_type": "execute_result"
    }
   ],
   "source": [
    "features_upsampled_lgb = features_upsampled.drop(columns=importances.sort_values(ascending=False).index[xgb_count:])\n",
    "features_downsampled_lgb = features_downsampled.drop(columns=importances.sort_values(ascending=False).index[xgb_count:])\n",
    "features_upsampled_lgb.head()"
   ]
  },
  {
   "cell_type": "code",
   "execution_count": 100,
   "metadata": {},
   "outputs": [
    {
     "name": "stdout",
     "output_type": "stream",
     "text": [
      "Wall time: 1min 48s\n"
     ]
    },
    {
     "data": {
      "text/plain": [
       "{'learning_rate': 0.2, 'max_depth': 5, 'n_estimators': 180}"
      ]
     },
     "execution_count": 100,
     "metadata": {},
     "output_type": "execute_result"
    }
   ],
   "source": [
    "%%time\n",
    "lgb = LGBMClassifier(random_state=rs, n_jobs=-1)\n",
    "params = {'n_estimators': [i for i in range(10, 200, 10)],\n",
    "          'learning_rate': [i for i in np.arange(0.05, 0.2, 0.01)],\n",
    "          'max_depth': [i for i in range(2, 6, 1)]}\n",
    "\n",
    "gs = GridSearchCV(lgb, params, scoring=('f1'), n_jobs=-1, cv=3)\n",
    "gs.fit(features_upsampled_lgb, target_upsampled)\n",
    "gs.best_params_"
   ]
  },
  {
   "cell_type": "code",
   "execution_count": 101,
   "metadata": {
    "scrolled": true
   },
   "outputs": [
    {
     "name": "stdout",
     "output_type": "stream",
     "text": [
      "Перекресная проверка (кросс-валидация):\n",
      "f1 на обучающей выборке: 0.8700932834431614\n",
      "f1 на валидационной выборке: 0.8435809974248155\n",
      "f1 на тестовой выборке: 0.762303664921466\n",
      "\n",
      "Разница метрики f1 между train and valid не превышает 3.0%. Переобучения нет, если разница <10%\n",
      "Разница метрики f1 между train and test не превышает 1.2e+01%.\n",
      "\n",
      "Тестовая выборка:\n",
      "Доля положительных предсказаний от всех правильных предсказаний - Recall:  0.7794432548179872\n",
      "Доля положительных предсказаний от всех положительных предсказаний - Precision:  0.7459016393442623\n",
      "Среднее гармоническое полноты и точности - F1: 0.762303664921466\n",
      "Accuracy: 0.8708759954493743\n",
      "ROC_AUC =  0.8416968404221616\n"
     ]
    }
   ],
   "source": [
    "model = LGBMClassifier(**gs.best_params_)\n",
    "cv_search(model, features_upsampled_lgb, target_upsampled, features_test_lgb)"
   ]
  },
  {
   "cell_type": "code",
   "execution_count": 102,
   "metadata": {},
   "outputs": [
    {
     "name": "stdout",
     "output_type": "stream",
     "text": [
      "Wall time: 1min 25s\n"
     ]
    },
    {
     "data": {
      "text/plain": [
       "{'learning_rate': 0.2, 'max_depth': 4, 'n_estimators': 190}"
      ]
     },
     "execution_count": 102,
     "metadata": {},
     "output_type": "execute_result"
    }
   ],
   "source": [
    "%%time\n",
    "lgb = LGBMClassifier(random_state=rs, n_jobs=-1)\n",
    "params = {'n_estimators': [i for i in range(10, 200, 10)],\n",
    "          'learning_rate': [i for i in np.arange(0.05, 0.2, 0.01)],\n",
    "          'max_depth': [i for i in range(2, 6, 1)]}\n",
    "\n",
    "gs = GridSearchCV(lgb, params, scoring=('f1'), n_jobs=-1, cv=3)\n",
    "gs.fit(features_downsampled_lgb, target_downsampled)\n",
    "gs.best_params_"
   ]
  },
  {
   "cell_type": "code",
   "execution_count": 103,
   "metadata": {
    "scrolled": true
   },
   "outputs": [
    {
     "name": "stdout",
     "output_type": "stream",
     "text": [
      "Перекресная проверка (кросс-валидация):\n",
      "f1 на обучающей выборке: 0.8854909452062423\n",
      "f1 на валидационной выборке: 0.8371280394750258\n",
      "f1 на тестовой выборке: 0.7011393514461\n",
      "\n",
      "Разница метрики f1 между train and valid не превышает 5.5%. Переобучения нет, если разница <10%\n",
      "Разница метрики f1 между train and test не превышает 2.1e+01%.\n",
      "\n",
      "Тестовая выборка:\n",
      "Доля положительных предсказаний от всех правильных предсказаний - Recall:  0.8565310492505354\n",
      "Доля положительных предсказаний от всех положительных предсказаний - Precision:  0.5934718100890207\n",
      "Среднее гармоническое полноты и точности - F1: 0.7011393514461\n",
      "Accuracy: 0.8060295790671217\n",
      "ROC_AUC =  0.8221462372511392\n"
     ]
    }
   ],
   "source": [
    "model = LGBMClassifier(**gs.best_params_)\n",
    "cv_search(model, features_downsampled_lgb, target_downsampled, features_test_lgb)"
   ]
  },
  {
   "cell_type": "markdown",
   "metadata": {},
   "source": [
    "Использую технику изменения порога баланса классов:"
   ]
  },
  {
   "cell_type": "code",
   "execution_count": 104,
   "metadata": {
    "scrolled": true
   },
   "outputs": [
    {
     "name": "stdout",
     "output_type": "stream",
     "text": [
      "Валидационная выборка на пороге thresold = 0.48:\n",
      "f1 = 0.7090216010165185\n",
      "accuracy = 0.9052293326683047\n",
      "auc = 0.8553379658875553\n"
     ]
    }
   ],
   "source": [
    "model = LGBMClassifier(**gs_lgb.best_params_)\n",
    "model.fit(features_train_val, target_train_val)\n",
    "prob_valid = model.predict_proba(features_valid)\n",
    "prob_valid_ones = prob_valid[:, 1]\n",
    "\n",
    "f1, auc, accuracy, threshold_lgb = threshold(begin=0, end=1, step=0.01, features=features_valid, \n",
    "                                              target=target_valid, prob_ones=prob_valid_ones)\n",
    "\n",
    "print(f'Валидационная выборка на пороге thresold = {threshold_lgb}:')\n",
    "print(f'f1 = {f1}')\n",
    "print(f'accuracy = {accuracy}')\n",
    "print(f'auc = {auc}')"
   ]
  },
  {
   "cell_type": "code",
   "execution_count": 105,
   "metadata": {},
   "outputs": [
    {
     "name": "stdout",
     "output_type": "stream",
     "text": [
      "Тестовая выборка на пороге thresold = 0.48:\n",
      "f1 = 0.7654609101516918\n",
      "accuracy = 0.8856655290102389\n",
      "auc = 0.8271653366993036\n"
     ]
    }
   ],
   "source": [
    "best_model = LGBMClassifier(**gs_lgb.best_params_)\n",
    "best_model.fit(features_train, target_train)\n",
    "prob = best_model.predict_proba(features_test)\n",
    "prob_test_ones = prob[:, 1]\n",
    "predicted_test = prob_test_ones > threshold_lgb\n",
    "\n",
    "f1 = f1_score(target_test, predicted_test)\n",
    "auc = roc_auc_score(target_test, predicted_test)\n",
    "accuracy = accuracy_score(target_test, predicted_test)\n",
    "\n",
    "print(f'Тестовая выборка на пороге thresold = {threshold_lgb}:')\n",
    "print(f'f1 = {f1}')\n",
    "print(f'accuracy = {accuracy}')\n",
    "print(f'auc = {auc}')"
   ]
  },
  {
   "cell_type": "markdown",
   "metadata": {},
   "source": [
    "Наилучший результат я получил при использовании техники уменьшения баланса классов. roc_auc = 0.855"
   ]
  },
  {
   "cell_type": "code",
   "execution_count": 106,
   "metadata": {},
   "outputs": [
    {
     "data": {
      "image/png": "[encoded data removed]",
      "text/plain": [
       "<Figure size 1296x432 with 2 Axes>"
      ]
     },
     "metadata": {},
     "output_type": "display_data"
    }
   ],
   "source": [
    "auc_roc_plot(best_model, target_test, prob_test_ones)"
   ]
  },
  {
   "cell_type": "markdown",
   "metadata": {},
   "source": [
    "predict_plot(target_test, predict_test, 100)"
   ]
  },
  {
   "cell_type": "markdown",
   "metadata": {},
   "source": [
    "## Итого"
   ]
  },
  {
   "cell_type": "markdown",
   "metadata": {},
   "source": [
    "Наилучшую модель я получил при использовании алгоритма XGBoostClassifier() и техники увеличения баланса классов. Roc_auc = 0.864"
   ]
  }
 ],
 "metadata": {
  "ExecuteTimeLog": [
   {
    "duration": 1273,
    "start_time": "2021-08-05T12:30:43.683Z"
   },
   {
    "duration": 4,
    "start_time": "2021-08-05T12:30:51.399Z"
   },
   {
    "duration": 11,
    "start_time": "2021-08-05T12:30:55.779Z"
   },
   {
    "duration": 8,
    "start_time": "2021-08-05T12:30:56.490Z"
   },
   {
    "duration": 6,
    "start_time": "2021-08-05T12:30:57.153Z"
   },
   {
    "duration": 5,
    "start_time": "2021-08-05T12:35:02.889Z"
   },
   {
    "duration": 4,
    "start_time": "2021-08-05T12:35:03.749Z"
   },
   {
    "duration": 10,
    "start_time": "2021-08-05T12:35:04.099Z"
   },
   {
    "duration": 6,
    "start_time": "2021-08-05T12:35:04.830Z"
   },
   {
    "duration": 3,
    "start_time": "2021-08-05T12:35:07.060Z"
   },
   {
    "duration": 172,
    "start_time": "2021-08-05T12:35:44.054Z"
   },
   {
    "duration": 65,
    "start_time": "2021-08-05T12:35:44.807Z"
   },
   {
    "duration": 5,
    "start_time": "2021-08-05T12:35:45.347Z"
   },
   {
    "duration": 13,
    "start_time": "2021-08-05T12:35:47.134Z"
   },
   {
    "duration": 67,
    "start_time": "2021-08-05T12:35:47.149Z"
   },
   {
    "duration": 11,
    "start_time": "2021-08-05T12:35:47.218Z"
   },
   {
    "duration": 17,
    "start_time": "2021-08-05T12:35:48.028Z"
   },
   {
    "duration": 171,
    "start_time": "2021-08-05T12:35:48.980Z"
   },
   {
    "duration": 54,
    "start_time": "2021-08-05T12:35:49.153Z"
   },
   {
    "duration": 148,
    "start_time": "2021-08-05T12:35:50.910Z"
   },
   {
    "duration": 52,
    "start_time": "2021-08-05T12:35:51.060Z"
   },
   {
    "duration": 138,
    "start_time": "2021-08-05T12:35:51.114Z"
   },
   {
    "duration": 19,
    "start_time": "2021-08-05T12:35:51.253Z"
   },
   {
    "duration": 10,
    "start_time": "2021-08-05T12:37:32.753Z"
   },
   {
    "duration": 18,
    "start_time": "2021-08-05T12:37:37.193Z"
   },
   {
    "duration": 12,
    "start_time": "2021-08-05T12:38:03.962Z"
   },
   {
    "duration": 40,
    "start_time": "2021-08-05T12:40:54.866Z"
   },
   {
    "duration": 128,
    "start_time": "2021-08-05T12:40:56.756Z"
   },
   {
    "duration": 23,
    "start_time": "2021-08-05T12:41:03.399Z"
   },
   {
    "duration": 152,
    "start_time": "2021-08-05T12:42:16.164Z"
   },
   {
    "duration": 6699,
    "start_time": "2021-08-05T12:42:17.518Z"
   },
   {
    "duration": 35,
    "start_time": "2021-08-05T12:42:24.221Z"
   },
   {
    "duration": 250,
    "start_time": "2021-08-05T12:42:24.258Z"
   },
   {
    "duration": 157,
    "start_time": "2021-08-05T12:43:13.253Z"
   },
   {
    "duration": 34,
    "start_time": "2021-08-05T12:43:14.182Z"
   },
   {
    "duration": 6,
    "start_time": "2021-08-05T12:43:14.232Z"
   },
   {
    "duration": 28,
    "start_time": "2021-08-05T12:43:14.240Z"
   },
   {
    "duration": 12,
    "start_time": "2021-08-05T12:43:15.235Z"
   },
   {
    "duration": 11,
    "start_time": "2021-08-05T12:43:16.338Z"
   },
   {
    "duration": 21,
    "start_time": "2021-08-05T12:43:17.082Z"
   },
   {
    "duration": 31,
    "start_time": "2021-08-05T12:43:17.998Z"
   },
   {
    "duration": 48,
    "start_time": "2021-08-05T13:07:19.194Z"
   },
   {
    "duration": 11,
    "start_time": "2021-08-05T13:07:20.655Z"
   },
   {
    "duration": 6,
    "start_time": "2021-08-05T13:07:20.874Z"
   },
   {
    "duration": 11,
    "start_time": "2021-08-05T13:07:24.054Z"
   },
   {
    "duration": 7,
    "start_time": "2021-08-05T13:07:24.344Z"
   }
  ],
  "kernelspec": {
   "display_name": "Python 3 (ipykernel)",
   "language": "python",
   "name": "python3"
  },
  "language_info": {
   "codemirror_mode": {
    "name": "ipython",
    "version": 3
   },
   "file_extension": ".py",
   "mimetype": "text/x-python",
   "name": "python",
   "nbconvert_exporter": "python",
   "pygments_lexer": "ipython3",
   "version": "3.9.13"
  },
  "toc": {
   "base_numbering": 1,
   "nav_menu": {},
   "number_sections": true,
   "sideBar": true,
   "skip_h1_title": true,
   "title_cell": "Table of Contents",
   "title_sidebar": "Contents",
   "toc_cell": true,
   "toc_position": {},
   "toc_section_display": true,
   "toc_window_display": false
  }
 },
 "nbformat": 4,
 "nbformat_minor": 4
}
