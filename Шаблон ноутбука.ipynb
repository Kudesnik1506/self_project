{
 "cells": [
  {
   "cell_type": "markdown",
   "id": "04712674-628e-4963-bf30-e9a1bcd8d762",
   "metadata": {
    "jp-MarkdownHeadingCollapsed": true,
    "tags": []
   },
   "source": [
    "## Загрузка данных и подготовка к анализу"
   ]
  },
  {
   "cell_type": "markdown",
   "id": "d87228c4-2ab4-4392-8cf7-784db19a71d5",
   "metadata": {
    "jp-MarkdownHeadingCollapsed": true,
    "tags": []
   },
   "source": [
    "### Установка необходимых библиотек и плагинов"
   ]
  },
  {
   "cell_type": "raw",
   "id": "efafab51-8617-43c2-b983-eeebade3d3a8",
   "metadata": {},
   "source": [
    "!pip install jupyter_contrib_nbextensions\n",
    "!jupyter contrib nbextension install --user\n",
    "!jupyter nbextension enable execute_time/ExecuteTime\n",
    "\n",
    "!pip freeze > requirements.txt\n",
    "!pip install -r requirements.txt"
   ]
  },
  {
   "cell_type": "markdown",
   "id": "971e58a1-9f33-40e9-80d2-c81dcfc5cdce",
   "metadata": {
    "jp-MarkdownHeadingCollapsed": true,
    "tags": []
   },
   "source": [
    "### Загрузка библиотек"
   ]
  },
  {
   "cell_type": "code",
   "execution_count": null,
   "id": "4025175f-f748-4c85-8e9d-eb2ee272d574",
   "metadata": {
    "ExecuteTime": {
     "end_time": "2023-04-03T12:53:18.695346Z",
     "start_time": "2023-04-03T12:53:17.685335Z"
    },
    "tags": []
   },
   "outputs": [],
   "source": [
    "import os\n",
    "\n",
    "import pandas as pd\n",
    "import numpy as np\n",
    "\n",
    "import matplotlib.pyplot as plt\n",
    "import seaborn as sns\n",
    "\n",
    "import psycopg2\n",
    "from sqlalchemy import create_engine \n",
    "from psycopg2 import OperationalError\n",
    "\n",
    "\n",
    "from datetime import datetime, timedelta, date\n",
    "from dateutil.relativedelta import relativedelta\n",
    "import calendar\n",
    "import time\n",
    "\n",
    "from itertools import cycle\n",
    "from IPython.display import display_html\n",
    "\n",
    "import pathlib2 as pl2\n",
    "import gc"
   ]
  },
  {
   "cell_type": "markdown",
   "id": "0303f7f3-655d-4261-b7cd-5565b6569711",
   "metadata": {
    "jp-MarkdownHeadingCollapsed": true,
    "tags": []
   },
   "source": [
    "### Дополнительные настройки"
   ]
  },
  {
   "cell_type": "code",
   "execution_count": null,
   "id": "05b1ff82-648b-4f4f-bb97-ac000ebb8273",
   "metadata": {
    "ExecuteTime": {
     "end_time": "2023-04-03T12:53:18.701352Z",
     "start_time": "2023-04-03T12:53:18.697347Z"
    },
    "tags": []
   },
   "outputs": [],
   "source": [
    "pd.set_option('display.max_rows', 500)\n",
    "pd.set_option('display.max_columns', 500)\n",
    "pd.set_option('display.width', 1000)\n",
    "\n",
    "pd.set_option('chained_assignment',None)"
   ]
  },
  {
   "cell_type": "markdown",
   "id": "1d4f7bed-355b-424e-a73d-3f710dfe684e",
   "metadata": {
    "jp-MarkdownHeadingCollapsed": true,
    "tags": []
   },
   "source": [
    "## Определение функций"
   ]
  },
  {
   "cell_type": "code",
   "execution_count": null,
   "id": "6b755aee-a375-4380-a27c-92f447660944",
   "metadata": {},
   "outputs": [],
   "source": [
    "def loaded_region_grouped(from_parquet1, from_parquet2, from_parquet3, regions, batches = 100):\n",
    "\n",
    "    organizations = pd.DataFrame()\n",
    "    houses = pd.DataFrame()\n",
    "    payment_documents = pd.DataFrame()\n",
    "\n",
    "    if from_parquet1:\n",
    "        organizations = pd.read_csv(PATH_DOWNLOAD + 'organizations1.csv')\n",
    "    else:\n",
    "        for i, region in enumerate(tqdm(regions, ncols=80)):\n",
    "\n",
    "            data = dataloader(collect_query_regions(region), db_config=db_config_analytic)\n",
    "            organizations = pd.concat([organizations, data])\n",
    "            print(f\"Region: {region} загружен. Df shape: {organizations.shape}\")\n",
    "        \n",
    "        organizations.to_csv(PATH_DOWNLOAD + 'organizations1.csv')\n",
    "    print(f\"Organizations shape: {organizations.shape}\")\n",
    "    \n",
    "    fias_houses = organizations['fias_house_code'][organizations['fias_house_code'].notnull()].unique().tolist()\n",
    "    accounts = organizations['sha_guid'][organizations['sha_guid'].notnull()].unique().tolist()\n",
    "    \n",
    "    houses_list = \"'\" + \"','\".join(fias_houses) + \"'\"\n",
    "    print(f\"Размер houses_list: {len(fias_houses)}. Размер accounts_list: {len(accounts)}\")\n",
    "        \n",
    "    if from_parquet2:\n",
    "        houses = pd.read_parquet(PATH_DOWNLOAD + 'houses1.parquet')\n",
    "    else:\n",
    "        for i, region in enumerate(tqdm(regions, ncols=80)):\n",
    "\n",
    "            data = dataloader(collect_query_rso_houses(houses_list), db_config=db_config_analytic)\n",
    "            houses = pd.concat([houses, data])\n",
    "            print(f\"Region: {region} загружен. Df shape: {houses.shape}\")\n",
    "        \n",
    "        houses.to_parquet(PATH_DOWNLOAD + 'houses1.parquet')\n",
    "    print(f\"Houses shape: {houses.shape}\")\n",
    "  \n",
    "    if from_parquet3:\n",
    "        payment_documents = pd.read_parquet(PATH_DOWNLOAD + 'payment_documents2.parquet')\n",
    "    else:\n",
    "        if len(accounts) % batches:\n",
    "            block_size = int(len(accounts) / batches)\n",
    "            batches += 1\n",
    "        else:\n",
    "            block_size = int(len(accounts) / batches)\n",
    "\n",
    "        for i, batch in enumerate(tqdm(range(batches), ncols=80)):\n",
    "            \n",
    "            account_list = accounts[i * block_size: block_size * (i + 1)]\n",
    "            accounts_list = \"'\" + \"','\".join(account_list) + \"'\"\n",
    "            data = dataloader(collect_query_epdc(accounts_list), db_config=db_config_analytic)\n",
    "            payment_documents = pd.concat([payment_documents, data])\n",
    "            print(f\"Batch: {i}. Payment_documents shape: {payment_documents.shape}\") \n",
    "            \n",
    "        payment_documents.to_parquet(PATH_DOWNLOAD + 'payment_documents2.parquet')\n",
    "    print(f\"Payment_documents shape: {payment_documents.shape}\")\n",
    "        \n",
    "    data = (\n",
    "        organizations\n",
    "        .merge(houses, how='left', on='fias_house_code')\n",
    "        .merge(payment_documents, how='left', left_on='sha_guid', right_on='account_guid')\n",
    "    )\n",
    "    return data"
   ]
  },
  {
   "cell_type": "code",
   "execution_count": null,
   "id": "f5ec4ab3-a61d-4330-8d8a-92096587de83",
   "metadata": {},
   "outputs": [],
   "source": [
    "def day_ranges(last_month_day=30):\n",
    "    to_list = []\n",
    "\n",
    "    for input_from, input_to, from_next, to_next, allow in zip(device_metering2['input_day_from'], device_metering2['input_day_to'], device_metering2['input_day_from_next_month'], device_metering2['input_day_to_next_month'], device_metering2['allow_transfer_any_day']):\n",
    "        \n",
    "        if allow:  #TO DO проверить, что адекватно работает!!!!!!!!!!!!!!\n",
    "            day_list = list(range(1, last_month_day + 1)) \n",
    "            to_list.append(day_list)\n",
    "        elif (((from_next == False) and (to_next == False)) and (input_to > last_month_day)) or ((from_next == True) and (to_next == True) and (input_to > last_month_day)):\n",
    "            if input_to > 2 * last_month_day:\n",
    "                day_list = list(range(input_from, last_month_day + 1)) + list(range(1, input_to - 2 * last_month_day + 1))\n",
    "            else:\n",
    "                day_list = list(range(input_from, last_month_day + 1)) + list(range(1, input_to - last_month_day + 1))\n",
    "            to_list.append(day_list)\n",
    "        elif ((from_next == False) and (to_next == False)) or ((from_next == True) and (to_next == True)):\n",
    "            to_list.append(list(range(input_from, input_to + 1)))\n",
    "        elif ((from_next == False) and (to_next == True)):\n",
    "            day_list = list(range(input_from, last_month_day + 1)) + list(range(1, input_to - last_month_day + 1))\n",
    "            to_list.append(day_list)\n",
    "        elif ((from_next == True) and (to_next == False)):\n",
    "            day_list = list(range(input_to - last_month_day, input_from + 1))\n",
    "            to_list.append(day_list)\n",
    "\n",
    "    return to_list"
   ]
  },
  {
   "cell_type": "code",
   "execution_count": null,
   "id": "e1108830-a879-4285-9cd7-a65c4ab223dd",
   "metadata": {
    "ExecuteTime": {
     "end_time": "2023-04-03T12:53:18.707347Z",
     "start_time": "2023-04-03T12:53:18.702347Z"
    },
    "tags": []
   },
   "outputs": [],
   "source": [
    "def create_connection(db_config):\n",
    "    \"\"\"\n",
    "    Создание подключения к базе данных PostgreSQL\n",
    "    :db_config: параметры подключения\n",
    "    :return: string\n",
    "    \"\"\"\n",
    "    connection = None\n",
    "    try:\n",
    "        connection = psycopg2.connect(\n",
    "            database=db_config['db'],\n",
    "            user=db_config['user'],\n",
    "            password=db_config['pwd'],\n",
    "            host=db_config['host'],\n",
    "            port=db_config['port'],\n",
    "        )\n",
    "        print(\"\\nПодключение к базе данных PostgreSQL прошло успешно\")\n",
    "    except psycopg2.OperationalError as e:\n",
    "        print(f\"Произошла ошибка '{e}'\")\n",
    "    return connection"
   ]
  },
  {
   "cell_type": "code",
   "execution_count": null,
   "id": "3562c041-5a5a-47fd-9695-1310d14b05ad",
   "metadata": {
    "ExecuteTime": {
     "end_time": "2023-04-03T12:53:18.716349Z",
     "start_time": "2023-04-03T12:53:18.709347Z"
    }
   },
   "outputs": [],
   "source": [
    "def fetcher(query, db_config):\n",
    "    \"\"\"\n",
    "    Выгрузка данных из POSTGRESQL\n",
    "    :query: POSTGRESQL запрос\n",
    "    :db_config: параметры подключения\n",
    "    :return: pandas.DataFrame\n",
    "    \"\"\"\n",
    "    connection = create_connection(db_config)\n",
    "    records = None\n",
    "    try:\n",
    "        with connection:\n",
    "            with connection.cursor() as cursor:\n",
    "                start = datetime.now()\n",
    "                print(f'Старт расчета: {start}')\n",
    "\n",
    "                cursor.execute(query)\n",
    "                print(f\"Время выполнения execute {(datetime.now() - start)} сек\")\n",
    "                middle = datetime.now()\n",
    "\n",
    "                result = cursor.fetchall()\n",
    "                print(f\"result: {len(result)}. Длина первой строки: {len(result[0])}\")\n",
    "                print(f\"Время выполнения fetchall {(datetime.now() - middle)} сек\")\n",
    "                middle1 = datetime.now()\n",
    "\n",
    "                column_names = [description[0] for description in cursor.description]\n",
    "                data = pd.DataFrame(data=result, columns=column_names)\n",
    "\n",
    "                print(f\"Время формирования датафрейма {(datetime.now() - middle1)} сек. Shape: {data.shape}\")\n",
    "                print(f'Общее время выгрузки: {datetime.now() - start}')\n",
    "    except Exception as err:\n",
    "        print(f\"Ошибка при выполнении запроса: {err}\")\n",
    "    finally:\n",
    "        cursor.close()\n",
    "        connection.close()\n",
    "    return data"
   ]
  },
  {
   "cell_type": "code",
   "execution_count": null,
   "id": "629768aa-4753-4cae-be54-ac893cd64ecd",
   "metadata": {
    "ExecuteTime": {
     "end_time": "2023-04-03T12:53:18.723347Z",
     "start_time": "2023-04-03T12:53:18.717348Z"
    },
    "tags": []
   },
   "outputs": [],
   "source": [
    "def dataloader(query, db_config):\n",
    "    \"\"\"\n",
    "    Повтор загрузки данных в случае сбоя\n",
    "    :query: POSTGRESQL запрос\n",
    "    :return: pandas.DataFrame\n",
    "    \"\"\"\n",
    "    k = 0\n",
    "    not_loaded = True\n",
    "    NUMBER_OF_ATTEMPTS_TO_CONNECT_TO_THE_DATABASE = 2\n",
    "    TIME_SLEEP = 1\n",
    "\n",
    "    while not_loaded:\n",
    "        k = k + 1\n",
    "        if k > NUMBER_OF_ATTEMPTS_TO_CONNECT_TO_THE_DATABASE:\n",
    "            break\n",
    "        try:\n",
    "            data = fetcher(query, db_config)\n",
    "            not_loaded = False\n",
    "        except Exception as err:\n",
    "            print(f'Exception: {err}. Произошел сбой выгрузки данных. Попытка {k}. Засыпаем на {TIME_SLEEP / 60} мин')\n",
    "            time.sleep(TIME_SLEEP)\n",
    "            not_loaded = True\n",
    "    else:\n",
    "        print(f\"Выгрузка данных прошла без сбоя. Попытка №{k} из {NUMBER_OF_ATTEMPTS_TO_CONNECT_TO_THE_DATABASE}.\")\n",
    "        return data"
   ]
  },
  {
   "cell_type": "code",
   "execution_count": null,
   "id": "37428388-678c-4764-9d4a-86261737d3b8",
   "metadata": {
    "ExecuteTime": {
     "end_time": "2023-04-03T12:53:18.731354Z",
     "start_time": "2023-04-03T12:53:18.724346Z"
    },
    "tags": []
   },
   "outputs": [],
   "source": [
    "def missing_values(df, with_min_max=False):\n",
    "    \"\"\"\n",
    "    Вычисление аномалий в датасете\n",
    "    :df: pandas.DataFrame, в котором ищем аномалии\n",
    "    :with_min_max: флаг - включать минимальные и максимальные значения или нет\n",
    "    :return: pandas.DataFrame\n",
    "    \"\"\"\n",
    "    \n",
    "    \"TO DO: добавить None, 0 как строка\"\n",
    "    \n",
    "    columns = [\n",
    "            'NaN_part, %', '-1_counts', 'empty_counts', 'space_counts', '0_counts', 'unique_counts',\n",
    "            'dupl_sum', 'dtypes', 'length'\n",
    "        ]\n",
    "    if with_min_max:\n",
    "        columns += ['min_value', 'max_value']\n",
    "\n",
    "    data = pd.DataFrame(columns=columns, index=df.columns)\n",
    "    \n",
    "    for column in df.columns:\n",
    "        data['NaN_part, %'][column] = df[column].isnull().mean() * 100\n",
    "        data['-1_counts'][column] = df[df[column] == -1][column].count()\n",
    "        data['empty_counts'][column] = df[df[column] == ''][column].count()\n",
    "        data['space_counts'][column] = df[df[column] == ' '][column].count()\n",
    "        data['0_counts'][column] = df[df[column] == 0][column].count()\n",
    "        data['unique_counts'][column] = len(df[column].unique())\n",
    "        if with_min_max:\n",
    "            data['min_value'][column] = df[column].min()\n",
    "            data['max_value'][column] = df[column].max()\n",
    "        data['dupl_sum'][column] = df[column].duplicated().sum()\n",
    "        data['dtypes'][column] = df[column].dtypes\n",
    "        data['length'][column] = len(df[column])\n",
    "    return data "
   ]
  },
  {
   "cell_type": "code",
   "execution_count": null,
   "id": "8c2d7388-2abb-456b-a98f-a2c3c80dfcef",
   "metadata": {
    "ExecuteTime": {
     "end_time": "2023-04-03T12:53:18.742346Z",
     "start_time": "2023-04-03T12:53:18.732348Z"
    }
   },
   "outputs": [],
   "source": [
    "def create_addresses(df1, columns_data):\n",
    "    \"\"\"\n",
    "    Формирование полного адреса домовладения\n",
    "    :df: pandas.DataFrame, в котором ищем аномалии\n",
    "    :columns: колонки, по которым собирается адрес домовладения\n",
    "    :return: pandas.DataFrame\n",
    "    \"\"\"\n",
    "    \n",
    "    columns = [\n",
    "        'addr_region_fullname', \n",
    "        'addr_area_abbr', 'addr_area_fullname', \n",
    "        'addr_city_abbr', 'addr_city_fullname',  \n",
    "        'addr_ctar_abbr', 'addr_ctar_fullname', \n",
    "        'addr_place_abbr', 'addr_place_fullname',  \n",
    "        'addr_street_abbr', 'addr_street_fullname',  \n",
    "        'addr_extr_abbr', 'addr_extr_fullname',  \n",
    "        'addr_sext_abbr', 'addr_sext_fullname',  \n",
    "        'addr_house_abbr','addr_house_fullname',  \n",
    "        'addr_postal_code'\n",
    "    ]\n",
    "    \n",
    "    df = df1[columns_data + columns]\n",
    "    \n",
    "    df['addr_postal_code'] = pd.to_numeric(df['addr_postal_code']).fillna(-1).astype(int)\n",
    "    df = df.fillna(value=np.nan)\n",
    "    df[columns] = df[columns].astype('str')\n",
    "    df['addr_postal_code'] = np.where(df['addr_postal_code'] == '-1', 'nan', df['addr_postal_code'])\n",
    "    \n",
    "    def municipality(df, columns):\n",
    "\n",
    "        suffix_common = ', '\n",
    "        suffix_dot = '. '\n",
    "\n",
    "        def apply_function(row, suffix_common, suffix_dot, columns):\n",
    "            address = ''\n",
    "            for column in columns:\n",
    "                if row[column] != 'nan':\n",
    "                    if column.endswith('_abbr'):\n",
    "                        address = address + row[column] + suffix_dot\n",
    "                    else:\n",
    "                        if column in columns[-1]:\n",
    "                            address = address + row[column]\n",
    "                        else:\n",
    "                            address = address + row[column] + suffix_common\n",
    "            return address\n",
    "\n",
    "        df['Адрес_домовладения'] = df.apply(apply_function, args=(suffix_common, suffix_dot, columns), axis=1)\n",
    "        return df\n",
    "\n",
    "    df2 = municipality(df, columns)\n",
    "\n",
    "    df2['Адрес_домовладения'] = df2['Адрес_домовладения'].str.rstrip(', ')\n",
    "    df2['Адрес_домовладения'] = np.where(df2['Адрес_домовладения'] == '', 'nan', df2['Адрес_домовладения'])\n",
    "    df2 = df2.replace('nan', np.nan)\n",
    "    df2['Адрес_домовладения'] = np.where(df2['Адрес_домовладения'] == '', np.nan, df2['Адрес_домовладения'])\n",
    "\n",
    "    return df2.drop(columns=columns)"
   ]
  },
  {
   "cell_type": "code",
   "execution_count": null,
   "id": "27f83c91-6cdd-43c5-9bad-6621faa6a16b",
   "metadata": {},
   "outputs": [],
   "source": [
    "def drop_duplicate_rows(df):\n",
    "    \"\"\"\n",
    "    Удаление дубликатов\n",
    "    :df: pandas.DataFrame, в котором ищем дубликаты\n",
    "    :return: pandas.DataFrame\n",
    "    \"\"\"\n",
    "    duplicateRows = df[df.duplicated()]\n",
    "    df = df[~df.index.isin(duplicateRows.index)]\n",
    "    print(f\"Количество дубликатов: {duplicateRows.shape}, Итоговый размер датафрейма: {df.shape}\")\n",
    "    return df"
   ]
  },
  {
   "cell_type": "code",
   "execution_count": null,
   "id": "a2d1a59e-2389-4494-bd98-838f05da2d81",
   "metadata": {},
   "outputs": [],
   "source": [
    "def plot_optimum_day(list_1D_30, days1, list_1D_31, days2):\n",
    "    \"\"\"\n",
    "    Вывод графика частотного распределения ввода показаний ПУ\n",
    "    :list_1D_30: list, распределение показаний для случая 30 дней в месяце\n",
    "    :days1: int, количество дней в месяце для списка list_1D_30\n",
    "    :list_1D_31: list, распределение показаний для случая 31 дней в месяце\n",
    "    :days2: int, количество дней в месяце для списка list_1D_31\n",
    "    :return: pandas.DataFrame\n",
    "    \"\"\"\n",
    "    figsize=(20, 10)\n",
    "    plt.figure(figsize=figsize)\n",
    "    \n",
    "    #ax1 = plt.subplot(2, 1, 1)\n",
    "    fig, axs = plt.subplots(1, 2, sharey=True, tight_layout=True)\n",
    "    \n",
    "    axs[0].hist(list_1D_30, bins=days1)\n",
    "    axs[0].legend()\n",
    "    axs[0].set_xlabel('30-дневный месяц')\n",
    "    axs[0].set_ylabel('Количество')\n",
    "    #axs[0].set_title(f'Частотное распределение ввода показателей')\n",
    "    axs[0].set_xlim([0, days1])\n",
    "      \n",
    "    axs[1].hist(list_1D_31, bins=days2)\n",
    "    axs[1].legend()\n",
    "    axs[1].set_xlabel('31-дневный месяц')\n",
    "    #axs[1].set_title(f'Частотное распределение ввода показателей')\n",
    "    axs[1].set_xlim([0, days2])\n",
    "    \n",
    "    fig.suptitle(' Распределение дней ввода показателей по месяцам ', fontsize=15)\n",
    "    \n",
    "    plt.savefig('my_plot.png')\n",
    "    \n",
    "    plt.show()"
   ]
  },
  {
   "cell_type": "code",
   "execution_count": null,
   "id": "a8f9a923-4517-4f55-9f5a-4f5edfcb2e0e",
   "metadata": {},
   "outputs": [],
   "source": [
    "def processing_data(df):\n",
    "    df['По нормативу'] = np.where(df['individual_consumption_type'] == 'NORM', 1, 0)\n",
    "\n",
    "    df['По ПУ'] = np.where(\n",
    "        (df['individual_consumption_type'] == 'METERING_DEVICE')\n",
    "        & (df['device_guid'].isnull()),\n",
    "        1, 0\n",
    "    )\n",
    "\n",
    "    df1 = (\n",
    "        df\n",
    "        .groupby(by=['fias_region_code', 'organization_short_name', 'inn', 'kpp', 'org_email', 'url', 'phone'])\n",
    "        .agg({'По нормативу': 'sum', 'По ПУ': 'sum'})\n",
    "        .reset_index()\n",
    "    )\n",
    "    return df1"
   ]
  },
  {
   "cell_type": "markdown",
   "id": "c650cff9-63c7-495a-9412-af495f50ee64",
   "metadata": {
    "jp-MarkdownHeadingCollapsed": true,
    "tags": []
   },
   "source": [
    "## Определение запросов"
   ]
  },
  {
   "cell_type": "code",
   "execution_count": null,
   "id": "b271b0ae-9008-4ca0-8363-e42429d9b28d",
   "metadata": {},
   "outputs": [],
   "source": [
    "def collect_query_rso_houses(houses):\n",
    "    query = f\"\"\"\n",
    "        WITH temp_addresses_parts as (\n",
    "            select  distinct on (1) fias_house_code, region_fullname, \n",
    "                area_fullname, area_abbr, \n",
    "                city_abbr, city_fullname, \n",
    "                ctar_abbr, ctar_fullname, \n",
    "                place_abbr, place_fullname, \n",
    "                street_abbr, street_fullname, \n",
    "                extr_abbr, extr_fullname, \n",
    "                sext_abbr, sext_fullname, \n",
    "                house_abbr, house_fullname, \n",
    "                planstruct_abbr, planstruct_fullname, \n",
    "                postal_code\n",
    "            from snsi.nsi_addresses\n",
    "            where entity_is_actual\n",
    "            order by 1, last_editing_date desc\n",
    "        ),        \n",
    "        temp_addresses_whole AS (\n",
    "            select \n",
    "                fias_house_code\n",
    "                ,MAX(\n",
    "                    COALESCE(region_fullname||', ', '') \n",
    "                    ||COALESCE(area_abbr||'. ', area_fullname, '')||COALESCE(area_fullname||', ', '')      --возможно надо будет подправить, дублируется area_fullname\n",
    "                    ||COALESCE(city_abbr||'. ', '')               ||COALESCE(city_fullname||', ', '')\n",
    "                    ||COALESCE(ctar_abbr||'. ', '')               ||COALESCE(ctar_fullname||', ', '')\n",
    "                    ||COALESCE(place_abbr||' ', '')               ||COALESCE(place_fullname||', ', '')\n",
    "                    ||COALESCE(street_abbr||' ', '')              ||COALESCE(street_fullname||', ', '')\n",
    "                    ||COALESCE(extr_abbr||' ', '')                ||COALESCE(extr_fullname||', ', '')\n",
    "                    ||COALESCE(sext_abbr||'. ', '')               ||COALESCE(sext_fullname||', ', '')\n",
    "                    ||COALESCE(house_abbr||'. ', '')              ||COALESCE(house_fullname||', ', '')\n",
    "                    ||COALESCE(planstruct_abbr||' ', '')          ||COALESCE(planstruct_fullname||', ', '')\n",
    "                    ||COALESCE(postal_code||'.', '') \n",
    "                ) AS full_address_string --адресная строка стандартная\n",
    "            from temp_addresses_parts\n",
    "            group by fias_house_code\n",
    "        )\n",
    "        WITH temp_data AS (                   \n",
    "            select\n",
    "                arh.fias_house_code\n",
    "                ,arh.agreement_guid\n",
    "                --,nms.nsi_3_code                       --посмотреть snsi.nsi_municipal_services и сопоставить nsi_3_code and nsi_2_code с metering_input_days. Присоединять уже без этого параметра\n",
    "                ,arhs.supply_period_start               --договор на подключение к сети? \n",
    "                ,arhs.supply_period_end                 --договор на подключение к сети?\n",
    "                ,case \n",
    "                    when (arhs.supply_period_start IS NULL OR arhs.supply_period_start <= current_date) \n",
    "                        and (arhs.supply_period_end IS NULL OR arhs.supply_period_end > current_date) \n",
    "                    then TRUE else FALSE\n",
    "                end as contractor                        --Исполнитель КУ. Считаем, что если физически поставляет ресурс, то исполнитель\n",
    "               ,ROW_NUMBER() OVER(\n",
    "                   PARTITION BY arh.fias_house_code, arhs.nsi_3_code \n",
    "                   ORDER BY arh.last_editing_date DESC\n",
    "                ) AS row_num\n",
    "                ,nms.municipal_service_name\n",
    "            FROM sagr.agr_rso_houses as arh\n",
    "                JOIN sagr.agr_rso_house_services arhs on arh.guid = arhs.rso_house_guid \n",
    "                            AND arh.fias_house_code in ({houses})\n",
    "                            AND arh.nsi_26_code = '1'                                                           --МКД\n",
    "                            --AND arh.region_code in ('')\n",
    "                            AND (arhs.supply_period_end IS NULL OR arhs.supply_period_end > current_date)\n",
    "                            AND (arhs.supply_period_start IS NULL OR arhs.supply_period_start <= current_date)\n",
    "                            AND arhs.nsi_3_code in ('6')                                                        --отопление\n",
    "                JOIN snsi.nsi_municipal_services nms on nms.nsi_3_code = arhs.nsi_3_code\n",
    "        )\n",
    "        SELECT \n",
    "            td.fias_house_code\n",
    "            ,array_agg(td.supply_period_start) supply_period_start\n",
    "            ,array_agg(case when td.supply_period_end > '2100-01-01' then '2100-01-01'::date else td.supply_period_end end) supply_period_end\n",
    "            ,bool_or(td.contractor) contractor\n",
    "            ,array_agg(COALESCE(ard.billing_deadline_months::varchar||', ', '')||COALESCE(ard.billing_deadline_next_months::varchar, ''))  billing_deadline           --срок предоставления ПД\n",
    "            ,max(td.municipal_service_name) municipal_service_name\n",
    "        FROM temp_data AS td\n",
    "            LEFT JOIN sagr.agr_rso_documents ard on ard.document_guid = td.agreement_guid \n",
    "                        AND ard.entity_is_actual = True\n",
    "                        AND (ard.finish_date is null or ard.finish_date > current_date)\n",
    "                        AND (ard.effective_date is null or ard.effective_date <= current_date)\n",
    "                        AND ard.status='RUNNING'\n",
    "        WHERE td.row_num = 1\n",
    "        GROUP BY td.fias_house_code\n",
    "    \"\"\"\n",
    "    return query"
   ]
  },
  {
   "cell_type": "code",
   "execution_count": null,
   "id": "c6a04931-d141-46ac-9020-1867252ab815",
   "metadata": {
    "ExecuteTime": {
     "end_time": "2023-04-03T12:53:18.747351Z",
     "start_time": "2023-04-03T12:53:18.744350Z"
    },
    "tags": []
   },
   "outputs": [],
   "source": [
    "query = {\n",
    "    \"test\": \"\"\"\n",
    "        SELECT *\n",
    "        FROM sagr.agr_rso_rate_consumption_houses\n",
    "    \"\"\",\n",
    "    \"ppa_organizations\": \"\"\"\n",
    "        SELECT guid\n",
    "               ,organization_short_name\n",
    "               ,inn\n",
    "               ,kpp\n",
    "        FROM  sppa.ppa_organizations\n",
    "    \"\"\",\n",
    "}"
   ]
  },
  {
   "cell_type": "markdown",
   "id": "296fe29a-bb5a-4ef1-b92b-0eb306eaac6a",
   "metadata": {
    "jp-MarkdownHeadingCollapsed": true,
    "tags": []
   },
   "source": [
    "## Константы"
   ]
  },
  {
   "cell_type": "code",
   "execution_count": null,
   "id": "9de5f3e4-fbe3-43c5-addc-eceeefe2fb4a",
   "metadata": {
    "ExecuteTime": {
     "end_time": "2023-04-03T12:53:18.752357Z",
     "start_time": "2023-04-03T12:53:18.749357Z"
    }
   },
   "outputs": [],
   "source": [
    "DB_NAME = ['hcshmdb', 'hcspafoetldb']\n",
    "HOST = '172.16.214.22'\n",
    "ABSOLUTE_PATH = \"C:/Python/ENV/bg_venv/Scriptss/\"\n",
    "PATH_DOWNLOAD = ABSOLUTE_PATH + 'datasets/'\n",
    "PATH_UPLOAD = ABSOLUTE_PATH + 'uploads/'"
   ]
  },
  {
   "cell_type": "markdown",
   "id": "c5867f30-85c3-4b01-862d-231149e0c8eb",
   "metadata": {
    "execution": {
     "iopub.execute_input": "2023-03-24T11:49:31.139392Z",
     "iopub.status.busy": "2023-03-24T11:49:31.139392Z",
     "iopub.status.idle": "2023-03-24T11:49:31.143391Z",
     "shell.execute_reply": "2023-03-24T11:49:31.143391Z",
     "shell.execute_reply.started": "2023-03-24T11:49:31.139392Z"
    },
    "jp-MarkdownHeadingCollapsed": true,
    "tags": []
   },
   "source": [
    "### Конфигурация подключения"
   ]
  },
  {
   "cell_type": "code",
   "execution_count": null,
   "id": "7103a2b1-2792-495a-b2ed-278dba5c80d4",
   "metadata": {
    "ExecuteTime": {
     "end_time": "2023-04-03T12:53:18.758347Z",
     "start_time": "2023-04-03T12:53:18.754347Z"
    },
    "tags": []
   },
   "outputs": [],
   "source": [
    "db_config_analytic = {\n",
    "    'user': 'buchkurashvili_gg',      # имя пользователя\n",
    "    'pwd': 'vDlgJjRotPEgL0THC0RU',    # пароль\n",
    "    'host': '172.16.3.40',            # адрес сервера для подключения\n",
    "    'port': 5454,                     # порт подключения\n",
    "    'db': DB_NAME[1]                  # название базы данных\n",
    "}\n",
    "\n",
    "db_config_test = {\n",
    "    'user': 'buchkurashvili_gg',      # имя пользователя\n",
    "    'pwd': 'A5ZFawMpODi4A9jwsqW8',    # пароль\n",
    "    'host': '172.16.214.21',          # адрес сервера для подключения\n",
    "    'port': 5454,                     # порт подключения\n",
    "    'db': DB_NAME[0]                  # название базы данных\n",
    "}\n",
    "\n",
    "db_config_product = {\n",
    "    'user': '',      # имя пользователя\n",
    "    'pwd': '',    # пароль\n",
    "    'host': '',          # адрес сервера для подключения\n",
    "    'port': 5454,                     # порт подключения\n",
    "    'db': DB_NAME[0]                  # название базы данных\n",
    "}"
   ]
  },
  {
   "cell_type": "code",
   "execution_count": null,
   "id": "69adfc39-8b54-4fb8-b6f5-f2a7ba5da36e",
   "metadata": {},
   "outputs": [],
   "source": [
    "def create_configs(db_config={}, db_name='', host=''):\n",
    "    db_config['db'] = db_name\n",
    "    db_config['host'] = host\n",
    "    print(db_config)\n",
    "    return db_config"
   ]
  },
  {
   "cell_type": "markdown",
   "id": "a6621f58-5bab-4ae9-ad37-84060d8ad57e",
   "metadata": {
    "tags": []
   },
   "source": [
    "## Загрузка и проверка данных"
   ]
  },
  {
   "cell_type": "code",
   "execution_count": null,
   "id": "e96f911c-b9c4-4da1-8f43-c9f79f1491de",
   "metadata": {
    "tags": []
   },
   "outputs": [],
   "source": [
    "from_parquet = False\n",
    "if from_parquet:\n",
    "    df = pd.read_parquet(PATH_DOWNLOAD + 'test.parquet')\n",
    "else:\n",
    "    #db_config = create_configs(db_config=db_config_test, db_name=DB_NAME[2], host=HOST)\n",
    "    df = dataloader(query['ppa_organizations'], db_config=db_config_analytic)\n",
    "    #df = dataloader(query['test'], db_config=db_config)\n",
    "    #df.to_parquet(PATH + 'TEST.parquet')\n",
    "df.shape"
   ]
  },
  {
   "cell_type": "code",
   "execution_count": null,
   "id": "afa81c59-f6c3-4902-bcaf-bc3773814d9b",
   "metadata": {},
   "outputs": [],
   "source": [
    "from_parquet1 = True\n",
    "from_parquet2 = True\n",
    "from_parquet3 = False\n",
    "\n",
    "batches = 100\n",
    "\n",
    "regions = [                                                        \n",
    "    '0c5b2444-70a0-4932-980c-b4dc0d3f02b5', #Москва\n",
    "    '29251dcf-00a1-4e34-98d4-5c47484a36d4'  #Московская область\n",
    "]\n",
    "\n",
    "df = loaded_region_grouped(from_parquet1, from_parquet2, from_parquet3, regions, batches=batches)\n",
    "df.shape"
   ]
  },
  {
   "cell_type": "markdown",
   "id": "9eeaa323-3de7-4e8b-8db9-a6544c796e4d",
   "metadata": {
    "jp-MarkdownHeadingCollapsed": true,
    "tags": []
   },
   "source": [
    "## Анализ данных"
   ]
  },
  {
   "cell_type": "code",
   "execution_count": null,
   "id": "069cf77c-0384-4b9c-80b3-851786189a0f",
   "metadata": {
    "tags": []
   },
   "outputs": [],
   "source": [
    "missing_values(df)"
   ]
  },
  {
   "cell_type": "markdown",
   "id": "180bdded-c6c1-4352-9415-6b13a60b07b2",
   "metadata": {},
   "source": [
    "## Обработка данных"
   ]
  },
  {
   "cell_type": "code",
   "execution_count": null,
   "id": "304ee394-ff8a-4d79-ad55-a977cccf53c3",
   "metadata": {},
   "outputs": [],
   "source": [
    "region_grouped_all = pd.DataFrame()\n",
    "\n",
    "for i in range(16):\n",
    "    region_grouped = pd.read_parquet(PATH_DOWNLOAD + f'{save_name}_{i}.parquet')\n",
    "    region_grouped_all = pd.concat([region_grouped_all, region_grouped])\n",
    "\n",
    "region_grouped_all.to_parquet(PATH_DOWNLOAD + f'region_grouped_all.parquet')\n",
    "region_grouped_all.shape"
   ]
  },
  {
   "cell_type": "markdown",
   "id": "2e5ff03b-eff0-41cd-9c88-8c0d2d7db880",
   "metadata": {},
   "source": [
    "## Исследовательский анализ данных"
   ]
  },
  {
   "cell_type": "code",
   "execution_count": null,
   "id": "aa507f35-bcaf-40a0-9e9d-cb302c68ac7c",
   "metadata": {},
   "outputs": [],
   "source": []
  },
  {
   "cell_type": "code",
   "execution_count": null,
   "id": "5ecc04f9-a749-419b-89bd-98951f3f5ed9",
   "metadata": {},
   "outputs": [],
   "source": []
  },
  {
   "cell_type": "code",
   "execution_count": null,
   "id": "196aa2e5-9c03-4e33-baf9-ac6e4d234061",
   "metadata": {},
   "outputs": [],
   "source": []
  },
  {
   "cell_type": "markdown",
   "id": "82fd50ad-3bba-464a-8e73-30db469b8f72",
   "metadata": {
    "jp-MarkdownHeadingCollapsed": true,
    "tags": []
   },
   "source": [
    "## Анализ результата"
   ]
  },
  {
   "cell_type": "code",
   "execution_count": null,
   "id": "2d98e322-aaef-47ce-89cc-2050b330d61a",
   "metadata": {},
   "outputs": [],
   "source": [
    "missing_values(region_grouped_all)"
   ]
  },
  {
   "cell_type": "markdown",
   "id": "1d53c4a7-eae4-44ff-8e1a-30cf3b667946",
   "metadata": {
    "tags": []
   },
   "source": [
    "## Выгрузка данных"
   ]
  },
  {
   "cell_type": "code",
   "execution_count": null,
   "id": "0866a823-9da4-4bc3-9448-2a40c6f3fff4",
   "metadata": {},
   "outputs": [],
   "source": [
    "df1 = pd.read_excel(PATH_UPLOAD + 'Связка имя_региона-код_региона.xlsx', usecols=['region_fullname', 'region_code'])\n",
    "df2 = region_grouped_all.merge(df1, how='left', left_on='fias_region_code', right_on='region_code')\n",
    "df2 = df2.rename(columns={\n",
    "    'region_fullname': 'Регион',\n",
    "    'organization_short_name': 'Название организации',\n",
    "    'inn': 'ИНН',\n",
    "    'kpp': 'КПП'\n",
    "    'org_email': 'Электронная почта',\n",
    "    'url': 'Адрес в интернете',\n",
    "    'phone': 'Телефон'\n",
    "})"
   ]
  },
  {
   "cell_type": "code",
   "execution_count": null,
   "id": "38218d0f-22a0-4159-b678-f4387b77ace6",
   "metadata": {},
   "outputs": [],
   "source": [
    "columns = [\n",
    "    'Регион', \n",
    "    'Название организации', \n",
    "    'ИНН', \n",
    "    'КПП', \n",
    "    'Электронная почта',\n",
    "    'Адрес в интернете',\n",
    "    'Телефон',\n",
    "    'По нормативу', \n",
    "    'По ПУ'\n",
    "]\n",
    "df2[columns].to_excel(PATH_UPLOAD + 'ПУ_Джушхинова.xlsx')"
   ]
  },
  {
   "cell_type": "markdown",
   "id": "20dd3c2c-fc8a-4bea-b5f8-ba3f9579e65b",
   "metadata": {},
   "source": [
    "## Подвал"
   ]
  },
  {
   "cell_type": "code",
   "execution_count": null,
   "id": "25a7ecf2-4eca-4695-93a3-d032a59542e5",
   "metadata": {},
   "outputs": [],
   "source": []
  }
 ],
 "metadata": {
  "kernelspec": {
   "display_name": "Python 3 (ipykernel)",
   "language": "python",
   "name": "python3"
  },
  "language_info": {
   "codemirror_mode": {
    "name": "ipython",
    "version": 3
   },
   "file_extension": ".py",
   "mimetype": "text/x-python",
   "name": "python",
   "nbconvert_exporter": "python",
   "pygments_lexer": "ipython3",
   "version": "3.9.9"
  }
 },
 "nbformat": 4,
 "nbformat_minor": 5
}
